{
 "cells": [
  {
   "cell_type": "markdown",
   "id": "30642cd8-0a7e-4061-86c3-0ba776b0ea83",
   "metadata": {},
   "source": [
    "##### Theoritical Probability"
   ]
  },
  {
   "cell_type": "code",
   "execution_count": 2,
   "id": "bcea5971-e7b8-4a3c-a713-c66316653431",
   "metadata": {},
   "outputs": [],
   "source": [
    "def coin_flip_probability():\n",
    "  # Calculates the probability of heads in a fair coin flip.\n",
    "  heads_probability = 1 / 2\n",
    "  return heads_probability"
   ]
  },
  {
   "cell_type": "code",
   "execution_count": 3,
   "id": "a8ea2d5b-547e-486b-9aad-9e1d2c2c963e",
   "metadata": {},
   "outputs": [],
   "source": [
    "def rolling_dice_probability(number):\n",
    "  # Calculates the probability of rolling a specific number on a fair die.\n",
    "  if number not in range(1, 7):\n",
    "    raise ValueError(\"Number must be between 1 and 6\")\n",
    "  probability = 1 / 6\n",
    "  return probability"
   ]
  },
  {
   "cell_type": "code",
   "execution_count": 9,
   "id": "8c040954-63f5-409e-8ea8-ec713f6ea87d",
   "metadata": {},
   "outputs": [],
   "source": [
    "coin_flip_result = coin_flip_probability()\n",
    "rolling_dice_result = rolling_dice_probability(5)"
   ]
  },
  {
   "cell_type": "code",
   "execution_count": 10,
   "id": "64ace7e4-46ec-423d-87c0-7f9443368957",
   "metadata": {},
   "outputs": [
    {
     "name": "stdout",
     "output_type": "stream",
     "text": [
      "Coin flip probability: 0.5\n",
      "Rolling a dice probability: 0.17\n"
     ]
    }
   ],
   "source": [
    "print('Coin flip probability:', coin_flip_result)\n",
    "print('Rolling a dice probability: %.2f' %rolling_dice_result)"
   ]
  },
  {
   "cell_type": "markdown",
   "id": "68e7f332-7709-4344-b124-29ebdca0ceb7",
   "metadata": {},
   "source": [
    "##### Experimental Probability"
   ]
  },
  {
   "cell_type": "code",
   "execution_count": 26,
   "id": "7949fbb0-bf98-47fb-a58e-248fcbbe8d01",
   "metadata": {},
   "outputs": [],
   "source": [
    "import numpy as np\n",
    "import pandas as pd"
   ]
  },
  {
   "cell_type": "code",
   "execution_count": 27,
   "id": "3e4ec64a-ca37-4d4f-9d2e-0eea8b6de135",
   "metadata": {},
   "outputs": [
    {
     "data": {
      "text/plain": [
       "'heads'"
      ]
     },
     "execution_count": 27,
     "metadata": {},
     "output_type": "execute_result"
    }
   ],
   "source": [
    "np.random.choice(['heads','tails'])"
   ]
  },
  {
   "cell_type": "code",
   "execution_count": 34,
   "id": "43bce79a-35fd-48a2-935a-115cf4bf1885",
   "metadata": {},
   "outputs": [],
   "source": [
    "def simulate_coin_flips(num_flips):\n",
    "  \"\"\"Simulates coin flips and returns a list of results (heads or tails)\"\"\"\n",
    "  results = []\n",
    "  for _ in range(num_flips):\n",
    "    flip = np.random.choice([\"heads\", \"tails\"])\n",
    "    results.append(flip)\n",
    "  return results"
   ]
  },
  {
   "cell_type": "code",
   "execution_count": 37,
   "id": "ae8e296c-51a7-40cd-951d-e24c512ca19e",
   "metadata": {},
   "outputs": [
    {
     "data": {
      "text/plain": [
       "tails    524\n",
       "heads    476\n",
       "Name: count, dtype: int64"
      ]
     },
     "execution_count": 37,
     "metadata": {},
     "output_type": "execute_result"
    }
   ],
   "source": [
    "pd.Series(simulate_coin_flips(1000)).value_counts()"
   ]
  },
  {
   "cell_type": "code",
   "execution_count": 38,
   "id": "0ccd7e12-18ca-4a21-bddd-aade6787e701",
   "metadata": {},
   "outputs": [],
   "source": [
    "def calculate_experimental_probability(results, event):\n",
    "  # Calculates the experimental probability of a specific event (heads or tails)\"\"\"\n",
    "  event_count = results.count(event)\n",
    "  total_flips = len(results)\n",
    "  probability = event_count / total_flips\n",
    "  return probability"
   ]
  },
  {
   "cell_type": "code",
   "execution_count": 40,
   "id": "482abc9c-e9e9-43bc-874f-ab58da2ea58a",
   "metadata": {},
   "outputs": [
    {
     "data": {
      "text/plain": [
       "0.487"
      ]
     },
     "execution_count": 40,
     "metadata": {},
     "output_type": "execute_result"
    }
   ],
   "source": [
    "results = simulate_coin_flips(1000)\n",
    "calculate_experimental_probability(results, 'tails')"
   ]
  },
  {
   "cell_type": "code",
   "execution_count": 42,
   "id": "2da8259d-4165-4362-af54-d78abd27552b",
   "metadata": {},
   "outputs": [
    {
     "data": {
      "text/plain": [
       "'1'"
      ]
     },
     "execution_count": 42,
     "metadata": {},
     "output_type": "execute_result"
    }
   ],
   "source": [
    "np.random.choice([0,0,0,1,1,1,1,2,2,4,6,'W'])"
   ]
  },
  {
   "cell_type": "code",
   "execution_count": 99,
   "id": "253795db-6370-4197-af77-345e11109ad4",
   "metadata": {},
   "outputs": [],
   "source": [
    "scores = []\n",
    "for i in range(10):\n",
    "    scores.append([np.random.choice([0,0,0,0,0,1,1,1,1,1,1,2,2,2,4,4,6,'W']) for x in range(100)])"
   ]
  },
  {
   "cell_type": "code",
   "execution_count": 100,
   "id": "e1e11aa5-a03b-45bf-87ad-07809a394a0d",
   "metadata": {},
   "outputs": [],
   "source": [
    "final_scores = []\n",
    "for match in scores:\n",
    "    total_runs = 0\n",
    "    for runs in match:\n",
    "        if runs == 'W':\n",
    "            break\n",
    "        total_runs += int(runs)\n",
    "    final_scores.append(total_runs)"
   ]
  },
  {
   "cell_type": "code",
   "execution_count": 101,
   "id": "e455d136-677f-4bbd-bb98-274529f520e5",
   "metadata": {},
   "outputs": [
    {
     "data": {
      "text/plain": [
       "36.1"
      ]
     },
     "execution_count": 101,
     "metadata": {},
     "output_type": "execute_result"
    }
   ],
   "source": [
    "sum(final_scores) / len(final_scores)"
   ]
  },
  {
   "cell_type": "code",
   "execution_count": 102,
   "id": "1a0e37f3-3ab2-426a-bf72-c5b830dd4938",
   "metadata": {},
   "outputs": [
    {
     "data": {
      "text/plain": [
       "[1, 8, 12, 28, 20, 83, 137, 3, 1, 68]"
      ]
     },
     "execution_count": 102,
     "metadata": {},
     "output_type": "execute_result"
    }
   ],
   "source": [
    "final_scores"
   ]
  },
  {
   "cell_type": "markdown",
   "id": "14f3a6c8-297c-4e94-8f32-b3a05fd58c13",
   "metadata": {},
   "source": [
    "##### Axiomatic Probability"
   ]
  },
  {
   "cell_type": "code",
   "execution_count": 104,
   "id": "694f3f9f-9dc8-4b0b-87c1-a399e952534d",
   "metadata": {},
   "outputs": [],
   "source": [
    "# Sample space\n",
    "S = ['Heads', 'Tails']"
   ]
  },
  {
   "cell_type": "code",
   "execution_count": 105,
   "id": "3a6f5b12-439d-4f8d-a23b-5a91d5e15d38",
   "metadata": {},
   "outputs": [],
   "source": [
    "# Define the probabilities of events A and B\n",
    "P_A = 0.5  # Probability of getting Heads\n",
    "P_B = 0.5  # Probability of getting Tails"
   ]
  },
  {
   "cell_type": "code",
   "execution_count": 106,
   "id": "bdf7c4d9-d6c9-4ba4-b682-93aca654f5a9",
   "metadata": {},
   "outputs": [],
   "source": [
    "# Axiom 1: Non-negativity\n",
    "assert P_A >= 0 and P_B >= 0, \"Axiom 1 (Non-negativity) violated\""
   ]
  },
  {
   "cell_type": "code",
   "execution_count": 107,
   "id": "3f6e0fc2-6072-4fcc-a9cb-74c9ff4993b2",
   "metadata": {},
   "outputs": [],
   "source": [
    "# Axiom 2: Unit Measure\n",
    "P_S = P_A + P_B\n",
    "assert P_S == 1, \"Axiom 2 (Unit Measure) violated\""
   ]
  },
  {
   "cell_type": "code",
   "execution_count": 108,
   "id": "5075166e-40d7-49ba-86a0-479e6bc647b8",
   "metadata": {},
   "outputs": [],
   "source": [
    "# Axiom 3: Additivity (Since A and B are mutually exclusive)\n",
    "P_A_union_B = P_A + P_B\n",
    "assert P_A_union_B == P_S, \"Axiom 3 (Additivity) violated\""
   ]
  },
  {
   "cell_type": "code",
   "execution_count": 109,
   "id": "1218537d-eee8-435d-96b0-684d5b570876",
   "metadata": {},
   "outputs": [
    {
     "name": "stdout",
     "output_type": "stream",
     "text": [
      "All axioms of probability are satisfied.\n"
     ]
    }
   ],
   "source": [
    "# Print the results\n",
    "print(\"All axioms of probability are satisfied.\")"
   ]
  },
  {
   "cell_type": "markdown",
   "id": "2ec181bf-ef55-44e8-bd65-24da08f5722c",
   "metadata": {},
   "source": [
    "##### Normal Distribution"
   ]
  },
  {
   "cell_type": "code",
   "execution_count": 120,
   "id": "5415599e-7570-4bbc-9013-ed9654907fd3",
   "metadata": {},
   "outputs": [],
   "source": [
    "normal_distribution = np.random.normal(0, 1, 1000)"
   ]
  },
  {
   "cell_type": "code",
   "execution_count": 121,
   "id": "5d9aaf80-d4d4-449e-a0d1-7a806cd585eb",
   "metadata": {},
   "outputs": [
    {
     "data": {
      "text/plain": [
       "array([-9.05734407e-01,  7.34250471e-01,  5.43258059e-01,  5.23272751e-01,\n",
       "       -8.78066059e-01,  2.65553117e-01, -2.47694324e+00, -8.79577885e-01,\n",
       "       -1.11914691e+00, -3.91266881e-01,  9.59431256e-01, -2.87153514e-01,\n",
       "       -2.76276053e-01,  1.90894301e+00,  8.88015246e-01,  1.08435297e+00,\n",
       "       -2.45737291e-01,  3.10129891e-01,  9.88423884e-01,  2.71561478e+00,\n",
       "        1.03135163e+00, -5.16751813e-01, -8.86895460e-01,  1.34651917e+00,\n",
       "        1.18405100e+00, -6.72464500e-01,  1.12015491e+00,  7.04086192e-01,\n",
       "       -4.39244746e-02, -4.48598084e-01, -2.52000296e-01,  1.31301114e+00,\n",
       "       -7.08696512e-01, -4.55021284e-01,  9.03775777e-02, -3.19159410e-01,\n",
       "       -5.43290075e-01, -3.18896245e-01, -5.77048484e-01, -2.59207525e-01,\n",
       "        9.96303511e-01,  6.23961506e-01,  2.72997573e+00, -1.04480169e+00,\n",
       "       -4.29394285e-01,  6.50068054e-01, -1.30882618e+00, -2.31127069e+00,\n",
       "        2.45257371e+00,  4.52227941e-01,  6.02537770e-02,  2.54265665e+00,\n",
       "       -4.97116792e-01,  7.99403316e-01, -1.17132329e-03, -1.47375466e+00,\n",
       "        7.09504858e-01,  2.83024299e-01,  6.07234364e-01, -9.89905482e-01,\n",
       "        7.47534795e-01, -4.21324936e-01, -4.49063143e-01,  1.60684872e+00,\n",
       "       -7.63087610e-01, -1.29142607e-01, -7.84267855e-02,  6.78322449e-01,\n",
       "        2.34532278e-01,  5.43385901e-01, -2.91215588e-01, -3.69820685e-01,\n",
       "        1.50033950e-01,  4.33866787e-02, -4.49588864e-01,  1.59894008e+00,\n",
       "        1.76518127e+00,  1.27124380e+00,  6.85866685e-01,  1.05593737e+00,\n",
       "        2.82583252e-01,  1.98145116e+00,  1.04370131e-01,  8.72086617e-01,\n",
       "       -8.43991951e-02, -1.41918077e+00,  2.21575893e-01, -1.83381357e+00,\n",
       "       -4.16002434e-01, -3.13910854e-01,  7.35196105e-01, -1.97955822e+00,\n",
       "       -3.76850517e-01,  5.76514437e-01, -1.59894450e+00,  1.50180407e+00,\n",
       "        3.41448875e-02, -1.08047988e-01,  2.38953900e-01, -1.69858104e+00,\n",
       "        1.12077253e+00, -6.72674548e-01, -1.47561013e+00,  2.42441203e+00,\n",
       "        5.80494524e-02, -3.21016520e-01, -1.57229244e-01, -3.40982178e-02,\n",
       "       -9.19641417e-01, -3.23966266e+00, -2.40147943e-01, -1.28140827e+00,\n",
       "        1.19433088e+00,  8.25392817e-01,  1.18339620e+00, -3.17908302e-01,\n",
       "        4.95830951e-01, -4.44833123e-01, -9.11098676e-01, -4.04368054e-01,\n",
       "        1.54767280e-01,  4.09584331e-01,  4.68965355e-01, -1.52661894e-01,\n",
       "        2.90333915e+00,  1.01548299e+00,  1.72981090e+00,  3.92195150e-01,\n",
       "       -1.83822737e-01,  4.90785956e-01,  6.80703819e-01,  7.09678743e-01,\n",
       "       -2.56928970e+00, -4.85936621e-01, -5.51141609e-01,  1.37652881e+00,\n",
       "       -7.14813085e-02,  4.99335939e-01, -5.03445018e-02,  9.53005056e-02,\n",
       "        3.03045950e-01, -4.80323396e-01,  1.12934231e+00, -2.18639930e-01,\n",
       "       -5.85319144e-01,  5.49457857e-01, -8.32134308e-01, -4.42910885e-01,\n",
       "        3.38038448e-01,  1.03277056e+00,  8.85859481e-01, -1.28556711e+00,\n",
       "       -1.09226161e+00, -8.85724205e-01, -3.69053785e-01,  5.12696189e-01,\n",
       "       -4.87865015e-02, -7.83166164e-01,  5.22886109e-01, -3.92352445e-01,\n",
       "       -1.04988149e+00,  1.56143207e+00, -4.31373771e-01,  2.52977196e-01,\n",
       "       -1.01670444e+00, -2.81990499e-02, -2.03202615e-01, -1.53192468e+00,\n",
       "        2.96485807e-01, -6.74306302e-01,  1.29709187e-01,  1.21109207e+00,\n",
       "       -1.63404823e-01,  6.95842924e-01, -8.78262690e-01, -6.88462221e-01,\n",
       "        1.27354950e+00,  1.42032709e-01,  4.13411857e-01, -1.77271321e+00,\n",
       "       -2.39068076e-01, -6.42078122e-01, -3.29208845e-01,  6.62226026e-01,\n",
       "       -6.92772397e-01,  1.94470735e+00,  1.70000442e+00, -6.47091899e-01,\n",
       "        5.71355681e-01, -1.40466050e+00, -1.33889661e-01, -1.15783274e-01,\n",
       "       -2.86752710e-01, -3.30864868e-01, -4.89389147e-01,  4.47067177e-01,\n",
       "       -1.44594088e+00, -8.77604813e-02,  6.76380676e-01,  3.66503911e-01,\n",
       "       -7.83552698e-01,  4.04177869e-01, -4.23422930e-01, -1.24878040e+00,\n",
       "       -3.88694016e-01,  1.58454661e+00, -1.56061549e-01,  3.86615341e-01,\n",
       "       -1.66243106e+00,  2.10876189e+00, -9.45267455e-03, -3.27940394e-01,\n",
       "       -1.45376830e+00, -1.15550035e+00,  1.19582203e+00, -7.23942201e-01,\n",
       "        3.59493799e-01,  5.87875656e-01,  1.02960965e+00,  1.41821049e+00,\n",
       "       -1.81509491e+00, -7.06902342e-03,  1.77900708e+00, -6.79693815e-01,\n",
       "       -1.93849537e+00, -2.15387881e-01,  3.83954327e-02,  6.84830039e-01,\n",
       "       -1.74379072e-01, -1.78621936e+00, -1.12950611e+00, -6.36598429e-01,\n",
       "       -5.42540653e-01,  1.65060045e+00,  1.03156910e+00, -1.43310177e+00,\n",
       "        2.82616938e-01,  1.06377071e+00, -1.69009927e+00, -1.64559211e-01,\n",
       "       -6.73568230e-03, -5.27700870e-02,  1.27820305e+00,  3.44198298e-01,\n",
       "       -1.97005991e+00,  5.83251027e-01,  1.51619004e+00,  1.06745272e+00,\n",
       "        2.12142345e-01,  8.44758304e-01,  1.10320990e+00, -7.83886781e-01,\n",
       "       -1.40975489e+00, -7.91388720e-01,  7.69066139e-01, -1.51339987e+00,\n",
       "       -5.21538600e-01,  8.91711031e-01,  3.40263733e-01, -5.14389648e-01,\n",
       "       -3.90570214e-01,  4.31237731e-01, -2.53026357e+00,  4.15498341e-01,\n",
       "        7.23086428e-01,  5.62198603e-01,  6.33107461e-01,  7.39892674e-01,\n",
       "       -6.15651243e-02,  1.05951090e+00, -8.73301467e-02, -7.30950045e-01,\n",
       "        4.01096734e-01, -5.76669128e-01,  1.57785388e-01,  1.15142502e+00,\n",
       "       -1.34758281e+00, -1.34370589e+00, -1.50850928e-01, -1.27131398e+00,\n",
       "       -1.66940683e+00,  9.88270576e-01,  1.24944465e-01, -1.16578484e+00,\n",
       "       -9.89071764e-01, -4.87433310e-02, -1.35190762e+00,  9.01180789e-01,\n",
       "       -2.84019366e-01, -8.30071122e-02, -9.14005400e-01, -1.43560634e+00,\n",
       "       -8.67822996e-01,  4.17232235e-01, -3.89360685e-01, -1.58603068e-01,\n",
       "        1.66743017e-01,  1.07890264e-01,  1.61663520e+00,  9.09626175e-02,\n",
       "        1.06687127e+00, -7.00467802e-01,  1.44978329e-01, -1.32903727e+00,\n",
       "        2.83158852e+00, -1.21152077e+00,  6.10603756e-01, -1.34500175e-01,\n",
       "        4.72761313e-02, -3.46027903e+00, -5.63540880e-01,  1.37580863e+00,\n",
       "        2.48251136e-01,  6.18774169e-01, -1.07102149e+00,  5.32782342e-01,\n",
       "       -1.65780370e+00, -1.22146851e+00,  7.17650134e-01, -9.14468697e-01,\n",
       "       -1.59891617e+00, -1.55517639e+00, -2.65040035e-01, -9.72438386e-01,\n",
       "       -3.11720122e-02,  1.05398248e+00,  1.18169267e+00, -4.24686365e-01,\n",
       "       -2.96864838e-01, -5.43979673e-02, -1.07426973e+00,  1.76287757e-01,\n",
       "        1.14854592e+00,  4.00541322e-01, -7.54111732e-01,  2.72751621e-01,\n",
       "        4.09838424e-01, -6.14255787e-02, -1.84074355e+00,  2.36012581e+00,\n",
       "        1.42378217e+00,  1.15867871e+00, -6.01544559e-01,  3.62157793e-01,\n",
       "        2.83216510e-01, -3.60711515e-03,  6.54618690e-01,  1.16072821e+00,\n",
       "        9.39308204e-01, -2.32105175e-01, -1.13184626e+00,  1.06401739e+00,\n",
       "        3.92706590e-01,  1.08964642e-01,  9.52264135e-01,  1.27492792e+00,\n",
       "       -1.16397587e+00,  1.65717994e-01, -4.94232337e-01, -3.81166244e-01,\n",
       "        3.37545443e-01, -8.48706150e-01,  3.32615791e-01, -3.65515186e-01,\n",
       "       -2.82687023e-01, -5.56993998e-01,  1.47557374e+00,  4.54246286e-01,\n",
       "       -8.34833224e-01, -1.56427028e+00,  1.95976645e+00, -1.59925109e+00,\n",
       "       -4.92324698e-01,  1.87766206e+00,  8.70036731e-01, -1.77810409e+00,\n",
       "       -1.66789437e-01, -7.09608112e-01,  3.14257600e-01,  8.42799877e-01,\n",
       "        5.49476984e-01, -1.26875781e+00,  7.19568643e-01,  1.21294005e-01,\n",
       "       -4.25986046e-01,  1.09336046e+00,  3.14446899e-01, -1.53046391e+00,\n",
       "        1.21099665e+00, -1.40903715e+00, -1.76546845e+00, -1.38947352e+00,\n",
       "        1.01829471e+00,  6.07517949e-01, -5.13871483e-01,  1.51749422e+00,\n",
       "       -2.40319646e+00,  3.13710483e-01,  7.75380474e-01,  7.73872331e-01,\n",
       "        1.11830024e+00, -1.31340657e+00,  3.09246444e-01, -3.14917495e-01,\n",
       "        3.68751794e-01, -7.45537056e-01, -9.94954434e-01, -2.03081183e+00,\n",
       "       -6.14480070e-02, -8.06517397e-01, -1.56815947e+00, -1.12421469e-01,\n",
       "       -1.00401841e+00,  3.74048255e-01,  3.84871614e-01, -8.39950693e-01,\n",
       "        3.58746865e-01,  1.54043749e+00,  9.17905596e-01,  5.66381053e-01,\n",
       "        1.32871109e+00,  7.04717989e-01,  5.01791045e-01,  6.12879838e-01,\n",
       "        4.12554827e-01,  6.01531104e-01, -3.62156090e-01,  6.29938549e-01,\n",
       "       -1.37054082e+00,  1.63863251e+00,  7.80600227e-02,  2.80363827e-01,\n",
       "        1.55879206e+00, -5.52630711e-01, -1.34235779e+00, -6.84025613e-01,\n",
       "       -8.57502609e-01, -1.25140089e+00,  6.43071337e-01, -5.54325622e-01,\n",
       "        3.61960147e-01, -4.44353312e-01,  8.75425556e-01,  9.99079489e-01,\n",
       "       -2.09317634e+00,  4.33886873e-01,  2.23612197e-01, -7.82524198e-01,\n",
       "        1.30798418e+00,  5.81221601e-01,  2.95099201e-01,  7.06002973e-01,\n",
       "       -9.72973914e-01,  5.98633323e-02, -3.25244847e-01, -2.06496838e-01,\n",
       "        8.50457942e-01,  7.18058380e-01, -2.23011747e+00,  1.27128649e+00,\n",
       "       -8.71877832e-01,  8.57220544e-01, -3.88062468e-01,  9.02044657e-01,\n",
       "       -1.48471142e-01, -3.63720320e-01,  1.50651972e+00, -1.51831122e-01,\n",
       "       -7.79469717e-01, -8.92799867e-01, -9.71477778e-01, -1.70397352e-01,\n",
       "        2.14665388e+00, -8.78975109e-01,  1.24860079e+00,  2.82697762e-01,\n",
       "       -4.65448936e-01,  5.02578611e-02,  2.35123009e+00, -1.18337854e+00,\n",
       "       -4.98294028e-01, -3.67301741e-01, -8.19225066e-02, -7.83669472e-01,\n",
       "        9.98762343e-01,  5.95404061e-01, -1.16783938e+00,  3.92966848e-01,\n",
       "       -1.61494995e-01, -2.33568649e-01,  8.44421178e-01,  1.41089995e+00,\n",
       "        1.33432453e+00, -2.28725629e+00, -1.59030791e+00, -9.47742506e-02,\n",
       "       -5.21217628e-01,  2.24112406e-01,  2.17805653e+00, -4.67335338e-01,\n",
       "        3.14667280e-01,  1.11446529e+00,  4.41094728e-01,  3.71088458e-01,\n",
       "        2.11261881e-01, -1.22458554e-01,  4.84757598e-01,  1.00939602e+00,\n",
       "        4.55355944e-01,  1.48938396e+00,  1.76564584e+00, -2.77314776e-01,\n",
       "        8.03396492e-01,  3.24730463e-01, -9.64254788e-01, -9.07952918e-01,\n",
       "        9.30134534e-01,  1.24818889e+00, -4.65071800e-01, -6.79130477e-01,\n",
       "       -7.27685066e-01,  1.64383919e+00, -2.62359437e+00, -5.20858500e-01,\n",
       "       -1.07189526e+00, -1.09157490e+00,  6.87338891e-01,  1.59094472e+00,\n",
       "        4.50493444e-01, -6.36791826e-01,  4.74327915e-02,  1.09858496e-01,\n",
       "        1.28435787e+00,  1.32237411e+00, -5.03814697e-01,  5.89613740e-01,\n",
       "       -8.01395163e-01, -8.24743854e-01, -1.20499783e+00,  1.54094963e+00,\n",
       "       -1.72332947e+00, -9.43565914e-02,  6.17888104e-01, -2.21959024e-01,\n",
       "       -1.91124435e-01, -3.70377683e-01, -2.55210995e-02, -1.29291321e+00,\n",
       "       -5.09951737e-01,  8.80859168e-01, -2.08816871e+00, -2.01755663e+00,\n",
       "        5.35081345e-02,  2.27627391e-01,  1.81476974e+00, -8.19278692e-01,\n",
       "       -1.23642282e+00, -1.12998860e+00, -8.14195171e-01,  5.58602266e-01,\n",
       "       -4.24760615e-01,  2.74637414e+00,  4.73876394e-01,  9.95205953e-01,\n",
       "       -9.58002009e-01,  5.03571595e-01, -8.96165282e-02,  2.37228033e+00,\n",
       "       -3.09958717e-01,  1.34726268e+00, -6.56703777e-01, -1.11916160e+00,\n",
       "       -1.45511995e+00,  5.73424949e-01, -6.28460476e-01,  5.62451449e-01,\n",
       "       -1.06115085e+00,  9.13871716e-01, -2.03188120e+00,  1.12573625e+00,\n",
       "        6.53071877e-01, -4.55083615e-01,  1.26038371e+00, -2.51710525e-01,\n",
       "       -8.38655791e-01, -1.53632774e-01, -1.03427582e+00, -2.10308189e-01,\n",
       "       -1.23572284e-01, -6.22801872e-04,  1.36685284e-01, -1.31584444e+00,\n",
       "       -1.64624667e+00,  2.63136321e+00,  9.68224900e-01,  4.17454515e-01,\n",
       "        2.55377742e-01,  1.77100056e+00,  9.21957617e-01,  6.45974477e-01,\n",
       "       -8.57533062e-01, -2.65886931e+00,  1.02440574e+00, -5.98580468e-01,\n",
       "        1.62863124e+00, -8.43460303e-01,  7.69312365e-01,  1.70940569e+00,\n",
       "       -7.98256344e-03,  1.49659524e+00, -5.17669992e-01, -6.78958426e-01,\n",
       "        1.12734782e+00,  6.00800238e-01,  1.82764635e-01,  1.98022599e+00,\n",
       "       -1.27778935e+00, -5.65827229e-01, -7.78123163e-01, -9.25855637e-01,\n",
       "        1.93441486e-01,  1.79843935e-02, -7.30320984e-01, -2.96525617e-01,\n",
       "        1.33215283e+00,  1.91304652e-01, -3.26407262e+00,  1.65350390e-03,\n",
       "       -1.00588667e+00,  3.40794070e-02, -6.11885095e-01, -1.13802595e-01,\n",
       "       -6.38292415e-01, -1.47071466e+00,  1.17977652e+00, -2.34363730e-01,\n",
       "       -1.02468307e+00, -2.28554927e+00,  7.61388813e-01,  1.93068603e+00,\n",
       "        1.17652643e-01,  5.66364689e-01,  8.00953092e-01, -3.32534189e-01,\n",
       "        1.27599313e+00, -1.35420014e+00,  1.31060166e+00, -1.41427163e-01,\n",
       "       -4.98115701e-01, -6.36165518e-01, -3.08549335e-01, -3.09319602e-01,\n",
       "       -1.04126589e+00, -1.17321802e-01, -2.02748716e+00,  9.77268431e-03,\n",
       "       -8.57652421e-01, -5.48759848e-01, -1.07841440e+00,  1.42298645e-01,\n",
       "       -2.45614763e-01, -4.95477499e-01, -6.52046743e-01, -1.13991247e+00,\n",
       "       -5.59278922e-01,  1.13744327e+00,  2.28159925e-01, -1.30920661e+00,\n",
       "       -3.12987023e-01, -3.25880288e-01, -1.58424259e+00, -1.01309529e+00,\n",
       "       -3.62390890e-01,  1.66196049e-01,  2.37288047e+00,  1.13409066e+00,\n",
       "        8.18520044e-01,  9.58648527e-01,  4.91370017e-01, -4.52664173e-01,\n",
       "        1.23090255e-01, -5.52221084e-01,  7.67274491e-01,  1.89140177e+00,\n",
       "        2.12066318e-01,  5.21503678e-01,  1.03157104e-01, -6.67799016e-01,\n",
       "        1.77592131e+00,  2.36122216e-01,  2.37685342e-01, -5.40935758e-02,\n",
       "        4.99950470e-01,  1.27443032e+00,  2.79578036e-01,  7.82267494e-01,\n",
       "        9.88857640e-01,  8.98167365e-01, -1.43456742e+00, -5.79519151e-01,\n",
       "       -1.33258998e+00,  2.05167974e+00,  5.98989328e-02,  1.12170641e+00,\n",
       "       -2.07113748e-01,  6.58544789e-01, -1.14348270e+00,  1.03254325e+00,\n",
       "        9.13639301e-01, -1.03000304e+00, -4.45064045e-01,  9.29295465e-01,\n",
       "       -8.46823914e-01, -1.72092107e+00,  1.14815396e-01, -3.53395565e-01,\n",
       "        3.01383220e-01,  1.04213220e+00, -5.65332769e-01,  1.89593909e+00,\n",
       "        1.65651536e-01, -1.70217420e+00,  6.50705990e-01,  6.39071006e-01,\n",
       "        4.50083367e-01,  5.12836423e-01,  1.52927380e-01, -4.90988296e-02,\n",
       "        1.26296954e-01, -6.54042671e-01,  1.61554621e+00, -1.05649469e+00,\n",
       "       -1.00084330e+00, -1.28027319e+00, -1.34965302e+00, -1.01454924e+00,\n",
       "       -7.99125357e-01, -1.20524552e+00,  1.40572941e+00, -1.68851764e+00,\n",
       "        2.07931335e+00,  7.27893959e-01,  1.00085106e+00, -9.46089385e-01,\n",
       "       -8.14294202e-01, -5.30167240e-01,  3.31787353e-01, -9.59061065e-01,\n",
       "        6.60023767e-01,  5.45682675e-01,  9.83016512e-01,  1.19290829e+00,\n",
       "        5.45568129e-01, -1.17366880e+00, -5.41478810e-01, -5.32135398e-01,\n",
       "        5.50499055e-02, -5.11565245e-01,  9.78615846e-01, -4.78568189e-01,\n",
       "        2.30589649e-01, -1.37893955e+00, -2.08612362e+00, -1.69611565e-01,\n",
       "        4.86838204e-01, -2.82432678e-01,  8.30884611e-01,  2.06739070e+00,\n",
       "        1.89398641e+00, -3.89202942e-01,  9.83948905e-01, -4.80664638e-02,\n",
       "        1.23364679e+00, -3.62923402e-01,  1.14903230e+00,  1.50855624e+00,\n",
       "        8.57237026e-02, -1.20097908e+00,  5.98801475e-01,  2.12899851e+00,\n",
       "        1.49657487e+00, -1.76172681e+00, -8.93187211e-02, -7.39598196e-01,\n",
       "       -3.83168948e-01, -1.18464873e+00,  2.25100703e-01,  6.83233761e-01,\n",
       "       -1.17586556e+00,  1.81890565e-01, -2.01778822e-01,  1.21410462e-01,\n",
       "        1.46685376e+00, -8.30501306e-01,  1.31969217e+00, -1.18104186e-01,\n",
       "       -1.78292588e-01,  1.57849105e-01,  5.93361960e-01,  1.18792719e-01,\n",
       "       -8.51982470e-01, -1.06710210e+00, -1.12667442e+00, -6.88316206e-01,\n",
       "       -4.26939166e-01, -6.40425449e-01, -4.75376038e-01,  1.40567337e+00,\n",
       "       -2.66931962e-01,  7.59199365e-01,  2.14157101e+00,  1.65029427e+00,\n",
       "        5.77560000e-01, -4.75221241e-01,  2.23645664e+00,  1.24479260e+00,\n",
       "        1.65185326e+00,  5.27131952e-01, -1.58928154e-02, -1.33394687e+00,\n",
       "       -1.26020534e+00, -9.38745838e-01,  3.13453273e-01, -4.85457170e-01,\n",
       "        6.38529902e-01, -3.44245503e-01,  9.82652358e-01, -8.07422759e-01,\n",
       "        8.15423512e-01, -8.53445660e-02,  5.17631401e-02,  1.42324524e+00,\n",
       "       -7.74257744e-01,  2.21609008e+00, -7.92757672e-01, -1.26840200e-01,\n",
       "        1.70719251e+00,  9.85724654e-01, -7.07575315e-01, -7.18910430e-01,\n",
       "        8.18745864e-01,  1.38878774e+00,  8.55517693e-01, -9.08311904e-01,\n",
       "        1.70222731e+00, -6.75410044e-01, -7.01246395e-01,  8.08663269e-01,\n",
       "       -1.23384936e+00, -2.50090778e-01,  5.47962357e-03,  8.97257650e-02,\n",
       "       -9.34561794e-01,  3.36148449e-01, -3.07538527e-01, -1.39215911e+00,\n",
       "        1.17237115e+00,  1.40074555e+00,  3.92582122e-01,  9.81958394e-01,\n",
       "        5.74322274e-01,  3.16235021e-01,  8.82369170e-01,  8.70091783e-01,\n",
       "        6.55811463e-01, -4.36626275e-01,  7.96679067e-01,  2.74253361e-01,\n",
       "       -1.43530029e-01,  2.06369151e+00,  1.09345754e+00, -1.57354837e+00,\n",
       "       -1.67651493e+00, -1.03497924e+00,  7.20962021e-01, -2.02435796e-01,\n",
       "        1.31353478e-01,  6.72048835e-01, -1.85841820e+00, -1.26686863e-01,\n",
       "        3.85270316e-01,  1.26949897e+00, -1.21055332e+00, -3.15299628e-01,\n",
       "       -6.74683649e-01,  4.30083124e-01,  3.76101242e-01, -3.82268991e-01,\n",
       "       -6.77869478e-01,  8.83116409e-02,  2.47838870e-01,  1.16099922e+00,\n",
       "       -6.81970613e-01, -3.81454558e-01, -1.58411576e+00, -1.88805078e+00,\n",
       "       -1.05090773e+00,  7.06507743e-01,  4.16030243e-01,  3.22927828e-01,\n",
       "        1.53140063e+00,  3.96412383e-01, -9.50169140e-01,  2.81137707e-01,\n",
       "        5.14989291e-01, -1.21857470e-01, -7.48063956e-01, -7.32795252e-01,\n",
       "        1.88671362e-01, -1.32367198e+00, -1.44898109e+00, -2.35680146e+00,\n",
       "        2.81146615e-01, -1.32110373e-01,  1.52904140e+00, -7.04772763e-01,\n",
       "       -1.70592860e-01,  3.85197709e-01, -5.51888504e-01,  1.22618345e+00,\n",
       "        5.73896434e-01,  7.94482684e-01, -9.66525140e-02,  1.81029951e-01,\n",
       "       -5.75925376e-01,  1.33281113e+00, -7.46190408e-01, -2.66975818e+00,\n",
       "       -1.24712493e+00,  1.89766068e+00, -4.06143058e-01,  1.02983827e+00,\n",
       "        1.13951110e+00,  4.32651994e-02, -1.13290421e+00, -3.09465203e-01,\n",
       "        1.27049706e+00,  1.35069441e+00,  5.87798017e-01,  2.66139593e-01,\n",
       "        9.58242762e-01,  3.28969585e+00, -1.52256918e-01, -1.37648737e+00,\n",
       "       -3.00235210e-01, -6.73923898e-01, -1.12096112e-01, -6.82658371e-01,\n",
       "       -1.51270876e-02, -1.69038254e-01, -2.52391077e-01,  6.06631271e-01,\n",
       "        1.55995378e+00, -3.45324085e-01, -8.23970355e-01,  3.73299431e-01,\n",
       "       -1.49471978e+00, -3.18993676e-01,  9.21516608e-01,  1.99496797e+00,\n",
       "       -1.05050460e+00,  5.77260445e-01, -9.69879507e-01, -8.83772888e-02,\n",
       "       -1.21912942e+00, -3.52549105e-01,  4.28737405e-01,  2.67280910e-01,\n",
       "        4.14636979e-01, -1.20142493e-01,  9.27495127e-01,  1.68023708e-01,\n",
       "       -1.61809544e+00,  1.46829094e+00, -9.57092074e-01,  1.08445081e+00,\n",
       "       -4.47662678e-01, -9.74730313e-01,  8.74018830e-01,  1.96620505e-01,\n",
       "        1.20559510e-01, -3.97357941e-03, -6.49542725e-01, -8.84444537e-01,\n",
       "       -3.53987424e-01,  3.12702474e-01, -1.92872473e-01,  4.49267555e-01,\n",
       "       -1.06954825e+00, -2.72984581e-01, -4.33977311e-01,  1.64133082e-01,\n",
       "       -3.56493111e-01,  1.09623137e+00,  1.04073336e+00, -1.53934611e+00,\n",
       "        4.67909735e-01,  4.28016220e-01,  9.93191521e-02, -1.42621904e+00])"
      ]
     },
     "execution_count": 121,
     "metadata": {},
     "output_type": "execute_result"
    }
   ],
   "source": [
    "normal_distribution"
   ]
  },
  {
   "cell_type": "code",
   "execution_count": 117,
   "id": "0dd9eafe-6f81-4b37-bb4b-e4bb1351dcc3",
   "metadata": {},
   "outputs": [],
   "source": [
    "import matplotlib.pyplot as plt\n",
    "import seaborn as sns"
   ]
  },
  {
   "cell_type": "code",
   "execution_count": 122,
   "id": "4ba6c44d-673c-4001-8d39-ccff90dec1c6",
   "metadata": {},
   "outputs": [
    {
     "data": {
      "image/png": "[encoded data removed]",
      "text/plain": [
       "<Figure size 640x480 with 1 Axes>"
      ]
     },
     "metadata": {},
     "output_type": "display_data"
    }
   ],
   "source": [
    "plt.hist(normal_distribution);"
   ]
  },
  {
   "cell_type": "code",
   "execution_count": 123,
   "id": "34d8f8ca-04cd-4e82-82bd-3a9b26341a6a",
   "metadata": {},
   "outputs": [
    {
     "data": {
      "text/plain": [
       "<Axes: ylabel='Count'>"
      ]
     },
     "execution_count": 123,
     "metadata": {},
     "output_type": "execute_result"
    },
    {
     "data": {
      "image/png": "[encoded data removed]",
      "text/plain": [
       "<Figure size 640x480 with 1 Axes>"
      ]
     },
     "metadata": {},
     "output_type": "display_data"
    }
   ],
   "source": [
    "sns.histplot(normal_distribution, kde=True)"
   ]
  },
  {
   "cell_type": "markdown",
   "id": "e1c5d236-3700-4f3a-9e90-50a3c4d5f3cf",
   "metadata": {},
   "source": [
    "##### Binomial Distribution"
   ]
  },
  {
   "cell_type": "code",
   "execution_count": 126,
   "id": "548f9c22-2eb8-42d4-b853-560199d3f01c",
   "metadata": {},
   "outputs": [],
   "source": [
    "# Calculate the probability of getting 7 heads in 10 flips of a coin.\n",
    "p = 0.5 # Probability of heads\n",
    "n = 10 # Number of experiments"
   ]
  },
  {
   "cell_type": "code",
   "execution_count": 133,
   "id": "93047573-b440-4df6-b047-baaaff26256f",
   "metadata": {},
   "outputs": [
    {
     "name": "stdout",
     "output_type": "stream",
     "text": [
      "6\n"
     ]
    }
   ],
   "source": [
    "probability = np.random.binomial(n, p)\n",
    "print(probability)"
   ]
  },
  {
   "cell_type": "markdown",
   "id": "cd53ba4b-5d8b-47f9-a9cc-ea56b9d616db",
   "metadata": {},
   "source": [
    "##### Poisson Distribution"
   ]
  },
  {
   "cell_type": "code",
   "execution_count": 148,
   "id": "3f5a3cb4-b3da-4c8a-ba8e-cd4548e676a7",
   "metadata": {},
   "outputs": [
    {
     "name": "stdout",
     "output_type": "stream",
     "text": [
      "4\n"
     ]
    }
   ],
   "source": [
    "# Calculate the probability of getting 5 customers in a store in one hour, \n",
    "# given that the # average number of customers is 5 per hour.\n",
    "lamb = 5 # Mean number of customers in one hour\n",
    "\n",
    "probability = np.random.poisson(lamb)\n",
    "print(probability)"
   ]
  },
  {
   "cell_type": "code",
   "execution_count": 149,
   "id": "c4ebfeae-3be5-448c-bd43-dfdd54be4eeb",
   "metadata": {},
   "outputs": [],
   "source": [
    "events = [np.random.poisson(lamb) for x in range(1000)]"
   ]
  },
  {
   "cell_type": "code",
   "execution_count": 150,
   "id": "3ab68b1d-56b4-48b4-9a03-01eba6ee73bd",
   "metadata": {},
   "outputs": [
    {
     "data": {
      "image/png": "[encoded data removed]",
      "text/plain": [
       "<Figure size 640x480 with 1 Axes>"
      ]
     },
     "metadata": {},
     "output_type": "display_data"
    }
   ],
   "source": [
    "plt.xticks(range(1,21))\n",
    "plt.hist(events);"
   ]
  },
  {
   "cell_type": "code",
   "execution_count": 151,
   "id": "97770a65-a415-49fa-a36d-7dba8eb9bd8f",
   "metadata": {},
   "outputs": [
    {
     "data": {
      "image/png": "[encoded data removed]",
      "text/plain": [
       "<Figure size 640x480 with 1 Axes>"
      ]
     },
     "metadata": {},
     "output_type": "display_data"
    }
   ],
   "source": [
    "sns.kdeplot(events);"
   ]
  },
  {
   "cell_type": "code",
   "execution_count": 153,
   "id": "65d54eb8-a1bf-436b-8f1a-1e7c0550e2f9",
   "metadata": {},
   "outputs": [
    {
     "data": {
      "text/plain": [
       "0.184"
      ]
     },
     "execution_count": 153,
     "metadata": {},
     "output_type": "execute_result"
    }
   ],
   "source": [
    "events.count(5) / 1000"
   ]
  },
  {
   "cell_type": "code",
   "execution_count": 154,
   "id": "2c1520bf-dbd9-44af-b1b0-dae406b96062",
   "metadata": {},
   "outputs": [
    {
     "data": {
      "text/plain": [
       "0.167"
      ]
     },
     "execution_count": 154,
     "metadata": {},
     "output_type": "execute_result"
    }
   ],
   "source": [
    "events.count(4) / 1000"
   ]
  },
  {
   "cell_type": "code",
   "execution_count": 155,
   "id": "9a0ee4d0-c25a-4e9f-a4f7-d66f1897df1f",
   "metadata": {},
   "outputs": [
    {
     "data": {
      "text/plain": [
       "0.005"
      ]
     },
     "execution_count": 155,
     "metadata": {},
     "output_type": "execute_result"
    }
   ],
   "source": [
    "events.count(0) / 1000"
   ]
  },
  {
   "cell_type": "code",
   "execution_count": 156,
   "id": "4c932219-9650-464b-a81e-d410ffb51fdd",
   "metadata": {},
   "outputs": [
    {
     "data": {
      "text/plain": [
       "0.021"
      ]
     },
     "execution_count": 156,
     "metadata": {},
     "output_type": "execute_result"
    }
   ],
   "source": [
    "events.count(10) / 1000"
   ]
  },
  {
   "cell_type": "code",
   "execution_count": null,
   "id": "f047285a-e828-47ba-98e5-c2f6512a1359",
   "metadata": {},
   "outputs": [],
   "source": []
  }
 ],
 "metadata": {
  "kernelspec": {
   "display_name": "Python 3 (ipykernel)",
   "language": "python",
   "name": "python3"
  },
  "language_info": {
   "codemirror_mode": {
    "name": "ipython",
    "version": 3
   },
   "file_extension": ".py",
   "mimetype": "text/x-python",
   "name": "python",
   "nbconvert_exporter": "python",
   "pygments_lexer": "ipython3",
   "version": "3.10.12"
  }
 },
 "nbformat": 4,
 "nbformat_minor": 5
}
