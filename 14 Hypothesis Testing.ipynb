{
 "cells": [
  {
   "cell_type": "markdown",
   "id": "ca072044-4c1c-4d18-99f4-bd4ea95e6c3a",
   "metadata": {},
   "source": [
    "##### Z-test"
   ]
  },
  {
   "cell_type": "code",
   "execution_count": 4,
   "id": "08b2d141-fdb9-4986-bdb6-2b111a638e6a",
   "metadata": {},
   "outputs": [
    {
     "name": "stdout",
     "output_type": "stream",
     "text": [
      "Z-score: 5.0\n",
      "P-value: 5.733031438470704e-07\n",
      "Reject the null hypothesis (there is a significant difference between the groups).\n"
     ]
    }
   ],
   "source": [
    "import numpy as np\n",
    "from scipy import stats\n",
    "\n",
    "# Given values for the z-test\n",
    "mean_new_drug = 10  # Mean improvement for new drug group\n",
    "mean_placebo = 5    # Mean improvement for placebo group\n",
    "std_new_drug = 5    # Standard deviation for new drug group\n",
    "std_placebo = 5     # Standard deviation for placebo group\n",
    "n_new_drug = 50     # Sample size for new drug group\n",
    "n_placebo = 50      # Sample size for placebo group\n",
    "\n",
    "# Calculate the z-score\n",
    "z = (mean_new_drug - mean_placebo) / np.sqrt(\n",
    "    (std_new_drug**2 / n_new_drug) + (std_placebo**2 / n_placebo))\n",
    "\n",
    "# Calculate the p-value (two-tailed test)\n",
    "p_value = 2 * (1 - stats.norm.cdf(abs(z)))\n",
    "\n",
    "# Output the results\n",
    "print(f\"Z-score: {z}\")\n",
    "print(f\"P-value: {p_value}\")\n",
    "\n",
    "# Decision based on a significance level (alpha)\n",
    "alpha = 0.05\n",
    "if p_value < alpha:\n",
    "    print(\"Reject the null hypothesis (there is a significant difference between the groups).\")\n",
    "else:\n",
    "    print(\"Fail to reject the null hypothesis (no significant difference between the groups).\")"
   ]
  },
  {
   "cell_type": "code",
   "execution_count": 5,
   "id": "746749b0-532a-429c-8c12-802fcd8be8d7",
   "metadata": {},
   "outputs": [],
   "source": [
    "# sample Data - Average population weight in kgs\n",
    "data = [78, 62, 80, 75, 61, 74, 79, 93, 77, 95, 67, 88, 54, 69]"
   ]
  },
  {
   "cell_type": "code",
   "execution_count": 6,
   "id": "1a78dea3-d4ae-4e6f-b53f-2a0665e2a9b5",
   "metadata": {},
   "outputs": [],
   "source": [
    "# Define the null hypothesis (average population weight = 80)\n",
    "null_mean = 80"
   ]
  },
  {
   "cell_type": "code",
   "execution_count": 7,
   "id": "9d18a1ad-5c25-413f-8b54-23101b9ff435",
   "metadata": {},
   "outputs": [
    {
     "data": {
      "text/plain": [
       "14"
      ]
     },
     "execution_count": 7,
     "metadata": {},
     "output_type": "execute_result"
    }
   ],
   "source": [
    "len(data)"
   ]
  },
  {
   "cell_type": "code",
   "execution_count": 8,
   "id": "eab3789e-bb33-4096-a403-af3d12a4f0f9",
   "metadata": {},
   "outputs": [],
   "source": [
    "# Calculate the sample mean and standard deviation\n",
    "sample_mean = np.mean(data)\n",
    "sample_std = np.std(data)"
   ]
  },
  {
   "cell_type": "code",
   "execution_count": 9,
   "id": "be58b2eb-19dd-424d-a3ef-1854fae9634c",
   "metadata": {},
   "outputs": [
    {
     "data": {
      "text/plain": [
       "75.14285714285714"
      ]
     },
     "execution_count": 9,
     "metadata": {},
     "output_type": "execute_result"
    }
   ],
   "source": [
    "sample_mean"
   ]
  },
  {
   "cell_type": "code",
   "execution_count": 10,
   "id": "ffdc1458-f383-4563-a7ea-3cbb637b6529",
   "metadata": {},
   "outputs": [
    {
     "data": {
      "text/plain": [
       "11.506874608915581"
      ]
     },
     "execution_count": 10,
     "metadata": {},
     "output_type": "execute_result"
    }
   ],
   "source": [
    "sample_std"
   ]
  },
  {
   "cell_type": "code",
   "execution_count": 11,
   "id": "f7fa24b9-6420-4357-8666-4efae04dd609",
   "metadata": {},
   "outputs": [],
   "source": [
    "# Calculate the z-score\n",
    "z_score = (sample_mean - null_mean) / sample_std"
   ]
  },
  {
   "cell_type": "code",
   "execution_count": 12,
   "id": "fbf37779-c05c-4e4c-811b-b5fc4ed857bf",
   "metadata": {},
   "outputs": [
    {
     "data": {
      "text/plain": [
       "-0.4221079156784696"
      ]
     },
     "execution_count": 12,
     "metadata": {},
     "output_type": "execute_result"
    }
   ],
   "source": [
    "z_score"
   ]
  },
  {
   "cell_type": "code",
   "execution_count": 13,
   "id": "7c45492a-8312-4efd-ab39-3dde92f6b098",
   "metadata": {},
   "outputs": [],
   "source": [
    "# Calculate the two-tailed p-value using the z-score\n",
    "p_value = 2 * (1 - stats.norm.cdf(abs(z_score)))"
   ]
  },
  {
   "cell_type": "code",
   "execution_count": 14,
   "id": "5aaa3069-8711-4191-81c2-e02a053b4548",
   "metadata": {},
   "outputs": [
    {
     "data": {
      "text/plain": [
       "0.6729462504556214"
      ]
     },
     "execution_count": 14,
     "metadata": {},
     "output_type": "execute_result"
    }
   ],
   "source": [
    "p_value"
   ]
  },
  {
   "cell_type": "code",
   "execution_count": 15,
   "id": "290971ac-4350-45fa-891a-34a9fc179ada",
   "metadata": {},
   "outputs": [],
   "source": [
    "# Define significance level (alpha) - commonly used value is 0.05 (5%)\n",
    "alpha = 0.05"
   ]
  },
  {
   "cell_type": "code",
   "execution_count": 16,
   "id": "04cbde91-d45e-49e0-931b-b314a071905d",
   "metadata": {},
   "outputs": [
    {
     "name": "stdout",
     "output_type": "stream",
     "text": [
      "Fail to reject the null hypothesis. There is not enough evidence to conclude \n",
      "  the average weight is statistically different from 80 at a significance level of 0.05\n"
     ]
    }
   ],
   "source": [
    "# Interpretation\n",
    "if p_value < alpha:\n",
    "  print('''Reject the null hypothesis. The average weight is statistically different \n",
    "  from 80 at a significance level of''', alpha)\n",
    "else:\n",
    "  print('''Fail to reject the null hypothesis. There is not enough evidence to conclude \n",
    "  the average weight is statistically different from 80 at a significance level of''', alpha)"
   ]
  },
  {
   "cell_type": "code",
   "execution_count": 18,
   "id": "1b7a673a-da4c-4711-8170-8c5065a5b58c",
   "metadata": {},
   "outputs": [],
   "source": [
    "from statsmodels.stats.weightstats import ztest"
   ]
  },
  {
   "cell_type": "code",
   "execution_count": 19,
   "id": "6c043758-e2f7-46b9-a2dd-22aa0355d86f",
   "metadata": {},
   "outputs": [],
   "source": [
    "#enter IQ levels for 20 patients\n",
    "data = [88, 92, 94, 94, 96, 97, 97, 97, 99, 99,\n",
    "        105, 109, 109, 109, 110, 112, 112, 113, 114, 115]"
   ]
  },
  {
   "cell_type": "code",
   "execution_count": 20,
   "id": "8c361225-9ac1-4071-a382-69796bd185e7",
   "metadata": {},
   "outputs": [
    {
     "data": {
      "text/plain": [
       "(1.5976240527147705, 0.1101266701438426)"
      ]
     },
     "execution_count": 20,
     "metadata": {},
     "output_type": "execute_result"
    }
   ],
   "source": [
    "#perform one sample z-test\n",
    "ztest(data, value=100)"
   ]
  },
  {
   "cell_type": "markdown",
   "id": "113834ec-54db-4c0a-ac78-b4509c42ff32",
   "metadata": {},
   "source": [
    "The test statistic for the one sample z-test is 1.5976 and the corresponding p-value is 0.1101.\n",
    "\n",
    "Since this p-value is not less than .05, we do not have sufficient evidence to reject the null hypothesis. In other words, the new drug does not significantly affect IQ level."
   ]
  },
  {
   "cell_type": "code",
   "execution_count": 21,
   "id": "81cf9103-6451-4eb5-8b8e-af0f97ea14b1",
   "metadata": {},
   "outputs": [
    {
     "name": "stdout",
     "output_type": "stream",
     "text": [
      "Defaulting to user installation because normal site-packages is not writeable\n",
      "Requirement already satisfied: statsmodels in /home/mitu/.local/lib/python3.10/site-packages (0.14.2)\n",
      "Requirement already satisfied: numpy>=1.22.3 in /usr/local/lib/python3.10/dist-packages (from statsmodels) (1.26.3)\n",
      "Requirement already satisfied: scipy!=1.9.2,>=1.8 in /usr/local/lib/python3.10/dist-packages (from statsmodels) (1.11.4)\n",
      "Requirement already satisfied: pandas!=2.1.0,>=1.4 in /usr/local/lib/python3.10/dist-packages (from statsmodels) (2.1.4)\n",
      "Requirement already satisfied: patsy>=0.5.6 in /home/mitu/.local/lib/python3.10/site-packages (from statsmodels) (0.5.6)\n",
      "Requirement already satisfied: packaging>=21.3 in /usr/local/lib/python3.10/dist-packages (from statsmodels) (23.2)\n",
      "Requirement already satisfied: python-dateutil>=2.8.2 in /usr/local/lib/python3.10/dist-packages (from pandas!=2.1.0,>=1.4->statsmodels) (2.8.2)\n",
      "Requirement already satisfied: pytz>=2020.1 in /usr/lib/python3/dist-packages (from pandas!=2.1.0,>=1.4->statsmodels) (2022.1)\n",
      "Requirement already satisfied: tzdata>=2022.1 in /usr/local/lib/python3.10/dist-packages (from pandas!=2.1.0,>=1.4->statsmodels) (2023.4)\n",
      "Requirement already satisfied: six in /usr/lib/python3/dist-packages (from patsy>=0.5.6->statsmodels) (1.16.0)\n",
      "\n",
      "\u001b[1m[\u001b[0m\u001b[34;49mnotice\u001b[0m\u001b[1;39;49m]\u001b[0m\u001b[39;49m A new release of pip is available: \u001b[0m\u001b[31;49m24.1.1\u001b[0m\u001b[39;49m -> \u001b[0m\u001b[32;49m24.2\u001b[0m\n",
      "\u001b[1m[\u001b[0m\u001b[34;49mnotice\u001b[0m\u001b[1;39;49m]\u001b[0m\u001b[39;49m To update, run: \u001b[0m\u001b[32;49mpython3 -m pip install --upgrade pip\u001b[0m\n",
      "Note: you may need to restart the kernel to use updated packages.\n"
     ]
    }
   ],
   "source": [
    "pip install statsmodels"
   ]
  },
  {
   "cell_type": "markdown",
   "id": "a4ee6a32-796b-4980-8109-e9124a0e9698",
   "metadata": {},
   "source": [
    "##### 𝛘-Square Test"
   ]
  },
  {
   "cell_type": "code",
   "execution_count": 26,
   "id": "ae576fba-b146-40f9-81c2-6fcf40200baf",
   "metadata": {},
   "outputs": [],
   "source": [
    "from scipy.stats import chi2_contingency\n",
    "import numpy as np"
   ]
  },
  {
   "cell_type": "code",
   "execution_count": 29,
   "id": "340a4ea7-35a9-4710-bf2f-ec7b9c39f53e",
   "metadata": {},
   "outputs": [],
   "source": [
    "# defining the table\n",
    "data = np.array([[207, 282, 241], [234, 242, 232]])"
   ]
  },
  {
   "cell_type": "code",
   "execution_count": 30,
   "id": "5f22a7ed-8656-42ae-9435-1c6d88f8fd53",
   "metadata": {},
   "outputs": [
    {
     "data": {
      "text/plain": [
       "array([[207, 282, 241],\n",
       "       [234, 242, 232]])"
      ]
     },
     "execution_count": 30,
     "metadata": {},
     "output_type": "execute_result"
    }
   ],
   "source": [
    "data"
   ]
  },
  {
   "cell_type": "code",
   "execution_count": 31,
   "id": "67d8fdd2-1daf-4f6f-8250-6ab2347011ca",
   "metadata": {},
   "outputs": [
    {
     "data": {
      "text/plain": [
       "array([441, 524, 473])"
      ]
     },
     "execution_count": 31,
     "metadata": {},
     "output_type": "execute_result"
    }
   ],
   "source": [
    "data.sum(axis=0)"
   ]
  },
  {
   "cell_type": "code",
   "execution_count": 32,
   "id": "08e751ee-3d14-4048-8785-55d87ade16b4",
   "metadata": {},
   "outputs": [
    {
     "data": {
      "text/plain": [
       "array([730, 708])"
      ]
     },
     "execution_count": 32,
     "metadata": {},
     "output_type": "execute_result"
    }
   ],
   "source": [
    "data.sum(axis=1)"
   ]
  },
  {
   "cell_type": "code",
   "execution_count": 33,
   "id": "c324778b-a86f-4897-8bbe-c0b29043b3a4",
   "metadata": {},
   "outputs": [],
   "source": [
    "stat, p, dof, expected = chi2_contingency(data)"
   ]
  },
  {
   "cell_type": "code",
   "execution_count": 34,
   "id": "1b011f3e-de88-4340-ac8f-53ceec3b3f58",
   "metadata": {},
   "outputs": [
    {
     "data": {
      "text/plain": [
       "4.542228269825232"
      ]
     },
     "execution_count": 34,
     "metadata": {},
     "output_type": "execute_result"
    }
   ],
   "source": [
    "stat"
   ]
  },
  {
   "cell_type": "code",
   "execution_count": 35,
   "id": "ba606041-3f97-407a-806b-a32666861c2c",
   "metadata": {},
   "outputs": [
    {
     "data": {
      "text/plain": [
       "0.1031971404730939"
      ]
     },
     "execution_count": 35,
     "metadata": {},
     "output_type": "execute_result"
    }
   ],
   "source": [
    "p"
   ]
  },
  {
   "cell_type": "code",
   "execution_count": 36,
   "id": "42816d97-a470-4e4c-bcb5-49694e7832c2",
   "metadata": {},
   "outputs": [
    {
     "data": {
      "text/plain": [
       "2"
      ]
     },
     "execution_count": 36,
     "metadata": {},
     "output_type": "execute_result"
    }
   ],
   "source": [
    "dof"
   ]
  },
  {
   "cell_type": "code",
   "execution_count": 37,
   "id": "f991fceb-c3d7-47f0-87ad-49cd0ca9ed93",
   "metadata": {},
   "outputs": [
    {
     "data": {
      "text/plain": [
       "array([[223.87343533, 266.00834492, 240.11821975],\n",
       "       [217.12656467, 257.99165508, 232.88178025]])"
      ]
     },
     "execution_count": 37,
     "metadata": {},
     "output_type": "execute_result"
    }
   ],
   "source": [
    "expected"
   ]
  },
  {
   "cell_type": "code",
   "execution_count": 39,
   "id": "3e2855c9-9644-4775-a96d-331dff732b1f",
   "metadata": {},
   "outputs": [
    {
     "name": "stdout",
     "output_type": "stream",
     "text": [
      "p value is 0.1031971404730939\n",
      "Independent (H0 holds true)\n"
     ]
    }
   ],
   "source": [
    "# interpret p-value\n",
    "alpha = 0.05\n",
    "print(\"p value is \" + str(p))\n",
    "if p <= alpha:\n",
    "    print('Dependent (reject H0)')\n",
    "else:\n",
    "    print('Independent (H0 holds true)')"
   ]
  },
  {
   "cell_type": "code",
   "execution_count": 40,
   "id": "1f4e52d9-7848-4585-a19e-aeb3510ecd75",
   "metadata": {},
   "outputs": [],
   "source": [
    "#### Example"
   ]
  },
  {
   "cell_type": "code",
   "execution_count": 41,
   "id": "a1cba863-2d3b-447a-b55b-40a94b2df925",
   "metadata": {},
   "outputs": [],
   "source": [
    "# defining the table\n",
    "data = np.array([[5, 10, 5], [15, 5, 0],[5, 10, 15]])\n",
    "stat, p, dof, expected = chi2_contingency(data)"
   ]
  },
  {
   "cell_type": "code",
   "execution_count": 43,
   "id": "3c568b7d-1323-46ec-8f74-207617f4948d",
   "metadata": {},
   "outputs": [
    {
     "data": {
      "text/plain": [
       "5.540229051644113e-05"
      ]
     },
     "execution_count": 43,
     "metadata": {},
     "output_type": "execute_result"
    }
   ],
   "source": [
    "p"
   ]
  },
  {
   "cell_type": "code",
   "execution_count": 42,
   "id": "b0525c88-52e7-41be-9e70-1baaeb0188b8",
   "metadata": {},
   "outputs": [
    {
     "name": "stdout",
     "output_type": "stream",
     "text": [
      "p value is 5.540229051644113e-05\n",
      "Dependent (reject H0)\n"
     ]
    }
   ],
   "source": [
    "# interpret p-value\n",
    "alpha = 0.05\n",
    "print(\"p value is \" + str(p))\n",
    "if p <= alpha:\n",
    "    print('Dependent (reject H0)')\n",
    "else:\n",
    "    print('Independent (H0 holds true)')"
   ]
  },
  {
   "cell_type": "code",
   "execution_count": null,
   "id": "c4318f15-1680-4635-82f0-6b956572ecfc",
   "metadata": {},
   "outputs": [],
   "source": []
  }
 ],
 "metadata": {
  "kernelspec": {
   "display_name": "Python 3 (ipykernel)",
   "language": "python",
   "name": "python3"
  },
  "language_info": {
   "codemirror_mode": {
    "name": "ipython",
    "version": 3
   },
   "file_extension": ".py",
   "mimetype": "text/x-python",
   "name": "python",
   "nbconvert_exporter": "python",
   "pygments_lexer": "ipython3",
   "version": "3.10.12"
  }
 },
 "nbformat": 4,
 "nbformat_minor": 5
}
