{
 "cells": [
  {
   "cell_type": "markdown",
   "id": "e566d7c9-248d-46cd-8a0b-8f064fc27675",
   "metadata": {},
   "source": [
    "##### Problem Statement"
   ]
  },
  {
   "cell_type": "code",
   "execution_count": 2,
   "id": "45d38d63-425c-4aab-b912-38c311938bd5",
   "metadata": {},
   "outputs": [
    {
     "name": "stdout",
     "output_type": "stream",
     "text": [
      "Hello World\n"
     ]
    }
   ],
   "source": [
    "print('Hello World')"
   ]
  },
  {
   "cell_type": "code",
   "execution_count": 3,
   "id": "29116924-d926-4528-9df3-8bdc3e9a7220",
   "metadata": {},
   "outputs": [],
   "source": [
    "num = [23,32,56,12,67,82,96,46,42,61,27,88,35]"
   ]
  },
  {
   "cell_type": "code",
   "execution_count": 4,
   "id": "5c726d9c-4d22-4b9e-87db-985704ad4e12",
   "metadata": {},
   "outputs": [],
   "source": [
    "# Create a new list from this which will contain the numbers in the multiple of 3"
   ]
  },
  {
   "cell_type": "code",
   "execution_count": 6,
   "id": "886a49ea-ad30-4ce8-88bb-a601d7cc0719",
   "metadata": {},
   "outputs": [
    {
     "data": {
      "text/plain": [
       "[12, 96, 42, 27]"
      ]
     },
     "execution_count": 6,
     "metadata": {},
     "output_type": "execute_result"
    }
   ],
   "source": [
    "new_list = [x for x in num if x % 3 == 0]\n",
    "new_list"
   ]
  },
  {
   "cell_type": "code",
   "execution_count": 9,
   "id": "90c6a26f-49ed-436c-8798-1646a1df7671",
   "metadata": {},
   "outputs": [],
   "source": [
    "# input num = [5,7,1,6,2,3,8,9,4,0]\n",
    "# output num = [5,7,1,6,2,0,3,4,8,9]"
   ]
  },
  {
   "cell_type": "code",
   "execution_count": 12,
   "id": "f8796c19-e067-418c-97e8-3939a4c2e1b5",
   "metadata": {},
   "outputs": [],
   "source": [
    "num = [5,7,1,6,2,3,8,9,4,0]\n",
    "x=num[:5]\n",
    "y=num[5:]"
   ]
  },
  {
   "cell_type": "code",
   "execution_count": 13,
   "id": "c528e742-6b80-4a70-8297-a7ae592336c5",
   "metadata": {},
   "outputs": [
    {
     "data": {
      "text/plain": [
       "[5, 7, 1, 6, 2, 0, 3, 4, 8, 9]"
      ]
     },
     "execution_count": 13,
     "metadata": {},
     "output_type": "execute_result"
    }
   ],
   "source": [
    "y.sort()\n",
    "num = x + y\n",
    "num"
   ]
  },
  {
   "cell_type": "code",
   "execution_count": 15,
   "id": "b4f4f614-68c9-41f9-ba84-2b943f478446",
   "metadata": {},
   "outputs": [],
   "source": [
    "# Find name of the topper\n",
    "\n",
    "data = [(1,'Ajay',67.89),(2,'Priya',72.56),(3,'Rajan',62.34),\n",
    "        (4,'Nitin',78.34),(5,'Anita',62.10)]"
   ]
  },
  {
   "cell_type": "code",
   "execution_count": 18,
   "id": "a1efcc7a-f420-48f9-9105-c6890d808192",
   "metadata": {},
   "outputs": [
    {
     "data": {
      "text/plain": [
       "'Nitin'"
      ]
     },
     "execution_count": 18,
     "metadata": {},
     "output_type": "execute_result"
    }
   ],
   "source": [
    "marks = 0\n",
    "topper = None\n",
    "for entry in data:\n",
    "    if entry[2] > marks:\n",
    "        marks = entry[2]\n",
    "        topper = entry[1]\n",
    "topper"
   ]
  },
  {
   "cell_type": "code",
   "execution_count": null,
   "id": "61a9d57a-81d3-43ba-9ccd-626b392c2d92",
   "metadata": {},
   "outputs": [],
   "source": []
  },
  {
   "cell_type": "markdown",
   "id": "9b661860-df89-43e1-87ef-959f62f4394b",
   "metadata": {},
   "source": [
    "Before: [12, 13, 6, 10, 3, 1, 17, 18, 14, 15]\n",
    "\n",
    "After: [12, 1, 6, 10, 3, 13, 15, 18, 14, 17]"
   ]
  },
  {
   "cell_type": "code",
   "execution_count": 19,
   "id": "c72d8581-cec6-4ba0-bbe0-07bbd59adeb3",
   "metadata": {},
   "outputs": [],
   "source": [
    "num = [12, 13, 6, 10, 3, 1, 17, 18, 14, 15]"
   ]
  },
  {
   "cell_type": "code",
   "execution_count": 42,
   "id": "98863a3e-8997-4595-89b1-ac3fdb9348da",
   "metadata": {},
   "outputs": [
    {
     "data": {
      "text/plain": [
       "[1, 3, 13, 15, 17]"
      ]
     },
     "execution_count": 42,
     "metadata": {},
     "output_type": "execute_result"
    }
   ],
   "source": [
    "odd = []\n",
    "for x in num:\n",
    "    if x % 2 == 1:\n",
    "        odd.append(x)\n",
    "odd"
   ]
  },
  {
   "cell_type": "code",
   "execution_count": 43,
   "id": "1eae2407-f40e-45c0-9f0d-ecf8a527017e",
   "metadata": {},
   "outputs": [],
   "source": [
    "odd.sort()  "
   ]
  },
  {
   "cell_type": "code",
   "execution_count": 44,
   "id": "a3621708-0aed-4083-960a-088fd7c27c14",
   "metadata": {},
   "outputs": [],
   "source": [
    "index = 0\n",
    "while index < len(num):\n",
    "    if num[index] % 2 == 1:\n",
    "        num[index] = odd.pop(0)\n",
    "    index += 1"
   ]
  },
  {
   "cell_type": "code",
   "execution_count": 45,
   "id": "f1a5d69d-6913-4714-b1cb-c916b64476ee",
   "metadata": {},
   "outputs": [
    {
     "data": {
      "text/plain": [
       "[12, 1, 6, 10, 3, 13, 15, 18, 14, 17]"
      ]
     },
     "execution_count": 45,
     "metadata": {},
     "output_type": "execute_result"
    }
   ],
   "source": [
    "num"
   ]
  },
  {
   "cell_type": "code",
   "execution_count": 39,
   "id": "dc75c5f6-0617-4204-a6d1-9f628863e2b3",
   "metadata": {},
   "outputs": [
    {
     "data": {
      "text/plain": [
       "17"
      ]
     },
     "execution_count": 39,
     "metadata": {},
     "output_type": "execute_result"
    }
   ],
   "source": [
    "x = odd.pop(0)\n",
    "x"
   ]
  },
  {
   "cell_type": "code",
   "execution_count": 40,
   "id": "49ac6cd8-ca00-4e30-a175-b9ff09d73388",
   "metadata": {},
   "outputs": [
    {
     "data": {
      "text/plain": [
       "[]"
      ]
     },
     "execution_count": 40,
     "metadata": {},
     "output_type": "execute_result"
    }
   ],
   "source": [
    "odd"
   ]
  },
  {
   "cell_type": "code",
   "execution_count": null,
   "id": "db8d6072-b171-492c-91d5-6f3fce193583",
   "metadata": {},
   "outputs": [],
   "source": []
  }
 ],
 "metadata": {
  "kernelspec": {
   "display_name": "Python 3 (ipykernel)",
   "language": "python",
   "name": "python3"
  },
  "language_info": {
   "codemirror_mode": {
    "name": "ipython",
    "version": 3
   },
   "file_extension": ".py",
   "mimetype": "text/x-python",
   "name": "python",
   "nbconvert_exporter": "python",
   "pygments_lexer": "ipython3",
   "version": "3.10.12"
  }
 },
 "nbformat": 4,
 "nbformat_minor": 5
}
