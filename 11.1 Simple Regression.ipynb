{
 "cells": [
  {
   "cell_type": "code",
   "execution_count": 1,
   "id": "c7ddd13a-8b59-43ed-ab0c-8e484e0ea23e",
   "metadata": {},
   "outputs": [],
   "source": [
    "import numpy as np\n",
    "import matplotlib.pyplot as plt"
   ]
  },
  {
   "cell_type": "code",
   "execution_count": 4,
   "id": "310ea635-db8e-49bb-a257-98edea9e9085",
   "metadata": {},
   "outputs": [],
   "source": [
    "# heights of person (in cms)\n",
    "x = np.array([[151],[174],[138],[186],[128],[136],[179],[163],[152],[131]])\n",
    "\n",
    "# weights of person (in kgs)\n",
    "y = np.array([63, 81, 56, 91, 47, 57, 76, 72, 62, 48])"
   ]
  },
  {
   "cell_type": "code",
   "execution_count": 5,
   "id": "d8270c24-746d-4d49-b9aa-669f61f78995",
   "metadata": {},
   "outputs": [
    {
     "data": {
      "text/plain": [
       "<matplotlib.collections.PathCollection at 0x7bae74b773d0>"
      ]
     },
     "execution_count": 5,
     "metadata": {},
     "output_type": "execute_result"
    },
    {
     "data": {
      "image/png": "[encoded data removed]",
      "text/plain": [
       "<Figure size 640x480 with 1 Axes>"
      ]
     },
     "metadata": {},
     "output_type": "display_data"
    }
   ],
   "source": [
    "plt.xlabel('Height')\n",
    "plt.ylabel('Weight')\n",
    "plt.scatter(x, y, color = 'r')"
   ]
  },
  {
   "cell_type": "code",
   "execution_count": 8,
   "id": "1284079d-1fbb-498b-a68f-1411b68aad0f",
   "metadata": {},
   "outputs": [],
   "source": [
    "# import the class\n",
    "from sklearn.linear_model import LinearRegression"
   ]
  },
  {
   "cell_type": "code",
   "execution_count": 9,
   "id": "579adddd-c7f5-4357-8f1f-8e0429fe0bd7",
   "metadata": {},
   "outputs": [],
   "source": [
    "# create the object\n",
    "regressor = LinearRegression()"
   ]
  },
  {
   "cell_type": "code",
   "execution_count": 10,
   "id": "260c87c2-1ff0-4d36-9df2-f5ed11e784ab",
   "metadata": {},
   "outputs": [
    {
     "data": {
      "text/html": [
       "<style>#sk-container-id-1 {color: black;}#sk-container-id-1 pre{padding: 0;}#sk-container-id-1 div.sk-toggleable {background-color: white;}#sk-container-id-1 label.sk-toggleable__label {cursor: pointer;display: block;width: 100%;margin-bottom: 0;padding: 0.3em;box-sizing: border-box;text-align: center;}#sk-container-id-1 label.sk-toggleable__label-arrow:before {content: \"▸\";float: left;margin-right: 0.25em;color: #696969;}#sk-container-id-1 label.sk-toggleable__label-arrow:hover:before {color: black;}#sk-container-id-1 div.sk-estimator:hover label.sk-toggleable__label-arrow:before {color: black;}#sk-container-id-1 div.sk-toggleable__content {max-height: 0;max-width: 0;overflow: hidden;text-align: left;background-color: #f0f8ff;}#sk-container-id-1 div.sk-toggleable__content pre {margin: 0.2em;color: black;border-radius: 0.25em;background-color: #f0f8ff;}#sk-container-id-1 input.sk-toggleable__control:checked~div.sk-toggleable__content {max-height: 200px;max-width: 100%;overflow: auto;}#sk-container-id-1 input.sk-toggleable__control:checked~label.sk-toggleable__label-arrow:before {content: \"▾\";}#sk-container-id-1 div.sk-estimator input.sk-toggleable__control:checked~label.sk-toggleable__label {background-color: #d4ebff;}#sk-container-id-1 div.sk-label input.sk-toggleable__control:checked~label.sk-toggleable__label {background-color: #d4ebff;}#sk-container-id-1 input.sk-hidden--visually {border: 0;clip: rect(1px 1px 1px 1px);clip: rect(1px, 1px, 1px, 1px);height: 1px;margin: -1px;overflow: hidden;padding: 0;position: absolute;width: 1px;}#sk-container-id-1 div.sk-estimator {font-family: monospace;background-color: #f0f8ff;border: 1px dotted black;border-radius: 0.25em;box-sizing: border-box;margin-bottom: 0.5em;}#sk-container-id-1 div.sk-estimator:hover {background-color: #d4ebff;}#sk-container-id-1 div.sk-parallel-item::after {content: \"\";width: 100%;border-bottom: 1px solid gray;flex-grow: 1;}#sk-container-id-1 div.sk-label:hover label.sk-toggleable__label {background-color: #d4ebff;}#sk-container-id-1 div.sk-serial::before {content: \"\";position: absolute;border-left: 1px solid gray;box-sizing: border-box;top: 0;bottom: 0;left: 50%;z-index: 0;}#sk-container-id-1 div.sk-serial {display: flex;flex-direction: column;align-items: center;background-color: white;padding-right: 0.2em;padding-left: 0.2em;position: relative;}#sk-container-id-1 div.sk-item {position: relative;z-index: 1;}#sk-container-id-1 div.sk-parallel {display: flex;align-items: stretch;justify-content: center;background-color: white;position: relative;}#sk-container-id-1 div.sk-item::before, #sk-container-id-1 div.sk-parallel-item::before {content: \"\";position: absolute;border-left: 1px solid gray;box-sizing: border-box;top: 0;bottom: 0;left: 50%;z-index: -1;}#sk-container-id-1 div.sk-parallel-item {display: flex;flex-direction: column;z-index: 1;position: relative;background-color: white;}#sk-container-id-1 div.sk-parallel-item:first-child::after {align-self: flex-end;width: 50%;}#sk-container-id-1 div.sk-parallel-item:last-child::after {align-self: flex-start;width: 50%;}#sk-container-id-1 div.sk-parallel-item:only-child::after {width: 0;}#sk-container-id-1 div.sk-dashed-wrapped {border: 1px dashed gray;margin: 0 0.4em 0.5em 0.4em;box-sizing: border-box;padding-bottom: 0.4em;background-color: white;}#sk-container-id-1 div.sk-label label {font-family: monospace;font-weight: bold;display: inline-block;line-height: 1.2em;}#sk-container-id-1 div.sk-label-container {text-align: center;}#sk-container-id-1 div.sk-container {/* jupyter's `normalize.less` sets `[hidden] { display: none; }` but bootstrap.min.css set `[hidden] { display: none !important; }` so we also need the `!important` here to be able to override the default hidden behavior on the sphinx rendered scikit-learn.org. See: https://github.com/scikit-learn/scikit-learn/issues/21755 */display: inline-block !important;position: relative;}#sk-container-id-1 div.sk-text-repr-fallback {display: none;}</style><div id=\"sk-container-id-1\" class=\"sk-top-container\"><div class=\"sk-text-repr-fallback\"><pre>LinearRegression()</pre><b>In a Jupyter environment, please rerun this cell to show the HTML representation or trust the notebook. <br />On GitHub, the HTML representation is unable to render, please try loading this page with nbviewer.org.</b></div><div class=\"sk-container\" hidden><div class=\"sk-item\"><div class=\"sk-estimator sk-toggleable\"><input class=\"sk-toggleable__control sk-hidden--visually\" id=\"sk-estimator-id-1\" type=\"checkbox\" checked><label for=\"sk-estimator-id-1\" class=\"sk-toggleable__label sk-toggleable__label-arrow\">LinearRegression</label><div class=\"sk-toggleable__content\"><pre>LinearRegression()</pre></div></div></div></div></div>"
      ],
      "text/plain": [
       "LinearRegression()"
      ]
     },
     "execution_count": 10,
     "metadata": {},
     "output_type": "execute_result"
    }
   ],
   "source": [
    "# train the algorithm\n",
    "regressor.fit(x, y)"
   ]
  },
  {
   "cell_type": "code",
   "execution_count": 11,
   "id": "d18b8550-2355-462d-9492-7735bee9d2b7",
   "metadata": {},
   "outputs": [
    {
     "data": {
      "text/plain": [
       "array([0.67461045])"
      ]
     },
     "execution_count": 11,
     "metadata": {},
     "output_type": "execute_result"
    }
   ],
   "source": [
    "# m \n",
    "regressor.coef_"
   ]
  },
  {
   "cell_type": "code",
   "execution_count": 12,
   "id": "d8324de9-7a13-4db9-aa53-75272373292b",
   "metadata": {},
   "outputs": [
    {
     "data": {
      "text/plain": [
       "-38.45508707607699"
      ]
     },
     "execution_count": 12,
     "metadata": {},
     "output_type": "execute_result"
    }
   ],
   "source": [
    "# c\n",
    "regressor.intercept_"
   ]
  },
  {
   "cell_type": "code",
   "execution_count": 13,
   "id": "d2db7f0d-36f1-43a7-afc9-81f01745ca9c",
   "metadata": {},
   "outputs": [
    {
     "data": {
      "text/plain": [
       "array([86.34784601])"
      ]
     },
     "execution_count": 13,
     "metadata": {},
     "output_type": "execute_result"
    }
   ],
   "source": [
    "regressor.predict([[185]])"
   ]
  },
  {
   "cell_type": "code",
   "execution_count": 14,
   "id": "4452cf3c-daf7-43d7-ba83-8f904cd6e680",
   "metadata": {},
   "outputs": [
    {
     "data": {
      "text/plain": [
       "array([72.85563703])"
      ]
     },
     "execution_count": 14,
     "metadata": {},
     "output_type": "execute_result"
    }
   ],
   "source": [
    "regressor.predict([[165]])"
   ]
  },
  {
   "cell_type": "code",
   "execution_count": 15,
   "id": "dc4a5e8e-3b3a-4c5e-af48-582616f070b6",
   "metadata": {},
   "outputs": [
    {
     "data": {
      "text/plain": [
       "array([62.73648029])"
      ]
     },
     "execution_count": 15,
     "metadata": {},
     "output_type": "execute_result"
    }
   ],
   "source": [
    "regressor.predict([[150]])"
   ]
  },
  {
   "cell_type": "markdown",
   "id": "ac0a8692-ba3b-4737-ac6a-b78749fd8a58",
   "metadata": {},
   "source": [
    "##### Calculate value of slope"
   ]
  },
  {
   "cell_type": "code",
   "execution_count": 30,
   "id": "be087fd1-5b8b-41ea-be9e-3c1bdbb5bbe8",
   "metadata": {},
   "outputs": [],
   "source": [
    "num = len(x) * np.sum(x.flatten() * y) - (np.sum(x.flatten()) * np.sum(y))\n",
    "den = len(x) * np.sum(x.flatten() ** 2) - (np.sum(x.flatten()))**2\n",
    "m = num / den"
   ]
  },
  {
   "cell_type": "code",
   "execution_count": 31,
   "id": "0e5d6bb6-23ac-4b6b-a8d9-c93fd65af61f",
   "metadata": {},
   "outputs": [
    {
     "data": {
      "text/plain": [
       "0.6746104491292392"
      ]
     },
     "execution_count": 31,
     "metadata": {},
     "output_type": "execute_result"
    }
   ],
   "source": [
    "m"
   ]
  },
  {
   "cell_type": "code",
   "execution_count": 32,
   "id": "875f5e04-8567-4002-9ce3-f37c34e40c16",
   "metadata": {},
   "outputs": [],
   "source": [
    "# y = mx + c\n",
    "c = y - m * x"
   ]
  },
  {
   "cell_type": "code",
   "execution_count": 36,
   "id": "709a396a-3c93-42d9-a16c-4d0abce5b47a",
   "metadata": {},
   "outputs": [],
   "source": [
    "c = np.mean(c)"
   ]
  },
  {
   "cell_type": "code",
   "execution_count": 38,
   "id": "0d3199f5-e7aa-4ae8-9c94-9e4c52f4e88b",
   "metadata": {},
   "outputs": [
    {
     "data": {
      "text/plain": [
       "74.8794683776352"
      ]
     },
     "execution_count": 38,
     "metadata": {},
     "output_type": "execute_result"
    }
   ],
   "source": [
    "168 * m + c"
   ]
  },
  {
   "cell_type": "code",
   "execution_count": null,
   "id": "56f3ade9-3de9-413d-8996-92df51b1cdcd",
   "metadata": {},
   "outputs": [],
   "source": []
  }
 ],
 "metadata": {
  "kernelspec": {
   "display_name": "Python 3 (ipykernel)",
   "language": "python",
   "name": "python3"
  },
  "language_info": {
   "codemirror_mode": {
    "name": "ipython",
    "version": 3
   },
   "file_extension": ".py",
   "mimetype": "text/x-python",
   "name": "python",
   "nbconvert_exporter": "python",
   "pygments_lexer": "ipython3",
   "version": "3.10.12"
  }
 },
 "nbformat": 4,
 "nbformat_minor": 5
}
