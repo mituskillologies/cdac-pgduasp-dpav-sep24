{
 "cells": [
  {
   "cell_type": "code",
   "execution_count": 1,
   "id": "8a08b24b-d1b5-44bd-8f3d-9244decc855d",
   "metadata": {},
   "outputs": [],
   "source": [
    "import numpy as np"
   ]
  },
  {
   "cell_type": "markdown",
   "id": "d27a1d8e-09ae-4032-9696-9e53e40f16f3",
   "metadata": {},
   "source": [
    "##### LU Decomposition"
   ]
  },
  {
   "cell_type": "code",
   "execution_count": 2,
   "id": "78c5fefb-2448-45ea-ace5-a2f2cad247da",
   "metadata": {},
   "outputs": [],
   "source": [
    "S = np.array([[3,6,4],[8,1,2],[0,5,7]])"
   ]
  },
  {
   "cell_type": "code",
   "execution_count": 3,
   "id": "6a9c4843-593d-4a11-af07-60362ebd987c",
   "metadata": {},
   "outputs": [
    {
     "data": {
      "text/plain": [
       "array([[3, 6, 4],\n",
       "       [8, 1, 2],\n",
       "       [0, 5, 7]])"
      ]
     },
     "execution_count": 3,
     "metadata": {},
     "output_type": "execute_result"
    }
   ],
   "source": [
    "S"
   ]
  },
  {
   "cell_type": "code",
   "execution_count": 5,
   "id": "b2142d3e-7a1f-4576-bf67-37f0de81e4dc",
   "metadata": {},
   "outputs": [],
   "source": [
    "from scipy.linalg import lu"
   ]
  },
  {
   "cell_type": "code",
   "execution_count": 6,
   "id": "5ef87aad-2be7-4667-938c-e2d4013b316f",
   "metadata": {},
   "outputs": [],
   "source": [
    "P, L, U = lu(S)"
   ]
  },
  {
   "cell_type": "code",
   "execution_count": 7,
   "id": "b761b845-8cfa-4dd4-9a04-00ef0b573cec",
   "metadata": {},
   "outputs": [
    {
     "data": {
      "text/plain": [
       "array([[0., 1., 0.],\n",
       "       [1., 0., 0.],\n",
       "       [0., 0., 1.]])"
      ]
     },
     "execution_count": 7,
     "metadata": {},
     "output_type": "execute_result"
    }
   ],
   "source": [
    "P"
   ]
  },
  {
   "cell_type": "code",
   "execution_count": 8,
   "id": "f6b1d424-2f86-4f15-85af-616db3f14cd8",
   "metadata": {},
   "outputs": [
    {
     "data": {
      "text/plain": [
       "array([[1.        , 0.        , 0.        ],\n",
       "       [0.375     , 1.        , 0.        ],\n",
       "       [0.        , 0.88888889, 1.        ]])"
      ]
     },
     "execution_count": 8,
     "metadata": {},
     "output_type": "execute_result"
    }
   ],
   "source": [
    "L"
   ]
  },
  {
   "cell_type": "code",
   "execution_count": 9,
   "id": "fec3b6fd-87d7-4a6c-ab3e-690a65b32ef6",
   "metadata": {},
   "outputs": [
    {
     "data": {
      "text/plain": [
       "array([[8.        , 1.        , 2.        ],\n",
       "       [0.        , 5.625     , 3.25      ],\n",
       "       [0.        , 0.        , 4.11111111]])"
      ]
     },
     "execution_count": 9,
     "metadata": {},
     "output_type": "execute_result"
    }
   ],
   "source": [
    "U"
   ]
  },
  {
   "cell_type": "code",
   "execution_count": 12,
   "id": "b0e0b8c0-964d-4fd1-ab3c-56b8b06affbb",
   "metadata": {},
   "outputs": [
    {
     "data": {
      "text/plain": [
       "(array([[3., 6., 4.],\n",
       "        [8., 1., 2.],\n",
       "        [0., 5., 7.]]),\n",
       " array([[3, 6, 4],\n",
       "        [8, 1, 2],\n",
       "        [0, 5, 7]]))"
      ]
     },
     "execution_count": 12,
     "metadata": {},
     "output_type": "execute_result"
    }
   ],
   "source": [
    "P @ L @ U, S"
   ]
  },
  {
   "cell_type": "markdown",
   "id": "f361f68f-3729-4c42-90d8-681f4c5ced26",
   "metadata": {},
   "source": [
    "##### QR Decomposition"
   ]
  },
  {
   "cell_type": "code",
   "execution_count": 15,
   "id": "cf11a968-218e-4af4-9b05-045fffedeed9",
   "metadata": {},
   "outputs": [],
   "source": [
    "from scipy.linalg import qr"
   ]
  },
  {
   "cell_type": "code",
   "execution_count": 16,
   "id": "4d6a5928-c1de-4217-a154-679a91756a38",
   "metadata": {},
   "outputs": [],
   "source": [
    "A = np.array([[4,2,1,6],[8,0,2,9],[5,7,3,1]])"
   ]
  },
  {
   "cell_type": "code",
   "execution_count": 17,
   "id": "6d3099b3-cf57-4363-95e2-2ca13b8d75e2",
   "metadata": {},
   "outputs": [
    {
     "data": {
      "text/plain": [
       "array([[4, 2, 1, 6],\n",
       "       [8, 0, 2, 9],\n",
       "       [5, 7, 3, 1]])"
      ]
     },
     "execution_count": 17,
     "metadata": {},
     "output_type": "execute_result"
    }
   ],
   "source": [
    "A"
   ]
  },
  {
   "cell_type": "code",
   "execution_count": 18,
   "id": "e473a8fa-bc54-47ce-a7c9-c3173de21348",
   "metadata": {},
   "outputs": [],
   "source": [
    "Q, R = qr(A)"
   ]
  },
  {
   "cell_type": "code",
   "execution_count": 19,
   "id": "64ffd6d4-bcb4-45dc-b4b1-1c4a743d6c02",
   "metadata": {},
   "outputs": [
    {
     "data": {
      "text/plain": [
       "array([[-0.39036003,  0.06083466, -0.9186502 ],\n",
       "       [-0.78072006, -0.55071378,  0.29528042],\n",
       "       [-0.48795004,  0.83247431,  0.26247149]])"
      ]
     },
     "execution_count": 19,
     "metadata": {},
     "output_type": "execute_result"
    }
   ],
   "source": [
    "Q"
   ]
  },
  {
   "cell_type": "code",
   "execution_count": 20,
   "id": "e5d1195a-09ea-490d-90bc-0b9383f888b8",
   "metadata": {},
   "outputs": [
    {
     "data": {
      "text/plain": [
       "array([[-10.24695077,  -4.19637031,  -3.41565026,  -9.85659074],\n",
       "       [  0.        ,   5.94898951,   1.45683005,  -3.7589417 ],\n",
       "       [  0.        ,   0.        ,   0.4593251 ,  -2.59190592]])"
      ]
     },
     "execution_count": 20,
     "metadata": {},
     "output_type": "execute_result"
    }
   ],
   "source": [
    "R"
   ]
  },
  {
   "cell_type": "code",
   "execution_count": 22,
   "id": "6781f0c5-d03f-48ab-96b1-b05d2a7ad61e",
   "metadata": {},
   "outputs": [
    {
     "data": {
      "text/plain": [
       "array([[4.e+00, 2.e+00, 1.e+00, 6.e+00],\n",
       "       [8.e+00, 9.e-16, 2.e+00, 9.e+00],\n",
       "       [5.e+00, 7.e+00, 3.e+00, 1.e+00]])"
      ]
     },
     "execution_count": 22,
     "metadata": {},
     "output_type": "execute_result"
    }
   ],
   "source": [
    "%precision 0\n",
    "Q @ R"
   ]
  },
  {
   "cell_type": "markdown",
   "id": "59bdf3fd-581c-40cb-8681-a18da046e73b",
   "metadata": {},
   "source": [
    "##### Correlation Techniques"
   ]
  },
  {
   "cell_type": "code",
   "execution_count": 25,
   "id": "c5edb3a2-0688-4549-919a-d40786a0312f",
   "metadata": {},
   "outputs": [],
   "source": [
    "x = np.array([4,11,15,21,28,34,39,35,47,55])\n",
    "y = np.array([10,22,31,36,48,51,58,61,69,77])\n",
    "z = np.array([92,83,89,56,61,56,48,41,26,19])"
   ]
  },
  {
   "cell_type": "code",
   "execution_count": 29,
   "id": "3a976b36-8dd8-43d7-b2d7-4234c3fe658e",
   "metadata": {},
   "outputs": [],
   "source": [
    "num = len(x) * (np.sum(x*y)) - (np.sum(x) * np.sum(y))\n",
    "den = np.sqrt((len(x)*np.sum(x**2)-(np.sum(x)**2))*((len(y)*np.sum(y**2)-(np.sum(y)**2))))"
   ]
  },
  {
   "cell_type": "code",
   "execution_count": 32,
   "id": "88709f2c-d125-4117-bcf7-45d141b1bf4b",
   "metadata": {},
   "outputs": [
    {
     "data": {
      "text/plain": [
       "0.988286"
      ]
     },
     "execution_count": 32,
     "metadata": {},
     "output_type": "execute_result"
    }
   ],
   "source": [
    "%precision 6\n",
    "num/den"
   ]
  },
  {
   "cell_type": "code",
   "execution_count": 33,
   "id": "459d9dd2-b85b-49f4-8529-1647471a0a63",
   "metadata": {},
   "outputs": [],
   "source": [
    "num = len(x) * (np.sum(x*z)) - (np.sum(x) * np.sum(z))\n",
    "den = np.sqrt((len(x)*np.sum(x**2)-(np.sum(x)**2))*((len(z)*np.sum(z**2)-(np.sum(z)**2))))"
   ]
  },
  {
   "cell_type": "code",
   "execution_count": 34,
   "id": "7bb71829-de70-40de-9ffa-bfc4aec15462",
   "metadata": {},
   "outputs": [
    {
     "data": {
      "text/plain": [
       "-0.959855"
      ]
     },
     "execution_count": 34,
     "metadata": {},
     "output_type": "execute_result"
    }
   ],
   "source": [
    "num/den"
   ]
  },
  {
   "cell_type": "code",
   "execution_count": 35,
   "id": "778cc226-64c3-4270-8c49-018466323d4f",
   "metadata": {},
   "outputs": [],
   "source": [
    "num = len(y) * (np.sum(y*z)) - (np.sum(y) * np.sum(z))\n",
    "den = np.sqrt((len(y)*np.sum(y**2)-(np.sum(y)**2))*((len(z)*np.sum(z**2)-(np.sum(z)**2))))"
   ]
  },
  {
   "cell_type": "code",
   "execution_count": 36,
   "id": "bd4830a5-d6b0-4ab2-9b24-1b7100e3e75e",
   "metadata": {},
   "outputs": [
    {
     "data": {
      "text/plain": [
       "-0.952646"
      ]
     },
     "execution_count": 36,
     "metadata": {},
     "output_type": "execute_result"
    }
   ],
   "source": [
    "num/den"
   ]
  },
  {
   "cell_type": "code",
   "execution_count": 37,
   "id": "d1d57026-5cd1-4c4a-9b60-96b616e8fd10",
   "metadata": {},
   "outputs": [],
   "source": [
    "p = np.array([56,44,27,65,38,61,23,75,36,58])"
   ]
  },
  {
   "cell_type": "code",
   "execution_count": 38,
   "id": "8119400c-2dc5-42b3-9f53-0fbb0bf91aac",
   "metadata": {},
   "outputs": [],
   "source": [
    "num = len(x) * (np.sum(x*p)) - (np.sum(x) * np.sum(p))\n",
    "den = np.sqrt((len(x)*np.sum(x**2)-(np.sum(x)**2))*((len(p)*np.sum(p**2)-(np.sum(p)**2))))"
   ]
  },
  {
   "cell_type": "code",
   "execution_count": 39,
   "id": "cda13dc6-ff30-439b-8106-c8b8111a43f7",
   "metadata": {},
   "outputs": [
    {
     "data": {
      "text/plain": [
       "0.024336"
      ]
     },
     "execution_count": 39,
     "metadata": {},
     "output_type": "execute_result"
    }
   ],
   "source": [
    "num/den"
   ]
  },
  {
   "cell_type": "code",
   "execution_count": 40,
   "id": "12d4e47b-a5bd-42b3-9334-3454ee3fb4e0",
   "metadata": {},
   "outputs": [],
   "source": [
    "num = len(y) * (np.sum(y*p)) - (np.sum(y) * np.sum(p))\n",
    "den = np.sqrt((len(y)*np.sum(y**2)-(np.sum(y)**2))*((len(p)*np.sum(p**2)-(np.sum(p)**2))))"
   ]
  },
  {
   "cell_type": "code",
   "execution_count": 41,
   "id": "351d7156-53a9-45c7-be83-6d9d2c417369",
   "metadata": {},
   "outputs": [
    {
     "data": {
      "text/plain": [
       "0.041168"
      ]
     },
     "execution_count": 41,
     "metadata": {},
     "output_type": "execute_result"
    }
   ],
   "source": [
    "num/den"
   ]
  },
  {
   "cell_type": "code",
   "execution_count": 42,
   "id": "796aff23-54ea-406c-93d9-a9cb026d4b14",
   "metadata": {},
   "outputs": [],
   "source": [
    "import matplotlib.pyplot as plt"
   ]
  },
  {
   "cell_type": "code",
   "execution_count": 43,
   "id": "98bda81f-ec90-44f2-a020-3de51f9db7db",
   "metadata": {},
   "outputs": [
    {
     "data": {
      "text/plain": [
       "<matplotlib.collections.PathCollection at 0x7386b8220670>"
      ]
     },
     "execution_count": 43,
     "metadata": {},
     "output_type": "execute_result"
    },
    {
     "data": {
      "image/png": "[encoded data removed]",
      "text/plain": [
       "<Figure size 640x480 with 1 Axes>"
      ]
     },
     "metadata": {},
     "output_type": "display_data"
    }
   ],
   "source": [
    "plt.scatter(x, y)"
   ]
  },
  {
   "cell_type": "code",
   "execution_count": 44,
   "id": "4f368747-1eec-4f6b-9b29-959c3f43fdde",
   "metadata": {},
   "outputs": [
    {
     "data": {
      "text/plain": [
       "<matplotlib.collections.PathCollection at 0x7386b81106a0>"
      ]
     },
     "execution_count": 44,
     "metadata": {},
     "output_type": "execute_result"
    },
    {
     "data": {
      "image/png": "[encoded data removed]",
      "text/plain": [
       "<Figure size 640x480 with 1 Axes>"
      ]
     },
     "metadata": {},
     "output_type": "display_data"
    }
   ],
   "source": [
    "plt.scatter(x, z)"
   ]
  },
  {
   "cell_type": "code",
   "execution_count": 45,
   "id": "f637a04e-b9c4-43a4-8f3e-ceb360bc5b32",
   "metadata": {},
   "outputs": [
    {
     "data": {
      "text/plain": [
       "<matplotlib.collections.PathCollection at 0x7386b816e140>"
      ]
     },
     "execution_count": 45,
     "metadata": {},
     "output_type": "execute_result"
    },
    {
     "data": {
      "image/png": "[encoded data removed]",
      "text/plain": [
       "<Figure size 640x480 with 1 Axes>"
      ]
     },
     "metadata": {},
     "output_type": "display_data"
    }
   ],
   "source": [
    "plt.scatter(x, p)"
   ]
  },
  {
   "cell_type": "code",
   "execution_count": 47,
   "id": "542df009-d7b6-4872-97ef-f098f4258c14",
   "metadata": {},
   "outputs": [
    {
     "data": {
      "text/plain": [
       "array([[1.      , 0.988286],\n",
       "       [0.988286, 1.      ]])"
      ]
     },
     "execution_count": 47,
     "metadata": {},
     "output_type": "execute_result"
    }
   ],
   "source": [
    "np.corrcoef(x, y)"
   ]
  },
  {
   "cell_type": "code",
   "execution_count": 48,
   "id": "2588b548-de4e-4371-a5ce-03a6ded62155",
   "metadata": {},
   "outputs": [
    {
     "data": {
      "text/plain": [
       "array([[ 1.      , -0.959855],\n",
       "       [-0.959855,  1.      ]])"
      ]
     },
     "execution_count": 48,
     "metadata": {},
     "output_type": "execute_result"
    }
   ],
   "source": [
    "np.corrcoef(x, z)"
   ]
  },
  {
   "cell_type": "code",
   "execution_count": 49,
   "id": "c3e23f6e-22cc-4f5c-b026-3f2052ea7ca4",
   "metadata": {},
   "outputs": [
    {
     "data": {
      "text/plain": [
       "array([[1.      , 0.024336],\n",
       "       [0.024336, 1.      ]])"
      ]
     },
     "execution_count": 49,
     "metadata": {},
     "output_type": "execute_result"
    }
   ],
   "source": [
    "np.corrcoef(x, p)"
   ]
  },
  {
   "cell_type": "code",
   "execution_count": 50,
   "id": "830128f0-a66d-4d92-9db3-cf79124dbf19",
   "metadata": {},
   "outputs": [
    {
     "data": {
      "text/plain": [
       "array([[ 1.      , -0.952646],\n",
       "       [-0.952646,  1.      ]])"
      ]
     },
     "execution_count": 50,
     "metadata": {},
     "output_type": "execute_result"
    }
   ],
   "source": [
    "np.corrcoef(z, y)"
   ]
  },
  {
   "cell_type": "code",
   "execution_count": 51,
   "id": "9d214d08-bd5d-417b-88c8-2c48ae236db5",
   "metadata": {},
   "outputs": [],
   "source": [
    "from scipy.stats import pearsonr"
   ]
  },
  {
   "cell_type": "code",
   "execution_count": 52,
   "id": "ef2ab7bd-2783-481b-a89a-d6ff2aa794e1",
   "metadata": {},
   "outputs": [
    {
     "data": {
      "text/plain": [
       "PearsonRResult(statistic=0.988286097905464, pvalue=8.12206636368293e-08)"
      ]
     },
     "execution_count": 52,
     "metadata": {},
     "output_type": "execute_result"
    }
   ],
   "source": [
    "pearsonr(x, y)"
   ]
  },
  {
   "cell_type": "code",
   "execution_count": 53,
   "id": "7141e90f-8b91-4174-878d-f3ea6f18c59c",
   "metadata": {},
   "outputs": [
    {
     "data": {
      "text/plain": [
       "PearsonRResult(statistic=-0.9598548032528611, pvalue=1.0825184043341043e-05)"
      ]
     },
     "execution_count": 53,
     "metadata": {},
     "output_type": "execute_result"
    }
   ],
   "source": [
    "pearsonr(x, z)"
   ]
  },
  {
   "cell_type": "code",
   "execution_count": 54,
   "id": "d45edeb6-1494-4b36-a19e-9d3ee7e5074a",
   "metadata": {},
   "outputs": [
    {
     "data": {
      "text/plain": [
       "PearsonRResult(statistic=0.024336195591384058, pvalue=0.9467960896459808)"
      ]
     },
     "execution_count": 54,
     "metadata": {},
     "output_type": "execute_result"
    }
   ],
   "source": [
    "pearsonr(x, p)"
   ]
  },
  {
   "cell_type": "code",
   "execution_count": 55,
   "id": "8621f8f6-bba5-4796-a81b-e8f0e85c290f",
   "metadata": {},
   "outputs": [],
   "source": [
    "a = np.arange(1,11)\n",
    "b = np.arange(10,101,10)"
   ]
  },
  {
   "cell_type": "code",
   "execution_count": 56,
   "id": "030d1a7e-18e1-411a-8189-acaa50fc67b0",
   "metadata": {},
   "outputs": [
    {
     "data": {
      "text/plain": [
       "array([ 1,  2,  3,  4,  5,  6,  7,  8,  9, 10])"
      ]
     },
     "execution_count": 56,
     "metadata": {},
     "output_type": "execute_result"
    }
   ],
   "source": [
    "a"
   ]
  },
  {
   "cell_type": "code",
   "execution_count": 57,
   "id": "d5335763-e221-414f-8851-8e94a76e0be9",
   "metadata": {},
   "outputs": [
    {
     "data": {
      "text/plain": [
       "array([ 10,  20,  30,  40,  50,  60,  70,  80,  90, 100])"
      ]
     },
     "execution_count": 57,
     "metadata": {},
     "output_type": "execute_result"
    }
   ],
   "source": [
    "b"
   ]
  },
  {
   "cell_type": "code",
   "execution_count": 58,
   "id": "50117a8c-d5fd-414e-b0ea-cbf6313b8e11",
   "metadata": {},
   "outputs": [
    {
     "data": {
      "text/plain": [
       "PearsonRResult(statistic=1.0, pvalue=0.0)"
      ]
     },
     "execution_count": 58,
     "metadata": {},
     "output_type": "execute_result"
    }
   ],
   "source": [
    "pearsonr(a, b)"
   ]
  },
  {
   "cell_type": "markdown",
   "id": "61e0a556-696a-46c4-8f25-d8943d915113",
   "metadata": {},
   "source": [
    "##### Variance"
   ]
  },
  {
   "cell_type": "code",
   "execution_count": 60,
   "id": "3b0fe2ef-10e4-4caa-92ab-0c6492c0b46f",
   "metadata": {},
   "outputs": [],
   "source": [
    "num = np.array([67,23,54,17,53,28,55,34,84])"
   ]
  },
  {
   "cell_type": "code",
   "execution_count": 64,
   "id": "8b37dfe4-1499-47f7-a668-0ea961751d32",
   "metadata": {},
   "outputs": [
    {
     "data": {
      "text/plain": [
       "435.209877"
      ]
     },
     "execution_count": 64,
     "metadata": {},
     "output_type": "execute_result"
    }
   ],
   "source": [
    "np.mean((num - num.mean()) ** 2)"
   ]
  },
  {
   "cell_type": "code",
   "execution_count": 65,
   "id": "9d188448-dc0f-4725-9195-94470018fcf9",
   "metadata": {},
   "outputs": [
    {
     "data": {
      "text/plain": [
       "435.209877"
      ]
     },
     "execution_count": 65,
     "metadata": {},
     "output_type": "execute_result"
    }
   ],
   "source": [
    "num.var()"
   ]
  },
  {
   "cell_type": "markdown",
   "id": "e0e6545a-c813-4c4b-b791-3afbbd942063",
   "metadata": {},
   "source": [
    "##### Standard Deviation"
   ]
  },
  {
   "cell_type": "code",
   "execution_count": 67,
   "id": "0d547c4e-ba50-4ea3-9ef9-6627db300242",
   "metadata": {},
   "outputs": [
    {
     "data": {
      "text/plain": [
       "20.861684"
      ]
     },
     "execution_count": 67,
     "metadata": {},
     "output_type": "execute_result"
    }
   ],
   "source": [
    "np.sqrt(np.mean((num - num.mean()) ** 2))"
   ]
  },
  {
   "cell_type": "code",
   "execution_count": 68,
   "id": "6a981e5e-d7aa-4f81-b3be-18efc0ffafb4",
   "metadata": {},
   "outputs": [
    {
     "data": {
      "text/plain": [
       "20.861684"
      ]
     },
     "execution_count": 68,
     "metadata": {},
     "output_type": "execute_result"
    }
   ],
   "source": [
    "num.std()"
   ]
  },
  {
   "cell_type": "code",
   "execution_count": 73,
   "id": "6f930bde-eaf3-4b0c-bc27-d71c2bec398e",
   "metadata": {},
   "outputs": [
    {
     "data": {
      "text/plain": [
       "<matplotlib.collections.PathCollection at 0x7386b52982b0>"
      ]
     },
     "execution_count": 73,
     "metadata": {},
     "output_type": "execute_result"
    },
    {
     "data": {
      "image/png": "[encoded data removed]",
      "text/plain": [
       "<Figure size 640x480 with 1 Axes>"
      ]
     },
     "metadata": {},
     "output_type": "display_data"
    }
   ],
   "source": [
    "plt.scatter(num, range(len(num)))\n",
    "plt.scatter([num.mean()], [4.5])"
   ]
  },
  {
   "cell_type": "markdown",
   "id": "4d3ebe5a-f51f-4599-ad47-e58fb3389026",
   "metadata": {},
   "source": [
    "##### Z-score"
   ]
  },
  {
   "cell_type": "code",
   "execution_count": 75,
   "id": "a59e64cb-5f8e-4045-9e12-5d510ba55470",
   "metadata": {},
   "outputs": [],
   "source": [
    "def zscore(n):\n",
    "    z = (n - n.mean()) / n.std()\n",
    "    return z"
   ]
  },
  {
   "cell_type": "code",
   "execution_count": 76,
   "id": "15aed7bf-f2ef-4433-a067-d863178ae233",
   "metadata": {},
   "outputs": [
    {
     "data": {
      "text/plain": [
       "array([67, 23, 54, 17, 53, 28, 55, 34, 84])"
      ]
     },
     "execution_count": 76,
     "metadata": {},
     "output_type": "execute_result"
    }
   ],
   "source": [
    "num"
   ]
  },
  {
   "cell_type": "code",
   "execution_count": 77,
   "id": "82869ebe-8c37-495c-b1cf-2f9d59887813",
   "metadata": {},
   "outputs": [
    {
     "data": {
      "text/plain": [
       "array([ 1.001304, -1.107826,  0.378152, -1.395434,  0.330217, -0.868152,\n",
       "        0.426087, -0.580543,  1.816195])"
      ]
     },
     "execution_count": 77,
     "metadata": {},
     "output_type": "execute_result"
    }
   ],
   "source": [
    "zscore(num)"
   ]
  },
  {
   "cell_type": "code",
   "execution_count": 78,
   "id": "fc4ef67e-1f76-435a-adfa-d2200dbf8316",
   "metadata": {},
   "outputs": [
    {
     "data": {
      "text/plain": [
       "-0.000000"
      ]
     },
     "execution_count": 78,
     "metadata": {},
     "output_type": "execute_result"
    }
   ],
   "source": [
    "zscore(num).mean()"
   ]
  },
  {
   "cell_type": "code",
   "execution_count": 80,
   "id": "d12c8b90-1146-4c4b-b450-c4a11d4fb4f7",
   "metadata": {},
   "outputs": [],
   "source": [
    "num1 = np.arange(1,11)\n",
    "num2 = np.arange(10,101,10)\n",
    "num3 = np.arange(100,1001,100)"
   ]
  },
  {
   "cell_type": "code",
   "execution_count": 81,
   "id": "02742d2b-8f15-4935-877c-b67e19ccd615",
   "metadata": {},
   "outputs": [
    {
     "data": {
      "text/plain": [
       "array([ 1,  2,  3,  4,  5,  6,  7,  8,  9, 10])"
      ]
     },
     "execution_count": 81,
     "metadata": {},
     "output_type": "execute_result"
    }
   ],
   "source": [
    "num1"
   ]
  },
  {
   "cell_type": "code",
   "execution_count": 82,
   "id": "c9691aef-1135-4981-a95c-474b5d5fb10f",
   "metadata": {},
   "outputs": [
    {
     "data": {
      "text/plain": [
       "array([ 10,  20,  30,  40,  50,  60,  70,  80,  90, 100])"
      ]
     },
     "execution_count": 82,
     "metadata": {},
     "output_type": "execute_result"
    }
   ],
   "source": [
    "num2"
   ]
  },
  {
   "cell_type": "code",
   "execution_count": 83,
   "id": "dc342dfc-eade-4adf-aaf3-f488153117a7",
   "metadata": {},
   "outputs": [
    {
     "data": {
      "text/plain": [
       "array([ 100,  200,  300,  400,  500,  600,  700,  800,  900, 1000])"
      ]
     },
     "execution_count": 83,
     "metadata": {},
     "output_type": "execute_result"
    }
   ],
   "source": [
    "num3"
   ]
  },
  {
   "cell_type": "code",
   "execution_count": 84,
   "id": "514ca7ef-639e-4133-87c3-8ee9c5b28a3b",
   "metadata": {},
   "outputs": [
    {
     "data": {
      "text/plain": [
       "array([-1.566699, -1.218544, -0.870388, -0.522233, -0.174078,  0.174078,\n",
       "        0.522233,  0.870388,  1.218544,  1.566699])"
      ]
     },
     "execution_count": 84,
     "metadata": {},
     "output_type": "execute_result"
    }
   ],
   "source": [
    "zscore(num1)"
   ]
  },
  {
   "cell_type": "code",
   "execution_count": 85,
   "id": "0ca7c932-b061-4155-b5e9-b398ab65da3b",
   "metadata": {},
   "outputs": [
    {
     "data": {
      "text/plain": [
       "array([-1.566699, -1.218544, -0.870388, -0.522233, -0.174078,  0.174078,\n",
       "        0.522233,  0.870388,  1.218544,  1.566699])"
      ]
     },
     "execution_count": 85,
     "metadata": {},
     "output_type": "execute_result"
    }
   ],
   "source": [
    "zscore(num2)"
   ]
  },
  {
   "cell_type": "code",
   "execution_count": 93,
   "id": "fb43e02c-3f5c-4c87-a748-a39d34a31e49",
   "metadata": {},
   "outputs": [
    {
     "data": {
      "text/plain": [
       "1.000000"
      ]
     },
     "execution_count": 93,
     "metadata": {},
     "output_type": "execute_result"
    }
   ],
   "source": [
    "zscore(num3).std()"
   ]
  },
  {
   "cell_type": "code",
   "execution_count": 90,
   "id": "fc081e4d-181a-4a0c-a77e-d9a28863637d",
   "metadata": {},
   "outputs": [
    {
     "data": {
      "text/plain": [
       "<matplotlib.collections.PathCollection at 0x7386b3b513c0>"
      ]
     },
     "execution_count": 90,
     "metadata": {},
     "output_type": "execute_result"
    },
    {
     "data": {
      "image/png": "[encoded data removed]",
      "text/plain": [
       "<Figure size 640x480 with 2 Axes>"
      ]
     },
     "metadata": {},
     "output_type": "display_data"
    }
   ],
   "source": [
    "plt.subplot(1,2,1)\n",
    "plt.scatter(num, range(len(num)))\n",
    "plt.subplot(1,2,2)\n",
    "plt.scatter(zscore(num), range(len(num)))"
   ]
  },
  {
   "cell_type": "code",
   "execution_count": 92,
   "id": "27de2d4d-84e3-4312-b8f7-aa45b667ade4",
   "metadata": {},
   "outputs": [
    {
     "data": {
      "text/plain": [
       "1.000000"
      ]
     },
     "execution_count": 92,
     "metadata": {},
     "output_type": "execute_result"
    }
   ],
   "source": [
    "zscore(num).std()"
   ]
  },
  {
   "cell_type": "code",
   "execution_count": 94,
   "id": "ad73708d-834b-474d-8aa0-ab53b1d3df60",
   "metadata": {},
   "outputs": [],
   "source": [
    "M = np.array([[45,2,23000],[67,4,18000],[52,5,25600],\n",
    "              [49,3,24500],[63,6,21900]], dtype = np.int16)"
   ]
  },
  {
   "cell_type": "code",
   "execution_count": 95,
   "id": "73dcf0de-7507-41d4-9fc2-91b5f503a0d4",
   "metadata": {},
   "outputs": [
    {
     "data": {
      "text/plain": [
       "array([[   45,     2, 23000],\n",
       "       [   67,     4, 18000],\n",
       "       [   52,     5, 25600],\n",
       "       [   49,     3, 24500],\n",
       "       [   63,     6, 21900]], dtype=int16)"
      ]
     },
     "execution_count": 95,
     "metadata": {},
     "output_type": "execute_result"
    }
   ],
   "source": [
    "M"
   ]
  },
  {
   "cell_type": "code",
   "execution_count": 96,
   "id": "9b732686-f7fd-4d4a-a6f8-4c5f271d40c4",
   "metadata": {},
   "outputs": [],
   "source": [
    "from sklearn.preprocessing import StandardScaler"
   ]
  },
  {
   "cell_type": "code",
   "execution_count": 97,
   "id": "ecadbe81-ed12-4461-913d-932c6215a41b",
   "metadata": {},
   "outputs": [],
   "source": [
    "scaler = StandardScaler()"
   ]
  },
  {
   "cell_type": "code",
   "execution_count": 98,
   "id": "48b9e1b5-6484-4c48-9f92-5640f76967d4",
   "metadata": {},
   "outputs": [],
   "source": [
    "M_scaled = scaler.fit_transform(M)"
   ]
  },
  {
   "cell_type": "code",
   "execution_count": 99,
   "id": "5859ca87-d33e-4042-bb42-885fb354c8a1",
   "metadata": {},
   "outputs": [
    {
     "data": {
      "text/plain": [
       "array([[-1.214286, -1.414214,  0.152454],\n",
       "       [ 1.404762,  0.      , -1.753224],\n",
       "       [-0.380952,  0.707107,  1.143407],\n",
       "       [-0.738095, -0.707107,  0.724158],\n",
       "       [ 0.928571,  1.414214, -0.266795]])"
      ]
     },
     "execution_count": 99,
     "metadata": {},
     "output_type": "execute_result"
    }
   ],
   "source": [
    "M_scaled"
   ]
  },
  {
   "cell_type": "code",
   "execution_count": 102,
   "id": "2b362c12-b45d-4b80-b2c6-e1a9b492ad39",
   "metadata": {},
   "outputs": [
    {
     "data": {
      "text/plain": [
       "array([1., 1., 1.])"
      ]
     },
     "execution_count": 102,
     "metadata": {},
     "output_type": "execute_result"
    }
   ],
   "source": [
    "M_scaled.std(axis=0)"
   ]
  },
  {
   "cell_type": "code",
   "execution_count": 103,
   "id": "e33addb2-09aa-44a5-bbae-506f2d96dedb",
   "metadata": {},
   "outputs": [
    {
     "data": {
      "text/plain": [
       "array([-3.330669e-16,  0.000000e+00, -4.440892e-17])"
      ]
     },
     "execution_count": 103,
     "metadata": {},
     "output_type": "execute_result"
    }
   ],
   "source": [
    "M_scaled.mean(axis=0)"
   ]
  },
  {
   "cell_type": "code",
   "execution_count": 104,
   "id": "1075c6fb-bebd-446b-b9f5-9285a27daddd",
   "metadata": {},
   "outputs": [
    {
     "data": {
      "text/plain": [
       "array([[ 0.727066, -1.130336,  0.424901,  0.705773, -0.727405],\n",
       "       [-1.130336,  2.503338, -1.18455 , -1.195105,  1.006654],\n",
       "       [ 0.424901, -1.18455 ,  0.616317,  0.481196, -0.337864],\n",
       "       [ 0.705773, -1.195105,  0.481196,  0.697944, -0.689808],\n",
       "       [-0.727405,  1.006654, -0.337864, -0.689808,  0.748423]])"
      ]
     },
     "execution_count": 104,
     "metadata": {},
     "output_type": "execute_result"
    }
   ],
   "source": [
    "np.cov(M_scaled)"
   ]
  },
  {
   "cell_type": "code",
   "execution_count": 105,
   "id": "ca71d68e-51cb-4bd7-85fe-e21da1982ef9",
   "metadata": {},
   "outputs": [],
   "source": [
    "x = np.array([4,4,4,4,4,4,4,4,4,4,4])"
   ]
  },
  {
   "cell_type": "code",
   "execution_count": 106,
   "id": "07f0640d-1008-4795-b073-f7e0abc2b0e2",
   "metadata": {},
   "outputs": [
    {
     "data": {
      "text/plain": [
       "0.000000"
      ]
     },
     "execution_count": 106,
     "metadata": {},
     "output_type": "execute_result"
    }
   ],
   "source": [
    "x.var()"
   ]
  },
  {
   "cell_type": "markdown",
   "id": "6e34cab0-af1e-426c-8dac-cb18de8db547",
   "metadata": {},
   "source": [
    "##### Principal Component Analysis"
   ]
  },
  {
   "cell_type": "code",
   "execution_count": 108,
   "id": "098c9690-d967-47d3-bbef-6bbfad571b07",
   "metadata": {},
   "outputs": [],
   "source": [
    "M = np.array([[45,2,23000,405],[67,4,18000,410],[52,5,25600,567],\n",
    "              [49,3,24500,398],[63,6,21900,411],[55,8,26800,500],\n",
    "              [51,2,26700,465],[60,7,28000,489]], dtype = np.int16)"
   ]
  },
  {
   "cell_type": "code",
   "execution_count": 109,
   "id": "7e11a00b-aa77-4bbf-a026-894676975492",
   "metadata": {},
   "outputs": [
    {
     "data": {
      "text/plain": [
       "array([[   45,     2, 23000,   405],\n",
       "       [   67,     4, 18000,   410],\n",
       "       [   52,     5, 25600,   567],\n",
       "       [   49,     3, 24500,   398],\n",
       "       [   63,     6, 21900,   411],\n",
       "       [   55,     8, 26800,   500],\n",
       "       [   51,     2, 26700,   465],\n",
       "       [   60,     7, 28000,   489]], dtype=int16)"
      ]
     },
     "execution_count": 109,
     "metadata": {},
     "output_type": "execute_result"
    }
   ],
   "source": [
    "M"
   ]
  },
  {
   "cell_type": "markdown",
   "id": "8f1a35b0-f38d-4a2a-86f1-900dcb1cbd84",
   "metadata": {},
   "source": [
    "##### 1. Standardization"
   ]
  },
  {
   "cell_type": "code",
   "execution_count": 111,
   "id": "83f29a4e-d470-4d8e-bf0c-713f99c68edb",
   "metadata": {},
   "outputs": [],
   "source": [
    "std = np.std(M, axis=0)\n",
    "mean = np.mean(M, axis=0)\n",
    "\n",
    "M_standardized = (M - mean) / std"
   ]
  },
  {
   "cell_type": "code",
   "execution_count": 112,
   "id": "058b1ef2-a8db-45e3-ba2f-c24f419a8422",
   "metadata": {},
   "outputs": [
    {
     "data": {
      "text/plain": [
       "array([[-1.461492, -1.239591, -0.429898, -0.896125],\n",
       "       [ 1.675369, -0.295141, -2.067607, -0.807619],\n",
       "       [-0.4634  ,  0.177084,  0.42171 ,  1.971475],\n",
       "       [-0.891154, -0.767366,  0.061414, -1.020034],\n",
       "       [ 1.105031,  0.649309, -0.790194, -0.789918],\n",
       "       [-0.035646,  1.59376 ,  0.81476 ,  0.785492],\n",
       "       [-0.605985, -1.239591,  0.782006,  0.165949],\n",
       "       [ 0.677277,  1.121535,  1.20781 ,  0.590779]])"
      ]
     },
     "execution_count": 112,
     "metadata": {},
     "output_type": "execute_result"
    }
   ],
   "source": [
    "M_standardized"
   ]
  },
  {
   "cell_type": "code",
   "execution_count": 113,
   "id": "215ed47c-e5a7-4475-929a-965fbf578181",
   "metadata": {},
   "outputs": [
    {
     "data": {
      "text/plain": [
       "array([1., 1., 1., 1.])"
      ]
     },
     "execution_count": 113,
     "metadata": {},
     "output_type": "execute_result"
    }
   ],
   "source": [
    "M_standardized.std(axis=0)"
   ]
  },
  {
   "cell_type": "markdown",
   "id": "e0798bdd-f369-4384-91c5-57f85302f1ae",
   "metadata": {},
   "source": [
    "##### 2. Compute covariance matrix"
   ]
  },
  {
   "cell_type": "code",
   "execution_count": 116,
   "id": "8e68cae5-dd9c-4795-89a5-ac9d6d738463",
   "metadata": {},
   "outputs": [],
   "source": [
    "covariance_matrix = np.cov(M_standardized.T)"
   ]
  },
  {
   "cell_type": "code",
   "execution_count": 117,
   "id": "e6ce51c1-85d1-4ee8-9e96-6b6657098935",
   "metadata": {},
   "outputs": [
    {
     "data": {
      "text/plain": [
       "array([[ 1.142857,  0.584346, -0.520565, -0.092754],\n",
       "       [ 0.584346,  1.142857,  0.334481,  0.525272],\n",
       "       [-0.520565,  0.334481,  1.142857,  0.704475],\n",
       "       [-0.092754,  0.525272,  0.704475,  1.142857]])"
      ]
     },
     "execution_count": 117,
     "metadata": {},
     "output_type": "execute_result"
    }
   ],
   "source": [
    "covariance_matrix"
   ]
  },
  {
   "cell_type": "markdown",
   "id": "a6663b78-9384-4915-8c9a-ed7e1000d124",
   "metadata": {},
   "source": [
    "##### 3. Calculate eigenvector and eigenvalues"
   ]
  },
  {
   "cell_type": "code",
   "execution_count": 119,
   "id": "9707c008-012f-43b8-b19d-4d3918d0f268",
   "metadata": {},
   "outputs": [],
   "source": [
    "eigenvalues, eigenvectors = np.linalg.eig(covariance_matrix)"
   ]
  },
  {
   "cell_type": "code",
   "execution_count": 120,
   "id": "f5a1946f-22fc-49a1-a6ac-56de3cd86f7f",
   "metadata": {},
   "outputs": [
    {
     "data": {
      "text/plain": [
       "array([2.208185, 1.777396, 0.17479 , 0.411057])"
      ]
     },
     "execution_count": 120,
     "metadata": {},
     "output_type": "execute_result"
    }
   ],
   "source": [
    "eigenvalues"
   ]
  },
  {
   "cell_type": "code",
   "execution_count": 121,
   "id": "8b60031c-7942-4dc6-918e-cfd7c131d92d",
   "metadata": {},
   "outputs": [
    {
     "data": {
      "text/plain": [
       "array([[ 0.111852,  0.765685,  0.6231  ,  0.113849],\n",
       "       [-0.44695 ,  0.568497, -0.539574, -0.431169],\n",
       "       [-0.616923, -0.299783,  0.563299, -0.460685],\n",
       "       [-0.638068,  0.025854, -0.057446,  0.767399]])"
      ]
     },
     "execution_count": 121,
     "metadata": {},
     "output_type": "execute_result"
    }
   ],
   "source": [
    "eigenvectors"
   ]
  },
  {
   "cell_type": "markdown",
   "id": "293d0a02-4152-40e3-8faa-44cfb68966de",
   "metadata": {},
   "source": [
    "##### 4. Sort eigenvalues and eigenvectors"
   ]
  },
  {
   "cell_type": "code",
   "execution_count": 123,
   "id": "a5164e0a-8e54-449b-8124-6e9b52e54e93",
   "metadata": {},
   "outputs": [],
   "source": [
    "sorted_index = np.argsort(eigenvalues)[::-1]"
   ]
  },
  {
   "cell_type": "code",
   "execution_count": 124,
   "id": "bcb91bc2-c4a2-4f43-8890-b621d6011a94",
   "metadata": {},
   "outputs": [
    {
     "data": {
      "text/plain": [
       "array([0, 1, 3, 2])"
      ]
     },
     "execution_count": 124,
     "metadata": {},
     "output_type": "execute_result"
    }
   ],
   "source": [
    "sorted_index"
   ]
  },
  {
   "cell_type": "code",
   "execution_count": 125,
   "id": "4c1ca437-2593-4682-ad15-a3fad093d914",
   "metadata": {},
   "outputs": [
    {
     "data": {
      "text/plain": [
       "array([2.208185, 1.777396, 0.411057, 0.17479 ])"
      ]
     },
     "execution_count": 125,
     "metadata": {},
     "output_type": "execute_result"
    }
   ],
   "source": [
    "sorted_eigenvalues = eigenvalues[sorted_index]\n",
    "sorted_eigenvalues"
   ]
  },
  {
   "cell_type": "code",
   "execution_count": 126,
   "id": "e8b9af7d-2a6f-4858-84b3-e65cedd3fc17",
   "metadata": {},
   "outputs": [
    {
     "data": {
      "text/plain": [
       "array([[ 0.111852,  0.765685,  0.113849,  0.6231  ],\n",
       "       [-0.44695 ,  0.568497, -0.431169, -0.539574],\n",
       "       [-0.616923, -0.299783, -0.460685,  0.563299],\n",
       "       [-0.638068,  0.025854,  0.767399, -0.057446]])"
      ]
     },
     "execution_count": 126,
     "metadata": {},
     "output_type": "execute_result"
    }
   ],
   "source": [
    "sorted_eigenvectors = eigenvectors[:, sorted_index]\n",
    "sorted_eigenvectors"
   ]
  },
  {
   "cell_type": "markdown",
   "id": "7599d4f7-65c1-418d-8f3a-2d26a2b3b996",
   "metadata": {},
   "source": [
    "##### 5. Combine feature vectors"
   ]
  },
  {
   "cell_type": "code",
   "execution_count": 130,
   "id": "0d40fbff-870e-4e89-a39e-dee4693c94ec",
   "metadata": {},
   "outputs": [],
   "source": [
    "M_pca = np.dot(M_standardized, sorted_eigenvectors)"
   ]
  },
  {
   "cell_type": "code",
   "execution_count": 131,
   "id": "95d62edf-eb8d-4276-a95e-c524cbc9bd58",
   "metadata": {},
   "outputs": [
    {
     "data": {
      "text/plain": [
       "array([[ 1.227568, -1.718038, -0.121554, -0.432487],\n",
       "       [ 2.110177,  1.713971,  0.650745,  0.084888],\n",
       "       [-1.649078, -0.329597,  1.189521, -0.26    ],\n",
       "       [ 0.85626 , -1.163371, -0.581658, -0.048036],\n",
       "       [ 0.824901,  1.4317  , -0.396306, -0.061543],\n",
       "       [-1.72016 ,  0.654811, -0.4638  , -0.468333],\n",
       "       [-0.10207 , -1.398838,  0.232573,  0.722232],\n",
       "       [-1.547598,  0.809363, -0.509521,  0.46328 ]])"
      ]
     },
     "execution_count": 131,
     "metadata": {},
     "output_type": "execute_result"
    }
   ],
   "source": [
    "M_pca"
   ]
  },
  {
   "cell_type": "code",
   "execution_count": 133,
   "id": "93503ff6-2bb1-4a61-9345-592bc9d3ea9b",
   "metadata": {},
   "outputs": [
    {
     "data": {
      "text/plain": [
       "PearsonRResult(statistic=9.71445146547012e-17, pvalue=1.0)"
      ]
     },
     "execution_count": 133,
     "metadata": {},
     "output_type": "execute_result"
    }
   ],
   "source": [
    "pearsonr(M_pca[:,0], M_pca[:,1])"
   ]
  },
  {
   "cell_type": "code",
   "execution_count": 134,
   "id": "b65d3182-7e13-42e6-a51c-51af5f9e6257",
   "metadata": {},
   "outputs": [
    {
     "data": {
      "text/plain": [
       "PearsonRResult(statistic=-5.551115123125783e-17, pvalue=1.0)"
      ]
     },
     "execution_count": 134,
     "metadata": {},
     "output_type": "execute_result"
    }
   ],
   "source": [
    "pearsonr(M_pca[:,1], M_pca[:,2])"
   ]
  },
  {
   "cell_type": "code",
   "execution_count": 135,
   "id": "a5f7d686-a0fd-402c-8d01-f6013e2f973a",
   "metadata": {},
   "outputs": [
    {
     "data": {
      "text/plain": [
       "PearsonRResult(statistic=3.400058012914542e-16, pvalue=0.9999999999999991)"
      ]
     },
     "execution_count": 135,
     "metadata": {},
     "output_type": "execute_result"
    }
   ],
   "source": [
    "pearsonr(M_pca[:,2], M_pca[:,3])"
   ]
  },
  {
   "cell_type": "code",
   "execution_count": 136,
   "id": "8328bbe6-ec5e-4b5f-85bb-6e1cecef0a3e",
   "metadata": {},
   "outputs": [
    {
     "data": {
      "text/plain": [
       "array([1.932162, 1.555222, 0.359675, 0.152941])"
      ]
     },
     "execution_count": 136,
     "metadata": {},
     "output_type": "execute_result"
    }
   ],
   "source": [
    "M_pca.var(axis=0)"
   ]
  },
  {
   "cell_type": "markdown",
   "id": "74226e4a-6253-49ad-b9b8-624c88c59a59",
   "metadata": {},
   "source": [
    "##### PCA using library "
   ]
  },
  {
   "cell_type": "code",
   "execution_count": 138,
   "id": "5f88b50e-3a15-4b00-90fd-fac53415abcc",
   "metadata": {},
   "outputs": [
    {
     "data": {
      "text/plain": [
       "array([[   45,     2, 23000,   405],\n",
       "       [   67,     4, 18000,   410],\n",
       "       [   52,     5, 25600,   567],\n",
       "       [   49,     3, 24500,   398],\n",
       "       [   63,     6, 21900,   411],\n",
       "       [   55,     8, 26800,   500],\n",
       "       [   51,     2, 26700,   465],\n",
       "       [   60,     7, 28000,   489]], dtype=int16)"
      ]
     },
     "execution_count": 138,
     "metadata": {},
     "output_type": "execute_result"
    }
   ],
   "source": [
    "M"
   ]
  },
  {
   "cell_type": "code",
   "execution_count": 139,
   "id": "a99df688-404d-4365-a09c-849e618bb585",
   "metadata": {},
   "outputs": [],
   "source": [
    "from sklearn.decomposition import PCA"
   ]
  },
  {
   "cell_type": "code",
   "execution_count": 140,
   "id": "ccbeb3d2-16d1-4ca7-9091-7c2dabdd66aa",
   "metadata": {},
   "outputs": [],
   "source": [
    "pca = PCA()"
   ]
  },
  {
   "cell_type": "code",
   "execution_count": 145,
   "id": "94166994-fcac-4316-8230-70fb408470b0",
   "metadata": {},
   "outputs": [],
   "source": [
    "M_pca_new = pca.fit_transform(M_standardized)"
   ]
  },
  {
   "cell_type": "code",
   "execution_count": 146,
   "id": "ac72da0b-165e-4949-9e47-f55148c0a02a",
   "metadata": {},
   "outputs": [
    {
     "data": {
      "text/plain": [
       "array([[ 1.227568,  1.718038, -0.121554, -0.432487],\n",
       "       [ 2.110177, -1.713971,  0.650745,  0.084888],\n",
       "       [-1.649078,  0.329597,  1.189521, -0.26    ],\n",
       "       [ 0.85626 ,  1.163371, -0.581658, -0.048036],\n",
       "       [ 0.824901, -1.4317  , -0.396306, -0.061543],\n",
       "       [-1.72016 , -0.654811, -0.4638  , -0.468333],\n",
       "       [-0.10207 ,  1.398838,  0.232573,  0.722232],\n",
       "       [-1.547598, -0.809363, -0.509521,  0.46328 ]])"
      ]
     },
     "execution_count": 146,
     "metadata": {},
     "output_type": "execute_result"
    }
   ],
   "source": [
    "M_pca_new"
   ]
  },
  {
   "cell_type": "code",
   "execution_count": 147,
   "id": "da07ebb6-40a8-4366-a5a0-0caecdc4941c",
   "metadata": {},
   "outputs": [
    {
     "data": {
      "text/plain": [
       "array([[ 1.227568, -1.718038, -0.121554, -0.432487],\n",
       "       [ 2.110177,  1.713971,  0.650745,  0.084888],\n",
       "       [-1.649078, -0.329597,  1.189521, -0.26    ],\n",
       "       [ 0.85626 , -1.163371, -0.581658, -0.048036],\n",
       "       [ 0.824901,  1.4317  , -0.396306, -0.061543],\n",
       "       [-1.72016 ,  0.654811, -0.4638  , -0.468333],\n",
       "       [-0.10207 , -1.398838,  0.232573,  0.722232],\n",
       "       [-1.547598,  0.809363, -0.509521,  0.46328 ]])"
      ]
     },
     "execution_count": 147,
     "metadata": {},
     "output_type": "execute_result"
    }
   ],
   "source": [
    "M_pca"
   ]
  },
  {
   "cell_type": "code",
   "execution_count": 148,
   "id": "ced939f9-8edb-47bd-9517-b3f880f0ee75",
   "metadata": {},
   "outputs": [],
   "source": [
    "var = pca.explained_variance_ratio_"
   ]
  },
  {
   "cell_type": "code",
   "execution_count": 149,
   "id": "815ad5ff-e1a7-4eda-8a2e-edb96603a310",
   "metadata": {},
   "outputs": [
    {
     "data": {
      "text/plain": [
       "array([0.48304 , 0.388805, 0.089919, 0.038235])"
      ]
     },
     "execution_count": 149,
     "metadata": {},
     "output_type": "execute_result"
    }
   ],
   "source": [
    "var"
   ]
  },
  {
   "cell_type": "code",
   "execution_count": 154,
   "id": "03e3affd-dbe4-4eff-80d9-670cc261aca2",
   "metadata": {},
   "outputs": [
    {
     "data": {
      "text/plain": [
       "[<matplotlib.lines.Line2D at 0x7386b190b820>]"
      ]
     },
     "execution_count": 154,
     "metadata": {},
     "output_type": "execute_result"
    },
    {
     "data": {
      "image/png": "[encoded data removed]",
      "text/plain": [
       "<Figure size 640x480 with 1 Axes>"
      ]
     },
     "metadata": {},
     "output_type": "display_data"
    }
   ],
   "source": [
    "plt.xlabel('Principal Components')\n",
    "plt.ylabel('Variances')\n",
    "plt.grid()\n",
    "plt.bar(range(4), var)\n",
    "plt.plot(range(4), var, color='y', marker = 'o')"
   ]
  },
  {
   "cell_type": "code",
   "execution_count": 155,
   "id": "16223cd9-35d5-4f43-b0ce-5460edde1b77",
   "metadata": {},
   "outputs": [],
   "source": [
    "pca = PCA(n_components=2)"
   ]
  },
  {
   "cell_type": "code",
   "execution_count": 156,
   "id": "f182926b-afa8-466f-9262-5d8ea9969d71",
   "metadata": {},
   "outputs": [],
   "source": [
    "M_pca2 = pca.fit_transform(M_standardized)"
   ]
  },
  {
   "cell_type": "code",
   "execution_count": 157,
   "id": "9577862f-df1e-415b-9781-8b84771c6625",
   "metadata": {},
   "outputs": [
    {
     "data": {
      "text/plain": [
       "array([[ 1.227568,  1.718038],\n",
       "       [ 2.110177, -1.713971],\n",
       "       [-1.649078,  0.329597],\n",
       "       [ 0.85626 ,  1.163371],\n",
       "       [ 0.824901, -1.4317  ],\n",
       "       [-1.72016 , -0.654811],\n",
       "       [-0.10207 ,  1.398838],\n",
       "       [-1.547598, -0.809363]])"
      ]
     },
     "execution_count": 157,
     "metadata": {},
     "output_type": "execute_result"
    }
   ],
   "source": [
    "M_pca2"
   ]
  },
  {
   "cell_type": "code",
   "execution_count": 159,
   "id": "0f4a841c-2f08-44a7-a889-05f9ec871a12",
   "metadata": {},
   "outputs": [
    {
     "data": {
      "text/plain": [
       "<matplotlib.collections.PathCollection at 0x7386b198a6e0>"
      ]
     },
     "execution_count": 159,
     "metadata": {},
     "output_type": "execute_result"
    },
    {
     "data": {
      "image/png": "[encoded data removed]",
      "text/plain": [
       "<Figure size 640x480 with 1 Axes>"
      ]
     },
     "metadata": {},
     "output_type": "display_data"
    }
   ],
   "source": [
    "plt.scatter(M_pca2[:,0], M_pca2[:,1])"
   ]
  },
  {
   "cell_type": "code",
   "execution_count": null,
   "id": "a9bbed14-910b-415c-bbfc-b754a5beb49c",
   "metadata": {},
   "outputs": [],
   "source": []
  }
 ],
 "metadata": {
  "kernelspec": {
   "display_name": "Python 3 (ipykernel)",
   "language": "python",
   "name": "python3"
  },
  "language_info": {
   "codemirror_mode": {
    "name": "ipython",
    "version": 3
   },
   "file_extension": ".py",
   "mimetype": "text/x-python",
   "name": "python",
   "nbconvert_exporter": "python",
   "pygments_lexer": "ipython3",
   "version": "3.10.12"
  }
 },
 "nbformat": 4,
 "nbformat_minor": 5
}
