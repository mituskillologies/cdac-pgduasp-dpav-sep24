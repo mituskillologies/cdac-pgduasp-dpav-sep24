{
 "cells": [
  {
   "cell_type": "code",
   "execution_count": 1,
   "id": "d5ea313b-0529-40ab-aeab-3c4d06eaae2f",
   "metadata": {},
   "outputs": [
    {
     "data": {
      "text/plain": [
       "4294967295"
      ]
     },
     "execution_count": 1,
     "metadata": {},
     "output_type": "execute_result"
    }
   ],
   "source": [
    "2 ** 32 - 1"
   ]
  },
  {
   "cell_type": "code",
   "execution_count": 2,
   "id": "b5c0ba37-7344-441e-a9a8-0853f2a0d440",
   "metadata": {},
   "outputs": [],
   "source": [
    "x = 547363846394356895689517258916598257509710259725972 ** 34"
   ]
  },
  {
   "cell_type": "code",
   "execution_count": 3,
   "id": "fa155f0d-adaf-4f72-9ace-65d624088cb7",
   "metadata": {},
   "outputs": [
    {
     "data": {
      "text/plain": [
       "1262954473563809051281035742404506699260813204041739172130659895190817378292785565667557858931941316508987176452027833634046539269003157218763186693327941654857153954715110954636578197315198665773067180216973840541614356054666166088125135779820348470550002881934609819974199595596238571491260854143424066062634038570453498176889411866640858274255995611132544281830629374163991740788094441248986254995854659526589059977867834017840115440474397157019801516340707124320722645435650248125149691839534143384539092252111790413918032088213742064507215619404741281025721059145962208836410145725299194181893224697336773248903251828066696635332779281599438054257613081322609686358840810410444773484306871542393914445545358727578437996778336500897547558474896565695713090158605098906099903517948324628156110686314579706959114678091382841292852223476764567617834946559009512047934106104350402578184835586039425100897236841266598113412904658060787686135940702433599874036806507877939703343300689711023792680933937572818639174407517519308264070734295079780089281982999101034180715760236112020868440862030383498137178620983467745023079864994605425935931057411313190235971827290097053461040148548748221061656610272945084807975772352832183002659103664771729109479811590351781399541755804536991377288596473324890679736316196970747460915274764253765402621634585828568948922040148881649080111073587120431760558740485259474962354894019275239480334182504750853188164677508427962007967843401613682881321805707634636741231630674980154793874792205311798708890359905045313752695684314658463679089852279316108598586157416553086805903935020624677089082351043794528353868919270119801322968558052389110782818755262423961278970300404461647277830360210079744"
      ]
     },
     "execution_count": 3,
     "metadata": {},
     "output_type": "execute_result"
    }
   ],
   "source": [
    "x"
   ]
  },
  {
   "cell_type": "markdown",
   "id": "adfc03fa-7050-4787-a41f-4948ad8a109b",
   "metadata": {},
   "source": [
    "##### Array creation"
   ]
  },
  {
   "cell_type": "code",
   "execution_count": 4,
   "id": "b292f954-3ddf-4fb5-bcf1-9f5df9d0005a",
   "metadata": {},
   "outputs": [],
   "source": [
    "import numpy as np"
   ]
  },
  {
   "cell_type": "code",
   "execution_count": 5,
   "id": "949bd9f9-aa0d-41cf-b9c7-419fd6f5d646",
   "metadata": {},
   "outputs": [],
   "source": [
    "v1 = np.array([56,33,16,43,27,65,37,86,26,18])"
   ]
  },
  {
   "cell_type": "code",
   "execution_count": 6,
   "id": "d601187d-b2d4-4881-bc21-70ef6511f4d8",
   "metadata": {},
   "outputs": [
    {
     "name": "stdout",
     "output_type": "stream",
     "text": [
      "[56 33 16 43 27 65 37 86 26 18]\n"
     ]
    }
   ],
   "source": [
    "print(v1)"
   ]
  },
  {
   "cell_type": "code",
   "execution_count": 7,
   "id": "eae8a3a1-04ae-46b6-b456-832d3a5bb012",
   "metadata": {},
   "outputs": [
    {
     "data": {
      "text/plain": [
       "array([56, 33, 16, 43, 27, 65, 37, 86, 26, 18])"
      ]
     },
     "execution_count": 7,
     "metadata": {},
     "output_type": "execute_result"
    }
   ],
   "source": [
    "v1"
   ]
  },
  {
   "cell_type": "code",
   "execution_count": 8,
   "id": "58c610b9-d4ac-4a7c-ba29-c355b47fa8f7",
   "metadata": {},
   "outputs": [
    {
     "data": {
      "text/plain": [
       "numpy.ndarray"
      ]
     },
     "execution_count": 8,
     "metadata": {},
     "output_type": "execute_result"
    }
   ],
   "source": [
    "type(v1)"
   ]
  },
  {
   "cell_type": "code",
   "execution_count": 9,
   "id": "66258181-c8a1-4ad8-81a7-de513d90740b",
   "metadata": {},
   "outputs": [
    {
     "data": {
      "text/plain": [
       "dtype('int64')"
      ]
     },
     "execution_count": 9,
     "metadata": {},
     "output_type": "execute_result"
    }
   ],
   "source": [
    "v1.dtype"
   ]
  },
  {
   "cell_type": "code",
   "execution_count": 10,
   "id": "e29fa8f5-f050-4f1c-8610-b931c38c53b1",
   "metadata": {},
   "outputs": [
    {
     "data": {
      "text/plain": [
       "16"
      ]
     },
     "execution_count": 10,
     "metadata": {},
     "output_type": "execute_result"
    }
   ],
   "source": [
    "v1.min()"
   ]
  },
  {
   "cell_type": "code",
   "execution_count": 11,
   "id": "b880612a-46a8-4523-84fd-01d199351ae9",
   "metadata": {},
   "outputs": [
    {
     "data": {
      "text/plain": [
       "1"
      ]
     },
     "execution_count": 11,
     "metadata": {},
     "output_type": "execute_result"
    }
   ],
   "source": [
    "v1.ndim"
   ]
  },
  {
   "cell_type": "code",
   "execution_count": 12,
   "id": "9ca1e5ce-07ee-4e99-909d-f91a831d3b60",
   "metadata": {},
   "outputs": [
    {
     "data": {
      "text/plain": [
       "(10,)"
      ]
     },
     "execution_count": 12,
     "metadata": {},
     "output_type": "execute_result"
    }
   ],
   "source": [
    "v1.shape"
   ]
  },
  {
   "cell_type": "code",
   "execution_count": 13,
   "id": "050c9093-c628-4308-87fb-2859db740f7b",
   "metadata": {},
   "outputs": [
    {
     "data": {
      "text/plain": [
       "10"
      ]
     },
     "execution_count": 13,
     "metadata": {},
     "output_type": "execute_result"
    }
   ],
   "source": [
    "v1.size"
   ]
  },
  {
   "cell_type": "code",
   "execution_count": 14,
   "id": "6e2d728c-9413-4d3c-babf-766ae2021edd",
   "metadata": {},
   "outputs": [],
   "source": [
    "v1 = np.array([56,33,16,43,27,65,37,86,26,18], dtype = np.int8)"
   ]
  },
  {
   "cell_type": "code",
   "execution_count": 15,
   "id": "38942ba3-8f11-4451-908d-74d5b9515394",
   "metadata": {},
   "outputs": [
    {
     "data": {
      "text/plain": [
       "array([56, 33, 16, 43, 27, 65, 37, 86, 26, 18], dtype=int8)"
      ]
     },
     "execution_count": 15,
     "metadata": {},
     "output_type": "execute_result"
    }
   ],
   "source": [
    "v1"
   ]
  },
  {
   "cell_type": "code",
   "execution_count": 16,
   "id": "8968a0e8-a0f8-4a90-a3da-dc7f321fb50e",
   "metadata": {},
   "outputs": [
    {
     "data": {
      "text/plain": [
       "dtype('int8')"
      ]
     },
     "execution_count": 16,
     "metadata": {},
     "output_type": "execute_result"
    }
   ],
   "source": [
    "v1.dtype"
   ]
  },
  {
   "cell_type": "code",
   "execution_count": 17,
   "id": "bcf4b51c-47d4-41c1-a426-3ee8d8c7d452",
   "metadata": {},
   "outputs": [],
   "source": [
    "from sys import getsizeof"
   ]
  },
  {
   "cell_type": "code",
   "execution_count": 18,
   "id": "1978781e-3833-463f-b600-b6b948df4687",
   "metadata": {},
   "outputs": [
    {
     "data": {
      "text/plain": [
       "122"
      ]
     },
     "execution_count": 18,
     "metadata": {},
     "output_type": "execute_result"
    }
   ],
   "source": [
    "getsizeof(v1)"
   ]
  },
  {
   "cell_type": "markdown",
   "id": "d427ab2e-0a65-48b0-afa9-f2463b08416f",
   "metadata": {},
   "source": [
    "##### Array creation routines"
   ]
  },
  {
   "cell_type": "code",
   "execution_count": 19,
   "id": "dc6dbb2a-b60c-45e9-a6d2-bfebf346309d",
   "metadata": {},
   "outputs": [
    {
     "data": {
      "text/plain": [
       "array([0, 1, 2, 3, 4, 5, 6, 7, 8, 9])"
      ]
     },
     "execution_count": 19,
     "metadata": {},
     "output_type": "execute_result"
    }
   ],
   "source": [
    "v2 = np.arange(10)\n",
    "v2"
   ]
  },
  {
   "cell_type": "code",
   "execution_count": 20,
   "id": "ec657a8b-0a15-4682-a887-7c094f94ab78",
   "metadata": {},
   "outputs": [
    {
     "data": {
      "text/plain": [
       "array([4, 5, 6, 7, 8, 9])"
      ]
     },
     "execution_count": 20,
     "metadata": {},
     "output_type": "execute_result"
    }
   ],
   "source": [
    "v2 = np.arange(4, 10)\n",
    "v2"
   ]
  },
  {
   "cell_type": "code",
   "execution_count": 21,
   "id": "c04b2c94-3869-4788-af55-aed4d6a33660",
   "metadata": {},
   "outputs": [
    {
     "data": {
      "text/plain": [
       "array([ 4,  7, 10, 13, 16, 19])"
      ]
     },
     "execution_count": 21,
     "metadata": {},
     "output_type": "execute_result"
    }
   ],
   "source": [
    "v2 = np.arange(4,20,3)\n",
    "v2"
   ]
  },
  {
   "cell_type": "code",
   "execution_count": 22,
   "id": "3e4bc442-f118-4c22-912a-070d827d366b",
   "metadata": {},
   "outputs": [
    {
     "data": {
      "text/plain": [
       "array([10,  9,  8,  7,  6,  5,  4,  3,  2,  1])"
      ]
     },
     "execution_count": 22,
     "metadata": {},
     "output_type": "execute_result"
    }
   ],
   "source": [
    "v2 = np.arange(10,0,-1)\n",
    "v2"
   ]
  },
  {
   "cell_type": "code",
   "execution_count": 23,
   "id": "121ee138-1d57-4384-9f3f-b61a5940dad6",
   "metadata": {},
   "outputs": [
    {
     "data": {
      "text/plain": [
       "array([1.  , 1.25, 1.5 , 1.75, 2.  , 2.25, 2.5 , 2.75, 3.  , 3.25, 3.5 ,\n",
       "       3.75, 4.  , 4.25, 4.5 , 4.75, 5.  , 5.25, 5.5 , 5.75, 6.  , 6.25,\n",
       "       6.5 , 6.75, 7.  , 7.25, 7.5 , 7.75, 8.  , 8.25, 8.5 , 8.75, 9.  ,\n",
       "       9.25, 9.5 , 9.75])"
      ]
     },
     "execution_count": 23,
     "metadata": {},
     "output_type": "execute_result"
    }
   ],
   "source": [
    "v2 = np.arange(1,10,0.25)\n",
    "v2"
   ]
  },
  {
   "cell_type": "code",
   "execution_count": 24,
   "id": "90fe61a3-56ca-4456-902d-5470e85969bd",
   "metadata": {},
   "outputs": [
    {
     "data": {
      "text/plain": [
       "dtype('float64')"
      ]
     },
     "execution_count": 24,
     "metadata": {},
     "output_type": "execute_result"
    }
   ],
   "source": [
    "v2.dtype"
   ]
  },
  {
   "cell_type": "code",
   "execution_count": 25,
   "id": "cb52794e-4dac-4c1b-8649-e7c4b233e06c",
   "metadata": {},
   "outputs": [],
   "source": [
    "v3 = np.array([56, 78, 34.23, 79, 41, 19])"
   ]
  },
  {
   "cell_type": "code",
   "execution_count": 26,
   "id": "88cacf63-42d5-4e38-a316-b02e711c84db",
   "metadata": {},
   "outputs": [
    {
     "data": {
      "text/plain": [
       "dtype('float64')"
      ]
     },
     "execution_count": 26,
     "metadata": {},
     "output_type": "execute_result"
    }
   ],
   "source": [
    "v3.dtype"
   ]
  },
  {
   "cell_type": "code",
   "execution_count": 27,
   "id": "10f8d218-6bd0-42e3-9f67-e8f5175f4cee",
   "metadata": {},
   "outputs": [
    {
     "data": {
      "text/plain": [
       "19.0"
      ]
     },
     "execution_count": 27,
     "metadata": {},
     "output_type": "execute_result"
    }
   ],
   "source": [
    "v3[5]"
   ]
  },
  {
   "cell_type": "code",
   "execution_count": 28,
   "id": "72eee177-a484-4d24-a493-e2b738895240",
   "metadata": {},
   "outputs": [],
   "source": [
    "v4 = np.array([56, 78, 34.23, 79, 41, 19, 'Pune'])"
   ]
  },
  {
   "cell_type": "code",
   "execution_count": 29,
   "id": "d85c1531-7ea3-4232-a72c-0d079d5a5be7",
   "metadata": {},
   "outputs": [
    {
     "data": {
      "text/plain": [
       "array(['56', '78', '34.23', '79', '41', '19', 'Pune'], dtype='<U32')"
      ]
     },
     "execution_count": 29,
     "metadata": {},
     "output_type": "execute_result"
    }
   ],
   "source": [
    "v4"
   ]
  },
  {
   "cell_type": "code",
   "execution_count": 30,
   "id": "cba2dbae-61bd-4815-9ccd-527b3e1aa06b",
   "metadata": {},
   "outputs": [
    {
     "data": {
      "text/plain": [
       "'79'"
      ]
     },
     "execution_count": 30,
     "metadata": {},
     "output_type": "execute_result"
    }
   ],
   "source": [
    "v4[3]"
   ]
  },
  {
   "cell_type": "code",
   "execution_count": 31,
   "id": "94ff35d3-b6d4-4340-89dc-56cd417ceada",
   "metadata": {},
   "outputs": [],
   "source": [
    "v5 = np.array([56, 78, 34.23, 79, 41, 19, True])"
   ]
  },
  {
   "cell_type": "code",
   "execution_count": 32,
   "id": "c8bc69ac-6ee8-4b36-8371-8c10311274d7",
   "metadata": {},
   "outputs": [
    {
     "data": {
      "text/plain": [
       "array([56.  , 78.  , 34.23, 79.  , 41.  , 19.  ,  1.  ])"
      ]
     },
     "execution_count": 32,
     "metadata": {},
     "output_type": "execute_result"
    }
   ],
   "source": [
    "v5"
   ]
  },
  {
   "cell_type": "code",
   "execution_count": 33,
   "id": "f0e368c0-b08b-4411-88f4-7ab550662409",
   "metadata": {},
   "outputs": [
    {
     "data": {
      "text/plain": [
       "dtype('float64')"
      ]
     },
     "execution_count": 33,
     "metadata": {},
     "output_type": "execute_result"
    }
   ],
   "source": [
    "v5.dtype"
   ]
  },
  {
   "cell_type": "code",
   "execution_count": 34,
   "id": "9b899e97-bce0-4d21-ba57-3dd7dee0b34f",
   "metadata": {},
   "outputs": [],
   "source": [
    "z = np.zeros(10)"
   ]
  },
  {
   "cell_type": "code",
   "execution_count": 35,
   "id": "a9686647-109e-4f8c-8469-b4f811731ce2",
   "metadata": {},
   "outputs": [
    {
     "data": {
      "text/plain": [
       "array([0., 0., 0., 0., 0., 0., 0., 0., 0., 0.])"
      ]
     },
     "execution_count": 35,
     "metadata": {},
     "output_type": "execute_result"
    }
   ],
   "source": [
    "z"
   ]
  },
  {
   "cell_type": "code",
   "execution_count": 36,
   "id": "704cba7d-e1ce-4df0-9fb9-1cc05bb35fe9",
   "metadata": {},
   "outputs": [
    {
     "data": {
      "text/plain": [
       "array([0, 0, 0, 0, 0, 0, 0, 0, 0, 0], dtype=int8)"
      ]
     },
     "execution_count": 36,
     "metadata": {},
     "output_type": "execute_result"
    }
   ],
   "source": [
    "z = np.zeros(10, dtype = np.int8)\n",
    "z"
   ]
  },
  {
   "cell_type": "code",
   "execution_count": 37,
   "id": "0784f13a-7ef1-4ca0-bf1c-f0d55dc9972c",
   "metadata": {},
   "outputs": [
    {
     "data": {
      "text/plain": [
       "array([1, 1, 1, 1, 1, 1, 1, 1], dtype=int8)"
      ]
     },
     "execution_count": 37,
     "metadata": {},
     "output_type": "execute_result"
    }
   ],
   "source": [
    "o = np.ones(8, dtype = np.int8)\n",
    "o"
   ]
  },
  {
   "cell_type": "code",
   "execution_count": 38,
   "id": "21617898-d896-4de5-b5ce-9448ff036d04",
   "metadata": {},
   "outputs": [
    {
     "data": {
      "text/plain": [
       "array([ 1.        ,  1.64285714,  2.28571429,  2.92857143,  3.57142857,\n",
       "        4.21428571,  4.85714286,  5.5       ,  6.14285714,  6.78571429,\n",
       "        7.42857143,  8.07142857,  8.71428571,  9.35714286, 10.        ])"
      ]
     },
     "execution_count": 38,
     "metadata": {},
     "output_type": "execute_result"
    }
   ],
   "source": [
    "v7 = np.linspace(1,10,15)\n",
    "v7"
   ]
  },
  {
   "cell_type": "code",
   "execution_count": 39,
   "id": "419658f7-af1f-44ba-b98f-de02ed160858",
   "metadata": {},
   "outputs": [],
   "source": [
    "import matplotlib.pyplot as plt"
   ]
  },
  {
   "cell_type": "code",
   "execution_count": 40,
   "id": "c2ae6e10-8ee7-418e-9d1a-f7007773bbb6",
   "metadata": {},
   "outputs": [
    {
     "data": {
      "text/plain": [
       "[<matplotlib.lines.Line2D at 0x7672aa370220>]"
      ]
     },
     "execution_count": 40,
     "metadata": {},
     "output_type": "execute_result"
    },
    {
     "data": {
      "image/png": "[encoded data removed]",
      "text/plain": [
       "<Figure size 640x480 with 1 Axes>"
      ]
     },
     "metadata": {},
     "output_type": "display_data"
    }
   ],
   "source": [
    "plt.plot(v7, marker = '.')"
   ]
  },
  {
   "cell_type": "code",
   "execution_count": 41,
   "id": "2dde5b85-aa5b-4eee-9129-693903de10a6",
   "metadata": {},
   "outputs": [],
   "source": [
    "v8 = np.array([0,5])\n",
    "v9 = np.array([0,8])"
   ]
  },
  {
   "cell_type": "code",
   "execution_count": 42,
   "id": "4aa59528-7a47-4491-84e3-54af7846d80d",
   "metadata": {},
   "outputs": [
    {
     "data": {
      "text/plain": [
       "[<matplotlib.lines.Line2D at 0x7672a8160820>]"
      ]
     },
     "execution_count": 42,
     "metadata": {},
     "output_type": "execute_result"
    },
    {
     "data": {
      "image/png": "[encoded data removed]",
      "text/plain": [
       "<Figure size 640x480 with 1 Axes>"
      ]
     },
     "metadata": {},
     "output_type": "display_data"
    }
   ],
   "source": [
    "plt.plot(v8)\n",
    "plt.plot(v9)"
   ]
  },
  {
   "cell_type": "code",
   "execution_count": 43,
   "id": "ea11ae5b-3f9b-4fd2-a1e8-337dac2f8886",
   "metadata": {},
   "outputs": [
    {
     "data": {
      "text/plain": [
       "40"
      ]
     },
     "execution_count": 43,
     "metadata": {},
     "output_type": "execute_result"
    }
   ],
   "source": [
    "v8.dot(v9)"
   ]
  },
  {
   "cell_type": "code",
   "execution_count": 44,
   "id": "8f736361-b196-4ee2-9629-1a581e2beecf",
   "metadata": {},
   "outputs": [
    {
     "data": {
      "text/plain": [
       "40"
      ]
     },
     "execution_count": 44,
     "metadata": {},
     "output_type": "execute_result"
    }
   ],
   "source": [
    "np.dot(v8, v9)"
   ]
  },
  {
   "cell_type": "markdown",
   "id": "91fd02a5-4e4c-483e-a057-59783e74ea4e",
   "metadata": {},
   "source": [
    "##### Equal Vectors"
   ]
  },
  {
   "cell_type": "code",
   "execution_count": 45,
   "id": "ffa89a4d-62da-4d52-ad8c-fed5e609b10c",
   "metadata": {},
   "outputs": [],
   "source": [
    "v1 = np.arange(1,11)"
   ]
  },
  {
   "cell_type": "code",
   "execution_count": 46,
   "id": "f65b09ae-7ee1-48bb-a554-098af720d54f",
   "metadata": {},
   "outputs": [],
   "source": [
    "v2 = v1"
   ]
  },
  {
   "cell_type": "code",
   "execution_count": 47,
   "id": "84f052e5-618e-47f2-b95a-d3721ae6402c",
   "metadata": {},
   "outputs": [
    {
     "data": {
      "text/plain": [
       "array([ 1,  2,  3,  4,  5,  6,  7,  8,  9, 10])"
      ]
     },
     "execution_count": 47,
     "metadata": {},
     "output_type": "execute_result"
    }
   ],
   "source": [
    "v1"
   ]
  },
  {
   "cell_type": "code",
   "execution_count": 48,
   "id": "30980893-6165-43ff-9a22-91cebc3f30e1",
   "metadata": {},
   "outputs": [],
   "source": [
    "v2[4] = 4.5"
   ]
  },
  {
   "cell_type": "code",
   "execution_count": 49,
   "id": "93a12d5b-3982-4688-bfe5-030740325289",
   "metadata": {},
   "outputs": [
    {
     "data": {
      "text/plain": [
       "array([ 1,  2,  3,  4,  4,  6,  7,  8,  9, 10])"
      ]
     },
     "execution_count": 49,
     "metadata": {},
     "output_type": "execute_result"
    }
   ],
   "source": [
    "v1"
   ]
  },
  {
   "cell_type": "code",
   "execution_count": 50,
   "id": "166539d2-8c85-4c2e-a10e-16acf9633cc3",
   "metadata": {},
   "outputs": [],
   "source": [
    "v1[5]= 15"
   ]
  },
  {
   "cell_type": "code",
   "execution_count": 51,
   "id": "d6b3f120-ab09-4ac5-997a-2eaff8897adc",
   "metadata": {},
   "outputs": [
    {
     "data": {
      "text/plain": [
       "array([ 1,  2,  3,  4,  4, 15,  7,  8,  9, 10])"
      ]
     },
     "execution_count": 51,
     "metadata": {},
     "output_type": "execute_result"
    }
   ],
   "source": [
    "v2"
   ]
  },
  {
   "cell_type": "code",
   "execution_count": 52,
   "id": "96144cd8-3639-4fa9-863b-148eade151bd",
   "metadata": {},
   "outputs": [
    {
     "data": {
      "text/plain": [
       "130234818558544"
      ]
     },
     "execution_count": 52,
     "metadata": {},
     "output_type": "execute_result"
    }
   ],
   "source": [
    "id(v1)"
   ]
  },
  {
   "cell_type": "code",
   "execution_count": 53,
   "id": "5f130a29-8107-4c8f-a0f7-8b7dea46b81b",
   "metadata": {},
   "outputs": [
    {
     "data": {
      "text/plain": [
       "130234818558544"
      ]
     },
     "execution_count": 53,
     "metadata": {},
     "output_type": "execute_result"
    }
   ],
   "source": [
    "id(v2)"
   ]
  },
  {
   "cell_type": "code",
   "execution_count": 54,
   "id": "28757ede-d177-4e51-ba70-746b5d5ca40a",
   "metadata": {},
   "outputs": [],
   "source": [
    "v1 = np.arange(1,11)"
   ]
  },
  {
   "cell_type": "code",
   "execution_count": 55,
   "id": "258fcaff-838a-4da5-b900-e1617a364952",
   "metadata": {},
   "outputs": [],
   "source": [
    "v2 = v1.copy()"
   ]
  },
  {
   "cell_type": "code",
   "execution_count": 56,
   "id": "76ec6fad-ef27-4eff-b92c-efb7d84a41ea",
   "metadata": {},
   "outputs": [
    {
     "data": {
      "text/plain": [
       "(130234854305936, 130234854309200)"
      ]
     },
     "execution_count": 56,
     "metadata": {},
     "output_type": "execute_result"
    }
   ],
   "source": [
    "id(v1), id(v2)"
   ]
  },
  {
   "cell_type": "code",
   "execution_count": 57,
   "id": "7c767fa2-7a5a-4d73-9bed-2a7f5550a102",
   "metadata": {},
   "outputs": [
    {
     "data": {
      "text/plain": [
       "array([ 1,  2,  3,  4,  5,  6,  7,  8,  9, 10])"
      ]
     },
     "execution_count": 57,
     "metadata": {},
     "output_type": "execute_result"
    }
   ],
   "source": [
    "v1"
   ]
  },
  {
   "cell_type": "code",
   "execution_count": 58,
   "id": "3dff4a5a-4545-4cae-9c9d-e3dc731ff10a",
   "metadata": {},
   "outputs": [
    {
     "data": {
      "text/plain": [
       "array([ 1,  2,  3,  4,  5,  6,  7,  8,  9, 10])"
      ]
     },
     "execution_count": 58,
     "metadata": {},
     "output_type": "execute_result"
    }
   ],
   "source": [
    "v2"
   ]
  },
  {
   "cell_type": "code",
   "execution_count": 59,
   "id": "ca4874ca-3f08-4034-8826-3eb74349b90d",
   "metadata": {},
   "outputs": [
    {
     "data": {
      "text/plain": [
       "array([ True,  True,  True,  True,  True,  True,  True,  True,  True,\n",
       "        True])"
      ]
     },
     "execution_count": 59,
     "metadata": {},
     "output_type": "execute_result"
    }
   ],
   "source": [
    "v1 == v2"
   ]
  },
  {
   "cell_type": "code",
   "execution_count": 60,
   "id": "991dfd6e-5823-4d9a-a7f6-f768adb3ffae",
   "metadata": {},
   "outputs": [],
   "source": [
    "def isEqual(v1, v2):\n",
    "    if sum(v1 == v2) == len(v2):\n",
    "        return True\n",
    "    else:\n",
    "        return False"
   ]
  },
  {
   "cell_type": "code",
   "execution_count": 61,
   "id": "58489826-e4b6-46d8-b8cb-6a66fbbee97a",
   "metadata": {},
   "outputs": [
    {
     "data": {
      "text/plain": [
       "True"
      ]
     },
     "execution_count": 61,
     "metadata": {},
     "output_type": "execute_result"
    }
   ],
   "source": [
    "isEqual(v1, v2)"
   ]
  },
  {
   "cell_type": "code",
   "execution_count": 62,
   "id": "43b53ad8-6f6a-4106-a0df-03724354a386",
   "metadata": {},
   "outputs": [],
   "source": [
    "v1[5] = 9"
   ]
  },
  {
   "cell_type": "code",
   "execution_count": 63,
   "id": "ce3b5417-9ef2-48ce-9a25-869d16c09793",
   "metadata": {},
   "outputs": [
    {
     "data": {
      "text/plain": [
       "False"
      ]
     },
     "execution_count": 63,
     "metadata": {},
     "output_type": "execute_result"
    }
   ],
   "source": [
    "isEqual(v1, v2)"
   ]
  },
  {
   "cell_type": "markdown",
   "id": "565e06ed-60af-45ca-a18b-864a3d2bb30c",
   "metadata": {},
   "source": [
    "##### Negative Vectors"
   ]
  },
  {
   "cell_type": "code",
   "execution_count": 64,
   "id": "3c5baba2-3194-4550-b2cc-0831c1e97cd5",
   "metadata": {},
   "outputs": [],
   "source": [
    "v1 = np.arange(1, 11)"
   ]
  },
  {
   "cell_type": "code",
   "execution_count": 65,
   "id": "8a55bbfc-018b-4d60-901b-0bee0d713ded",
   "metadata": {},
   "outputs": [],
   "source": [
    "v2 = np.arange(10, 0, -1)"
   ]
  },
  {
   "cell_type": "code",
   "execution_count": 66,
   "id": "48f0bed0-9a95-41dc-84a5-f4848569b4af",
   "metadata": {},
   "outputs": [
    {
     "data": {
      "text/plain": [
       "array([ 1,  2,  3,  4,  5,  6,  7,  8,  9, 10])"
      ]
     },
     "execution_count": 66,
     "metadata": {},
     "output_type": "execute_result"
    }
   ],
   "source": [
    "v1"
   ]
  },
  {
   "cell_type": "code",
   "execution_count": 67,
   "id": "7c3f8492-faf5-467b-8bc2-56deb8e82711",
   "metadata": {},
   "outputs": [
    {
     "data": {
      "text/plain": [
       "array([10,  9,  8,  7,  6,  5,  4,  3,  2,  1])"
      ]
     },
     "execution_count": 67,
     "metadata": {},
     "output_type": "execute_result"
    }
   ],
   "source": [
    "v2"
   ]
  },
  {
   "cell_type": "code",
   "execution_count": 68,
   "id": "a7bc7e7f-548c-4d20-84ed-02f8b4797f46",
   "metadata": {},
   "outputs": [],
   "source": [
    "def isNegativeVectors(v1, v2):\n",
    "    v3 = list(v2)\n",
    "    v3.reverse()\n",
    "    if sum(v1 == np.array(v3)) == len(v2):\n",
    "        return True\n",
    "    else:\n",
    "        return False"
   ]
  },
  {
   "cell_type": "code",
   "execution_count": 69,
   "id": "7588fab0-43a6-4f87-8793-3ada3b524237",
   "metadata": {},
   "outputs": [
    {
     "data": {
      "text/plain": [
       "True"
      ]
     },
     "execution_count": 69,
     "metadata": {},
     "output_type": "execute_result"
    }
   ],
   "source": [
    "isNegativeVectors(v1, v2)"
   ]
  },
  {
   "cell_type": "markdown",
   "id": "05b88859-ffc4-42b7-a3b6-a5dbeba42b1c",
   "metadata": {},
   "source": [
    "##### Parallel Vectors"
   ]
  },
  {
   "cell_type": "code",
   "execution_count": 72,
   "id": "d4439c91-ee29-4352-8205-3029549e2094",
   "metadata": {},
   "outputs": [],
   "source": [
    "v1 = np.arange(1,11)\n",
    "v2 = np.arange(2,12)"
   ]
  },
  {
   "cell_type": "code",
   "execution_count": 74,
   "id": "367d8ba4-282c-4bef-a2f5-a66addef109d",
   "metadata": {},
   "outputs": [
    {
     "data": {
      "text/plain": [
       "[<matplotlib.lines.Line2D at 0x7672a803aef0>]"
      ]
     },
     "execution_count": 74,
     "metadata": {},
     "output_type": "execute_result"
    },
    {
     "data": {
      "image/png": "[encoded data removed]",
      "text/plain": [
       "<Figure size 640x480 with 1 Axes>"
      ]
     },
     "metadata": {},
     "output_type": "display_data"
    }
   ],
   "source": [
    "plt.plot(v1)\n",
    "plt.plot(v2)"
   ]
  },
  {
   "cell_type": "markdown",
   "id": "70ab2485-f32c-4880-9073-658d24d19d45",
   "metadata": {},
   "source": [
    "##### Orthogonal Vectors"
   ]
  },
  {
   "cell_type": "code",
   "execution_count": 78,
   "id": "511ee285-03e9-4306-a24b-6a2ebb3f2193",
   "metadata": {},
   "outputs": [],
   "source": [
    "v1 = np.arange(1,11)\n",
    "v2 = np.arange(10,0,-1)"
   ]
  },
  {
   "cell_type": "code",
   "execution_count": 81,
   "id": "26648b24-f957-43c8-a2ce-39041681b6a7",
   "metadata": {},
   "outputs": [
    {
     "data": {
      "text/plain": [
       "[<matplotlib.lines.Line2D at 0x76729c473970>]"
      ]
     },
     "execution_count": 81,
     "metadata": {},
     "output_type": "execute_result"
    },
    {
     "data": {
      "image/png": "[encoded data removed]",
      "text/plain": [
       "<Figure size 500x500 with 1 Axes>"
      ]
     },
     "metadata": {},
     "output_type": "display_data"
    }
   ],
   "source": [
    "plt.figure(figsize=(5,5))\n",
    "plt.plot(v1)\n",
    "plt.plot(v2)"
   ]
  },
  {
   "cell_type": "code",
   "execution_count": 82,
   "id": "01788035-d77b-416a-a0ce-359a2e3c801f",
   "metadata": {},
   "outputs": [],
   "source": [
    "x = np.array([0,10])\n",
    "y = np.array([10,0])"
   ]
  },
  {
   "cell_type": "code",
   "execution_count": 85,
   "id": "a0c59de7-279f-4bb7-9e56-fd7a8e4db6a6",
   "metadata": {},
   "outputs": [
    {
     "data": {
      "text/plain": [
       "[<matplotlib.lines.Line2D at 0x76729d396470>]"
      ]
     },
     "execution_count": 85,
     "metadata": {},
     "output_type": "execute_result"
    },
    {
     "data": {
      "image/png": "[encoded data removed]",
      "text/plain": [
       "<Figure size 500x500 with 1 Axes>"
      ]
     },
     "metadata": {},
     "output_type": "display_data"
    }
   ],
   "source": [
    "plt.figure(figsize=(5,5))\n",
    "plt.plot(x)\n",
    "plt.plot(y)"
   ]
  },
  {
   "cell_type": "code",
   "execution_count": 86,
   "id": "1301d814-dc65-4f8b-aec3-74ec1b3d1ad8",
   "metadata": {},
   "outputs": [
    {
     "data": {
      "text/plain": [
       "0"
      ]
     },
     "execution_count": 86,
     "metadata": {},
     "output_type": "execute_result"
    }
   ],
   "source": [
    "x.dot(y)"
   ]
  },
  {
   "cell_type": "markdown",
   "id": "adbc3784-5d80-43ae-b713-203b05ace3c1",
   "metadata": {},
   "source": [
    "##### Co-initial Vectors"
   ]
  },
  {
   "cell_type": "code",
   "execution_count": 88,
   "id": "b2cf9307-0523-4c87-9534-19c9f5f2c0a4",
   "metadata": {},
   "outputs": [],
   "source": [
    "v3 = np.arange(1,11)\n",
    "v4 = np.arange(1,21,2)"
   ]
  },
  {
   "cell_type": "code",
   "execution_count": 89,
   "id": "30099822-988f-4cf2-90a9-413d6f44f7a8",
   "metadata": {},
   "outputs": [
    {
     "data": {
      "text/plain": [
       "[<matplotlib.lines.Line2D at 0x76729c5c29b0>]"
      ]
     },
     "execution_count": 89,
     "metadata": {},
     "output_type": "execute_result"
    },
    {
     "data": {
      "image/png": "[encoded data removed]",
      "text/plain": [
       "<Figure size 640x480 with 1 Axes>"
      ]
     },
     "metadata": {},
     "output_type": "display_data"
    }
   ],
   "source": [
    "plt.plot(v3)\n",
    "plt.plot(v4)"
   ]
  },
  {
   "cell_type": "markdown",
   "id": "a01f2e1f-ea31-4723-8531-a973cdd284c5",
   "metadata": {},
   "source": [
    "#### Vector Operations"
   ]
  },
  {
   "cell_type": "code",
   "execution_count": 91,
   "id": "cedd410b-6c01-40a6-9a3e-6da83248275f",
   "metadata": {},
   "outputs": [],
   "source": [
    "v1 = np.array([34,11,24,64,67,38,22,42,16])"
   ]
  },
  {
   "cell_type": "code",
   "execution_count": 92,
   "id": "ce888530-9b9a-4bc2-8f3d-bbf0fe94d747",
   "metadata": {},
   "outputs": [],
   "source": [
    "x = [34,11,24,64,67,38,22,42,16]"
   ]
  },
  {
   "cell_type": "code",
   "execution_count": 93,
   "id": "678371d0-0a4b-45e6-bf04-390c2ae87d8f",
   "metadata": {},
   "outputs": [
    {
     "data": {
      "text/plain": [
       "[34, 11, 24, 64, 67, 38, 22, 42, 16, 34, 11, 24, 64, 67, 38, 22, 42, 16]"
      ]
     },
     "execution_count": 93,
     "metadata": {},
     "output_type": "execute_result"
    }
   ],
   "source": [
    "x * 2"
   ]
  },
  {
   "cell_type": "code",
   "execution_count": 94,
   "id": "b1ca091d-239b-44a3-97e9-101b8898c82d",
   "metadata": {},
   "outputs": [
    {
     "data": {
      "text/plain": [
       "array([ 68,  22,  48, 128, 134,  76,  44,  84,  32])"
      ]
     },
     "execution_count": 94,
     "metadata": {},
     "output_type": "execute_result"
    }
   ],
   "source": [
    "v1 * 2"
   ]
  },
  {
   "cell_type": "code",
   "execution_count": 95,
   "id": "2aaec579-2208-4add-bab0-2598f2c3cae2",
   "metadata": {},
   "outputs": [],
   "source": [
    "v1 = np.arange(1,11)\n",
    "v2 = v1 * 2"
   ]
  },
  {
   "cell_type": "code",
   "execution_count": 96,
   "id": "d0b49d35-89c5-4855-8fd7-03765c3e875b",
   "metadata": {},
   "outputs": [
    {
     "data": {
      "text/plain": [
       "[<matplotlib.lines.Line2D at 0x76729c17e3b0>]"
      ]
     },
     "execution_count": 96,
     "metadata": {},
     "output_type": "execute_result"
    },
    {
     "data": {
      "image/png": "[encoded data removed]",
      "text/plain": [
       "<Figure size 640x480 with 1 Axes>"
      ]
     },
     "metadata": {},
     "output_type": "display_data"
    }
   ],
   "source": [
    "plt.plot(v1)\n",
    "plt.plot(v2)"
   ]
  },
  {
   "cell_type": "code",
   "execution_count": 97,
   "id": "cf5d6a81-f83a-4b00-b8a2-879b698dcd06",
   "metadata": {},
   "outputs": [],
   "source": [
    "v3 = v1 + 2"
   ]
  },
  {
   "cell_type": "code",
   "execution_count": 98,
   "id": "3bc05e1f-4d77-4784-9d3d-1eb16cf42b75",
   "metadata": {},
   "outputs": [
    {
     "data": {
      "text/plain": [
       "array([ 3,  4,  5,  6,  7,  8,  9, 10, 11, 12])"
      ]
     },
     "execution_count": 98,
     "metadata": {},
     "output_type": "execute_result"
    }
   ],
   "source": [
    "v3"
   ]
  },
  {
   "cell_type": "code",
   "execution_count": 99,
   "id": "e3abaf65-fb0c-45c2-a122-2c7641bc5426",
   "metadata": {},
   "outputs": [
    {
     "data": {
      "text/plain": [
       "[<matplotlib.lines.Line2D at 0x76729c01c670>]"
      ]
     },
     "execution_count": 99,
     "metadata": {},
     "output_type": "execute_result"
    },
    {
     "data": {
      "image/png": "[encoded data removed]",
      "text/plain": [
       "<Figure size 640x480 with 1 Axes>"
      ]
     },
     "metadata": {},
     "output_type": "display_data"
    }
   ],
   "source": [
    "plt.plot(v1)\n",
    "plt.plot(v3)"
   ]
  },
  {
   "cell_type": "code",
   "execution_count": 100,
   "id": "047c33f1-d4ea-4cb0-87b3-022c082a6cc4",
   "metadata": {},
   "outputs": [],
   "source": [
    "v4 = v1 + 3\n",
    "v5 = v1 + 4"
   ]
  },
  {
   "cell_type": "code",
   "execution_count": 101,
   "id": "6182e243-6411-4b27-9028-8fb58290bb5e",
   "metadata": {},
   "outputs": [
    {
     "data": {
      "text/plain": [
       "[<matplotlib.lines.Line2D at 0x76729c0d1480>]"
      ]
     },
     "execution_count": 101,
     "metadata": {},
     "output_type": "execute_result"
    },
    {
     "data": {
      "image/png": "[encoded data removed]",
      "text/plain": [
       "<Figure size 640x480 with 1 Axes>"
      ]
     },
     "metadata": {},
     "output_type": "display_data"
    }
   ],
   "source": [
    "plt.plot(v1)\n",
    "plt.plot(v3)\n",
    "plt.plot(v4)\n",
    "plt.plot(v5)"
   ]
  },
  {
   "cell_type": "code",
   "execution_count": 102,
   "id": "0dcd5be4-dfeb-439b-af90-62c580421267",
   "metadata": {},
   "outputs": [
    {
     "data": {
      "text/plain": [
       "array([ 1,  2,  3,  4,  5,  6,  7,  8,  9, 10])"
      ]
     },
     "execution_count": 102,
     "metadata": {},
     "output_type": "execute_result"
    }
   ],
   "source": [
    "v1"
   ]
  },
  {
   "cell_type": "code",
   "execution_count": 103,
   "id": "260c7790-b024-46ed-9522-1939c4d4000e",
   "metadata": {},
   "outputs": [],
   "source": [
    "v1 = np.array([34,11,24,64,67,38,22,42,16])"
   ]
  },
  {
   "cell_type": "code",
   "execution_count": 104,
   "id": "467e7d6e-1091-43fe-83b6-c60d1678ff1f",
   "metadata": {},
   "outputs": [
    {
     "data": {
      "text/plain": [
       "array([ True, False, False,  True,  True,  True, False,  True, False])"
      ]
     },
     "execution_count": 104,
     "metadata": {},
     "output_type": "execute_result"
    }
   ],
   "source": [
    "v1 > 30"
   ]
  },
  {
   "cell_type": "code",
   "execution_count": 105,
   "id": "b0981b82-d450-465b-8001-017812e9bdf6",
   "metadata": {},
   "outputs": [
    {
     "data": {
      "text/plain": [
       "array([34, 64, 67, 38, 42])"
      ]
     },
     "execution_count": 105,
     "metadata": {},
     "output_type": "execute_result"
    }
   ],
   "source": [
    "v1[v1 > 30]"
   ]
  },
  {
   "cell_type": "code",
   "execution_count": 106,
   "id": "3d735a57-eae3-4091-b99c-273197050245",
   "metadata": {},
   "outputs": [
    {
     "data": {
      "text/plain": [
       "array([11, 67])"
      ]
     },
     "execution_count": 106,
     "metadata": {},
     "output_type": "execute_result"
    }
   ],
   "source": [
    "v1[v1 % 2 == 1]"
   ]
  },
  {
   "cell_type": "code",
   "execution_count": 107,
   "id": "93cd8be7-089c-49c5-96e2-0a31f2d00c5e",
   "metadata": {},
   "outputs": [
    {
     "data": {
      "text/plain": [
       "2"
      ]
     },
     "execution_count": 107,
     "metadata": {},
     "output_type": "execute_result"
    }
   ],
   "source": [
    "len(v1[v1 % 2 == 1])"
   ]
  },
  {
   "cell_type": "code",
   "execution_count": 108,
   "id": "eb9d2bec-5ecf-4519-a95f-6534271e96fe",
   "metadata": {},
   "outputs": [
    {
     "data": {
      "text/plain": [
       "array([34, 11, 24, 64, 67, 38, 22, 42, 16])"
      ]
     },
     "execution_count": 108,
     "metadata": {},
     "output_type": "execute_result"
    }
   ],
   "source": [
    "v1"
   ]
  },
  {
   "cell_type": "code",
   "execution_count": 109,
   "id": "0949b97d-9e97-4d58-b12e-a3119febcaad",
   "metadata": {},
   "outputs": [],
   "source": [
    "v2 = np.array([45,11,32,56,76,25,17,47,84])"
   ]
  },
  {
   "cell_type": "code",
   "execution_count": 110,
   "id": "d099dc6d-3cb0-4b1c-9693-fa270a4081f9",
   "metadata": {},
   "outputs": [
    {
     "data": {
      "text/plain": [
       "array([ 79,  22,  56, 120, 143,  63,  39,  89, 100])"
      ]
     },
     "execution_count": 110,
     "metadata": {},
     "output_type": "execute_result"
    }
   ],
   "source": [
    "v1 + v2"
   ]
  },
  {
   "cell_type": "code",
   "execution_count": 111,
   "id": "cd089bdf-13cc-46fd-abb2-24e8859cd68b",
   "metadata": {},
   "outputs": [],
   "source": [
    "v3 = np.arange(1,11)\n",
    "v4 = np.arange(1,21,2)"
   ]
  },
  {
   "cell_type": "code",
   "execution_count": 112,
   "id": "261ca1ef-4c81-4816-8ea9-4a7f6b6cf97d",
   "metadata": {},
   "outputs": [],
   "source": [
    "v5 = v3 + v4"
   ]
  },
  {
   "cell_type": "code",
   "execution_count": 113,
   "id": "efc6a907-b017-4695-9c3d-911e9157df56",
   "metadata": {},
   "outputs": [
    {
     "data": {
      "text/plain": [
       "[<matplotlib.lines.Line2D at 0x767291f57790>]"
      ]
     },
     "execution_count": 113,
     "metadata": {},
     "output_type": "execute_result"
    },
    {
     "data": {
      "image/png": "[encoded data removed]",
      "text/plain": [
       "<Figure size 640x480 with 1 Axes>"
      ]
     },
     "metadata": {},
     "output_type": "display_data"
    }
   ],
   "source": [
    "plt.plot(v3)\n",
    "plt.plot(v4)\n",
    "plt.plot(v5)"
   ]
  },
  {
   "cell_type": "code",
   "execution_count": 114,
   "id": "eb6f30db-6347-453d-93a7-d3a13d11295e",
   "metadata": {},
   "outputs": [
    {
     "data": {
      "text/plain": [
       "array([-11,   0,  -8,   8,  -9,  13,   5,  -5, -68])"
      ]
     },
     "execution_count": 114,
     "metadata": {},
     "output_type": "execute_result"
    }
   ],
   "source": [
    "v1 - v2"
   ]
  },
  {
   "cell_type": "code",
   "execution_count": 115,
   "id": "d13d27d8-8459-43d3-b30b-fb2c84cce84d",
   "metadata": {},
   "outputs": [
    {
     "data": {
      "text/plain": [
       "array([1530,  121,  768, 3584, 5092,  950,  374, 1974, 1344])"
      ]
     },
     "execution_count": 115,
     "metadata": {},
     "output_type": "execute_result"
    }
   ],
   "source": [
    "v1 * v2"
   ]
  },
  {
   "cell_type": "code",
   "execution_count": 116,
   "id": "db0ff9ca-062c-463b-85cb-ce8e1e93914b",
   "metadata": {},
   "outputs": [
    {
     "data": {
      "text/plain": [
       "array([0.75555556, 1.        , 0.75      , 1.14285714, 0.88157895,\n",
       "       1.52      , 1.29411765, 0.89361702, 0.19047619])"
      ]
     },
     "execution_count": 116,
     "metadata": {},
     "output_type": "execute_result"
    }
   ],
   "source": [
    "v1 / v2"
   ]
  },
  {
   "cell_type": "code",
   "execution_count": 117,
   "id": "25e5f9ca-4101-4b27-af66-292bebcf27a1",
   "metadata": {},
   "outputs": [
    {
     "data": {
      "text/plain": [
       "array([False, False, False,  True, False,  True,  True, False, False])"
      ]
     },
     "execution_count": 117,
     "metadata": {},
     "output_type": "execute_result"
    }
   ],
   "source": [
    "v1 > v2"
   ]
  },
  {
   "cell_type": "markdown",
   "id": "9541732c-ff6b-46ec-8e6d-eb2541a9f069",
   "metadata": {},
   "source": [
    "##### Cosine Similiarity"
   ]
  },
  {
   "cell_type": "code",
   "execution_count": 138,
   "id": "04c0791c-eb71-48ef-9386-fbc983115918",
   "metadata": {},
   "outputs": [],
   "source": [
    "v1 = np.array([1,2,3,4,5])\n",
    "v2 = np.array([8,9,2,1,0])"
   ]
  },
  {
   "cell_type": "code",
   "execution_count": 139,
   "id": "59e7953e-92fa-479f-b43b-14ce46f3d1f2",
   "metadata": {},
   "outputs": [],
   "source": [
    "cos_sim = np.dot(v1, v2) / (np.linalg.norm(v1) * np.linalg.norm(v2))"
   ]
  },
  {
   "cell_type": "code",
   "execution_count": 140,
   "id": "15bc97ef-72ed-49a2-b7b4-91a02b280643",
   "metadata": {},
   "outputs": [
    {
     "data": {
      "text/plain": [
       "0.39634695544548987"
      ]
     },
     "execution_count": 140,
     "metadata": {},
     "output_type": "execute_result"
    }
   ],
   "source": [
    "cos_sim"
   ]
  },
  {
   "cell_type": "code",
   "execution_count": 141,
   "id": "7718a662-f29e-4457-8796-230c563572e6",
   "metadata": {},
   "outputs": [
    {
     "data": {
      "text/plain": [
       "0.9953580081169136"
      ]
     },
     "execution_count": 141,
     "metadata": {},
     "output_type": "execute_result"
    }
   ],
   "source": [
    "v2 = np.array([1,2,4,6,7])\n",
    "cos_sim = np.dot(v1, v2) / (np.linalg.norm(v1) * np.linalg.norm(v2))\n",
    "cos_sim"
   ]
  },
  {
   "cell_type": "code",
   "execution_count": 142,
   "id": "0dab5433-3657-4cde-b708-80994b24025f",
   "metadata": {},
   "outputs": [
    {
     "data": {
      "text/plain": [
       "-0.9847319278346618"
      ]
     },
     "execution_count": 142,
     "metadata": {},
     "output_type": "execute_result"
    }
   ],
   "source": [
    "v2 = np.array([0,-1,-2,-3,-4])\n",
    "cos_sim = np.dot(v1, v2) / (np.linalg.norm(v1) * np.linalg.norm(v2))\n",
    "cos_sim"
   ]
  },
  {
   "cell_type": "code",
   "execution_count": 143,
   "id": "812a5540-ef76-4306-87ab-9912a34eb2c1",
   "metadata": {},
   "outputs": [
    {
     "data": {
      "text/plain": [
       "0.0"
      ]
     },
     "execution_count": 143,
     "metadata": {},
     "output_type": "execute_result"
    }
   ],
   "source": [
    "v1 = np.array([0,1])\n",
    "v2 = np.array([1,0])\n",
    "cos_sim = np.dot(v1, v2) / (np.linalg.norm(v1) * np.linalg.norm(v2))\n",
    "cos_sim"
   ]
  },
  {
   "cell_type": "code",
   "execution_count": 144,
   "id": "e61897e7-4f39-4697-b4f6-95b9cfa05e67",
   "metadata": {},
   "outputs": [
    {
     "data": {
      "text/plain": [
       "1.0"
      ]
     },
     "execution_count": 144,
     "metadata": {},
     "output_type": "execute_result"
    }
   ],
   "source": [
    "v1 = np.array([1,2,3,4,5])\n",
    "v2 = np.array([1,2,3,4,5])\n",
    "cos_sim = np.dot(v1, v2) / (np.linalg.norm(v1) * np.linalg.norm(v2))\n",
    "cos_sim"
   ]
  },
  {
   "cell_type": "code",
   "execution_count": null,
   "id": "11e4c35f-5e22-49c7-a9e9-332d4226fc39",
   "metadata": {},
   "outputs": [],
   "source": []
  }
 ],
 "metadata": {
  "kernelspec": {
   "display_name": "Python 3 (ipykernel)",
   "language": "python",
   "name": "python3"
  },
  "language_info": {
   "codemirror_mode": {
    "name": "ipython",
    "version": 3
   },
   "file_extension": ".py",
   "mimetype": "text/x-python",
   "name": "python",
   "nbconvert_exporter": "python",
   "pygments_lexer": "ipython3",
   "version": "3.10.12"
  }
 },
 "nbformat": 4,
 "nbformat_minor": 5
}
