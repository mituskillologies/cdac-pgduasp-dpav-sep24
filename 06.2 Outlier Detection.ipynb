{
 "cells": [
  {
   "cell_type": "code",
   "execution_count": 1,
   "id": "693c7df9-4a96-41e8-9ede-50a0d980272e",
   "metadata": {},
   "outputs": [],
   "source": [
    "import numpy as np\n",
    "import pandas as pd\n",
    "import matplotlib.pyplot as plt"
   ]
  },
  {
   "cell_type": "markdown",
   "id": "f0e9eb96-4cd3-41e1-945f-5bcec4259b6d",
   "metadata": {},
   "source": [
    "##### Box plot"
   ]
  },
  {
   "cell_type": "code",
   "execution_count": 5,
   "id": "b1bc79e3-bbc3-471e-a430-e084437175e0",
   "metadata": {},
   "outputs": [],
   "source": [
    "marks = np.array([56,78,45,56,62,68,67,71,95,69,62,58,40,51,47,66,92])"
   ]
  },
  {
   "cell_type": "code",
   "execution_count": 6,
   "id": "3eb196c6-45b3-4b9e-9f3e-b8439f36ab57",
   "metadata": {},
   "outputs": [
    {
     "data": {
      "image/png": "[encoded data removed]",
      "text/plain": [
       "<Figure size 640x480 with 1 Axes>"
      ]
     },
     "metadata": {},
     "output_type": "display_data"
    }
   ],
   "source": [
    "plt.boxplot(marks);"
   ]
  },
  {
   "cell_type": "code",
   "execution_count": 8,
   "id": "2dd0eb83-5029-449f-a0c3-b962e301ae4f",
   "metadata": {},
   "outputs": [
    {
     "data": {
      "image/png": "[encoded data removed]",
      "text/plain": [
       "<Figure size 640x480 with 1 Axes>"
      ]
     },
     "metadata": {},
     "output_type": "display_data"
    }
   ],
   "source": [
    "plt.hist(marks);"
   ]
  },
  {
   "cell_type": "markdown",
   "id": "28b94b8d-0505-4a22-8c71-a8c01906497f",
   "metadata": {},
   "source": [
    "##### Z-scores"
   ]
  },
  {
   "cell_type": "code",
   "execution_count": 10,
   "id": "8a1be3e2-a526-46ed-8f3a-c057048b6017",
   "metadata": {},
   "outputs": [],
   "source": [
    "def zscore(n):\n",
    "    z = (n - n.mean()) / n.std()\n",
    "    return z"
   ]
  },
  {
   "cell_type": "code",
   "execution_count": 11,
   "id": "5f200edf-ca34-4be9-aabd-7d58aecdd489",
   "metadata": {},
   "outputs": [
    {
     "data": {
      "text/plain": [
       "array([-0.52883665,  0.98097179, -1.28374087, -0.52883665, -0.11707071,\n",
       "        0.29469523,  0.22606757,  0.5005782 ,  2.14764195,  0.36332289,\n",
       "       -0.11707071, -0.39158133, -1.62687915, -0.87197493, -1.14648555,\n",
       "        0.15743992,  1.94175898])"
      ]
     },
     "execution_count": 11,
     "metadata": {},
     "output_type": "execute_result"
    }
   ],
   "source": [
    "zscore(marks)"
   ]
  },
  {
   "cell_type": "code",
   "execution_count": 13,
   "id": "6a7f6976-385b-47ed-b978-7a9b3ec41af9",
   "metadata": {},
   "outputs": [],
   "source": [
    "salary = np.array([np.random.randint(10000,25000) for x in range(100)])"
   ]
  },
  {
   "cell_type": "code",
   "execution_count": 14,
   "id": "c13ade41-abd7-4287-b092-0fafdd21e993",
   "metadata": {},
   "outputs": [
    {
     "data": {
      "text/plain": [
       "array([23950, 11462, 13509, 13305, 17006, 19997, 20103, 23655, 13334,\n",
       "       20014, 13786, 20683, 11383, 15323, 20238, 20525, 11999, 13973,\n",
       "       18803, 18917, 14019, 11455, 16351, 23199, 23900, 18351, 24806,\n",
       "       24681, 13745, 22826, 17015, 17578, 14299, 21697, 23984, 22920,\n",
       "       23856, 16406, 13368, 18171, 10268, 17671, 17705, 15528, 11846,\n",
       "       13693, 16736, 21738, 14223, 11576, 24666, 15134, 18072, 19326,\n",
       "       13991, 19022, 20651, 17964, 21166, 24511, 12292, 12752, 20753,\n",
       "       22405, 20645, 20651, 13006, 17232, 17867, 19128, 11643, 18011,\n",
       "       17639, 22395, 11104, 10352, 16634, 22439, 15132, 10272, 14391,\n",
       "       10378, 24513, 15620, 10319, 16093, 13853, 21271, 22471, 14710,\n",
       "       11173, 17539, 11664, 14272, 14365, 19830, 18326, 11709, 15188,\n",
       "       14136])"
      ]
     },
     "execution_count": 14,
     "metadata": {},
     "output_type": "execute_result"
    }
   ],
   "source": [
    "salary"
   ]
  },
  {
   "cell_type": "code",
   "execution_count": 15,
   "id": "cfc98b05-dc9d-4c0a-8ab0-bf41050a89ca",
   "metadata": {},
   "outputs": [],
   "source": [
    "salary[23] = 36000\n",
    "salary[81] = 39600"
   ]
  },
  {
   "cell_type": "code",
   "execution_count": 16,
   "id": "a1bfa873-1407-428c-bcc8-be60d954f749",
   "metadata": {},
   "outputs": [
    {
     "data": {
      "text/plain": [
       "array([23950, 11462, 13509, 13305, 17006, 19997, 20103, 23655, 13334,\n",
       "       20014, 13786, 20683, 11383, 15323, 20238, 20525, 11999, 13973,\n",
       "       18803, 18917, 14019, 11455, 16351, 36000, 23900, 18351, 24806,\n",
       "       24681, 13745, 22826, 17015, 17578, 14299, 21697, 23984, 22920,\n",
       "       23856, 16406, 13368, 18171, 10268, 17671, 17705, 15528, 11846,\n",
       "       13693, 16736, 21738, 14223, 11576, 24666, 15134, 18072, 19326,\n",
       "       13991, 19022, 20651, 17964, 21166, 24511, 12292, 12752, 20753,\n",
       "       22405, 20645, 20651, 13006, 17232, 17867, 19128, 11643, 18011,\n",
       "       17639, 22395, 11104, 10352, 16634, 22439, 15132, 10272, 14391,\n",
       "       39600, 24513, 15620, 10319, 16093, 13853, 21271, 22471, 14710,\n",
       "       11173, 17539, 11664, 14272, 14365, 19830, 18326, 11709, 15188,\n",
       "       14136])"
      ]
     },
     "execution_count": 16,
     "metadata": {},
     "output_type": "execute_result"
    }
   ],
   "source": [
    "salary"
   ]
  },
  {
   "cell_type": "code",
   "execution_count": 17,
   "id": "de52638d-9490-4f63-9800-7d0ef2fd2f6e",
   "metadata": {},
   "outputs": [
    {
     "data": {
      "text/plain": [
       "array([ 1.26587883e+00, -1.20909785e+00, -8.03406206e-01, -8.43836638e-01,\n",
       "       -1.10341389e-01,  4.82440100e-01,  5.03448070e-01,  1.20741325e+00,\n",
       "       -8.38089175e-01,  4.85809303e-01, -7.48508021e-01,  6.18397339e-01,\n",
       "       -1.22475473e+00, -4.43892458e-01,  5.30203504e-01,  5.87083573e-01,\n",
       "       -1.10267068e+00, -7.11446791e-01,  2.45803157e-01,  2.68396634e-01,\n",
       "       -7.02330124e-01, -1.21048517e+00, -2.40154788e-01,  3.65404898e+00,\n",
       "        1.25596941e+00,  1.56222002e-01,  1.43552809e+00,  1.41075454e+00,\n",
       "       -7.56633745e-01,  1.04311507e+00, -1.08557693e-01,  3.02237302e-03,\n",
       "       -6.46837374e-01,  8.19360372e-01,  1.27261723e+00,  1.06174478e+00,\n",
       "        1.24724912e+00, -2.29254426e-01, -8.31350770e-01,  1.20548091e-01,\n",
       "       -1.44573479e+00,  2.14538937e-02,  2.81922992e-02, -4.03263837e-01,\n",
       "       -1.13299351e+00, -7.66939541e-01, -1.63852255e-01,  8.27486096e-01,\n",
       "       -6.61899692e-01, -1.18650437e+00,  1.40778172e+00, -4.81350064e-01,\n",
       "        1.00927440e-01,  3.49455687e-01, -7.07879400e-01,  2.89206415e-01,\n",
       "        6.12055311e-01,  7.95230935e-02,  7.14122334e-01,  1.37706251e+00,\n",
       "       -1.04460148e+00, -9.53434821e-01,  6.32270527e-01,  9.59677755e-01,\n",
       "        6.10866180e-01,  6.12055311e-01, -9.03094969e-01, -6.55508116e-02,\n",
       "        6.02988192e-02,  3.10214385e-01, -1.17322575e+00,  8.88379480e-02,\n",
       "        1.51118651e-02,  9.57695871e-01, -1.28004930e+00, -1.42908697e+00,\n",
       "       -1.84067472e-01,  9.66416161e-01, -4.81746441e-01, -1.44494204e+00,\n",
       "       -6.28604042e-01,  4.36752721e+00,  1.37745889e+00, -3.85030504e-01,\n",
       "       -1.43562719e+00, -2.91287393e-01, -7.35229398e-01,  7.34932115e-01,\n",
       "        9.72758189e-01, -5.65381944e-01, -1.26637430e+00, -4.70697438e-03,\n",
       "       -1.16906379e+00, -6.52188461e-01, -6.33756940e-01,  4.49342638e-01,\n",
       "        1.51267292e-01, -1.16014532e+00, -4.70647891e-01, -6.79142082e-01])"
      ]
     },
     "execution_count": 17,
     "metadata": {},
     "output_type": "execute_result"
    }
   ],
   "source": [
    "zscore(salary)"
   ]
  },
  {
   "cell_type": "code",
   "execution_count": 18,
   "id": "f8df84e8-5f05-40b6-844e-fb15229bdb4b",
   "metadata": {},
   "outputs": [
    {
     "data": {
      "text/plain": [
       "array([False, False, False, False, False, False, False, False, False,\n",
       "       False, False, False, False, False, False, False, False, False,\n",
       "       False, False, False, False, False,  True, False, False, False,\n",
       "       False, False, False, False, False, False, False, False, False,\n",
       "       False, False, False, False, False, False, False, False, False,\n",
       "       False, False, False, False, False, False, False, False, False,\n",
       "       False, False, False, False, False, False, False, False, False,\n",
       "       False, False, False, False, False, False, False, False, False,\n",
       "       False, False, False, False, False, False, False, False, False,\n",
       "        True, False, False, False, False, False, False, False, False,\n",
       "       False, False, False, False, False, False, False, False, False,\n",
       "       False])"
      ]
     },
     "execution_count": 18,
     "metadata": {},
     "output_type": "execute_result"
    }
   ],
   "source": [
    "zscore(salary) > 3"
   ]
  },
  {
   "cell_type": "code",
   "execution_count": 19,
   "id": "2bb45bad-f44c-4c22-a92a-905b41acb965",
   "metadata": {},
   "outputs": [
    {
     "data": {
      "text/plain": [
       "array([36000, 39600])"
      ]
     },
     "execution_count": 19,
     "metadata": {},
     "output_type": "execute_result"
    }
   ],
   "source": [
    "salary[zscore(salary) > 3]"
   ]
  },
  {
   "cell_type": "markdown",
   "id": "acbf0672-1456-40f1-bce5-e034dd58ced3",
   "metadata": {},
   "source": [
    "##### Tukey's Fences"
   ]
  },
  {
   "cell_type": "code",
   "execution_count": 22,
   "id": "01297a5f-99da-4291-874e-9a28377c47e3",
   "metadata": {},
   "outputs": [
    {
     "data": {
      "text/plain": [
       "56.0"
      ]
     },
     "execution_count": 22,
     "metadata": {},
     "output_type": "execute_result"
    }
   ],
   "source": [
    "np.percentile(marks, 25)"
   ]
  },
  {
   "cell_type": "code",
   "execution_count": 23,
   "id": "d8ec0b97-cd10-4483-b0e3-c60d3fe6b9ed",
   "metadata": {},
   "outputs": [
    {
     "data": {
      "text/plain": [
       "69.0"
      ]
     },
     "execution_count": 23,
     "metadata": {},
     "output_type": "execute_result"
    }
   ],
   "source": [
    "np.percentile(marks, 75)"
   ]
  },
  {
   "cell_type": "code",
   "execution_count": 24,
   "id": "468fdad3-2964-455d-9328-619650886e86",
   "metadata": {},
   "outputs": [
    {
     "data": {
      "text/plain": [
       "62.0"
      ]
     },
     "execution_count": 24,
     "metadata": {},
     "output_type": "execute_result"
    }
   ],
   "source": [
    "np.percentile(marks, 50)"
   ]
  },
  {
   "cell_type": "code",
   "execution_count": 25,
   "id": "d7dce276-d76e-40b3-8fc6-12f364784835",
   "metadata": {},
   "outputs": [
    {
     "data": {
      "text/plain": [
       "13.0"
      ]
     },
     "execution_count": 25,
     "metadata": {},
     "output_type": "execute_result"
    }
   ],
   "source": [
    "Q1 = np.percentile(marks, 25)\n",
    "Q3 = np.percentile(marks, 75)\n",
    "IQR = Q3 - Q1\n",
    "IQR"
   ]
  },
  {
   "cell_type": "code",
   "execution_count": 26,
   "id": "761d2b96-e09a-47df-a9ae-1a274ae90d34",
   "metadata": {},
   "outputs": [],
   "source": [
    "upper_fence = Q3 + 1.5 * IQR\n",
    "lower_fence = Q1 - 1.5 * IQR"
   ]
  },
  {
   "cell_type": "code",
   "execution_count": 32,
   "id": "718071ac-c0aa-4e6d-8eae-3fc89f9178b9",
   "metadata": {},
   "outputs": [
    {
     "data": {
      "text/plain": [
       "array([False, False, False, False, False, False, False, False,  True,\n",
       "       False, False, False, False, False, False, False,  True])"
      ]
     },
     "execution_count": 32,
     "metadata": {},
     "output_type": "execute_result"
    }
   ],
   "source": [
    "marks > upper_fence"
   ]
  },
  {
   "cell_type": "code",
   "execution_count": 33,
   "id": "2d407cc9-81de-4a00-9818-084a49a447af",
   "metadata": {},
   "outputs": [
    {
     "data": {
      "text/plain": [
       "array([95, 92])"
      ]
     },
     "execution_count": 33,
     "metadata": {},
     "output_type": "execute_result"
    }
   ],
   "source": [
    "marks[marks > upper_fence]"
   ]
  },
  {
   "cell_type": "code",
   "execution_count": 35,
   "id": "2b7cbaff-7fc3-4dec-b464-c831ab8c1326",
   "metadata": {},
   "outputs": [
    {
     "data": {
      "text/plain": [
       "array([36000, 39600])"
      ]
     },
     "execution_count": 35,
     "metadata": {},
     "output_type": "execute_result"
    }
   ],
   "source": [
    "Q1 = np.percentile(salary, 25)\n",
    "Q3 = np.percentile(salary, 75)\n",
    "IQR = Q3 - Q1\n",
    "\n",
    "upper_fence = Q3 + 1.5 * IQR\n",
    "lower_fence = Q1 - 1.5 * IQR\n",
    "\n",
    "salary[(salary < lower_fence) | (salary > upper_fence)]"
   ]
  },
  {
   "cell_type": "code",
   "execution_count": null,
   "id": "7d239a19-b759-424a-85c2-3a15e037f99e",
   "metadata": {},
   "outputs": [],
   "source": []
  }
 ],
 "metadata": {
  "kernelspec": {
   "display_name": "Python 3 (ipykernel)",
   "language": "python",
   "name": "python3"
  },
  "language_info": {
   "codemirror_mode": {
    "name": "ipython",
    "version": 3
   },
   "file_extension": ".py",
   "mimetype": "text/x-python",
   "name": "python",
   "nbconvert_exporter": "python",
   "pygments_lexer": "ipython3",
   "version": "3.10.12"
  }
 },
 "nbformat": 4,
 "nbformat_minor": 5
}
