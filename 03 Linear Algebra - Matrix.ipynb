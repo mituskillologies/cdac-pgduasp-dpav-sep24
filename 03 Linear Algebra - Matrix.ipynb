{
 "cells": [
  {
   "cell_type": "code",
   "execution_count": 1,
   "id": "13a4b261-72bb-48bb-bb7d-a578b4a85e4f",
   "metadata": {},
   "outputs": [],
   "source": [
    "import numpy as np\n",
    "import matplotlib.pyplot as plt"
   ]
  },
  {
   "cell_type": "code",
   "execution_count": 2,
   "id": "036df287-8c64-4b33-812c-2eb23efffa43",
   "metadata": {},
   "outputs": [],
   "source": [
    "M = np.array([[5,4,3],[1,7,8],[0,2,3],[7,5,1]])"
   ]
  },
  {
   "cell_type": "code",
   "execution_count": 3,
   "id": "c5cebb09-235d-4791-8cac-2c946717896f",
   "metadata": {},
   "outputs": [
    {
     "data": {
      "text/plain": [
       "array([[5, 4, 3],\n",
       "       [1, 7, 8],\n",
       "       [0, 2, 3],\n",
       "       [7, 5, 1]])"
      ]
     },
     "execution_count": 3,
     "metadata": {},
     "output_type": "execute_result"
    }
   ],
   "source": [
    "M"
   ]
  },
  {
   "cell_type": "code",
   "execution_count": 4,
   "id": "7b586d00-c89f-4b12-b13c-52990fd8e3f6",
   "metadata": {},
   "outputs": [
    {
     "data": {
      "text/plain": [
       "numpy.ndarray"
      ]
     },
     "execution_count": 4,
     "metadata": {},
     "output_type": "execute_result"
    }
   ],
   "source": [
    "type(M)"
   ]
  },
  {
   "cell_type": "code",
   "execution_count": 5,
   "id": "a6bd903c-271f-4f53-b40c-bc44ba4a30a7",
   "metadata": {},
   "outputs": [
    {
     "data": {
      "text/plain": [
       "dtype('int64')"
      ]
     },
     "execution_count": 5,
     "metadata": {},
     "output_type": "execute_result"
    }
   ],
   "source": [
    "M.dtype"
   ]
  },
  {
   "cell_type": "code",
   "execution_count": 6,
   "id": "b764a977-f794-4ab2-8979-573978c29c3d",
   "metadata": {},
   "outputs": [
    {
     "data": {
      "text/plain": [
       "array([[5, 4, 3],\n",
       "       [1, 7, 8],\n",
       "       [0, 2, 3],\n",
       "       [7, 5, 1]], dtype=int8)"
      ]
     },
     "execution_count": 6,
     "metadata": {},
     "output_type": "execute_result"
    }
   ],
   "source": [
    "M = np.array([[5,4,3],[1,7,8],[0,2,3],[7,5,1]], dtype = np.int8)\n",
    "M"
   ]
  },
  {
   "cell_type": "code",
   "execution_count": 8,
   "id": "c835d55a-455d-453b-8366-e84b8c2b4b7e",
   "metadata": {},
   "outputs": [
    {
     "data": {
      "text/plain": [
       "(4, 3)"
      ]
     },
     "execution_count": 8,
     "metadata": {},
     "output_type": "execute_result"
    }
   ],
   "source": [
    "# order of matrix\n",
    "M.shape"
   ]
  },
  {
   "cell_type": "code",
   "execution_count": 9,
   "id": "48b3a715-6717-4d14-b432-cfa12f6a0073",
   "metadata": {},
   "outputs": [
    {
     "data": {
      "text/plain": [
       "12"
      ]
     },
     "execution_count": 9,
     "metadata": {},
     "output_type": "execute_result"
    }
   ],
   "source": [
    "M.size"
   ]
  },
  {
   "cell_type": "code",
   "execution_count": 10,
   "id": "2915e62a-8dde-4597-aa91-4d1c1aa7d3d1",
   "metadata": {},
   "outputs": [
    {
     "data": {
      "text/plain": [
       "2"
      ]
     },
     "execution_count": 10,
     "metadata": {},
     "output_type": "execute_result"
    }
   ],
   "source": [
    "M.ndim"
   ]
  },
  {
   "cell_type": "code",
   "execution_count": 11,
   "id": "ffa74e1f-70f7-4996-aaa0-07ebb9c64ad7",
   "metadata": {},
   "outputs": [
    {
     "data": {
      "text/plain": [
       "array([5, 4, 3], dtype=int8)"
      ]
     },
     "execution_count": 11,
     "metadata": {},
     "output_type": "execute_result"
    }
   ],
   "source": [
    "M[0]"
   ]
  },
  {
   "cell_type": "code",
   "execution_count": 12,
   "id": "53547e9c-247c-4221-ad4b-5b39a33c0bdf",
   "metadata": {},
   "outputs": [
    {
     "data": {
      "text/plain": [
       "array([1, 7, 8], dtype=int8)"
      ]
     },
     "execution_count": 12,
     "metadata": {},
     "output_type": "execute_result"
    }
   ],
   "source": [
    "M[1]"
   ]
  },
  {
   "cell_type": "code",
   "execution_count": 13,
   "id": "99f2bf64-50f8-4d0c-b8eb-dfa4fbb334df",
   "metadata": {},
   "outputs": [
    {
     "data": {
      "text/plain": [
       "8"
      ]
     },
     "execution_count": 13,
     "metadata": {},
     "output_type": "execute_result"
    }
   ],
   "source": [
    "M[1][2]"
   ]
  },
  {
   "cell_type": "code",
   "execution_count": 14,
   "id": "f5778c11-6391-4077-89d9-0549ab71cac6",
   "metadata": {},
   "outputs": [
    {
     "data": {
      "text/plain": [
       "8"
      ]
     },
     "execution_count": 14,
     "metadata": {},
     "output_type": "execute_result"
    }
   ],
   "source": [
    "M[1,2]"
   ]
  },
  {
   "cell_type": "code",
   "execution_count": 15,
   "id": "1f1f7b6a-b8ee-4994-abfe-87cd891d3c2d",
   "metadata": {},
   "outputs": [],
   "source": [
    "M[1,2] = 4"
   ]
  },
  {
   "cell_type": "code",
   "execution_count": 16,
   "id": "ec0f681b-1f03-4430-baaa-1f7601b2b5f3",
   "metadata": {},
   "outputs": [
    {
     "data": {
      "text/plain": [
       "array([[5, 4, 3],\n",
       "       [1, 7, 4],\n",
       "       [0, 2, 3],\n",
       "       [7, 5, 1]], dtype=int8)"
      ]
     },
     "execution_count": 16,
     "metadata": {},
     "output_type": "execute_result"
    }
   ],
   "source": [
    "M"
   ]
  },
  {
   "cell_type": "code",
   "execution_count": 17,
   "id": "d46335c3-9271-4b0d-b714-4fe38f700b6e",
   "metadata": {},
   "outputs": [
    {
     "name": "stdout",
     "output_type": "stream",
     "text": [
      "[[5 4 3]\n",
      " [1 7 4]\n",
      " [0 2 3]\n",
      " [7 5 1]]\n"
     ]
    }
   ],
   "source": [
    "print(M)"
   ]
  },
  {
   "cell_type": "code",
   "execution_count": 18,
   "id": "9bb51c80-2fe7-4b43-9285-259d6219e785",
   "metadata": {},
   "outputs": [
    {
     "data": {
      "text/plain": [
       "array([[5, 4, 3, 1],\n",
       "       [7, 4, 0, 2],\n",
       "       [3, 7, 5, 1]], dtype=int8)"
      ]
     },
     "execution_count": 18,
     "metadata": {},
     "output_type": "execute_result"
    }
   ],
   "source": [
    "M.reshape(3,4)"
   ]
  },
  {
   "cell_type": "code",
   "execution_count": 19,
   "id": "58a0284a-d51e-4194-bc4d-17dbe13d6e57",
   "metadata": {},
   "outputs": [
    {
     "data": {
      "text/plain": [
       "array([[5, 4],\n",
       "       [3, 1],\n",
       "       [7, 4],\n",
       "       [0, 2],\n",
       "       [3, 7],\n",
       "       [5, 1]], dtype=int8)"
      ]
     },
     "execution_count": 19,
     "metadata": {},
     "output_type": "execute_result"
    }
   ],
   "source": [
    "M.reshape(-1, 2)"
   ]
  },
  {
   "cell_type": "code",
   "execution_count": 20,
   "id": "083c4afe-2164-4d26-92a8-5f290cb696ec",
   "metadata": {},
   "outputs": [
    {
     "data": {
      "text/plain": [
       "array([[5, 4, 3, 1, 7, 4],\n",
       "       [0, 2, 3, 7, 5, 1]], dtype=int8)"
      ]
     },
     "execution_count": 20,
     "metadata": {},
     "output_type": "execute_result"
    }
   ],
   "source": [
    "M.reshape(2,-1)"
   ]
  },
  {
   "cell_type": "code",
   "execution_count": 21,
   "id": "2b23589a-8c94-4990-945d-82cb3015014a",
   "metadata": {},
   "outputs": [
    {
     "data": {
      "text/plain": [
       "array([5, 4, 3, 1, 7, 4, 0, 2, 3, 7, 5, 1], dtype=int8)"
      ]
     },
     "execution_count": 21,
     "metadata": {},
     "output_type": "execute_result"
    }
   ],
   "source": [
    "M.reshape(-1)"
   ]
  },
  {
   "cell_type": "code",
   "execution_count": 22,
   "id": "252c572d-8bd9-4772-9f13-0384bf81b4c9",
   "metadata": {},
   "outputs": [
    {
     "data": {
      "text/plain": [
       "array([5, 4, 3, 1, 7, 4, 0, 2, 3, 7, 5, 1], dtype=int8)"
      ]
     },
     "execution_count": 22,
     "metadata": {},
     "output_type": "execute_result"
    }
   ],
   "source": [
    "M.flatten()"
   ]
  },
  {
   "cell_type": "code",
   "execution_count": 23,
   "id": "db651621-d99d-4041-8c46-cad518d05168",
   "metadata": {},
   "outputs": [],
   "source": [
    "v1 = np.array([3,4,2,1,6,5,4,7,8])"
   ]
  },
  {
   "cell_type": "code",
   "execution_count": 24,
   "id": "b4bbc4d6-a7e8-4f89-8887-07ed1027e2c0",
   "metadata": {},
   "outputs": [
    {
     "data": {
      "text/plain": [
       "(9,)"
      ]
     },
     "execution_count": 24,
     "metadata": {},
     "output_type": "execute_result"
    }
   ],
   "source": [
    "v1.shape"
   ]
  },
  {
   "cell_type": "code",
   "execution_count": 26,
   "id": "6fad4ecc-b762-4890-b5ef-f4606ffcda34",
   "metadata": {},
   "outputs": [
    {
     "data": {
      "text/plain": [
       "array([[3, 4, 2],\n",
       "       [1, 6, 5],\n",
       "       [4, 7, 8]])"
      ]
     },
     "execution_count": 26,
     "metadata": {},
     "output_type": "execute_result"
    }
   ],
   "source": [
    "v1.reshape(3,3)"
   ]
  },
  {
   "cell_type": "code",
   "execution_count": 27,
   "id": "15ba6419-9dff-4dde-91d8-2920b409e915",
   "metadata": {},
   "outputs": [
    {
     "data": {
      "text/plain": [
       "array([[1, 2, 3],\n",
       "       [4, 5, 6],\n",
       "       [7, 8, 9]])"
      ]
     },
     "execution_count": 27,
     "metadata": {},
     "output_type": "execute_result"
    }
   ],
   "source": [
    "np.arange(1,10).reshape(3,3)"
   ]
  },
  {
   "cell_type": "code",
   "execution_count": 28,
   "id": "c2140e22-1b5d-4816-900c-b9b350c7bf10",
   "metadata": {},
   "outputs": [
    {
     "data": {
      "text/plain": [
       "array([[5., 4., 3.],\n",
       "       [1., 7., 4.],\n",
       "       [0., 2., 3.],\n",
       "       [7., 5., 1.]], dtype=float16)"
      ]
     },
     "execution_count": 28,
     "metadata": {},
     "output_type": "execute_result"
    }
   ],
   "source": [
    "M.astype(np.float16)"
   ]
  },
  {
   "cell_type": "code",
   "execution_count": 29,
   "id": "d84ae0b2-1dc6-412a-9645-2dcbf06c5146",
   "metadata": {},
   "outputs": [
    {
     "data": {
      "text/plain": [
       "array([[ True,  True,  True],\n",
       "       [ True,  True,  True],\n",
       "       [False,  True,  True],\n",
       "       [ True,  True,  True]])"
      ]
     },
     "execution_count": 29,
     "metadata": {},
     "output_type": "execute_result"
    }
   ],
   "source": [
    "M.astype(np.bool_)"
   ]
  },
  {
   "cell_type": "code",
   "execution_count": 30,
   "id": "37fca275-f628-47b0-8200-e518a2a44430",
   "metadata": {},
   "outputs": [
    {
     "data": {
      "text/plain": [
       "array([['5', '4', '3'],\n",
       "       ['1', '7', '4'],\n",
       "       ['0', '2', '3'],\n",
       "       ['7', '5', '1']], dtype='<U4')"
      ]
     },
     "execution_count": 30,
     "metadata": {},
     "output_type": "execute_result"
    }
   ],
   "source": [
    "M.astype(np.unicode_)"
   ]
  },
  {
   "cell_type": "code",
   "execution_count": 31,
   "id": "7689464c-789e-4fff-8b5e-5f1d335d4ff9",
   "metadata": {},
   "outputs": [
    {
     "name": "stdout",
     "output_type": "stream",
     "text": [
      "[[5 4 3]\n",
      " [1 7 4]\n",
      " [0 2 3]\n",
      " [7 5 1]]\n"
     ]
    }
   ],
   "source": [
    "print(M)"
   ]
  },
  {
   "cell_type": "code",
   "execution_count": 32,
   "id": "08194176-dc67-423d-9c55-aa98dc4e9cc4",
   "metadata": {},
   "outputs": [
    {
     "name": "stdout",
     "output_type": "stream",
     "text": [
      "[5 4 3]\n",
      "[1 7 4]\n",
      "[0 2 3]\n",
      "[7 5 1]\n"
     ]
    }
   ],
   "source": [
    "for row in M:\n",
    "    print(row)"
   ]
  },
  {
   "cell_type": "code",
   "execution_count": 33,
   "id": "c8a0b5d5-a26f-47da-93b5-b5e37ddc2443",
   "metadata": {},
   "outputs": [
    {
     "name": "stdout",
     "output_type": "stream",
     "text": [
      "5\n",
      "4\n",
      "3\n",
      "1\n",
      "7\n",
      "4\n",
      "0\n",
      "2\n",
      "3\n",
      "7\n",
      "5\n",
      "1\n"
     ]
    }
   ],
   "source": [
    "for row in M:\n",
    "    for value in row:\n",
    "        print(value)"
   ]
  },
  {
   "cell_type": "code",
   "execution_count": 36,
   "id": "0b8ecc66-37ff-4a3d-8d1b-f9b633f77088",
   "metadata": {},
   "outputs": [
    {
     "name": "stdout",
     "output_type": "stream",
     "text": [
      "5 4 3 \n",
      "1 7 4 \n",
      "0 2 3 \n",
      "7 5 1 \n"
     ]
    }
   ],
   "source": [
    "for row in M:\n",
    "    for value in row:\n",
    "        print(value, end =' ')\n",
    "    print()"
   ]
  },
  {
   "cell_type": "code",
   "execution_count": 37,
   "id": "77460c92-3603-494a-8ab2-4d3999da35cb",
   "metadata": {},
   "outputs": [
    {
     "data": {
      "text/plain": [
       "0"
      ]
     },
     "execution_count": 37,
     "metadata": {},
     "output_type": "execute_result"
    }
   ],
   "source": [
    "M.min()"
   ]
  },
  {
   "cell_type": "code",
   "execution_count": 38,
   "id": "7cfe0b60-1cb2-46c4-8e18-877f293da7b5",
   "metadata": {},
   "outputs": [
    {
     "data": {
      "text/plain": [
       "7"
      ]
     },
     "execution_count": 38,
     "metadata": {},
     "output_type": "execute_result"
    }
   ],
   "source": [
    "M.max()"
   ]
  },
  {
   "cell_type": "code",
   "execution_count": 39,
   "id": "4449938b-7e3e-4d7e-932b-68be911bb319",
   "metadata": {},
   "outputs": [
    {
     "data": {
      "text/plain": [
       "3.5"
      ]
     },
     "execution_count": 39,
     "metadata": {},
     "output_type": "execute_result"
    }
   ],
   "source": [
    "M.mean()"
   ]
  },
  {
   "cell_type": "code",
   "execution_count": 40,
   "id": "dbf685ae-601b-44b6-9a41-8c681a41d02d",
   "metadata": {},
   "outputs": [
    {
     "data": {
      "text/plain": [
       "2.179449471770337"
      ]
     },
     "execution_count": 40,
     "metadata": {},
     "output_type": "execute_result"
    }
   ],
   "source": [
    "M.std()"
   ]
  },
  {
   "cell_type": "code",
   "execution_count": 41,
   "id": "044eabd7-e593-4817-8590-3a418d812b6e",
   "metadata": {},
   "outputs": [
    {
     "data": {
      "text/plain": [
       "4.75"
      ]
     },
     "execution_count": 41,
     "metadata": {},
     "output_type": "execute_result"
    }
   ],
   "source": [
    "M.var()"
   ]
  },
  {
   "cell_type": "code",
   "execution_count": 42,
   "id": "a62ce3fe-806f-471b-a148-4c35b1d07e21",
   "metadata": {},
   "outputs": [
    {
     "data": {
      "text/plain": [
       "3.5"
      ]
     },
     "execution_count": 42,
     "metadata": {},
     "output_type": "execute_result"
    }
   ],
   "source": [
    "np.median(M)"
   ]
  },
  {
   "cell_type": "code",
   "execution_count": 43,
   "id": "e346ebad-9d3e-47d3-bff3-7a5e3d1e5077",
   "metadata": {},
   "outputs": [
    {
     "data": {
      "text/plain": [
       "42"
      ]
     },
     "execution_count": 43,
     "metadata": {},
     "output_type": "execute_result"
    }
   ],
   "source": [
    "M.sum()"
   ]
  },
  {
   "cell_type": "code",
   "execution_count": 44,
   "id": "9f6dff2b-9d32-418d-a129-e08e5279fef1",
   "metadata": {},
   "outputs": [
    {
     "data": {
      "text/plain": [
       "array([[0, 0, 0],\n",
       "       [0, 0, 0],\n",
       "       [0, 0, 0]], dtype=int8)"
      ]
     },
     "execution_count": 44,
     "metadata": {},
     "output_type": "execute_result"
    }
   ],
   "source": [
    "Z = np.zeros([3,3], dtype = np.int8)\n",
    "Z"
   ]
  },
  {
   "cell_type": "code",
   "execution_count": 45,
   "id": "df72db46-2d1f-4687-acfa-806478943bf0",
   "metadata": {},
   "outputs": [
    {
     "data": {
      "text/plain": [
       "array([[1, 1, 1],\n",
       "       [1, 1, 1],\n",
       "       [1, 1, 1]], dtype=int8)"
      ]
     },
     "execution_count": 45,
     "metadata": {},
     "output_type": "execute_result"
    }
   ],
   "source": [
    "O = np.ones([3,3], dtype = np.int8)\n",
    "O"
   ]
  },
  {
   "cell_type": "code",
   "execution_count": 46,
   "id": "d5c62fcd-ba69-49f9-b255-d3aa778fc0e7",
   "metadata": {},
   "outputs": [],
   "source": [
    "S = np.arange(25).reshape(5,5)"
   ]
  },
  {
   "cell_type": "code",
   "execution_count": 47,
   "id": "f89daaf8-f219-46bc-9b1d-a4b865149fe3",
   "metadata": {},
   "outputs": [
    {
     "data": {
      "text/plain": [
       "array([[ 0,  1,  2,  3,  4],\n",
       "       [ 5,  6,  7,  8,  9],\n",
       "       [10, 11, 12, 13, 14],\n",
       "       [15, 16, 17, 18, 19],\n",
       "       [20, 21, 22, 23, 24]])"
      ]
     },
     "execution_count": 47,
     "metadata": {},
     "output_type": "execute_result"
    }
   ],
   "source": [
    "S"
   ]
  },
  {
   "cell_type": "code",
   "execution_count": 49,
   "id": "ca74d822-6070-4242-9629-50bb19316b26",
   "metadata": {},
   "outputs": [
    {
     "data": {
      "text/plain": [
       "array([[ 7,  8],\n",
       "       [12, 13]])"
      ]
     },
     "execution_count": 49,
     "metadata": {},
     "output_type": "execute_result"
    }
   ],
   "source": [
    "S[1:3,2:4]"
   ]
  },
  {
   "cell_type": "code",
   "execution_count": 50,
   "id": "3798ad85-6667-4938-965a-3560e6661369",
   "metadata": {},
   "outputs": [
    {
     "data": {
      "text/plain": [
       "array([[ 2,  3],\n",
       "       [ 7,  8],\n",
       "       [12, 13]])"
      ]
     },
     "execution_count": 50,
     "metadata": {},
     "output_type": "execute_result"
    }
   ],
   "source": [
    "S[:3,2:4]"
   ]
  },
  {
   "cell_type": "code",
   "execution_count": 51,
   "id": "cba2afe5-f0ff-4a32-b5de-077a782ae484",
   "metadata": {},
   "outputs": [
    {
     "data": {
      "text/plain": [
       "array([[ 7,  8,  9],\n",
       "       [12, 13, 14]])"
      ]
     },
     "execution_count": 51,
     "metadata": {},
     "output_type": "execute_result"
    }
   ],
   "source": [
    "S[1:3,2:]"
   ]
  },
  {
   "cell_type": "code",
   "execution_count": 53,
   "id": "abc9e86c-8e15-49f7-a335-e5eb09b099e8",
   "metadata": {},
   "outputs": [
    {
     "data": {
      "text/plain": [
       "array([[ True, False, False],\n",
       "       [False,  True, False],\n",
       "       [False, False, False],\n",
       "       [ True,  True, False]])"
      ]
     },
     "execution_count": 53,
     "metadata": {},
     "output_type": "execute_result"
    }
   ],
   "source": [
    "M > 4"
   ]
  },
  {
   "cell_type": "code",
   "execution_count": 54,
   "id": "29564d27-b7f2-46f2-8564-db3ea5c76dcb",
   "metadata": {},
   "outputs": [
    {
     "data": {
      "text/plain": [
       "array([5, 7, 7, 5], dtype=int8)"
      ]
     },
     "execution_count": 54,
     "metadata": {},
     "output_type": "execute_result"
    }
   ],
   "source": [
    "M[M > 4]"
   ]
  },
  {
   "cell_type": "code",
   "execution_count": 58,
   "id": "6a44e57e-10c8-4661-a5ea-25da64724e53",
   "metadata": {},
   "outputs": [
    {
     "data": {
      "text/plain": [
       "array([5, 3, 1, 7, 3, 7, 5, 1], dtype=int8)"
      ]
     },
     "execution_count": 58,
     "metadata": {},
     "output_type": "execute_result"
    }
   ],
   "source": [
    "M[ M % 2 == 1]"
   ]
  },
  {
   "cell_type": "code",
   "execution_count": 62,
   "id": "ffff3dc5-1b77-423b-a1da-84055f63dd4f",
   "metadata": {},
   "outputs": [],
   "source": [
    "M1 = np.array([[6,8,7],[4,1,3],[5,2,9]])"
   ]
  },
  {
   "cell_type": "code",
   "execution_count": 65,
   "id": "f6cbd2ba-8dcf-445f-adb8-309830f9676a",
   "metadata": {},
   "outputs": [
    {
     "data": {
      "text/plain": [
       "array([[6, 8, 7],\n",
       "       [4, 1, 3],\n",
       "       [5, 2, 9]])"
      ]
     },
     "execution_count": 65,
     "metadata": {},
     "output_type": "execute_result"
    }
   ],
   "source": [
    "# input matrix\n",
    "M1"
   ]
  },
  {
   "cell_type": "code",
   "execution_count": 66,
   "id": "9b8f2650-6c5b-43c1-8dbf-5649c54f10fa",
   "metadata": {},
   "outputs": [
    {
     "data": {
      "text/plain": [
       "array([[0, 0, 7],\n",
       "       [0, 1, 3],\n",
       "       [5, 0, 9]])"
      ]
     },
     "execution_count": 66,
     "metadata": {},
     "output_type": "execute_result"
    }
   ],
   "source": [
    "# output matrix\n",
    "np.array([[0,0,7],[0,1,3],[5,0,9]])"
   ]
  },
  {
   "cell_type": "code",
   "execution_count": 68,
   "id": "92708b69-257e-4ea4-83b4-ccf3ee4b4813",
   "metadata": {},
   "outputs": [
    {
     "data": {
      "text/plain": [
       "4"
      ]
     },
     "execution_count": 68,
     "metadata": {},
     "output_type": "execute_result"
    }
   ],
   "source": [
    "M.shape[0]"
   ]
  },
  {
   "cell_type": "code",
   "execution_count": 72,
   "id": "52f3900a-5e79-493a-9ea9-737153a13be8",
   "metadata": {},
   "outputs": [],
   "source": [
    "for i in range(M1.shape[0]):\n",
    "    for j in range(M1.shape[1]):\n",
    "        if M1[i,j] % 2 == 0:\n",
    "            M1[i,j] = 0"
   ]
  },
  {
   "cell_type": "code",
   "execution_count": 73,
   "id": "76a47c4d-487d-4530-86a9-f3d628909787",
   "metadata": {},
   "outputs": [
    {
     "data": {
      "text/plain": [
       "array([[0, 0, 7],\n",
       "       [0, 1, 3],\n",
       "       [5, 0, 9]])"
      ]
     },
     "execution_count": 73,
     "metadata": {},
     "output_type": "execute_result"
    }
   ],
   "source": [
    "M1"
   ]
  },
  {
   "cell_type": "markdown",
   "id": "bee5a98a-7052-4e0e-8e43-e9b0095acef6",
   "metadata": {},
   "source": [
    "#### Matrix Operations"
   ]
  },
  {
   "cell_type": "markdown",
   "id": "f5ef5b4d-449f-4a06-9bf0-1c120b220622",
   "metadata": {},
   "source": [
    "##### Addition"
   ]
  },
  {
   "cell_type": "code",
   "execution_count": 76,
   "id": "f735bba7-bf38-46e0-b893-d7523a6aa153",
   "metadata": {},
   "outputs": [],
   "source": [
    "M1 = np.array([[5,4,3],[1,7,8],[0,2,3],[7,5,1]], dtype = np.int8)\n",
    "M2 = np.array([[2,8,1],[0,2,5],[1,9,4],[6,2,6]], dtype = np.int8)"
   ]
  },
  {
   "cell_type": "code",
   "execution_count": 77,
   "id": "e1999c9b-3a7b-462a-8de6-f246fb6ef9e6",
   "metadata": {},
   "outputs": [
    {
     "data": {
      "text/plain": [
       "((4, 3), (4, 3))"
      ]
     },
     "execution_count": 77,
     "metadata": {},
     "output_type": "execute_result"
    }
   ],
   "source": [
    "M1.shape, M2.shape"
   ]
  },
  {
   "cell_type": "code",
   "execution_count": 78,
   "id": "502dbe76-1788-40cb-b393-83d5871b6e07",
   "metadata": {},
   "outputs": [],
   "source": [
    "M3 = M1 + M2"
   ]
  },
  {
   "cell_type": "code",
   "execution_count": 79,
   "id": "98c28371-ac37-4870-b2ec-ca8fc311debe",
   "metadata": {},
   "outputs": [
    {
     "data": {
      "text/plain": [
       "array([[ 7, 12,  4],\n",
       "       [ 1,  9, 13],\n",
       "       [ 1, 11,  7],\n",
       "       [13,  7,  7]], dtype=int8)"
      ]
     },
     "execution_count": 79,
     "metadata": {},
     "output_type": "execute_result"
    }
   ],
   "source": [
    "M3"
   ]
  },
  {
   "cell_type": "code",
   "execution_count": 80,
   "id": "32c2a104-7851-4e4b-83fe-baf7aede05d5",
   "metadata": {},
   "outputs": [
    {
     "data": {
      "text/plain": [
       "array([[15, 14, 13],\n",
       "       [11, 17, 18],\n",
       "       [10, 12, 13],\n",
       "       [17, 15, 11]], dtype=int8)"
      ]
     },
     "execution_count": 80,
     "metadata": {},
     "output_type": "execute_result"
    }
   ],
   "source": [
    "M1 + 10"
   ]
  },
  {
   "cell_type": "code",
   "execution_count": 81,
   "id": "901b0723-a87a-497b-90a7-6bd581d3c9b9",
   "metadata": {},
   "outputs": [
    {
     "data": {
      "text/plain": [
       "array([[ 7,  7,  4],\n",
       "       [ 3, 10,  9],\n",
       "       [ 2,  5,  4],\n",
       "       [ 9,  8,  2]])"
      ]
     },
     "execution_count": 81,
     "metadata": {},
     "output_type": "execute_result"
    }
   ],
   "source": [
    "M1 + [2,3,1]"
   ]
  },
  {
   "cell_type": "markdown",
   "id": "3bfc275e-b35d-4dea-bdfe-48461539c544",
   "metadata": {},
   "source": [
    "##### Subtraction"
   ]
  },
  {
   "cell_type": "code",
   "execution_count": 83,
   "id": "7851db8a-5a68-489b-b422-c91b6227b2ce",
   "metadata": {},
   "outputs": [
    {
     "data": {
      "text/plain": [
       "array([[ 3, -4,  2],\n",
       "       [ 1,  5,  3],\n",
       "       [-1, -7, -1],\n",
       "       [ 1,  3, -5]], dtype=int8)"
      ]
     },
     "execution_count": 83,
     "metadata": {},
     "output_type": "execute_result"
    }
   ],
   "source": [
    "M1 - M2"
   ]
  },
  {
   "cell_type": "code",
   "execution_count": 85,
   "id": "41744ef7-2f7b-4985-9cd4-7507038f80f0",
   "metadata": {},
   "outputs": [
    {
     "data": {
      "text/plain": [
       "array([[-3,  4, -2],\n",
       "       [-1, -5, -3],\n",
       "       [ 1,  7,  1],\n",
       "       [-1, -3,  5]], dtype=int8)"
      ]
     },
     "execution_count": 85,
     "metadata": {},
     "output_type": "execute_result"
    }
   ],
   "source": [
    "M2 - M1"
   ]
  },
  {
   "cell_type": "code",
   "execution_count": 86,
   "id": "b2276014-58a3-436d-9adf-9845351520d8",
   "metadata": {},
   "outputs": [
    {
     "data": {
      "text/plain": [
       "array([[3, 4, 2],\n",
       "       [1, 5, 3],\n",
       "       [1, 7, 1],\n",
       "       [1, 3, 5]], dtype=int8)"
      ]
     },
     "execution_count": 86,
     "metadata": {},
     "output_type": "execute_result"
    }
   ],
   "source": [
    "abs(M1 - M2)"
   ]
  },
  {
   "cell_type": "code",
   "execution_count": 87,
   "id": "a1f8c7d0-6743-4b2e-a419-7df27115ea20",
   "metadata": {},
   "outputs": [],
   "source": [
    "M1 = np.array([[5,4,3],[1,7,8],[0,2,3],[7,5,1]], dtype = np.uint8)\n",
    "M2 = np.array([[2,8,1],[0,2,5],[1,9,4],[6,2,6]], dtype = np.uint8)"
   ]
  },
  {
   "cell_type": "code",
   "execution_count": 88,
   "id": "adb4990a-ddb8-42d7-90e1-38a33b70501a",
   "metadata": {},
   "outputs": [
    {
     "data": {
      "text/plain": [
       "array([[5, 4, 3],\n",
       "       [1, 7, 8],\n",
       "       [0, 2, 3],\n",
       "       [7, 5, 1]], dtype=uint8)"
      ]
     },
     "execution_count": 88,
     "metadata": {},
     "output_type": "execute_result"
    }
   ],
   "source": [
    "M1"
   ]
  },
  {
   "cell_type": "code",
   "execution_count": 89,
   "id": "1bf891a5-4db8-4484-ba62-4a236327efd0",
   "metadata": {},
   "outputs": [
    {
     "data": {
      "text/plain": [
       "array([[  3, 252,   2],\n",
       "       [  1,   5,   3],\n",
       "       [255, 249, 255],\n",
       "       [  1,   3, 251]], dtype=uint8)"
      ]
     },
     "execution_count": 89,
     "metadata": {},
     "output_type": "execute_result"
    }
   ],
   "source": [
    "M1 - M2"
   ]
  },
  {
   "cell_type": "markdown",
   "id": "7c8f03ef-6b0e-4acb-b2e7-8b06f17e175b",
   "metadata": {},
   "source": [
    "##### Scaler Multiplication"
   ]
  },
  {
   "cell_type": "code",
   "execution_count": 91,
   "id": "bc1c924d-6224-456e-a177-4b9de673122d",
   "metadata": {},
   "outputs": [
    {
     "data": {
      "text/plain": [
       "array([[5, 0, 3],\n",
       "       [1, 7, 0],\n",
       "       [0, 0, 3],\n",
       "       [7, 5, 1]], dtype=int8)"
      ]
     },
     "execution_count": 91,
     "metadata": {},
     "output_type": "execute_result"
    }
   ],
   "source": [
    "M"
   ]
  },
  {
   "cell_type": "code",
   "execution_count": 92,
   "id": "5a1a2224-1cbc-4d35-ac29-eed577c139ca",
   "metadata": {},
   "outputs": [
    {
     "data": {
      "text/plain": [
       "array([[15,  0,  9],\n",
       "       [ 3, 21,  0],\n",
       "       [ 0,  0,  9],\n",
       "       [21, 15,  3]], dtype=int8)"
      ]
     },
     "execution_count": 92,
     "metadata": {},
     "output_type": "execute_result"
    }
   ],
   "source": [
    "3 * M"
   ]
  },
  {
   "cell_type": "code",
   "execution_count": 95,
   "id": "9e8cb403-ac20-4e4a-b050-b420306803c1",
   "metadata": {},
   "outputs": [
    {
     "data": {
      "text/plain": [
       "array([[21, 36, 12],\n",
       "       [ 3, 27, 39],\n",
       "       [ 3, 33, 21],\n",
       "       [39, 21, 21]], dtype=uint8)"
      ]
     },
     "execution_count": 95,
     "metadata": {},
     "output_type": "execute_result"
    }
   ],
   "source": [
    "3 * (M1 + M2)"
   ]
  },
  {
   "cell_type": "code",
   "execution_count": 96,
   "id": "27f60806-d010-4c16-be7b-cd378735f81f",
   "metadata": {},
   "outputs": [
    {
     "data": {
      "text/plain": [
       "array([[21, 36, 12],\n",
       "       [ 3, 27, 39],\n",
       "       [ 3, 33, 21],\n",
       "       [39, 21, 21]], dtype=uint8)"
      ]
     },
     "execution_count": 96,
     "metadata": {},
     "output_type": "execute_result"
    }
   ],
   "source": [
    "3 * M1 + 3 * M2"
   ]
  },
  {
   "cell_type": "code",
   "execution_count": 97,
   "id": "1fe3ddca-a375-45e2-a622-55ade0c0948b",
   "metadata": {},
   "outputs": [
    {
     "data": {
      "text/plain": [
       "array([[35, 28, 21],\n",
       "       [ 7, 49, 56],\n",
       "       [ 0, 14, 21],\n",
       "       [49, 35,  7]], dtype=uint8)"
      ]
     },
     "execution_count": 97,
     "metadata": {},
     "output_type": "execute_result"
    }
   ],
   "source": [
    "(3 + 4) * M1"
   ]
  },
  {
   "cell_type": "code",
   "execution_count": 98,
   "id": "754d005b-837d-4c9f-a054-c3c36cfec11f",
   "metadata": {},
   "outputs": [
    {
     "data": {
      "text/plain": [
       "array([[35, 28, 21],\n",
       "       [ 7, 49, 56],\n",
       "       [ 0, 14, 21],\n",
       "       [49, 35,  7]], dtype=uint8)"
      ]
     },
     "execution_count": 98,
     "metadata": {},
     "output_type": "execute_result"
    }
   ],
   "source": [
    "3 * M1 + 4 * M1"
   ]
  },
  {
   "cell_type": "code",
   "execution_count": 101,
   "id": "66dae631-0521-43d0-942d-d82d769e4de4",
   "metadata": {},
   "outputs": [
    {
     "data": {
      "text/plain": [
       "(array([[60, 48, 36],\n",
       "        [12, 84, 96],\n",
       "        [ 0, 24, 36],\n",
       "        [84, 60, 12]], dtype=uint8),\n",
       " array([[60, 48, 36],\n",
       "        [12, 84, 96],\n",
       "        [ 0, 24, 36],\n",
       "        [84, 60, 12]], dtype=uint8),\n",
       " array([[60, 48, 36],\n",
       "        [12, 84, 96],\n",
       "        [ 0, 24, 36],\n",
       "        [84, 60, 12]], dtype=uint8))"
      ]
     },
     "execution_count": 101,
     "metadata": {},
     "output_type": "execute_result"
    }
   ],
   "source": [
    "3 * 4 * M1, 4 * 3 * M1, M1 * ( 3 * 4)"
   ]
  },
  {
   "cell_type": "code",
   "execution_count": 102,
   "id": "7ebf97e9-bd62-42c3-b9c3-6ed8472688bb",
   "metadata": {},
   "outputs": [
    {
     "data": {
      "text/plain": [
       "array([[-15, -12,  -9],\n",
       "       [ -3, -21, -24],\n",
       "       [  0,  -6,  -9],\n",
       "       [-21, -15,  -3]], dtype=int16)"
      ]
     },
     "execution_count": 102,
     "metadata": {},
     "output_type": "execute_result"
    }
   ],
   "source": [
    "-3 * M1"
   ]
  },
  {
   "cell_type": "code",
   "execution_count": 103,
   "id": "243a6156-6d40-44f0-90a0-bba7e60b2905",
   "metadata": {},
   "outputs": [
    {
     "data": {
      "text/plain": [
       "array([[241, 244, 247],\n",
       "       [253, 235, 232],\n",
       "       [  0, 250, 247],\n",
       "       [235, 241, 253]], dtype=uint8)"
      ]
     },
     "execution_count": 103,
     "metadata": {},
     "output_type": "execute_result"
    }
   ],
   "source": [
    "- (3 * M1)"
   ]
  },
  {
   "cell_type": "code",
   "execution_count": 104,
   "id": "40550d43-1b4c-48d5-80d6-39401a133043",
   "metadata": {},
   "outputs": [
    {
     "data": {
      "text/plain": [
       "array([[5, 4, 3],\n",
       "       [1, 7, 8],\n",
       "       [0, 2, 3],\n",
       "       [7, 5, 1]], dtype=uint8)"
      ]
     },
     "execution_count": 104,
     "metadata": {},
     "output_type": "execute_result"
    }
   ],
   "source": [
    "1 * M1"
   ]
  },
  {
   "cell_type": "code",
   "execution_count": 105,
   "id": "0750cd51-9f79-40c3-820f-683584dccc96",
   "metadata": {},
   "outputs": [
    {
     "data": {
      "text/plain": [
       "array([[-5, -4, -3],\n",
       "       [-1, -7, -8],\n",
       "       [ 0, -2, -3],\n",
       "       [-7, -5, -1]], dtype=int16)"
      ]
     },
     "execution_count": 105,
     "metadata": {},
     "output_type": "execute_result"
    }
   ],
   "source": [
    "-1 * M1"
   ]
  },
  {
   "cell_type": "markdown",
   "id": "b43d9376-a7a2-436f-a7be-497584807bdb",
   "metadata": {},
   "source": [
    "##### Matrix Multiplication"
   ]
  },
  {
   "cell_type": "code",
   "execution_count": 111,
   "id": "cf05c713-3a68-4dc8-a4b9-aa1c14b68f30",
   "metadata": {},
   "outputs": [],
   "source": [
    "M1 = np.array([[5,4,3],[1,7,8]], dtype = np.int8)\n",
    "M2 = np.array([[2,8],[1,0],[2,5]], dtype = np.int8)"
   ]
  },
  {
   "cell_type": "code",
   "execution_count": 112,
   "id": "5fbf7024-3007-4229-9861-90623bc0bfc5",
   "metadata": {},
   "outputs": [
    {
     "data": {
      "text/plain": [
       "array([[5, 4, 3],\n",
       "       [1, 7, 8]], dtype=int8)"
      ]
     },
     "execution_count": 112,
     "metadata": {},
     "output_type": "execute_result"
    }
   ],
   "source": [
    "M1"
   ]
  },
  {
   "cell_type": "code",
   "execution_count": 113,
   "id": "88a3e7d5-420d-4794-a843-125df1a997ed",
   "metadata": {},
   "outputs": [
    {
     "data": {
      "text/plain": [
       "array([[2, 8],\n",
       "       [1, 0],\n",
       "       [2, 5]], dtype=int8)"
      ]
     },
     "execution_count": 113,
     "metadata": {},
     "output_type": "execute_result"
    }
   ],
   "source": [
    "M2"
   ]
  },
  {
   "cell_type": "code",
   "execution_count": 114,
   "id": "0a22f6c0-a1ea-4580-bc31-b11be4f06a80",
   "metadata": {},
   "outputs": [
    {
     "data": {
      "text/plain": [
       "array([[20, 55],\n",
       "       [25, 48]], dtype=int8)"
      ]
     },
     "execution_count": 114,
     "metadata": {},
     "output_type": "execute_result"
    }
   ],
   "source": [
    "np.matmul(M1, M2)"
   ]
  },
  {
   "cell_type": "code",
   "execution_count": 115,
   "id": "68c6f792-3bb7-4b7e-96a0-10f0786545cf",
   "metadata": {},
   "outputs": [
    {
     "data": {
      "text/plain": [
       "array([[20, 55],\n",
       "       [25, 48]], dtype=int8)"
      ]
     },
     "execution_count": 115,
     "metadata": {},
     "output_type": "execute_result"
    }
   ],
   "source": [
    "M1 @ M2"
   ]
  },
  {
   "cell_type": "code",
   "execution_count": 116,
   "id": "53e1fff5-0556-4424-8713-e03b98644316",
   "metadata": {},
   "outputs": [
    {
     "data": {
      "text/plain": [
       "(array([[20, 55],\n",
       "        [25, 48]], dtype=int8),\n",
       " array([[18, 64, 70],\n",
       "        [ 5,  4,  3],\n",
       "        [15, 43, 46]], dtype=int8))"
      ]
     },
     "execution_count": 116,
     "metadata": {},
     "output_type": "execute_result"
    }
   ],
   "source": [
    "M1 @ M2, M2 @ M1"
   ]
  },
  {
   "cell_type": "code",
   "execution_count": 117,
   "id": "df1e4879-02d8-4642-b0ad-316f4dffe698",
   "metadata": {},
   "outputs": [],
   "source": [
    "A = np.array([[1, 2], [3, 4]])\n",
    "B = np.array([[5, 6], [7, 8]])\n",
    "C = np.array([[3, 8], [1, 6]])"
   ]
  },
  {
   "cell_type": "code",
   "execution_count": 122,
   "id": "1bd2b3f2-1c6c-4a80-9fc1-f285a7d9ca5b",
   "metadata": {},
   "outputs": [
    {
     "data": {
      "text/plain": [
       "(array([[ 79, 284],\n",
       "        [179, 644]]),\n",
       " array([[ 79, 284],\n",
       "        [179, 644]]))"
      ]
     },
     "execution_count": 122,
     "metadata": {},
     "output_type": "execute_result"
    }
   ],
   "source": [
    "A @ (B @ C),       (A @ B) @ C"
   ]
  },
  {
   "cell_type": "code",
   "execution_count": 123,
   "id": "39497a57-d769-4e5a-98b5-5cd8351bd473",
   "metadata": {},
   "outputs": [
    {
     "data": {
      "text/plain": [
       "(array([[24, 42],\n",
       "        [56, 98]]),\n",
       " array([[24, 42],\n",
       "        [56, 98]]))"
      ]
     },
     "execution_count": 123,
     "metadata": {},
     "output_type": "execute_result"
    }
   ],
   "source": [
    "A @ (B + C),      A @ B + A @ C"
   ]
  },
  {
   "cell_type": "code",
   "execution_count": 125,
   "id": "50fab573-9449-4b6d-8b1a-cd1bac71d241",
   "metadata": {},
   "outputs": [
    {
     "data": {
      "text/plain": [
       "(array([[ 26,  96],\n",
       "        [ 42, 152]]),\n",
       " array([[ 26,  96],\n",
       "        [ 42, 152]]))"
      ]
     },
     "execution_count": 125,
     "metadata": {},
     "output_type": "execute_result"
    }
   ],
   "source": [
    "(A + B) @ C,     A @ C + B @ C"
   ]
  },
  {
   "cell_type": "code",
   "execution_count": 126,
   "id": "dc528c00-2742-4b3c-be52-fb6044474ab3",
   "metadata": {},
   "outputs": [
    {
     "data": {
      "text/plain": [
       "array([[ 5, 12],\n",
       "       [21, 32]])"
      ]
     },
     "execution_count": 126,
     "metadata": {},
     "output_type": "execute_result"
    }
   ],
   "source": [
    "A * B"
   ]
  },
  {
   "cell_type": "markdown",
   "id": "3fa0aaa5-c169-4ad7-ae79-bd9c3790adbd",
   "metadata": {},
   "source": [
    "##### Matrix Transpose"
   ]
  },
  {
   "cell_type": "code",
   "execution_count": 129,
   "id": "8896bc9a-5e8e-4e02-b134-e8d2d3a2db5b",
   "metadata": {},
   "outputs": [
    {
     "data": {
      "text/plain": [
       "array([[5, 0, 3],\n",
       "       [1, 7, 0],\n",
       "       [0, 0, 3],\n",
       "       [7, 5, 1]], dtype=int8)"
      ]
     },
     "execution_count": 129,
     "metadata": {},
     "output_type": "execute_result"
    }
   ],
   "source": [
    "M"
   ]
  },
  {
   "cell_type": "code",
   "execution_count": 130,
   "id": "55eda9fb-954c-4cdb-9887-6fb8163bbccd",
   "metadata": {},
   "outputs": [
    {
     "data": {
      "text/plain": [
       "array([[5, 1, 0, 7],\n",
       "       [0, 7, 0, 5],\n",
       "       [3, 0, 3, 1]], dtype=int8)"
      ]
     },
     "execution_count": 130,
     "metadata": {},
     "output_type": "execute_result"
    }
   ],
   "source": [
    "np.transpose(M)"
   ]
  },
  {
   "cell_type": "code",
   "execution_count": 131,
   "id": "ad9883d0-e1cd-44e3-b2fd-fcc8bd321552",
   "metadata": {},
   "outputs": [
    {
     "data": {
      "text/plain": [
       "array([[5, 0, 3, 1],\n",
       "       [7, 0, 0, 0],\n",
       "       [3, 7, 5, 1]], dtype=int8)"
      ]
     },
     "execution_count": 131,
     "metadata": {},
     "output_type": "execute_result"
    }
   ],
   "source": [
    "M.reshape(3, 4)"
   ]
  },
  {
   "cell_type": "code",
   "execution_count": 132,
   "id": "6cd77c53-3b6c-4aef-9a8f-7c5b82aa1ebd",
   "metadata": {},
   "outputs": [
    {
     "data": {
      "text/plain": [
       "array([[5, 1, 0, 7],\n",
       "       [0, 7, 0, 5],\n",
       "       [3, 0, 3, 1]], dtype=int8)"
      ]
     },
     "execution_count": 132,
     "metadata": {},
     "output_type": "execute_result"
    }
   ],
   "source": [
    "M.T"
   ]
  },
  {
   "cell_type": "code",
   "execution_count": 133,
   "id": "493e9669-3ffa-4901-8e8c-1e5ca987392b",
   "metadata": {},
   "outputs": [
    {
     "data": {
      "text/plain": [
       "(array([[5, 0, 3],\n",
       "        [1, 7, 0],\n",
       "        [0, 0, 3],\n",
       "        [7, 5, 1]], dtype=int8),\n",
       " array([[5, 0, 3],\n",
       "        [1, 7, 0],\n",
       "        [0, 0, 3],\n",
       "        [7, 5, 1]], dtype=int8))"
      ]
     },
     "execution_count": 133,
     "metadata": {},
     "output_type": "execute_result"
    }
   ],
   "source": [
    "M, M.T.T"
   ]
  },
  {
   "cell_type": "code",
   "execution_count": 135,
   "id": "e1671614-5a0b-4d5f-8e09-baed6b070409",
   "metadata": {},
   "outputs": [
    {
     "data": {
      "text/plain": [
       "(array([[ 6, 10],\n",
       "        [ 8, 12]]),\n",
       " array([[ 6, 10],\n",
       "        [ 8, 12]]))"
      ]
     },
     "execution_count": 135,
     "metadata": {},
     "output_type": "execute_result"
    }
   ],
   "source": [
    "A.T + B.T,    (A + B).T"
   ]
  },
  {
   "cell_type": "code",
   "execution_count": 137,
   "id": "9f206677-397f-4b18-89ad-f80707c01448",
   "metadata": {},
   "outputs": [
    {
     "data": {
      "text/plain": [
       "(array([[15,  3,  0, 21],\n",
       "        [ 0, 21,  0, 15],\n",
       "        [ 9,  0,  9,  3]], dtype=int8),\n",
       " array([[15,  3,  0, 21],\n",
       "        [ 0, 21,  0, 15],\n",
       "        [ 9,  0,  9,  3]], dtype=int8))"
      ]
     },
     "execution_count": 137,
     "metadata": {},
     "output_type": "execute_result"
    }
   ],
   "source": [
    "(3 * M).T,    3 * M.T"
   ]
  },
  {
   "cell_type": "code",
   "execution_count": 140,
   "id": "e550ff42-6b16-4812-a33f-d2434e298d69",
   "metadata": {},
   "outputs": [
    {
     "data": {
      "text/plain": [
       "(array([[19, 43],\n",
       "        [22, 50]]),\n",
       " array([[19, 43],\n",
       "        [22, 50]]))"
      ]
     },
     "execution_count": 140,
     "metadata": {},
     "output_type": "execute_result"
    }
   ],
   "source": [
    "(A @ B).T,     B.T @ A.T"
   ]
  },
  {
   "cell_type": "markdown",
   "id": "be87091e-f96f-40cf-986d-9e4bba99ed86",
   "metadata": {},
   "source": [
    "##### Read the size of matrix and then matrix values from user and print original matrix and its transpose"
   ]
  },
  {
   "cell_type": "code",
   "execution_count": 144,
   "id": "5186823a-9a0a-4d8e-a1ad-2c2d8ada62a0",
   "metadata": {},
   "outputs": [
    {
     "name": "stdin",
     "output_type": "stream",
     "text": [
      "How many rows?  2\n",
      "How many columns?  3\n",
      "Enter value 5\n",
      "Enter value 6\n",
      "Enter value 4\n",
      "Enter value 2\n",
      "Enter value 9\n",
      "Enter value 8\n"
     ]
    },
    {
     "name": "stdout",
     "output_type": "stream",
     "text": [
      "Original Matrix: \n",
      " [[5 6 4]\n",
      " [2 9 8]]\n",
      "Transpose:\n",
      " [[5 2]\n",
      " [6 9]\n",
      " [4 8]]\n"
     ]
    }
   ],
   "source": [
    "rows = int(input('How many rows? '))\n",
    "cols = int(input('How many columns? '))\n",
    "M0 = np.zeros([rows, cols], dtype=np.int16)\n",
    "\n",
    "for i in range(rows):\n",
    "    for j in range(cols):\n",
    "        num = int(input('Enter value'))\n",
    "        M0[i,j] = num\n",
    "\n",
    "print(\"Original Matrix: \\n\", M0)\n",
    "print(\"Transpose:\\n\", M0.T)"
   ]
  },
  {
   "cell_type": "markdown",
   "id": "bea62334-c269-49b9-8546-c5ce0e5da461",
   "metadata": {},
   "source": [
    "##### Trace"
   ]
  },
  {
   "cell_type": "code",
   "execution_count": 146,
   "id": "e150f054-156d-4764-9d62-c2038794745f",
   "metadata": {},
   "outputs": [],
   "source": [
    "M1 = np.array([[5,4,3],[1,7,8],[0,2,3],[7,5,1]], dtype = np.int8)\n",
    "M2 = np.array([[2,8,1],[0,2,5],[1,9,4]], dtype = np.int8)"
   ]
  },
  {
   "cell_type": "code",
   "execution_count": 147,
   "id": "c6aa8f4e-762d-42d3-988f-6057655605dd",
   "metadata": {},
   "outputs": [
    {
     "data": {
      "text/plain": [
       "array([[5, 4, 3],\n",
       "       [1, 7, 8],\n",
       "       [0, 2, 3],\n",
       "       [7, 5, 1]], dtype=int8)"
      ]
     },
     "execution_count": 147,
     "metadata": {},
     "output_type": "execute_result"
    }
   ],
   "source": [
    "M1"
   ]
  },
  {
   "cell_type": "code",
   "execution_count": 162,
   "id": "2c3cdab4-cb8d-4c2e-ad5c-c22676bbc88c",
   "metadata": {},
   "outputs": [
    {
     "data": {
      "text/plain": [
       "array([[2, 8, 1],\n",
       "       [0, 2, 5],\n",
       "       [1, 9, 4]], dtype=int8)"
      ]
     },
     "execution_count": 162,
     "metadata": {},
     "output_type": "execute_result"
    }
   ],
   "source": [
    "M2"
   ]
  },
  {
   "cell_type": "code",
   "execution_count": 149,
   "id": "288d69cc-e58e-4a4b-b276-d8f820266ecd",
   "metadata": {},
   "outputs": [
    {
     "data": {
      "text/plain": [
       "(4, 3)"
      ]
     },
     "execution_count": 149,
     "metadata": {},
     "output_type": "execute_result"
    }
   ],
   "source": [
    "M1.shape"
   ]
  },
  {
   "cell_type": "code",
   "execution_count": 150,
   "id": "86c458a4-5ccd-4742-8a5c-ec250339e4e8",
   "metadata": {},
   "outputs": [
    {
     "data": {
      "text/plain": [
       "(3, 3)"
      ]
     },
     "execution_count": 150,
     "metadata": {},
     "output_type": "execute_result"
    }
   ],
   "source": [
    "M2.shape"
   ]
  },
  {
   "cell_type": "code",
   "execution_count": 163,
   "id": "5b18b816-c6cb-432a-9327-bcded09b3c0f",
   "metadata": {},
   "outputs": [],
   "source": [
    "add = 0\n",
    "for i in range(min(M1.shape)):\n",
    "    add = M1[i,i] + add"
   ]
  },
  {
   "cell_type": "code",
   "execution_count": 164,
   "id": "01528f13-7822-4edb-baa9-f93bafcd6be1",
   "metadata": {},
   "outputs": [
    {
     "data": {
      "text/plain": [
       "15"
      ]
     },
     "execution_count": 164,
     "metadata": {},
     "output_type": "execute_result"
    }
   ],
   "source": [
    "add"
   ]
  },
  {
   "cell_type": "code",
   "execution_count": 165,
   "id": "7188ba15-5f38-44a8-9d9d-9f74a67d88ed",
   "metadata": {},
   "outputs": [
    {
     "data": {
      "text/plain": [
       "8"
      ]
     },
     "execution_count": 165,
     "metadata": {},
     "output_type": "execute_result"
    }
   ],
   "source": [
    "add = 0\n",
    "for i in range(min(M2.shape)):\n",
    "    add = M2[i,i] + add\n",
    "add"
   ]
  },
  {
   "cell_type": "code",
   "execution_count": 160,
   "id": "8a0c3989-48d6-4a95-9035-1d1ce4dde902",
   "metadata": {},
   "outputs": [
    {
     "data": {
      "text/plain": [
       "array([[2, 8, 1],\n",
       "       [0, 2, 5],\n",
       "       [1, 9, 4]], dtype=int8)"
      ]
     },
     "execution_count": 160,
     "metadata": {},
     "output_type": "execute_result"
    }
   ],
   "source": [
    "M2"
   ]
  },
  {
   "cell_type": "code",
   "execution_count": 166,
   "id": "81aeb746-9120-4eff-86ee-1c45715ba02a",
   "metadata": {},
   "outputs": [
    {
     "data": {
      "text/plain": [
       "array([5, 7, 3], dtype=int8)"
      ]
     },
     "execution_count": 166,
     "metadata": {},
     "output_type": "execute_result"
    }
   ],
   "source": [
    "M1.diagonal()"
   ]
  },
  {
   "cell_type": "code",
   "execution_count": 167,
   "id": "e83e9c4a-05fc-4e3f-8608-8e55dec68a03",
   "metadata": {},
   "outputs": [
    {
     "data": {
      "text/plain": [
       "array([2, 2, 4], dtype=int8)"
      ]
     },
     "execution_count": 167,
     "metadata": {},
     "output_type": "execute_result"
    }
   ],
   "source": [
    "M2.diagonal()"
   ]
  },
  {
   "cell_type": "code",
   "execution_count": 168,
   "id": "cde69759-47ff-404f-892a-a1621651c98e",
   "metadata": {},
   "outputs": [
    {
     "data": {
      "text/plain": [
       "15"
      ]
     },
     "execution_count": 168,
     "metadata": {},
     "output_type": "execute_result"
    }
   ],
   "source": [
    "sum(M1.diagonal())"
   ]
  },
  {
   "cell_type": "code",
   "execution_count": 169,
   "id": "ae9db5c9-aea5-43ed-9f82-33cebf18f98f",
   "metadata": {},
   "outputs": [
    {
     "data": {
      "text/plain": [
       "8"
      ]
     },
     "execution_count": 169,
     "metadata": {},
     "output_type": "execute_result"
    }
   ],
   "source": [
    "M2.diagonal().sum()"
   ]
  },
  {
   "cell_type": "code",
   "execution_count": 170,
   "id": "123badcf-47af-4223-8091-8f820bc1f44f",
   "metadata": {},
   "outputs": [
    {
     "data": {
      "text/plain": [
       "15"
      ]
     },
     "execution_count": 170,
     "metadata": {},
     "output_type": "execute_result"
    }
   ],
   "source": [
    "M1.trace()"
   ]
  },
  {
   "cell_type": "code",
   "execution_count": 171,
   "id": "c8fcb03f-d047-4bc6-b643-d66a66e19c37",
   "metadata": {},
   "outputs": [
    {
     "data": {
      "text/plain": [
       "8"
      ]
     },
     "execution_count": 171,
     "metadata": {},
     "output_type": "execute_result"
    }
   ],
   "source": [
    "np.trace(M2)"
   ]
  },
  {
   "cell_type": "code",
   "execution_count": 173,
   "id": "34bcf349-c346-4228-95ed-d7f981c784fc",
   "metadata": {},
   "outputs": [
    {
     "data": {
      "text/plain": [
       "(69, 69)"
      ]
     },
     "execution_count": 173,
     "metadata": {},
     "output_type": "execute_result"
    }
   ],
   "source": [
    "np.trace(A @ B),    np.trace(B @ A)"
   ]
  },
  {
   "cell_type": "code",
   "execution_count": 178,
   "id": "2345d678-ddaa-4be8-b298-f77cc56cbc86",
   "metadata": {},
   "outputs": [
    {
     "data": {
      "text/plain": [
       "(15, 15)"
      ]
     },
     "execution_count": 178,
     "metadata": {},
     "output_type": "execute_result"
    }
   ],
   "source": [
    "M1.trace(),         M.T.trace()"
   ]
  },
  {
   "cell_type": "code",
   "execution_count": 179,
   "id": "ed411d09-43f9-4c16-b697-bc95ccb9d09f",
   "metadata": {},
   "outputs": [
    {
     "data": {
      "text/plain": [
       "(45, 45)"
      ]
     },
     "execution_count": 179,
     "metadata": {},
     "output_type": "execute_result"
    }
   ],
   "source": [
    "np.trace(M1 * 3),      3 * M1.trace()"
   ]
  },
  {
   "cell_type": "code",
   "execution_count": 182,
   "id": "76adbfd4-a3e3-420b-a6c4-a66fe5f4559d",
   "metadata": {},
   "outputs": [
    {
     "data": {
      "text/plain": [
       "(18, 18)"
      ]
     },
     "execution_count": 182,
     "metadata": {},
     "output_type": "execute_result"
    }
   ],
   "source": [
    "A.trace() + B.trace(),     np.trace(A + B)"
   ]
  },
  {
   "cell_type": "markdown",
   "id": "3f1dd3b1-0648-4b32-a400-58fa9122d0c9",
   "metadata": {},
   "source": [
    "##### Determinant of matrix"
   ]
  },
  {
   "cell_type": "code",
   "execution_count": 186,
   "id": "4ce6d326-7cdb-49f8-9374-e1a7bdafa9aa",
   "metadata": {},
   "outputs": [
    {
     "data": {
      "text/plain": [
       "array([[2, 8, 1],\n",
       "       [0, 2, 5],\n",
       "       [1, 9, 4]], dtype=int8)"
      ]
     },
     "execution_count": 186,
     "metadata": {},
     "output_type": "execute_result"
    }
   ],
   "source": [
    "M2"
   ]
  },
  {
   "cell_type": "code",
   "execution_count": 187,
   "id": "6b230ec7-5850-4816-b9f3-bed76f63bc52",
   "metadata": {},
   "outputs": [
    {
     "data": {
      "text/plain": [
       "-36.0"
      ]
     },
     "execution_count": 187,
     "metadata": {},
     "output_type": "execute_result"
    }
   ],
   "source": [
    "np.linalg.det(M2)"
   ]
  },
  {
   "cell_type": "code",
   "execution_count": 188,
   "id": "127648b4-875f-4c99-a171-9f14e6ebd2ba",
   "metadata": {},
   "outputs": [
    {
     "data": {
      "text/plain": [
       "array([[1, 2],\n",
       "       [3, 4]])"
      ]
     },
     "execution_count": 188,
     "metadata": {},
     "output_type": "execute_result"
    }
   ],
   "source": [
    "A"
   ]
  },
  {
   "cell_type": "code",
   "execution_count": 189,
   "id": "5e7eca0c-fc6d-4fa4-89ab-baacb41213d4",
   "metadata": {},
   "outputs": [
    {
     "data": {
      "text/plain": [
       "-2.0000000000000004"
      ]
     },
     "execution_count": 189,
     "metadata": {},
     "output_type": "execute_result"
    }
   ],
   "source": [
    "np.linalg.det(A)"
   ]
  },
  {
   "cell_type": "markdown",
   "id": "33f18a7b-3935-4fe5-a4eb-15a982b76b1e",
   "metadata": {},
   "source": [
    "##### Inverse of matrix"
   ]
  },
  {
   "cell_type": "code",
   "execution_count": 192,
   "id": "420d42ca-398d-4b8b-bb66-aace9d6faa94",
   "metadata": {},
   "outputs": [
    {
     "data": {
      "text/plain": [
       "array([[2, 8, 1],\n",
       "       [0, 2, 5],\n",
       "       [1, 9, 4]], dtype=int8)"
      ]
     },
     "execution_count": 192,
     "metadata": {},
     "output_type": "execute_result"
    }
   ],
   "source": [
    "M2"
   ]
  },
  {
   "cell_type": "code",
   "execution_count": 197,
   "id": "c94e7c40-a6d1-4583-9d0b-b2e1b2a4136b",
   "metadata": {},
   "outputs": [
    {
     "data": {
      "text/plain": [
       "array([[ 1.03,  0.64, -1.06],\n",
       "       [-0.14, -0.19,  0.28],\n",
       "       [ 0.06,  0.28, -0.11]])"
      ]
     },
     "execution_count": 197,
     "metadata": {},
     "output_type": "execute_result"
    }
   ],
   "source": [
    "%precision 2\n",
    "np.linalg.inv(M2)"
   ]
  },
  {
   "cell_type": "code",
   "execution_count": 194,
   "id": "151452ed-39aa-4fd1-9e59-8752086c0b26",
   "metadata": {},
   "outputs": [
    {
     "data": {
      "text/plain": [
       "array([[-2. ,  1. ],\n",
       "       [ 1.5, -0.5]])"
      ]
     },
     "execution_count": 194,
     "metadata": {},
     "output_type": "execute_result"
    }
   ],
   "source": [
    "np.linalg.inv(A)"
   ]
  },
  {
   "cell_type": "markdown",
   "id": "eb62834f-b7ea-4c92-b399-1f803289bc95",
   "metadata": {},
   "source": [
    "##### Rank of the matrix"
   ]
  },
  {
   "cell_type": "code",
   "execution_count": 199,
   "id": "3fb4b77b-bff9-49d4-811c-3e767de24eec",
   "metadata": {},
   "outputs": [
    {
     "data": {
      "text/plain": [
       "array([[5, 4, 3],\n",
       "       [1, 7, 8],\n",
       "       [0, 2, 3],\n",
       "       [7, 5, 1]], dtype=int8)"
      ]
     },
     "execution_count": 199,
     "metadata": {},
     "output_type": "execute_result"
    }
   ],
   "source": [
    "M1"
   ]
  },
  {
   "cell_type": "code",
   "execution_count": 201,
   "id": "6488c922-6856-4b6e-9dc7-116834953f07",
   "metadata": {},
   "outputs": [
    {
     "data": {
      "text/plain": [
       "3"
      ]
     },
     "execution_count": 201,
     "metadata": {},
     "output_type": "execute_result"
    }
   ],
   "source": [
    "np.linalg.matrix_rank(M1)"
   ]
  },
  {
   "cell_type": "code",
   "execution_count": 202,
   "id": "64bb682e-8824-46ed-a1da-eac3fb88acdf",
   "metadata": {},
   "outputs": [],
   "source": [
    "M3 = np.array([[1,2,3],[4,5,12],[2,7,6]])"
   ]
  },
  {
   "cell_type": "code",
   "execution_count": 203,
   "id": "4f00ee82-b957-4d7d-8c3b-6700d468e2a1",
   "metadata": {},
   "outputs": [
    {
     "data": {
      "text/plain": [
       "array([[ 1,  2,  3],\n",
       "       [ 4,  5, 12],\n",
       "       [ 2,  7,  6]])"
      ]
     },
     "execution_count": 203,
     "metadata": {},
     "output_type": "execute_result"
    }
   ],
   "source": [
    "M3"
   ]
  },
  {
   "cell_type": "code",
   "execution_count": 205,
   "id": "d8322488-babb-4998-b660-624344404c1d",
   "metadata": {},
   "outputs": [
    {
     "data": {
      "text/plain": [
       "array([1, 4, 2])"
      ]
     },
     "execution_count": 205,
     "metadata": {},
     "output_type": "execute_result"
    }
   ],
   "source": [
    "M3[:,0]"
   ]
  },
  {
   "cell_type": "code",
   "execution_count": 206,
   "id": "5f1dc024-ae3e-457a-8b1a-26bd47d7890b",
   "metadata": {},
   "outputs": [
    {
     "data": {
      "text/plain": [
       "array([ 3, 12,  6])"
      ]
     },
     "execution_count": 206,
     "metadata": {},
     "output_type": "execute_result"
    }
   ],
   "source": [
    "M3[:,0] * 3"
   ]
  },
  {
   "cell_type": "code",
   "execution_count": 207,
   "id": "cff88a24-01cf-4f60-9d41-a4d1b884c42a",
   "metadata": {},
   "outputs": [
    {
     "data": {
      "text/plain": [
       "2"
      ]
     },
     "execution_count": 207,
     "metadata": {},
     "output_type": "execute_result"
    }
   ],
   "source": [
    "np.linalg.matrix_rank(M3)"
   ]
  },
  {
   "cell_type": "code",
   "execution_count": 209,
   "id": "c1d9890f-2f31-4ac5-88c4-393a74e75a3a",
   "metadata": {},
   "outputs": [],
   "source": [
    "M4 = np.array([[1,2,3],[4,8,12],[2,4,6]])"
   ]
  },
  {
   "cell_type": "code",
   "execution_count": 210,
   "id": "dd35d07f-8eb1-450e-a707-92f6b113d7bb",
   "metadata": {},
   "outputs": [
    {
     "data": {
      "text/plain": [
       "array([[ 1,  2,  3],\n",
       "       [ 4,  8, 12],\n",
       "       [ 2,  4,  6]])"
      ]
     },
     "execution_count": 210,
     "metadata": {},
     "output_type": "execute_result"
    }
   ],
   "source": [
    "M4"
   ]
  },
  {
   "cell_type": "code",
   "execution_count": 211,
   "id": "5c0153d1-1b9c-4c1f-8415-d1bbb209dafd",
   "metadata": {},
   "outputs": [
    {
     "data": {
      "text/plain": [
       "1"
      ]
     },
     "execution_count": 211,
     "metadata": {},
     "output_type": "execute_result"
    }
   ],
   "source": [
    "np.linalg.matrix_rank(M4)"
   ]
  },
  {
   "cell_type": "markdown",
   "id": "3514d8fa-a492-4e4b-91f2-31e80ecaf4e6",
   "metadata": {},
   "source": [
    "#### Types of matrices"
   ]
  },
  {
   "cell_type": "markdown",
   "id": "a0fd93c1-1f23-4e32-a729-ff8b7ef0ef8b",
   "metadata": {},
   "source": [
    "##### Row matrix"
   ]
  },
  {
   "cell_type": "code",
   "execution_count": 227,
   "id": "804cdde4-e332-4c35-b34f-acae2e912ca9",
   "metadata": {},
   "outputs": [],
   "source": [
    "R = np.array([[3,4,5],[1,3,8]])"
   ]
  },
  {
   "cell_type": "code",
   "execution_count": 228,
   "id": "22e93d40-a52d-43ce-95e3-22cadcc5f219",
   "metadata": {},
   "outputs": [
    {
     "data": {
      "text/plain": [
       "array([[3, 4, 5],\n",
       "       [1, 3, 8]])"
      ]
     },
     "execution_count": 228,
     "metadata": {},
     "output_type": "execute_result"
    }
   ],
   "source": [
    "R"
   ]
  },
  {
   "cell_type": "code",
   "execution_count": 229,
   "id": "f7b3b4a9-7f67-4d50-9077-461fe8e6235e",
   "metadata": {},
   "outputs": [],
   "source": [
    "R = R.reshape(1,-1)"
   ]
  },
  {
   "cell_type": "code",
   "execution_count": 230,
   "id": "8335b9ee-c150-4fcb-b412-00eabaa1edb5",
   "metadata": {},
   "outputs": [
    {
     "data": {
      "text/plain": [
       "array([[3, 4, 5, 1, 3, 8]])"
      ]
     },
     "execution_count": 230,
     "metadata": {},
     "output_type": "execute_result"
    }
   ],
   "source": [
    "R"
   ]
  },
  {
   "cell_type": "code",
   "execution_count": 231,
   "id": "aab76ed7-4335-47a7-9194-a6a1e493880d",
   "metadata": {},
   "outputs": [
    {
     "data": {
      "text/plain": [
       "(1, 6)"
      ]
     },
     "execution_count": 231,
     "metadata": {},
     "output_type": "execute_result"
    }
   ],
   "source": [
    "R.shape"
   ]
  },
  {
   "cell_type": "markdown",
   "id": "17d3f6d3-b43d-4c00-a9a7-32a4c3ca6716",
   "metadata": {},
   "source": [
    "##### Column Matrix"
   ]
  },
  {
   "cell_type": "code",
   "execution_count": 221,
   "id": "8b018c32-05c6-4dc0-b4cc-7f89cee99fe3",
   "metadata": {},
   "outputs": [],
   "source": [
    "C = np.array([[3,4,5],[1,3,8]])"
   ]
  },
  {
   "cell_type": "code",
   "execution_count": 222,
   "id": "d670101d-5d56-45df-ba9e-73cbe13ecfb4",
   "metadata": {},
   "outputs": [],
   "source": [
    "C = C.reshape(-1, 1)"
   ]
  },
  {
   "cell_type": "code",
   "execution_count": 223,
   "id": "b9e0f52f-80ad-4e8a-8030-ef7e87469364",
   "metadata": {},
   "outputs": [
    {
     "data": {
      "text/plain": [
       "array([[3],\n",
       "       [4],\n",
       "       [5],\n",
       "       [1],\n",
       "       [3],\n",
       "       [8]])"
      ]
     },
     "execution_count": 223,
     "metadata": {},
     "output_type": "execute_result"
    }
   ],
   "source": [
    "C"
   ]
  },
  {
   "cell_type": "code",
   "execution_count": 224,
   "id": "ce1e16ce-89dc-4fb5-9fff-b35f77ef69c1",
   "metadata": {},
   "outputs": [
    {
     "data": {
      "text/plain": [
       "(6, 1)"
      ]
     },
     "execution_count": 224,
     "metadata": {},
     "output_type": "execute_result"
    }
   ],
   "source": [
    "C.shape"
   ]
  },
  {
   "cell_type": "code",
   "execution_count": 225,
   "id": "14fece5b-c194-4f7b-898b-f5ef91c296e4",
   "metadata": {},
   "outputs": [
    {
     "data": {
      "text/plain": [
       "array([[3, 4, 5, 1, 3, 8]])"
      ]
     },
     "execution_count": 225,
     "metadata": {},
     "output_type": "execute_result"
    }
   ],
   "source": [
    "C.T"
   ]
  },
  {
   "cell_type": "code",
   "execution_count": 232,
   "id": "9d98510e-8307-429e-947c-b1c6a2239f9e",
   "metadata": {},
   "outputs": [
    {
     "data": {
      "text/plain": [
       "array([[3],\n",
       "       [4],\n",
       "       [5],\n",
       "       [1],\n",
       "       [3],\n",
       "       [8]])"
      ]
     },
     "execution_count": 232,
     "metadata": {},
     "output_type": "execute_result"
    }
   ],
   "source": [
    "R.T"
   ]
  },
  {
   "cell_type": "markdown",
   "id": "6ea50acc-4587-412c-9c43-6b5ca6df0ec1",
   "metadata": {},
   "source": [
    "##### Square Matrix"
   ]
  },
  {
   "cell_type": "code",
   "execution_count": 234,
   "id": "119f5fca-0e9c-48e3-b491-c8521f6b38da",
   "metadata": {},
   "outputs": [],
   "source": [
    "S = np.array([[3,4,5],[1,3,8],[9,0,2]])"
   ]
  },
  {
   "cell_type": "code",
   "execution_count": 235,
   "id": "c07edd87-8907-4bbb-abe9-a9cfa7f84092",
   "metadata": {},
   "outputs": [
    {
     "data": {
      "text/plain": [
       "array([[3, 4, 5],\n",
       "       [1, 3, 8],\n",
       "       [9, 0, 2]])"
      ]
     },
     "execution_count": 235,
     "metadata": {},
     "output_type": "execute_result"
    }
   ],
   "source": [
    "S"
   ]
  },
  {
   "cell_type": "code",
   "execution_count": 236,
   "id": "d96b5854-d89d-44ba-8977-cef8194877ec",
   "metadata": {},
   "outputs": [],
   "source": [
    "def isSquareMatrix(M):\n",
    "    if M.shape[0] == M.shape[1]:\n",
    "        return True\n",
    "    else:\n",
    "        return False"
   ]
  },
  {
   "cell_type": "code",
   "execution_count": 237,
   "id": "6d872357-e768-40f0-8ff7-b749ba39eefb",
   "metadata": {},
   "outputs": [
    {
     "data": {
      "text/plain": [
       "True"
      ]
     },
     "execution_count": 237,
     "metadata": {},
     "output_type": "execute_result"
    }
   ],
   "source": [
    "isSquareMatrix(S)"
   ]
  },
  {
   "cell_type": "code",
   "execution_count": 239,
   "id": "e8141ff5-adb0-4d28-8a06-19431c4ffc19",
   "metadata": {},
   "outputs": [
    {
     "data": {
      "text/plain": [
       "False"
      ]
     },
     "execution_count": 239,
     "metadata": {},
     "output_type": "execute_result"
    }
   ],
   "source": [
    "isSquareMatrix(M1)"
   ]
  },
  {
   "cell_type": "markdown",
   "id": "f5b4c7d7-92e5-48d8-af9f-918e0a988f9d",
   "metadata": {},
   "source": [
    "##### Rectangular Matrix"
   ]
  },
  {
   "cell_type": "code",
   "execution_count": 240,
   "id": "a378a50b-4463-4adb-b845-f9e58e00f616",
   "metadata": {},
   "outputs": [],
   "source": [
    "def isRectangularMatrix(M):\n",
    "    if M.shape[0] != M.shape[1]:\n",
    "        return True\n",
    "    else:\n",
    "        return False"
   ]
  },
  {
   "cell_type": "code",
   "execution_count": 241,
   "id": "a4af995b-f0ba-476e-89bf-f4601fae1877",
   "metadata": {},
   "outputs": [
    {
     "data": {
      "text/plain": [
       "True"
      ]
     },
     "execution_count": 241,
     "metadata": {},
     "output_type": "execute_result"
    }
   ],
   "source": [
    "isRectangularMatrix(M1)"
   ]
  },
  {
   "cell_type": "code",
   "execution_count": 242,
   "id": "65b722f4-1ec1-4e24-99f0-097a2edb8203",
   "metadata": {},
   "outputs": [
    {
     "data": {
      "text/plain": [
       "False"
      ]
     },
     "execution_count": 242,
     "metadata": {},
     "output_type": "execute_result"
    }
   ],
   "source": [
    "isRectangularMatrix(S)"
   ]
  },
  {
   "cell_type": "markdown",
   "id": "a28db315-fc2b-4dfe-83a5-17d44f6c5ee8",
   "metadata": {},
   "source": [
    "##### Diagonal Matrix"
   ]
  },
  {
   "cell_type": "code",
   "execution_count": 245,
   "id": "5761d82a-c88f-490f-9e4b-a3799ba216cd",
   "metadata": {},
   "outputs": [
    {
     "data": {
      "text/plain": [
       "7"
      ]
     },
     "execution_count": 245,
     "metadata": {},
     "output_type": "execute_result"
    }
   ],
   "source": [
    "np.random.randint(1,10)"
   ]
  },
  {
   "cell_type": "code",
   "execution_count": 247,
   "id": "3d1585c6-70cf-4bca-a523-f10dc44c1711",
   "metadata": {},
   "outputs": [],
   "source": [
    "# Create a diagonal square matrix with n rows/colums\n",
    "# Read value of n from user and print the matrix"
   ]
  },
  {
   "cell_type": "code",
   "execution_count": 250,
   "id": "420287b7-c7bc-4a20-8764-d2f0c028b002",
   "metadata": {},
   "outputs": [
    {
     "name": "stdin",
     "output_type": "stream",
     "text": [
      "Enter number of rows:  5\n"
     ]
    },
    {
     "data": {
      "text/plain": [
       "array([[9, 0, 0, 0, 0],\n",
       "       [0, 5, 0, 0, 0],\n",
       "       [0, 0, 5, 0, 0],\n",
       "       [0, 0, 0, 8, 0],\n",
       "       [0, 0, 0, 0, 3]], dtype=int16)"
      ]
     },
     "execution_count": 250,
     "metadata": {},
     "output_type": "execute_result"
    }
   ],
   "source": [
    "rc = int(input('Enter number of rows: '))\n",
    "D = np.zeros([rc, rc], dtype=np.int16)\n",
    "for i in range(rc):\n",
    "    D[i,i] = np.random.randint(1,10)\n",
    "\n",
    "D"
   ]
  },
  {
   "cell_type": "code",
   "execution_count": 260,
   "id": "2cfe00e7-14d8-418e-8766-ecee3f35247e",
   "metadata": {},
   "outputs": [
    {
     "data": {
      "text/plain": [
       "5"
      ]
     },
     "execution_count": 260,
     "metadata": {},
     "output_type": "execute_result"
    }
   ],
   "source": [
    "(D > 0).flatten().sum()"
   ]
  },
  {
   "cell_type": "code",
   "execution_count": 261,
   "id": "7894855c-4be8-4eef-8e80-77f14d5bcb89",
   "metadata": {},
   "outputs": [],
   "source": [
    "def isDiagonalMatrix(M):\n",
    "    if (M > 0).flatten().sum() == M.shape[0]:\n",
    "        return True\n",
    "    else:\n",
    "        return False"
   ]
  },
  {
   "cell_type": "code",
   "execution_count": 262,
   "id": "53ca4327-83f0-48a0-bca6-688d2942b5ca",
   "metadata": {},
   "outputs": [
    {
     "data": {
      "text/plain": [
       "True"
      ]
     },
     "execution_count": 262,
     "metadata": {},
     "output_type": "execute_result"
    }
   ],
   "source": [
    "isDiagonalMatrix(D)"
   ]
  },
  {
   "cell_type": "code",
   "execution_count": 264,
   "id": "6f0f4c67-363f-47e8-aa29-7b2c43bd0ab7",
   "metadata": {},
   "outputs": [
    {
     "data": {
      "text/plain": [
       "False"
      ]
     },
     "execution_count": 264,
     "metadata": {},
     "output_type": "execute_result"
    }
   ],
   "source": [
    "isDiagonalMatrix(M2)"
   ]
  },
  {
   "cell_type": "markdown",
   "id": "7a7fc1db-5f37-4156-b570-bd54e0fcfb71",
   "metadata": {},
   "source": [
    "##### Identity Matrix"
   ]
  },
  {
   "cell_type": "code",
   "execution_count": 266,
   "id": "c5314bf8-a31f-4f1c-a703-c74f6ee54ebc",
   "metadata": {},
   "outputs": [],
   "source": [
    "I = np.zeros([4,4], dtype=np.int16)"
   ]
  },
  {
   "cell_type": "code",
   "execution_count": 270,
   "id": "b73585a8-958c-4be9-9c0b-30fb782fa098",
   "metadata": {},
   "outputs": [
    {
     "name": "stdin",
     "output_type": "stream",
     "text": [
      "Enter number of rows:  4\n"
     ]
    },
    {
     "data": {
      "text/plain": [
       "array([[1, 0, 0, 0],\n",
       "       [0, 1, 0, 0],\n",
       "       [0, 0, 1, 0],\n",
       "       [0, 0, 0, 1]], dtype=int16)"
      ]
     },
     "execution_count": 270,
     "metadata": {},
     "output_type": "execute_result"
    }
   ],
   "source": [
    "rc = int(input('Enter number of rows: '))\n",
    "I = np.zeros([rc, rc], dtype=np.int16)\n",
    "for i in range(rc):\n",
    "    I[i,i] = 1\n",
    "\n",
    "I"
   ]
  },
  {
   "cell_type": "code",
   "execution_count": 272,
   "id": "28ea8bb1-14ce-43cd-a720-4c00585c1c8b",
   "metadata": {},
   "outputs": [],
   "source": [
    "def isIdentityMatrix(M):\n",
    "    if M.flatten().sum() == M.shape[0]:\n",
    "        return True\n",
    "    else:\n",
    "        return False"
   ]
  },
  {
   "cell_type": "code",
   "execution_count": 273,
   "id": "240d65ce-05e3-4ece-9030-a6a487c2290b",
   "metadata": {},
   "outputs": [
    {
     "data": {
      "text/plain": [
       "True"
      ]
     },
     "execution_count": 273,
     "metadata": {},
     "output_type": "execute_result"
    }
   ],
   "source": [
    "isIdentityMatrix(I)"
   ]
  },
  {
   "cell_type": "code",
   "execution_count": 274,
   "id": "67537ec2-3516-4d14-92ab-f1acd8e3a97e",
   "metadata": {},
   "outputs": [
    {
     "data": {
      "text/plain": [
       "False"
      ]
     },
     "execution_count": 274,
     "metadata": {},
     "output_type": "execute_result"
    }
   ],
   "source": [
    "isIdentityMatrix(D)"
   ]
  },
  {
   "cell_type": "markdown",
   "id": "4d8ef119-4c7d-4f6a-b351-60d0ddaaa8b3",
   "metadata": {},
   "source": [
    "##### Symmetric Matrix"
   ]
  },
  {
   "cell_type": "code",
   "execution_count": 277,
   "id": "7ef60d8f-29e3-4f21-9f12-47f9475f2ed9",
   "metadata": {},
   "outputs": [],
   "source": [
    "S = np.array([[2,3,6],[3,4,5],[6,5,9]], dtype = np.int8)"
   ]
  },
  {
   "cell_type": "code",
   "execution_count": 278,
   "id": "0de6ebb9-c6be-4b1f-88d2-9b3057409c63",
   "metadata": {},
   "outputs": [
    {
     "data": {
      "text/plain": [
       "array([[2, 3, 6],\n",
       "       [3, 4, 5],\n",
       "       [6, 5, 9]], dtype=int8)"
      ]
     },
     "execution_count": 278,
     "metadata": {},
     "output_type": "execute_result"
    }
   ],
   "source": [
    "S"
   ]
  },
  {
   "cell_type": "code",
   "execution_count": 279,
   "id": "673bafc5-4333-4e08-aa9d-0bb5ac19a516",
   "metadata": {},
   "outputs": [
    {
     "data": {
      "text/plain": [
       "array([[2, 3, 6],\n",
       "       [3, 4, 5],\n",
       "       [6, 5, 9]], dtype=int8)"
      ]
     },
     "execution_count": 279,
     "metadata": {},
     "output_type": "execute_result"
    }
   ],
   "source": [
    "S.T"
   ]
  },
  {
   "cell_type": "code",
   "execution_count": 281,
   "id": "bb464dce-584a-4817-abf2-c24aef0e6447",
   "metadata": {},
   "outputs": [
    {
     "data": {
      "text/plain": [
       "9"
      ]
     },
     "execution_count": 281,
     "metadata": {},
     "output_type": "execute_result"
    }
   ],
   "source": [
    "(S == S.T).flatten().sum()"
   ]
  },
  {
   "cell_type": "code",
   "execution_count": 282,
   "id": "5da61185-0992-42d7-963b-73af9a4d0611",
   "metadata": {},
   "outputs": [
    {
     "data": {
      "text/plain": [
       "9"
      ]
     },
     "execution_count": 282,
     "metadata": {},
     "output_type": "execute_result"
    }
   ],
   "source": [
    "S.size"
   ]
  },
  {
   "cell_type": "code",
   "execution_count": 283,
   "id": "b082a8b7-463e-4fb4-8083-5fb13af02718",
   "metadata": {},
   "outputs": [],
   "source": [
    "def isSymmetricMatrix(M):\n",
    "    if (M == M.T).flatten().sum() == M.size:\n",
    "        return True\n",
    "    else:\n",
    "        return False"
   ]
  },
  {
   "cell_type": "code",
   "execution_count": 284,
   "id": "79d49ed5-0168-4b8a-9ad0-fc6669addbdb",
   "metadata": {},
   "outputs": [
    {
     "data": {
      "text/plain": [
       "True"
      ]
     },
     "execution_count": 284,
     "metadata": {},
     "output_type": "execute_result"
    }
   ],
   "source": [
    "isSymmetricMatrix(S)"
   ]
  },
  {
   "cell_type": "code",
   "execution_count": 286,
   "id": "3f66b565-20ee-48a8-b1b8-7f43dc7d8ab8",
   "metadata": {},
   "outputs": [
    {
     "data": {
      "text/plain": [
       "False"
      ]
     },
     "execution_count": 286,
     "metadata": {},
     "output_type": "execute_result"
    }
   ],
   "source": [
    "isSymmetricMatrix(M2)"
   ]
  },
  {
   "cell_type": "markdown",
   "id": "66197ef2-dcd3-4897-94cc-f1860a28b38f",
   "metadata": {},
   "source": [
    "##### Skew-Symmetric Matrix"
   ]
  },
  {
   "cell_type": "code",
   "execution_count": 288,
   "id": "61f98af9-6661-41bb-9913-072230421953",
   "metadata": {},
   "outputs": [],
   "source": [
    "S1 = np.array([[0,3],[-3,0]])"
   ]
  },
  {
   "cell_type": "code",
   "execution_count": 289,
   "id": "581439fc-7be4-4d18-93e9-0f306fa24374",
   "metadata": {},
   "outputs": [
    {
     "data": {
      "text/plain": [
       "array([[ 0,  3],\n",
       "       [-3,  0]])"
      ]
     },
     "execution_count": 289,
     "metadata": {},
     "output_type": "execute_result"
    }
   ],
   "source": [
    "S1"
   ]
  },
  {
   "cell_type": "code",
   "execution_count": 290,
   "id": "537d91c5-5d0c-4b8b-bd2a-4254b6a0990e",
   "metadata": {},
   "outputs": [
    {
     "data": {
      "text/plain": [
       "array([[ 0,  3],\n",
       "       [-3,  0]])"
      ]
     },
     "execution_count": 290,
     "metadata": {},
     "output_type": "execute_result"
    }
   ],
   "source": [
    "-S1.T"
   ]
  },
  {
   "cell_type": "code",
   "execution_count": 291,
   "id": "b7508d67-6c6f-4160-8aeb-3c49390a5f50",
   "metadata": {},
   "outputs": [],
   "source": [
    "def isSkewSymmetricMatrix(M):\n",
    "    if (M == -M.T).flatten().sum() == M.size:\n",
    "        return True\n",
    "    else:\n",
    "        return False"
   ]
  },
  {
   "cell_type": "code",
   "execution_count": 292,
   "id": "21ac943d-ecc1-4b0a-88dd-ac35ba3a8dd5",
   "metadata": {},
   "outputs": [
    {
     "data": {
      "text/plain": [
       "True"
      ]
     },
     "execution_count": 292,
     "metadata": {},
     "output_type": "execute_result"
    }
   ],
   "source": [
    "isSkewSymmetricMatrix(S1)"
   ]
  },
  {
   "cell_type": "code",
   "execution_count": 293,
   "id": "d4e3a44a-ad4e-42fd-a3b9-2c08084721f7",
   "metadata": {},
   "outputs": [
    {
     "data": {
      "text/plain": [
       "False"
      ]
     },
     "execution_count": 293,
     "metadata": {},
     "output_type": "execute_result"
    }
   ],
   "source": [
    "isSkewSymmetricMatrix(S)"
   ]
  },
  {
   "cell_type": "markdown",
   "id": "27c4b95f-c387-4466-a41e-78a536ac9772",
   "metadata": {},
   "source": [
    "##### Orthogonal Matrix"
   ]
  },
  {
   "cell_type": "code",
   "execution_count": 294,
   "id": "5a30fe4f-cc18-41db-9a81-07a3fe155977",
   "metadata": {},
   "outputs": [
    {
     "data": {
      "text/plain": [
       "array([[1, 0, 0, 0],\n",
       "       [0, 1, 0, 0],\n",
       "       [0, 0, 1, 0],\n",
       "       [0, 0, 0, 1]], dtype=int16)"
      ]
     },
     "execution_count": 294,
     "metadata": {},
     "output_type": "execute_result"
    }
   ],
   "source": [
    "I"
   ]
  },
  {
   "cell_type": "code",
   "execution_count": 295,
   "id": "64866be5-c905-4602-bca4-0c1dc18842dd",
   "metadata": {},
   "outputs": [
    {
     "data": {
      "text/plain": [
       "array([[1, 0, 0, 0],\n",
       "       [0, 1, 0, 0],\n",
       "       [0, 0, 1, 0],\n",
       "       [0, 0, 0, 1]], dtype=int16)"
      ]
     },
     "execution_count": 295,
     "metadata": {},
     "output_type": "execute_result"
    }
   ],
   "source": [
    "I.T"
   ]
  },
  {
   "cell_type": "code",
   "execution_count": 299,
   "id": "83b9823d-87d9-424d-b537-03d6e450c22c",
   "metadata": {},
   "outputs": [
    {
     "data": {
      "text/plain": [
       "array([[1., 0., 0., 0.],\n",
       "       [0., 1., 0., 0.],\n",
       "       [0., 0., 1., 0.],\n",
       "       [0., 0., 0., 1.]])"
      ]
     },
     "execution_count": 299,
     "metadata": {},
     "output_type": "execute_result"
    }
   ],
   "source": [
    "np.linalg.inv(I)"
   ]
  },
  {
   "cell_type": "code",
   "execution_count": 309,
   "id": "aa199d72-67d9-40b4-a874-4c9b0a602131",
   "metadata": {},
   "outputs": [],
   "source": [
    "Rm = np.array([[np.cos(50), -np.sin(50)],[np.sin(50), np.cos(50)]])"
   ]
  },
  {
   "cell_type": "code",
   "execution_count": 310,
   "id": "8bd706b8-fa48-4fc4-8669-909ca13ba66f",
   "metadata": {},
   "outputs": [
    {
     "data": {
      "text/plain": [
       "array([[ 1.,  0.],\n",
       "       [-0.,  1.]])"
      ]
     },
     "execution_count": 310,
     "metadata": {},
     "output_type": "execute_result"
    }
   ],
   "source": [
    "Rm"
   ]
  },
  {
   "cell_type": "code",
   "execution_count": 311,
   "id": "6462da98-e5db-4a5c-9a1c-7867855345b6",
   "metadata": {},
   "outputs": [
    {
     "data": {
      "text/plain": [
       "array([[ 1., -0.],\n",
       "       [ 0.,  1.]])"
      ]
     },
     "execution_count": 311,
     "metadata": {},
     "output_type": "execute_result"
    }
   ],
   "source": [
    "Rm.T"
   ]
  },
  {
   "cell_type": "code",
   "execution_count": 312,
   "id": "034c598b-f436-43cd-a304-adfe806ae0a1",
   "metadata": {},
   "outputs": [
    {
     "data": {
      "text/plain": [
       "array([[ 1., -0.],\n",
       "       [ 0.,  1.]])"
      ]
     },
     "execution_count": 312,
     "metadata": {},
     "output_type": "execute_result"
    }
   ],
   "source": [
    "np.linalg.inv(Rm)"
   ]
  },
  {
   "cell_type": "code",
   "execution_count": 317,
   "id": "af39c101-baec-4d16-83a5-441e12a96069",
   "metadata": {},
   "outputs": [],
   "source": [
    "# permutation matrix\n",
    "P = np.array([[0,1,0],[1,0,0],[0,0,1]], dtype = np.int16)"
   ]
  },
  {
   "cell_type": "code",
   "execution_count": 318,
   "id": "28be4599-0cd1-4c6b-9b9a-0cafa7d274af",
   "metadata": {},
   "outputs": [
    {
     "data": {
      "text/plain": [
       "array([[0, 1, 0],\n",
       "       [1, 0, 0],\n",
       "       [0, 0, 1]], dtype=int16)"
      ]
     },
     "execution_count": 318,
     "metadata": {},
     "output_type": "execute_result"
    }
   ],
   "source": [
    "P"
   ]
  },
  {
   "cell_type": "code",
   "execution_count": 319,
   "id": "2a960fd0-ad56-4163-aec5-bc336b12afc0",
   "metadata": {},
   "outputs": [
    {
     "data": {
      "text/plain": [
       "array([[0, 1, 0],\n",
       "       [1, 0, 0],\n",
       "       [0, 0, 1]], dtype=int16)"
      ]
     },
     "execution_count": 319,
     "metadata": {},
     "output_type": "execute_result"
    }
   ],
   "source": [
    "P.T"
   ]
  },
  {
   "cell_type": "code",
   "execution_count": 320,
   "id": "594b9110-ea2d-49f5-905f-2980585e2bae",
   "metadata": {},
   "outputs": [
    {
     "data": {
      "text/plain": [
       "array([[0., 1., 0.],\n",
       "       [1., 0., 0.],\n",
       "       [0., 0., 1.]])"
      ]
     },
     "execution_count": 320,
     "metadata": {},
     "output_type": "execute_result"
    }
   ],
   "source": [
    "np.linalg.inv(P)"
   ]
  },
  {
   "cell_type": "code",
   "execution_count": 321,
   "id": "463d42f4-03a9-4861-9a77-ba3749c5c8c7",
   "metadata": {},
   "outputs": [
    {
     "data": {
      "text/plain": [
       "-1"
      ]
     },
     "execution_count": 321,
     "metadata": {},
     "output_type": "execute_result"
    }
   ],
   "source": [
    "np.linalg.det(P)"
   ]
  },
  {
   "cell_type": "code",
   "execution_count": 322,
   "id": "e503b191-57b0-4969-b601-dd1d994272b3",
   "metadata": {},
   "outputs": [
    {
     "data": {
      "text/plain": [
       "array([[1, 0, 0, 0],\n",
       "       [0, 1, 0, 0],\n",
       "       [0, 0, 1, 0],\n",
       "       [0, 0, 0, 1]], dtype=int16)"
      ]
     },
     "execution_count": 322,
     "metadata": {},
     "output_type": "execute_result"
    }
   ],
   "source": [
    "I"
   ]
  },
  {
   "cell_type": "code",
   "execution_count": 328,
   "id": "219afc93-9a9a-4532-9f41-81f749dd290a",
   "metadata": {},
   "outputs": [],
   "source": [
    "M5 = np.array([[5,4,1,3],[8,9,0,3],[2,1,4,9],[7,3,1,4]])"
   ]
  },
  {
   "cell_type": "code",
   "execution_count": 329,
   "id": "675e9b42-8cb3-4176-bcb7-c30b2a755b13",
   "metadata": {},
   "outputs": [
    {
     "data": {
      "text/plain": [
       "array([[5, 4, 1, 3],\n",
       "       [8, 9, 0, 3],\n",
       "       [2, 1, 4, 9],\n",
       "       [7, 3, 1, 4]])"
      ]
     },
     "execution_count": 329,
     "metadata": {},
     "output_type": "execute_result"
    }
   ],
   "source": [
    "M5"
   ]
  },
  {
   "cell_type": "code",
   "execution_count": 330,
   "id": "fd5bff97-bc35-4839-a45a-e3b4ca2a91bd",
   "metadata": {},
   "outputs": [
    {
     "data": {
      "text/plain": [
       "array([[5, 4, 1, 3],\n",
       "       [8, 9, 0, 3],\n",
       "       [2, 1, 4, 9],\n",
       "       [7, 3, 1, 4]])"
      ]
     },
     "execution_count": 330,
     "metadata": {},
     "output_type": "execute_result"
    }
   ],
   "source": [
    "M5 @ I"
   ]
  },
  {
   "cell_type": "markdown",
   "id": "f90b9b8b-b9f9-4990-b068-f21d4ec03156",
   "metadata": {},
   "source": [
    "##### Eigenvalues and Eigenvectors"
   ]
  },
  {
   "cell_type": "code",
   "execution_count": 333,
   "id": "4a2de2da-b9aa-4696-a583-b48efd58b54e",
   "metadata": {},
   "outputs": [],
   "source": [
    "A = np.array([[1,2],[3,4]], dtype = np.int8)"
   ]
  },
  {
   "cell_type": "code",
   "execution_count": 335,
   "id": "96096332-1c68-40d0-963d-28cc22dc0541",
   "metadata": {},
   "outputs": [],
   "source": [
    "value, vector = np.linalg.eig(A)"
   ]
  },
  {
   "cell_type": "code",
   "execution_count": 336,
   "id": "65e2a35a-8ecc-4edd-8fd6-ae69010072e2",
   "metadata": {},
   "outputs": [
    {
     "data": {
      "text/plain": [
       "array([-0.,  5.])"
      ]
     },
     "execution_count": 336,
     "metadata": {},
     "output_type": "execute_result"
    }
   ],
   "source": [
    "value"
   ]
  },
  {
   "cell_type": "code",
   "execution_count": 337,
   "id": "53b24387-2109-4b6b-9ac4-46289152a506",
   "metadata": {},
   "outputs": [
    {
     "data": {
      "text/plain": [
       "array([[-1., -0.],\n",
       "       [ 1., -1.]])"
      ]
     },
     "execution_count": 337,
     "metadata": {},
     "output_type": "execute_result"
    }
   ],
   "source": [
    "vector"
   ]
  },
  {
   "cell_type": "code",
   "execution_count": 338,
   "id": "97eed176-cf5d-440f-8d93-d42e41895d99",
   "metadata": {},
   "outputs": [
    {
     "data": {
      "text/plain": [
       "array([[ 0., -2.],\n",
       "       [-0., -5.]])"
      ]
     },
     "execution_count": 338,
     "metadata": {},
     "output_type": "execute_result"
    }
   ],
   "source": [
    "A @ vector"
   ]
  },
  {
   "cell_type": "code",
   "execution_count": 340,
   "id": "61024eff-fbea-4af9-97f8-ef96673c9cbd",
   "metadata": {},
   "outputs": [
    {
     "data": {
      "text/plain": [
       "array([[ 0., -2.],\n",
       "       [-0., -5.]])"
      ]
     },
     "execution_count": 340,
     "metadata": {},
     "output_type": "execute_result"
    }
   ],
   "source": [
    "value * vector"
   ]
  },
  {
   "cell_type": "code",
   "execution_count": 341,
   "id": "1abd91c8-8cc6-4764-b5bb-649e69e61e01",
   "metadata": {},
   "outputs": [],
   "source": [
    "A = np.array([[1,2,3,4],[3,4,5,6],[1,7,3,9],[8,7,3,5]], dtype = np.int8)"
   ]
  },
  {
   "cell_type": "code",
   "execution_count": 342,
   "id": "b47d9c9c-a7b7-4b01-9f0f-a4e7db442cfa",
   "metadata": {},
   "outputs": [
    {
     "data": {
      "text/plain": [
       "array([[1, 2, 3, 4],\n",
       "       [3, 4, 5, 6],\n",
       "       [1, 7, 3, 9],\n",
       "       [8, 7, 3, 5]], dtype=int8)"
      ]
     },
     "execution_count": 342,
     "metadata": {},
     "output_type": "execute_result"
    }
   ],
   "source": [
    "A"
   ]
  },
  {
   "cell_type": "code",
   "execution_count": 343,
   "id": "d7891160-bb62-410a-98f9-31c6316c6b58",
   "metadata": {},
   "outputs": [],
   "source": [
    "value, vector = np.linalg.eig(A)"
   ]
  },
  {
   "cell_type": "code",
   "execution_count": 346,
   "id": "06a32203-5f2c-4bbf-be26-bf4acad3c2b9",
   "metadata": {},
   "outputs": [
    {
     "data": {
      "text/plain": [
       "dtype('complex128')"
      ]
     },
     "execution_count": 346,
     "metadata": {},
     "output_type": "execute_result"
    }
   ],
   "source": [
    "vector.dtype"
   ]
  },
  {
   "cell_type": "code",
   "execution_count": null,
   "id": "4f91d183-073a-4252-a352-6182c90fa71d",
   "metadata": {},
   "outputs": [],
   "source": []
  }
 ],
 "metadata": {
  "kernelspec": {
   "display_name": "Python 3 (ipykernel)",
   "language": "python",
   "name": "python3"
  },
  "language_info": {
   "codemirror_mode": {
    "name": "ipython",
    "version": 3
   },
   "file_extension": ".py",
   "mimetype": "text/x-python",
   "name": "python",
   "nbconvert_exporter": "python",
   "pygments_lexer": "ipython3",
   "version": "3.10.12"
  }
 },
 "nbformat": 4,
 "nbformat_minor": 5
}
