{
 "cells": [
  {
   "cell_type": "code",
   "execution_count": 1,
   "id": "3fd12968-64e5-4282-9495-75a682b9d20b",
   "metadata": {},
   "outputs": [
    {
     "name": "stdout",
     "output_type": "stream",
     "text": [
      "Defaulting to user installation because normal site-packages is not writeable\n",
      "Requirement already satisfied: pulp in /home/mitu/.local/lib/python3.10/site-packages (2.8.0)\n",
      "\n",
      "\u001b[1m[\u001b[0m\u001b[34;49mnotice\u001b[0m\u001b[1;39;49m]\u001b[0m\u001b[39;49m A new release of pip is available: \u001b[0m\u001b[31;49m24.1.1\u001b[0m\u001b[39;49m -> \u001b[0m\u001b[32;49m24.2\u001b[0m\n",
      "\u001b[1m[\u001b[0m\u001b[34;49mnotice\u001b[0m\u001b[1;39;49m]\u001b[0m\u001b[39;49m To update, run: \u001b[0m\u001b[32;49mpython3 -m pip install --upgrade pip\u001b[0m\n",
      "Note: you may need to restart the kernel to use updated packages.\n"
     ]
    }
   ],
   "source": [
    "pip install pulp"
   ]
  },
  {
   "cell_type": "markdown",
   "id": "19261af3-aa73-43cc-915e-441626f4349a",
   "metadata": {},
   "source": [
    "Problem:\n",
    "\n",
    "A small bakery wants to maximize its daily profit by producing cookies and cakes. They have limited flour and oven space available. Here's the information:\n",
    "\n",
    "    Profit per unit:\n",
    "        Cookies: ₹10 per cookie\n",
    "        Cakes: ₹200 per cake\n",
    "    Flour requirement per unit:\n",
    "        Cookies: 1 cup per cookie\n",
    "        Cakes: 2 cups per cake\n",
    "    Oven time per unit:\n",
    "        Cookies: 10 minutes per cookie\n",
    "        Cakes: 15 minutes per cake\n",
    "    Available resources:\n",
    "        Flour: 100 cups\n",
    "        Oven time: 240 minutes\n",
    "\n",
    "Objective: Maximize the total daily profit."
   ]
  },
  {
   "cell_type": "code",
   "execution_count": 3,
   "id": "54a699f9-42c0-44da-80da-e8d062424d2c",
   "metadata": {},
   "outputs": [],
   "source": [
    "from pulp import LpProblem, LpVariable, LpMaximize, LpStatus"
   ]
  },
  {
   "cell_type": "code",
   "execution_count": 34,
   "id": "136cb190-7871-46e8-bd86-fd79708af1af",
   "metadata": {},
   "outputs": [],
   "source": [
    "# Create the optimization problem\n",
    "problem = LpProblem(\"Bakery_Profit_Maximization\", LpMaximize)"
   ]
  },
  {
   "cell_type": "code",
   "execution_count": 35,
   "id": "168baf44-e4da-409f-b9ff-9e20754a1e0a",
   "metadata": {},
   "outputs": [
    {
     "data": {
      "text/plain": [
       "Bakery_Profit_Maximization:\n",
       "MAXIMIZE\n",
       "None\n",
       "VARIABLES"
      ]
     },
     "execution_count": 35,
     "metadata": {},
     "output_type": "execute_result"
    }
   ],
   "source": [
    "problem"
   ]
  },
  {
   "cell_type": "code",
   "execution_count": 36,
   "id": "50e00fc7-6bea-4b58-8c41-f371dbff237c",
   "metadata": {},
   "outputs": [],
   "source": [
    "# Decision variables\n",
    "cookies = LpVariable(\"Cookies\", lowBound=0)  \n",
    "# Number of cookies to produce (non-negative)\n",
    "cakes = LpVariable(\"Cakes\", lowBound=0, upBound=10)  \n",
    "# Number of cakes to produce (non-negative)"
   ]
  },
  {
   "cell_type": "code",
   "execution_count": 37,
   "id": "285f22fb-bab6-45c9-af1d-e06c148429cb",
   "metadata": {},
   "outputs": [],
   "source": [
    "# Objective function (maximize total profit)\n",
    "profit = 10 * cookies + 200 * cakes\n",
    "problem += profit"
   ]
  },
  {
   "cell_type": "code",
   "execution_count": 38,
   "id": "a5337dd0-9c28-4348-809e-f3f454163f50",
   "metadata": {},
   "outputs": [
    {
     "data": {
      "text/plain": [
       "Bakery_Profit_Maximization:\n",
       "MAXIMIZE\n",
       "200*Cakes + 10*Cookies + 0\n",
       "VARIABLES\n",
       "Cakes <= 10 Continuous\n",
       "Cookies Continuous"
      ]
     },
     "execution_count": 38,
     "metadata": {},
     "output_type": "execute_result"
    }
   ],
   "source": [
    "problem"
   ]
  },
  {
   "cell_type": "code",
   "execution_count": 39,
   "id": "26198dea-9b50-4f09-b71f-74b56845a242",
   "metadata": {},
   "outputs": [
    {
     "data": {
      "text/plain": [
       "pulp.pulp.LpProblem"
      ]
     },
     "execution_count": 39,
     "metadata": {},
     "output_type": "execute_result"
    }
   ],
   "source": [
    "type(problem)"
   ]
  },
  {
   "cell_type": "code",
   "execution_count": 40,
   "id": "34941b6d-8e93-4eac-babb-fa6835501681",
   "metadata": {},
   "outputs": [],
   "source": [
    "# Constraint 1: Flour limitation\n",
    "problem += 1 * cookies + 2 * cakes <= 100  \n",
    "# Flour requirement per unit * number of units <= total flour"
   ]
  },
  {
   "cell_type": "code",
   "execution_count": 41,
   "id": "3278bb6a-173e-47ab-9b34-0dec7bf7641b",
   "metadata": {},
   "outputs": [
    {
     "data": {
      "text/plain": [
       "Bakery_Profit_Maximization:\n",
       "MAXIMIZE\n",
       "200*Cakes + 10*Cookies + 0\n",
       "SUBJECT TO\n",
       "_C1: 2 Cakes + Cookies <= 100\n",
       "\n",
       "VARIABLES\n",
       "Cakes <= 10 Continuous\n",
       "Cookies Continuous"
      ]
     },
     "execution_count": 41,
     "metadata": {},
     "output_type": "execute_result"
    }
   ],
   "source": [
    "problem"
   ]
  },
  {
   "cell_type": "code",
   "execution_count": 42,
   "id": "a41cdd6f-ce87-48ac-8c75-4af3df8ece00",
   "metadata": {},
   "outputs": [],
   "source": [
    "# Constraint 2: Oven time limitation\n",
    "problem += 10 * cookies + 15 * cakes <= 240  \n",
    "# Oven time per unit * number of units <= total oven time"
   ]
  },
  {
   "cell_type": "code",
   "execution_count": 43,
   "id": "605a185a-a1f3-45a7-9d3e-0865d3450f75",
   "metadata": {},
   "outputs": [
    {
     "data": {
      "text/plain": [
       "Bakery_Profit_Maximization:\n",
       "MAXIMIZE\n",
       "200*Cakes + 10*Cookies + 0\n",
       "SUBJECT TO\n",
       "_C1: 2 Cakes + Cookies <= 100\n",
       "\n",
       "_C2: 15 Cakes + 10 Cookies <= 240\n",
       "\n",
       "VARIABLES\n",
       "Cakes <= 10 Continuous\n",
       "Cookies Continuous"
      ]
     },
     "execution_count": 43,
     "metadata": {},
     "output_type": "execute_result"
    }
   ],
   "source": [
    "problem"
   ]
  },
  {
   "cell_type": "code",
   "execution_count": 44,
   "id": "a8d1eb62-57d9-47ae-b5b2-e0958f5427ed",
   "metadata": {},
   "outputs": [
    {
     "name": "stdout",
     "output_type": "stream",
     "text": [
      "Welcome to the CBC MILP Solver \n",
      "Version: 2.10.3 \n",
      "Build Date: Dec 15 2019 \n",
      "\n",
      "command line - /home/mitu/.local/lib/python3.10/site-packages/pulp/solverdir/cbc/linux/64/cbc /tmp/c8f6d2c9dd8e4bfe82e7cd1ed8cfbea9-pulp.mps -max -timeMode elapsed -branch -printingOptions all -solution /tmp/c8f6d2c9dd8e4bfe82e7cd1ed8cfbea9-pulp.sol (default strategy 1)\n",
      "At line 2 NAME          MODEL\n",
      "At line 3 ROWS\n",
      "At line 7 COLUMNS\n",
      "At line 14 RHS\n",
      "At line 17 BOUNDS\n",
      "At line 19 ENDATA\n",
      "Problem MODEL has 2 rows, 2 columns and 4 elements\n",
      "Coin0008I MODEL read with 0 errors\n",
      "Option for timeMode changed from cpu to elapsed\n",
      "Presolve 2 (0) rows, 2 (0) columns and 4 (0) elements\n",
      "0  Obj -0 Dual inf 215 (2)\n",
      "0  Obj -0 Dual inf 215 (2)\n",
      "2  Obj 2090\n",
      "Optimal - objective value 2090\n",
      "Optimal objective 2090 - 2 iterations time 0.002\n",
      "Option for printingOptions changed from normal to all\n",
      "Total time (CPU seconds):       0.00   (Wallclock seconds):       0.00\n",
      "\n"
     ]
    }
   ],
   "source": [
    "# Solve the problem\n",
    "status = problem.solve()"
   ]
  },
  {
   "cell_type": "code",
   "execution_count": 45,
   "id": "755e5aec-412d-40b0-9c7f-be9806179ba7",
   "metadata": {},
   "outputs": [
    {
     "data": {
      "text/plain": [
       "1"
      ]
     },
     "execution_count": 45,
     "metadata": {},
     "output_type": "execute_result"
    }
   ],
   "source": [
    "status"
   ]
  },
  {
   "cell_type": "code",
   "execution_count": 46,
   "id": "d1959963-2e66-479b-8e98-3237a4cfd909",
   "metadata": {},
   "outputs": [
    {
     "data": {
      "text/plain": [
       "{0: 'Not Solved',\n",
       " 1: 'Optimal',\n",
       " -1: 'Infeasible',\n",
       " -2: 'Unbounded',\n",
       " -3: 'Undefined'}"
      ]
     },
     "execution_count": 46,
     "metadata": {},
     "output_type": "execute_result"
    }
   ],
   "source": [
    "LpStatus"
   ]
  },
  {
   "cell_type": "code",
   "execution_count": 47,
   "id": "6325b0aa-6f41-4296-b6a0-42eda343edbf",
   "metadata": {},
   "outputs": [
    {
     "data": {
      "text/plain": [
       "'Optimal'"
      ]
     },
     "execution_count": 47,
     "metadata": {},
     "output_type": "execute_result"
    }
   ],
   "source": [
    "LpStatus[status]"
   ]
  },
  {
   "cell_type": "code",
   "execution_count": 48,
   "id": "694fa014-13ce-4595-a298-6f181066e870",
   "metadata": {},
   "outputs": [
    {
     "name": "stdout",
     "output_type": "stream",
     "text": [
      "Optimal number of cookies: 9.0\n",
      "Optimal number of cakes: 10.0\n",
      "Maximum daily profit: 2090.0\n"
     ]
    }
   ],
   "source": [
    "print(\"Optimal number of cookies:\", cookies.varValue)\n",
    "print(\"Optimal number of cakes:\", cakes.varValue)\n",
    "print(\"Maximum daily profit:\", problem.objective.value())"
   ]
  },
  {
   "cell_type": "markdown",
   "id": "8ffbcb71-eaa7-4bec-964c-54d37d2665ec",
   "metadata": {},
   "source": [
    "Scenario:\n",
    "\n",
    "A juice company needs to produce two types of juice blends:\n",
    "\n",
    "    Blend A: This requires 2 units of orange juice and 1 unit of apple juice per liter.\n",
    "    Blend B: This requires 1 unit of orange juice and 3 units of apple juice per liter.\n",
    "\n",
    "    Orange Juice Requirement for Blend A: 200\n",
    "    Apple Juice Requirement for Blend A: 300\n",
    "\n",
    "The company wants to minimize the total cost of producing a certain amount of each blend while considering the following factors:\n",
    "\n",
    "    Orange Juice Cost: $1 per unit\n",
    "Apple Juice Cost: $0.5 per unit\n",
    "    Production Target:\n",
    "        100 liters of Blend A\n",
    "        150 liters of Blend B"
   ]
  },
  {
   "cell_type": "code",
   "execution_count": 49,
   "id": "1ab8ab9a-3072-4321-85bb-a8945e56e40b",
   "metadata": {},
   "outputs": [],
   "source": [
    "# Import PuLP libraries\n",
    "from pulp import LpProblem, LpVariable, LpMinimize"
   ]
  },
  {
   "cell_type": "code",
   "execution_count": 56,
   "id": "85a0bffa-2fba-4e4b-afc1-ca733fa16dad",
   "metadata": {},
   "outputs": [],
   "source": [
    "# Create the optimization problem\n",
    "problem = LpProblem(\"MinimizeBlendingCost\", LpMinimize)"
   ]
  },
  {
   "cell_type": "code",
   "execution_count": 57,
   "id": "e97b17c9-12d4-4dd8-8490-79f685b9cbab",
   "metadata": {},
   "outputs": [],
   "source": [
    "# Define decision variables\n",
    "x = LpVariable(\"x\", lowBound=0)  # Liters of Blend A to produce\n",
    "y = LpVariable(\"y\", lowBound=0)  # Liters of Blend B to produce"
   ]
  },
  {
   "cell_type": "code",
   "execution_count": 58,
   "id": "36fd04af-f608-4452-9915-a5944638e9d1",
   "metadata": {},
   "outputs": [],
   "source": [
    "# Define the objective function (minimize total cost)\n",
    "objective = 1*x + 0.5*y  # Cost per liter of A + Cost per liter of B"
   ]
  },
  {
   "cell_type": "code",
   "execution_count": 59,
   "id": "78ecf41b-7579-441f-ab49-13eed9d91154",
   "metadata": {},
   "outputs": [],
   "source": [
    "# Add the objective function to the problem\n",
    "problem += objective"
   ]
  },
  {
   "cell_type": "code",
   "execution_count": 60,
   "id": "dea6cc62-6296-4f51-936c-fb9b86a64b10",
   "metadata": {},
   "outputs": [],
   "source": [
    "# Constraint 1: Orange juice requirement for Blend A\n",
    "problem += 2*x + y <= 200\n",
    "# Total orange juice used shouldn't exceed available amount \n",
    "# Modify this value based on your orange juice availability"
   ]
  },
  {
   "cell_type": "code",
   "execution_count": 61,
   "id": "fa7fa675-9d57-4820-bd2a-12c0802d5385",
   "metadata": {},
   "outputs": [],
   "source": [
    "# Constraint 2: Apple juice requirement for Blend A\n",
    "problem += x + 3*y <= 300\n",
    "# Total apple juice used shouldn't exceed available amount \n",
    "# Modify this value based on your apple juice availability"
   ]
  },
  {
   "cell_type": "code",
   "execution_count": 62,
   "id": "af3a8f8d-645e-417d-af95-20d8de2e9407",
   "metadata": {},
   "outputs": [],
   "source": [
    "# Constraint 3: Production target for Blend A\n",
    "problem += x >= 100  # Minimum production of Blend A"
   ]
  },
  {
   "cell_type": "code",
   "execution_count": 63,
   "id": "aeafcccf-d3e9-4549-9c55-4b3e0352f9c2",
   "metadata": {},
   "outputs": [],
   "source": [
    "# Constraint 4: Production target for Blend B\n",
    "problem += y >= 150  # Minimum production of Blend B"
   ]
  },
  {
   "cell_type": "code",
   "execution_count": 64,
   "id": "d46f46b8-d1d1-4c0d-a2fa-c7d68d0714c8",
   "metadata": {},
   "outputs": [
    {
     "name": "stdout",
     "output_type": "stream",
     "text": [
      "Welcome to the CBC MILP Solver \n",
      "Version: 2.10.3 \n",
      "Build Date: Dec 15 2019 \n",
      "\n",
      "command line - /home/mitu/.local/lib/python3.10/site-packages/pulp/solverdir/cbc/linux/64/cbc /tmp/596e77f3f463458ba6f7135d8a404607-pulp.mps -timeMode elapsed -branch -printingOptions all -solution /tmp/596e77f3f463458ba6f7135d8a404607-pulp.sol (default strategy 1)\n",
      "At line 2 NAME          MODEL\n",
      "At line 3 ROWS\n",
      "At line 9 COLUMNS\n",
      "At line 18 RHS\n",
      "At line 23 BOUNDS\n",
      "At line 24 ENDATA\n",
      "Problem MODEL has 4 rows, 2 columns and 6 elements\n",
      "Coin0008I MODEL read with 0 errors\n",
      "Option for timeMode changed from cpu to elapsed\n",
      "Presolve determined that the problem was infeasible with tolerance of 1e-08\n",
      "Analysis indicates model infeasible or unbounded\n",
      "0  Obj 0 Primal inf 250 (2)\n",
      "2  Obj 175 Primal inf 158.33333 (2)\n",
      "Primal infeasible - objective value 175\n",
      "PrimalInfeasible objective 175 - 2 iterations time 0.002\n",
      "\n",
      "Result - Linear relaxation infeasible\n",
      "\n",
      "Enumerated nodes:           0\n",
      "Total iterations:           0\n",
      "Time (CPU seconds):         0.00\n",
      "Time (Wallclock Seconds):   0.00\n",
      "\n",
      "Option for printingOptions changed from normal to all\n",
      "Total time (CPU seconds):       0.00   (Wallclock seconds):       0.00\n",
      "\n"
     ]
    }
   ],
   "source": [
    "# Solve the linear program\n",
    "status = problem.solve()"
   ]
  },
  {
   "cell_type": "code",
   "execution_count": 65,
   "id": "42bd3bad-9ead-490c-9125-3087d2e18d19",
   "metadata": {},
   "outputs": [
    {
     "name": "stdout",
     "output_type": "stream",
     "text": [
      "Optimal x (Blend A liters): 100.0\n",
      "Optimal y (Blend B liters): 150.0\n",
      "Minimum Total Cost: 175.0\n"
     ]
    }
   ],
   "source": [
    "print(\"Optimal x (Blend A liters):\", x.value())\n",
    "print(\"Optimal y (Blend B liters):\", y.value())\n",
    "print(\"Minimum Total Cost:\", objective.value())"
   ]
  },
  {
   "cell_type": "code",
   "execution_count": null,
   "id": "4f29ae97-66d3-4483-b317-e75386663a10",
   "metadata": {},
   "outputs": [],
   "source": []
  },
  {
   "cell_type": "code",
   "execution_count": null,
   "id": "268d3651-17c7-4175-a6d0-0fc5ccde82ba",
   "metadata": {},
   "outputs": [],
   "source": []
  },
  {
   "cell_type": "code",
   "execution_count": null,
   "id": "6b7233f5-adc4-47d9-9305-5406cce689cb",
   "metadata": {},
   "outputs": [],
   "source": []
  },
  {
   "cell_type": "code",
   "execution_count": null,
   "id": "8be1eb48-f65e-4a7e-b12d-38ba369d8b0a",
   "metadata": {},
   "outputs": [],
   "source": []
  },
  {
   "cell_type": "markdown",
   "id": "62020ae2-f5b8-4c7e-b431-3565e4508c22",
   "metadata": {},
   "source": [
    "A company produces two products: Product A and Product B. The profit for Product A is $40 per unit, and for Product B, it's $30 per unit. The company has the following resource constraints:\n",
    "\n",
    "    It takes 2 hours of labor to produce one unit of Product A and 1 hour for Product B.\n",
    "    The company has a total of 100 hours of labor available.\n",
    "    The material required for one unit of Product A is 3 kg, and for Product B, it is 4 kg. The company has a total of 120 kg of material.\n",
    "\n",
    "The goal is to determine how many units of each product to produce in order to maximize profit.\n",
    "**Optimization Model:**\n",
    "\n",
    "Maximize 40xA+30xB\n",
    "Subject to:\n",
    "\n",
    "    2xA+xB≤100 (labor constraint)\n",
    "    3xA+4xB≤120 (material constraint)\n",
    "    xA,xB≥0"
   ]
  },
  {
   "cell_type": "code",
   "execution_count": 67,
   "id": "995f6eb1-e06e-4d49-b7b8-ce853724fd72",
   "metadata": {},
   "outputs": [
    {
     "name": "stdout",
     "output_type": "stream",
     "text": [
      "Welcome to the CBC MILP Solver \n",
      "Version: 2.10.3 \n",
      "Build Date: Dec 15 2019 \n",
      "\n",
      "command line - /home/mitu/.local/lib/python3.10/site-packages/pulp/solverdir/cbc/linux/64/cbc /tmp/d5b9219427204e73b256a6cef6932222-pulp.mps -max -timeMode elapsed -branch -printingOptions all -solution /tmp/d5b9219427204e73b256a6cef6932222-pulp.sol (default strategy 1)\n",
      "At line 2 NAME          MODEL\n",
      "At line 3 ROWS\n",
      "At line 7 COLUMNS\n",
      "At line 14 RHS\n",
      "At line 17 BOUNDS\n",
      "At line 19 ENDATA\n",
      "Problem MODEL has 2 rows, 2 columns and 4 elements\n",
      "Coin0008I MODEL read with 0 errors\n",
      "Option for timeMode changed from cpu to elapsed\n",
      "Presolve 2 (0) rows, 2 (0) columns and 4 (0) elements\n",
      "0  Obj -0 Dual inf 70 (2)\n",
      "0  Obj -0 Dual inf 70 (2)\n",
      "2  Obj 1250\n",
      "Optimal - objective value 1250\n",
      "Optimal objective 1250 - 2 iterations time 0.002\n",
      "Option for printingOptions changed from normal to all\n",
      "Total time (CPU seconds):       0.00   (Wallclock seconds):       0.00\n",
      "\n",
      "Status: 1\n",
      "Optimal number of Product A to produce: 20.0\n",
      "Optimal number of Product B to produce: 15.0\n",
      "Total Profit: 1250.0\n"
     ]
    }
   ],
   "source": [
    "# Import PuLP library\n",
    "from pulp import LpMaximize, LpProblem, LpVariable, lpSum\n",
    "\n",
    "# Define the problem: maximizing profit\n",
    "problem = LpProblem(\"Maximize_Profit\", LpMaximize)\n",
    "\n",
    "# Define decision variables: number of units for Product A and Product B\n",
    "x_A = LpVariable('Product_A', lowBound=0, upBound=20, cat='Continuous')\n",
    "x_B = LpVariable('Product_B', lowBound=0, cat='Continuous')\n",
    "\n",
    "# Objective function: Maximize profit\n",
    "problem += 40 * x_A + 30 * x_B, \"Total_Profit\"\n",
    "\n",
    "# Add constraints\n",
    "problem += 2 * x_A + 1 * x_B <= 100, \"Labor_Constraint\"\n",
    "problem += 3 * x_A + 4 * x_B <= 120, \"Material_Constraint\"\n",
    "\n",
    "# Solve the problem\n",
    "problem.solve()\n",
    "\n",
    "# Output the results\n",
    "print(f\"Status: {problem.status}\")\n",
    "print(f\"Optimal number of Product A to produce: {x_A.varValue}\")\n",
    "print(f\"Optimal number of Product B to produce: {x_B.varValue}\")\n",
    "print(f\"Total Profit: {problem.objective.value()}\")\n"
   ]
  },
  {
   "cell_type": "code",
   "execution_count": null,
   "id": "12e69a98-e022-4924-825b-f35f27f744cd",
   "metadata": {},
   "outputs": [],
   "source": []
  }
 ],
 "metadata": {
  "kernelspec": {
   "display_name": "Python 3 (ipykernel)",
   "language": "python",
   "name": "python3"
  },
  "language_info": {
   "codemirror_mode": {
    "name": "ipython",
    "version": 3
   },
   "file_extension": ".py",
   "mimetype": "text/x-python",
   "name": "python",
   "nbconvert_exporter": "python",
   "pygments_lexer": "ipython3",
   "version": "3.10.12"
  }
 },
 "nbformat": 4,
 "nbformat_minor": 5
}
