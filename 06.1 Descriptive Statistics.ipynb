{
 "cells": [
  {
   "cell_type": "code",
   "execution_count": 1,
   "id": "4adc8e49-ff89-444e-93dd-cec463f2c6b8",
   "metadata": {},
   "outputs": [],
   "source": [
    "import numpy as np\n",
    "import pandas as pd\n",
    "import matplotlib.pyplot as plt"
   ]
  },
  {
   "cell_type": "markdown",
   "id": "aede4895-9f79-43ad-af54-2652a838476d",
   "metadata": {},
   "source": [
    "#### Measure of central tendency"
   ]
  },
  {
   "cell_type": "markdown",
   "id": "aa66bdcf-10f3-4252-8187-43265f1ff7e3",
   "metadata": {},
   "source": [
    "##### mean"
   ]
  },
  {
   "cell_type": "code",
   "execution_count": 4,
   "id": "6898f26f-afdd-455e-a818-4b8cea88f1cc",
   "metadata": {},
   "outputs": [],
   "source": [
    "runs = np.array([67,34,12,62,98,123,54,22,16,54,11,6,103])"
   ]
  },
  {
   "cell_type": "code",
   "execution_count": 5,
   "id": "0a2d8dbd-16fd-49c9-a4ef-b9b030f98b21",
   "metadata": {},
   "outputs": [
    {
     "data": {
      "text/plain": [
       "50.92307692307692"
      ]
     },
     "execution_count": 5,
     "metadata": {},
     "output_type": "execute_result"
    }
   ],
   "source": [
    "runs.mean()"
   ]
  },
  {
   "cell_type": "code",
   "execution_count": 6,
   "id": "27f213d3-9317-4b45-ad50-d51e5a525354",
   "metadata": {},
   "outputs": [
    {
     "data": {
      "text/plain": [
       "50.92307692307692"
      ]
     },
     "execution_count": 6,
     "metadata": {},
     "output_type": "execute_result"
    }
   ],
   "source": [
    "np.mean(runs)"
   ]
  },
  {
   "cell_type": "markdown",
   "id": "6f46f03f-5697-4b44-bba7-30849fd329fa",
   "metadata": {},
   "source": [
    "##### median"
   ]
  },
  {
   "cell_type": "code",
   "execution_count": 8,
   "id": "032b3c21-2400-4e09-b022-3feed81082d3",
   "metadata": {},
   "outputs": [],
   "source": [
    "iq = np.array([103,105,100,84,95,115,88,98,101,99,110])"
   ]
  },
  {
   "cell_type": "code",
   "execution_count": 9,
   "id": "cf21cb76-7a80-4461-8885-76531dce9c31",
   "metadata": {},
   "outputs": [
    {
     "data": {
      "text/plain": [
       "100.0"
      ]
     },
     "execution_count": 9,
     "metadata": {},
     "output_type": "execute_result"
    }
   ],
   "source": [
    "np.median(iq)"
   ]
  },
  {
   "cell_type": "markdown",
   "id": "ffb8d831-ac16-4ad6-9368-80411dd1674d",
   "metadata": {},
   "source": [
    "##### mode"
   ]
  },
  {
   "cell_type": "code",
   "execution_count": 11,
   "id": "157696ba-1de5-414f-9136-deb112d2174e",
   "metadata": {},
   "outputs": [],
   "source": [
    "from scipy.stats import mode"
   ]
  },
  {
   "cell_type": "code",
   "execution_count": 12,
   "id": "3c7dc584-a44b-4994-8d36-e94dc7307223",
   "metadata": {},
   "outputs": [],
   "source": [
    "cars = ['R','W','W','Bk','W','R','G','W','W','Bl','Bk','W','R','W','Bk',\n",
    "       'G','Bl','W','R','R','Bl','W','W','Bk']"
   ]
  },
  {
   "cell_type": "code",
   "execution_count": 14,
   "id": "9febf687-5890-4797-b9cf-d688dfab4145",
   "metadata": {},
   "outputs": [],
   "source": [
    "cars = pd.Series(cars)"
   ]
  },
  {
   "cell_type": "code",
   "execution_count": 15,
   "id": "a9ae9e67-8556-4bd3-886a-34a5965ee96c",
   "metadata": {},
   "outputs": [
    {
     "data": {
      "text/plain": [
       "0    W\n",
       "dtype: object"
      ]
     },
     "execution_count": 15,
     "metadata": {},
     "output_type": "execute_result"
    }
   ],
   "source": [
    "cars.mode()"
   ]
  },
  {
   "cell_type": "code",
   "execution_count": 16,
   "id": "f8fc85de-f2da-4c05-9286-22ce2070f239",
   "metadata": {},
   "outputs": [],
   "source": [
    "runs = np.array([67,34,12,62,98,123,54,22,16,54,11,6,103])"
   ]
  },
  {
   "cell_type": "code",
   "execution_count": 17,
   "id": "c331b5c3-464e-4cc7-bdb2-71eb2814ed25",
   "metadata": {},
   "outputs": [
    {
     "data": {
      "text/plain": [
       "50.92307692307692"
      ]
     },
     "execution_count": 17,
     "metadata": {},
     "output_type": "execute_result"
    }
   ],
   "source": [
    "runs.mean()"
   ]
  },
  {
   "cell_type": "code",
   "execution_count": 19,
   "id": "24030e49-bd78-43d4-a6ab-e881ba69116a",
   "metadata": {},
   "outputs": [
    {
     "data": {
      "text/plain": [
       "54.0"
      ]
     },
     "execution_count": 19,
     "metadata": {},
     "output_type": "execute_result"
    }
   ],
   "source": [
    "np.median(runs)"
   ]
  },
  {
   "cell_type": "code",
   "execution_count": 20,
   "id": "950b2772-8479-4406-a29b-45b2f9870591",
   "metadata": {},
   "outputs": [],
   "source": [
    "runs = np.array([67,34,12,62,98,123,54,22,16,54,11,6,103,225])"
   ]
  },
  {
   "cell_type": "code",
   "execution_count": 21,
   "id": "bc126c96-91ec-4b78-9d57-dfc83d93321d",
   "metadata": {},
   "outputs": [
    {
     "data": {
      "text/plain": [
       "63.357142857142854"
      ]
     },
     "execution_count": 21,
     "metadata": {},
     "output_type": "execute_result"
    }
   ],
   "source": [
    "runs.mean()"
   ]
  },
  {
   "cell_type": "code",
   "execution_count": 22,
   "id": "5f35ac0c-9797-400f-b084-de05e41ff22f",
   "metadata": {},
   "outputs": [
    {
     "data": {
      "text/plain": [
       "54.0"
      ]
     },
     "execution_count": 22,
     "metadata": {},
     "output_type": "execute_result"
    }
   ],
   "source": [
    "np.median(runs)"
   ]
  },
  {
   "cell_type": "markdown",
   "id": "5cd0c802-13ff-4e19-9feb-9c7a1d00207b",
   "metadata": {},
   "source": [
    "#### Measure of dispersion"
   ]
  },
  {
   "cell_type": "markdown",
   "id": "7b16cddf-659f-452c-86ad-f05bc6f7942f",
   "metadata": {},
   "source": [
    "##### Mean Absolute Deviation"
   ]
  },
  {
   "cell_type": "code",
   "execution_count": 26,
   "id": "48f963a8-0080-4145-a878-796bb51299b4",
   "metadata": {},
   "outputs": [],
   "source": [
    "num = np.array([67,44,23,64,17,42,59,81,52])"
   ]
  },
  {
   "cell_type": "code",
   "execution_count": 29,
   "id": "c93736cd-8d8f-47ee-a4e3-beca32c536cf",
   "metadata": {},
   "outputs": [
    {
     "data": {
      "text/plain": [
       "16.34567901234568"
      ]
     },
     "execution_count": 29,
     "metadata": {},
     "output_type": "execute_result"
    }
   ],
   "source": [
    "np.mean(abs(num - num.mean()))"
   ]
  },
  {
   "cell_type": "markdown",
   "id": "d6a0dea1-e7e6-435b-ab73-05d20a64e447",
   "metadata": {},
   "source": [
    "##### Variance"
   ]
  },
  {
   "cell_type": "code",
   "execution_count": 32,
   "id": "107128d9-4d97-480e-9437-8c6e1f675e7d",
   "metadata": {},
   "outputs": [
    {
     "data": {
      "text/plain": [
       "383.2098765432099"
      ]
     },
     "execution_count": 32,
     "metadata": {},
     "output_type": "execute_result"
    }
   ],
   "source": [
    "np.mean((num - num.mean())**2)"
   ]
  },
  {
   "cell_type": "code",
   "execution_count": 33,
   "id": "1d162aaa-7c94-424b-9347-6f6ed8386571",
   "metadata": {},
   "outputs": [
    {
     "data": {
      "text/plain": [
       "383.2098765432099"
      ]
     },
     "execution_count": 33,
     "metadata": {},
     "output_type": "execute_result"
    }
   ],
   "source": [
    "num.var()"
   ]
  },
  {
   "cell_type": "markdown",
   "id": "edec7fbc-8b49-4181-929d-1742ce2b1b85",
   "metadata": {},
   "source": [
    "##### Standard Deviation"
   ]
  },
  {
   "cell_type": "code",
   "execution_count": 35,
   "id": "d482ac29-abf2-4755-aee4-63258ff15892",
   "metadata": {},
   "outputs": [
    {
     "data": {
      "text/plain": [
       "19.57574715159577"
      ]
     },
     "execution_count": 35,
     "metadata": {},
     "output_type": "execute_result"
    }
   ],
   "source": [
    "np.sqrt(np.mean((num - num.mean())**2))"
   ]
  },
  {
   "cell_type": "code",
   "execution_count": 36,
   "id": "5ad694d0-159e-4208-87a7-11b5d0f487fd",
   "metadata": {},
   "outputs": [
    {
     "data": {
      "text/plain": [
       "19.57574715159577"
      ]
     },
     "execution_count": 36,
     "metadata": {},
     "output_type": "execute_result"
    }
   ],
   "source": [
    "num.std()"
   ]
  },
  {
   "cell_type": "markdown",
   "id": "225fd1b6-8c0a-41f1-b691-888166dd1f0b",
   "metadata": {},
   "source": [
    "##### Range"
   ]
  },
  {
   "cell_type": "code",
   "execution_count": 38,
   "id": "db513ffb-e384-48ed-b2ff-2c7bf3123222",
   "metadata": {},
   "outputs": [
    {
     "data": {
      "text/plain": [
       "64"
      ]
     },
     "execution_count": 38,
     "metadata": {},
     "output_type": "execute_result"
    }
   ],
   "source": [
    "num.max() - num.min()"
   ]
  },
  {
   "cell_type": "markdown",
   "id": "132dbde7-cf44-4d43-a266-90e4c7838d69",
   "metadata": {},
   "source": [
    "##### Symmetrical Data"
   ]
  },
  {
   "cell_type": "code",
   "execution_count": 40,
   "id": "a2e7ec1c-03d6-492d-bbcc-84dc12fc46af",
   "metadata": {},
   "outputs": [],
   "source": [
    "iq = np.array([85,90,90,95,95,95,100,100,100,100,105,105,105,110,110,115])"
   ]
  },
  {
   "cell_type": "code",
   "execution_count": 41,
   "id": "92032bdc-fd1d-4f8c-be4f-78be3b49755d",
   "metadata": {},
   "outputs": [],
   "source": [
    "import seaborn as sns"
   ]
  },
  {
   "cell_type": "code",
   "execution_count": 42,
   "id": "750e9a8a-b1d1-4295-90da-cd55202f48b7",
   "metadata": {},
   "outputs": [
    {
     "data": {
      "image/png": "[encoded data removed]",
      "text/plain": [
       "<Figure size 640x480 with 1 Axes>"
      ]
     },
     "metadata": {},
     "output_type": "display_data"
    }
   ],
   "source": [
    "sns.kdeplot(iq);"
   ]
  },
  {
   "cell_type": "code",
   "execution_count": 43,
   "id": "4d800db7-f235-461b-a634-c4f1c27a6b63",
   "metadata": {},
   "outputs": [
    {
     "data": {
      "text/plain": [
       "100.0"
      ]
     },
     "execution_count": 43,
     "metadata": {},
     "output_type": "execute_result"
    }
   ],
   "source": [
    "iq.mean()"
   ]
  },
  {
   "cell_type": "code",
   "execution_count": 44,
   "id": "8dd13bf4-908f-423d-a1d2-35ccd170cfa1",
   "metadata": {},
   "outputs": [
    {
     "data": {
      "text/plain": [
       "100.0"
      ]
     },
     "execution_count": 44,
     "metadata": {},
     "output_type": "execute_result"
    }
   ],
   "source": [
    "np.median(iq)"
   ]
  },
  {
   "cell_type": "code",
   "execution_count": 47,
   "id": "ceb7213e-58c3-4b37-82a5-33951cd9135b",
   "metadata": {},
   "outputs": [
    {
     "data": {
      "text/plain": [
       "100"
      ]
     },
     "execution_count": 47,
     "metadata": {},
     "output_type": "execute_result"
    }
   ],
   "source": [
    "mode(iq).mode"
   ]
  },
  {
   "cell_type": "markdown",
   "id": "01aa7c9b-2955-469b-b690-2a4d0656c1cc",
   "metadata": {},
   "source": [
    "##### Skewness"
   ]
  },
  {
   "cell_type": "code",
   "execution_count": 49,
   "id": "47444df7-590c-439b-9a18-25aecc9b4038",
   "metadata": {},
   "outputs": [],
   "source": [
    "from scipy.stats import skew"
   ]
  },
  {
   "cell_type": "code",
   "execution_count": 50,
   "id": "c50b1557-62c0-4cc4-8de9-47ff5b1c924b",
   "metadata": {},
   "outputs": [
    {
     "data": {
      "text/plain": [
       "0.0"
      ]
     },
     "execution_count": 50,
     "metadata": {},
     "output_type": "execute_result"
    }
   ],
   "source": [
    "skew(iq)"
   ]
  },
  {
   "cell_type": "code",
   "execution_count": 51,
   "id": "ed7d6676-a2ae-4c0b-858e-27d7cd1fe675",
   "metadata": {},
   "outputs": [],
   "source": [
    "iq1 = np.array([95,95,95,95,95,95,100,100,100,100,105,105,105,110,110,115])"
   ]
  },
  {
   "cell_type": "code",
   "execution_count": 53,
   "id": "7666f74c-64ef-4328-86b6-4f9c9eb30caa",
   "metadata": {},
   "outputs": [
    {
     "data": {
      "text/plain": [
       "<Axes: ylabel='Density'>"
      ]
     },
     "execution_count": 53,
     "metadata": {},
     "output_type": "execute_result"
    },
    {
     "data": {
      "image/png": "[encoded data removed]",
      "text/plain": [
       "<Figure size 640x480 with 1 Axes>"
      ]
     },
     "metadata": {},
     "output_type": "display_data"
    }
   ],
   "source": [
    "sns.kdeplot(iq1)"
   ]
  },
  {
   "cell_type": "code",
   "execution_count": 54,
   "id": "2a4b1589-adc9-4189-bc17-fd414db1aedd",
   "metadata": {},
   "outputs": [
    {
     "data": {
      "text/plain": [
       "0.672"
      ]
     },
     "execution_count": 54,
     "metadata": {},
     "output_type": "execute_result"
    }
   ],
   "source": [
    "skew(iq1)"
   ]
  },
  {
   "cell_type": "code",
   "execution_count": 55,
   "id": "cd6e7ccd-20bf-4e9b-b11b-872065c4ab2d",
   "metadata": {},
   "outputs": [
    {
     "data": {
      "text/plain": [
       "(95, 100.0, 101.25)"
      ]
     },
     "execution_count": 55,
     "metadata": {},
     "output_type": "execute_result"
    }
   ],
   "source": [
    "mode(iq1).mode, np.median(iq1), iq1.mean()"
   ]
  },
  {
   "cell_type": "code",
   "execution_count": 57,
   "id": "3db4ae65-14e2-4799-bcf3-a7fb9122e056",
   "metadata": {},
   "outputs": [],
   "source": [
    "iq2 = np.array([85,90,90,95,95,95,100,100,100,100,105,105,105,105,105,105])"
   ]
  },
  {
   "cell_type": "code",
   "execution_count": 58,
   "id": "89132955-48e4-4fae-af3b-83f25038234e",
   "metadata": {},
   "outputs": [
    {
     "data": {
      "text/plain": [
       "<Axes: ylabel='Density'>"
      ]
     },
     "execution_count": 58,
     "metadata": {},
     "output_type": "execute_result"
    },
    {
     "data": {
      "image/png": "[encoded data removed]",
      "text/plain": [
       "<Figure size 640x480 with 1 Axes>"
      ]
     },
     "metadata": {},
     "output_type": "display_data"
    }
   ],
   "source": [
    "sns.kdeplot(iq2)"
   ]
  },
  {
   "cell_type": "code",
   "execution_count": 59,
   "id": "d5db9703-d769-49f7-b08c-345e7508d56d",
   "metadata": {},
   "outputs": [
    {
     "data": {
      "text/plain": [
       "-0.672"
      ]
     },
     "execution_count": 59,
     "metadata": {},
     "output_type": "execute_result"
    }
   ],
   "source": [
    "skew(iq2)"
   ]
  },
  {
   "cell_type": "code",
   "execution_count": 60,
   "id": "9b2e779f-05a2-4289-a8c8-59265ecd66d2",
   "metadata": {},
   "outputs": [
    {
     "data": {
      "text/plain": [
       "(105, 100.0, 98.75)"
      ]
     },
     "execution_count": 60,
     "metadata": {},
     "output_type": "execute_result"
    }
   ],
   "source": [
    "mode(iq2).mode, np.median(iq2), iq2.mean()"
   ]
  },
  {
   "cell_type": "markdown",
   "id": "c19fdf4d-65a7-4ded-8157-875dbf938068",
   "metadata": {},
   "source": [
    "##### Kurtosis"
   ]
  },
  {
   "cell_type": "code",
   "execution_count": 62,
   "id": "aa432e21-cf74-496a-8758-696e5834daee",
   "metadata": {},
   "outputs": [],
   "source": [
    "iq = np.array([85,90,90,95,95,95,100,100,100,100,105,105,105,110,110,115])"
   ]
  },
  {
   "cell_type": "code",
   "execution_count": 63,
   "id": "bab41692-a8c0-469d-8e35-ebd53b300c1b",
   "metadata": {},
   "outputs": [],
   "source": [
    "from scipy.stats import kurtosis"
   ]
  },
  {
   "cell_type": "code",
   "execution_count": 64,
   "id": "8500bda1-58bc-4985-af4b-9a5afbd9f35e",
   "metadata": {},
   "outputs": [
    {
     "data": {
      "text/plain": [
       "-0.6800000000000002"
      ]
     },
     "execution_count": 64,
     "metadata": {},
     "output_type": "execute_result"
    }
   ],
   "source": [
    "kurtosis(iq)"
   ]
  },
  {
   "cell_type": "code",
   "execution_count": 65,
   "id": "305acb9f-b8b3-4ce0-b5d2-eea5d21da0d6",
   "metadata": {},
   "outputs": [],
   "source": [
    "iq3 = np.array([85,90,90,100,100,100,100,100,100,100,100,100,100,110,110,115])"
   ]
  },
  {
   "cell_type": "code",
   "execution_count": 66,
   "id": "f9897406-a032-40dd-ab1e-75faa8e53e9b",
   "metadata": {},
   "outputs": [
    {
     "data": {
      "text/plain": [
       "0.12802768166089962"
      ]
     },
     "execution_count": 66,
     "metadata": {},
     "output_type": "execute_result"
    }
   ],
   "source": [
    "kurtosis(iq3)"
   ]
  },
  {
   "cell_type": "code",
   "execution_count": 67,
   "id": "e90a5901-0a41-406b-a9b9-580ed2206da1",
   "metadata": {},
   "outputs": [],
   "source": [
    "iq4 = np.array([85,90,90,95,95,95,98,99,101,102,105,105,105,110,110,115])"
   ]
  },
  {
   "cell_type": "code",
   "execution_count": 68,
   "id": "42d2b27b-4aa3-4781-b60d-584d97e2d6d8",
   "metadata": {},
   "outputs": [
    {
     "data": {
      "text/plain": [
       "-0.7251798843250663"
      ]
     },
     "execution_count": 68,
     "metadata": {},
     "output_type": "execute_result"
    }
   ],
   "source": [
    "kurtosis(iq4)"
   ]
  },
  {
   "cell_type": "code",
   "execution_count": 71,
   "id": "6c90d9af-4e38-4d49-9dd3-802891be4d8a",
   "metadata": {},
   "outputs": [
    {
     "data": {
      "text/plain": [
       "<Axes: ylabel='Density'>"
      ]
     },
     "execution_count": 71,
     "metadata": {},
     "output_type": "execute_result"
    },
    {
     "data": {
      "image/png": "[encoded data removed]",
      "text/plain": [
       "<Figure size 640x480 with 1 Axes>"
      ]
     },
     "metadata": {},
     "output_type": "display_data"
    }
   ],
   "source": [
    "sns.kdeplot(iq3)\n",
    "sns.kdeplot(iq)\n",
    "sns.kdeplot(iq4)"
   ]
  },
  {
   "cell_type": "code",
   "execution_count": null,
   "id": "1aebc474-cd7e-46b2-b0e6-3da69b647a10",
   "metadata": {},
   "outputs": [],
   "source": []
  }
 ],
 "metadata": {
  "kernelspec": {
   "display_name": "Python 3 (ipykernel)",
   "language": "python",
   "name": "python3"
  },
  "language_info": {
   "codemirror_mode": {
    "name": "ipython",
    "version": 3
   },
   "file_extension": ".py",
   "mimetype": "text/x-python",
   "name": "python",
   "nbconvert_exporter": "python",
   "pygments_lexer": "ipython3",
   "version": "3.10.12"
  }
 },
 "nbformat": 4,
 "nbformat_minor": 5
}
