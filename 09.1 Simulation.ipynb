{
 "cells": [
  {
   "cell_type": "markdown",
   "id": "aa737a8d-48a3-4fc4-bcde-c909831f9681",
   "metadata": {},
   "source": [
    "##### Generate data from standard normal distribution"
   ]
  },
  {
   "cell_type": "code",
   "execution_count": 2,
   "id": "269c94d2-e4b7-4ba1-b06d-dd648b12ce07",
   "metadata": {},
   "outputs": [],
   "source": [
    "from scipy.stats import norm"
   ]
  },
  {
   "cell_type": "code",
   "execution_count": 3,
   "id": "c87cdf09-37dd-4311-b801-6d8b14b3b62f",
   "metadata": {},
   "outputs": [],
   "source": [
    "# The following code shows how to generate 100 random samples\n",
    "# from a normal distribution with mean 0 and standard deviation 1:"
   ]
  },
  {
   "cell_type": "code",
   "execution_count": 17,
   "id": "28dbb28e-ddd4-4abd-aed7-b0786f948659",
   "metadata": {},
   "outputs": [],
   "source": [
    "samples = norm.rvs(loc=0, scale=1, size=100)"
   ]
  },
  {
   "cell_type": "code",
   "execution_count": 18,
   "id": "d6862893-5fb0-4506-8923-fff0eb84f47b",
   "metadata": {},
   "outputs": [
    {
     "data": {
      "text/plain": [
       "array([-0.44887574,  0.7212158 ,  0.23716506,  0.66825024,  1.77192231,\n",
       "       -0.92929623,  0.02426757,  1.03738069,  0.19339633, -0.72959519,\n",
       "        1.11382181, -1.10543899, -1.46838301, -0.25158864, -0.17223201,\n",
       "        0.59826652, -0.46182266, -0.66423762,  2.14026389, -0.28130336,\n",
       "        2.03361084, -0.18062773, -0.93405107,  1.20777351, -0.76395686,\n",
       "        1.00433512, -0.56874851, -1.37699468,  0.66329741, -0.21887963,\n",
       "       -0.43590715,  0.73605428, -0.15244524,  0.14656284,  0.37850358,\n",
       "        1.6010056 ,  1.40279819, -0.68106946,  1.32709589, -1.4452448 ,\n",
       "       -1.11455611,  1.0417362 ,  1.33109441, -0.76129883, -0.93323173,\n",
       "       -0.31754623, -0.35842218, -1.80005574,  0.90585395, -0.2996932 ,\n",
       "        0.69450602,  1.26639084,  1.53010158, -0.44940937,  0.8073945 ,\n",
       "       -0.6319392 ,  0.69388774,  0.44285908, -0.04230376,  0.94881321,\n",
       "        1.51218552, -0.01742827, -0.16469081,  0.56790855, -0.88012685,\n",
       "       -1.63564625, -1.25668257,  0.43432167, -0.23168863,  0.57011363,\n",
       "        0.26521496, -1.63780307, -0.16684203,  1.62122608,  0.15509866,\n",
       "       -0.49316251, -0.13659516, -0.12991128, -0.02018209,  0.72339432,\n",
       "        0.82133446, -0.80040384,  1.6722659 , -0.31781801,  0.86288924,\n",
       "       -1.06265031,  1.01459494, -0.61291379, -1.11260643, -0.00448203,\n",
       "        0.30704722,  0.32606803,  0.18709779,  1.40277369, -0.09136675,\n",
       "        1.03461831, -1.09295973, -0.60297506,  0.28194635, -0.91721927])"
      ]
     },
     "execution_count": 18,
     "metadata": {},
     "output_type": "execute_result"
    }
   ],
   "source": [
    "samples"
   ]
  },
  {
   "cell_type": "code",
   "execution_count": 19,
   "id": "7c9b5cb4-3a36-41b5-81c3-86238da4ea71",
   "metadata": {},
   "outputs": [
    {
     "data": {
      "text/plain": [
       "0.09064414583870352"
      ]
     },
     "execution_count": 19,
     "metadata": {},
     "output_type": "execute_result"
    }
   ],
   "source": [
    "samples.mean()"
   ]
  },
  {
   "cell_type": "code",
   "execution_count": 20,
   "id": "75b5ae8e-a667-4975-a94a-eeac78f22f44",
   "metadata": {},
   "outputs": [
    {
     "data": {
      "text/plain": [
       "0.9118626264644393"
      ]
     },
     "execution_count": 20,
     "metadata": {},
     "output_type": "execute_result"
    }
   ],
   "source": [
    "samples.std()"
   ]
  },
  {
   "cell_type": "code",
   "execution_count": 21,
   "id": "56680d27-7266-476d-8db2-2b2c18bee97a",
   "metadata": {},
   "outputs": [
    {
     "data": {
      "text/plain": [
       "100"
      ]
     },
     "execution_count": 21,
     "metadata": {},
     "output_type": "execute_result"
    }
   ],
   "source": [
    "samples.size"
   ]
  },
  {
   "cell_type": "code",
   "execution_count": 22,
   "id": "7c1e085b-68e5-4958-bf55-cf2daf42c009",
   "metadata": {},
   "outputs": [],
   "source": [
    "import seaborn as sns\n",
    "import numpy as np"
   ]
  },
  {
   "cell_type": "code",
   "execution_count": 23,
   "id": "b157c9cc-a003-46b9-8fd2-6afb1d323784",
   "metadata": {},
   "outputs": [
    {
     "data": {
      "text/plain": [
       "(0.09064414583870352, -0.01880518252288431)"
      ]
     },
     "execution_count": 23,
     "metadata": {},
     "output_type": "execute_result"
    }
   ],
   "source": [
    "samples.mean(), np.median(samples)"
   ]
  },
  {
   "cell_type": "code",
   "execution_count": 24,
   "id": "4791ff73-aad1-4281-b2b3-ed406bc377e3",
   "metadata": {},
   "outputs": [
    {
     "data": {
      "image/png": "[encoded data removed]",
      "text/plain": [
       "<Figure size 640x480 with 1 Axes>"
      ]
     },
     "metadata": {},
     "output_type": "display_data"
    }
   ],
   "source": [
    "sns.kdeplot(samples);"
   ]
  },
  {
   "cell_type": "code",
   "execution_count": 25,
   "id": "568092df-b140-488a-bf31-cf8164a07908",
   "metadata": {},
   "outputs": [
    {
     "name": "stdout",
     "output_type": "stream",
     "text": [
      "Help on method rvs in module scipy.stats._distn_infrastructure:\n",
      "\n",
      "rvs(*args, **kwds) method of scipy.stats._continuous_distns.norm_gen instance\n",
      "    Random variates of given type.\n",
      "    \n",
      "    Parameters\n",
      "    ----------\n",
      "    arg1, arg2, arg3,... : array_like\n",
      "        The shape parameter(s) for the distribution (see docstring of the\n",
      "        instance object for more information).\n",
      "    loc : array_like, optional\n",
      "        Location parameter (default=0).\n",
      "    scale : array_like, optional\n",
      "        Scale parameter (default=1).\n",
      "    size : int or tuple of ints, optional\n",
      "        Defining number of random variates (default is 1).\n",
      "    random_state : {None, int, `numpy.random.Generator`,\n",
      "                    `numpy.random.RandomState`}, optional\n",
      "    \n",
      "        If `random_state` is None (or `np.random`), the\n",
      "        `numpy.random.RandomState` singleton is used.\n",
      "        If `random_state` is an int, a new ``RandomState`` instance is\n",
      "        used, seeded with `random_state`.\n",
      "        If `random_state` is already a ``Generator`` or ``RandomState``\n",
      "        instance, that instance is used.\n",
      "    \n",
      "    Returns\n",
      "    -------\n",
      "    rvs : ndarray or scalar\n",
      "        Random variates of given `size`.\n",
      "\n"
     ]
    }
   ],
   "source": [
    "help(norm.rvs)"
   ]
  },
  {
   "cell_type": "code",
   "execution_count": 26,
   "id": "0ec4f409-8d8a-481a-a464-7cc16a3a9e94",
   "metadata": {},
   "outputs": [],
   "source": [
    "samples1 = norm.rvs(loc=1, scale=3, size=100)"
   ]
  },
  {
   "cell_type": "code",
   "execution_count": 28,
   "id": "279c8da1-fdbe-4521-8082-3ecd16d186dc",
   "metadata": {},
   "outputs": [
    {
     "data": {
      "text/plain": [
       "0.7019355520002977"
      ]
     },
     "execution_count": 28,
     "metadata": {},
     "output_type": "execute_result"
    }
   ],
   "source": [
    "samples1.mean()"
   ]
  },
  {
   "cell_type": "code",
   "execution_count": 30,
   "id": "f383b638-60d9-4d8d-ac41-6ed50364079c",
   "metadata": {},
   "outputs": [
    {
     "data": {
      "text/plain": [
       "3.1836044422666605"
      ]
     },
     "execution_count": 30,
     "metadata": {},
     "output_type": "execute_result"
    }
   ],
   "source": [
    "samples1.std()"
   ]
  },
  {
   "cell_type": "code",
   "execution_count": 31,
   "id": "415235b5-2f77-4da8-9318-9a84f38b83dd",
   "metadata": {},
   "outputs": [
    {
     "data": {
      "text/plain": [
       "<Axes: ylabel='Density'>"
      ]
     },
     "execution_count": 31,
     "metadata": {},
     "output_type": "execute_result"
    },
    {
     "data": {
      "image/png": "[encoded data removed]",
      "text/plain": [
       "<Figure size 640x480 with 1 Axes>"
      ]
     },
     "metadata": {},
     "output_type": "display_data"
    }
   ],
   "source": [
    "sns.kdeplot(samples1)"
   ]
  },
  {
   "cell_type": "code",
   "execution_count": 35,
   "id": "f0299a8d-f7b6-4585-a55d-935a32e3ac1f",
   "metadata": {},
   "outputs": [],
   "source": [
    "samples = norm.rvs(loc=10, scale=5, size=100, random_state=0)"
   ]
  },
  {
   "cell_type": "code",
   "execution_count": 36,
   "id": "47f802c7-ea5c-4111-b589-30b51c01f767",
   "metadata": {},
   "outputs": [
    {
     "data": {
      "text/plain": [
       "array([18.82026173, 12.00078604, 14.89368992, 21.204466  , 19.33778995,\n",
       "        5.1136106 , 14.75044209,  9.24321396,  9.48390574, 12.05299251,\n",
       "       10.72021786, 17.27136753, 13.80518863, 10.60837508, 12.21931616,\n",
       "       11.66837164, 17.47039537,  8.97420868, 11.56533851,  5.7295213 ,\n",
       "       -2.76494908, 13.26809298, 14.32218099,  6.2891749 , 21.34877312,\n",
       "        2.72817163, 10.22879259,  9.06408075, 17.66389607, 17.34679385,\n",
       "       10.77473713, 11.8908126 ,  5.56107126,  0.09601766,  8.26043925,\n",
       "       10.78174485, 16.1514534 , 16.01189924,  8.06336591,  8.48848625,\n",
       "        4.75723517,  2.89991031,  1.46864905, 19.75387698,  7.45173909,\n",
       "        7.80962849,  3.7360232 , 13.88745178,  1.93051076,  8.9362986 ,\n",
       "        5.52266719, 11.93451249,  7.44597431,  4.09683908,  9.85908886,\n",
       "       12.14165935, 10.33258611, 11.51235949,  6.82838953,  8.18629417,\n",
       "        6.63769776,  8.20223419,  5.93426859,  1.36858699, 10.88713071,\n",
       "        7.99109532,  1.84900827, 12.31391128,  5.46350818, 10.25972698,\n",
       "       13.64545281, 10.64491455, 15.69700342,  3.8258709 , 12.01170821,\n",
       "        6.57594955,  5.64601425,  7.10575168,  8.44223734, 10.28082671,\n",
       "        4.1742508 , 14.50413243, 12.3283122 ,  2.31878157, 17.44126097,\n",
       "       19.47944588, 15.89389786,  9.10037582,  4.64623689, 15.27225863,\n",
       "        7.98411527, 16.11222535, 11.04137489, 14.88319518, 11.78183199,\n",
       "       13.53286584, 10.0525001 , 18.92935247, 10.63456046, 12.00994682])"
      ]
     },
     "execution_count": 36,
     "metadata": {},
     "output_type": "execute_result"
    }
   ],
   "source": [
    "samples"
   ]
  },
  {
   "cell_type": "code",
   "execution_count": 38,
   "id": "76ef41b1-1e07-45e8-8882-cef3ce9efcd4",
   "metadata": {},
   "outputs": [],
   "source": [
    "import pandas as pd\n",
    "sna = pd.read_csv('/home/mitu/Social_Network_Ads.csv')"
   ]
  },
  {
   "cell_type": "code",
   "execution_count": 41,
   "id": "e517d5dd-d610-4d7d-b801-9f0af48fac82",
   "metadata": {},
   "outputs": [
    {
     "data": {
      "text/plain": [
       "count       400.000000\n",
       "mean      69742.500000\n",
       "std       34096.960282\n",
       "min       15000.000000\n",
       "25%       43000.000000\n",
       "50%       70000.000000\n",
       "75%       88000.000000\n",
       "max      150000.000000\n",
       "Name: EstimatedSalary, dtype: float64"
      ]
     },
     "execution_count": 41,
     "metadata": {},
     "output_type": "execute_result"
    }
   ],
   "source": [
    "sna['EstimatedSalary'].describe()"
   ]
  },
  {
   "cell_type": "code",
   "execution_count": 48,
   "id": "2d3a8c3d-9335-40c6-a1e2-e36cc0b3ce96",
   "metadata": {},
   "outputs": [],
   "source": [
    "%precision 2\n",
    "samples2 = abs(norm.rvs(loc=70000, scale=34000, size=400, random_state=0))"
   ]
  },
  {
   "cell_type": "code",
   "execution_count": 53,
   "id": "bd29689e-7871-4e8c-9a90-c5b31f500954",
   "metadata": {},
   "outputs": [
    {
     "data": {
      "text/plain": [
       "(32823.98, 69399.96, 379.49, 151026.92)"
      ]
     },
     "execution_count": 53,
     "metadata": {},
     "output_type": "execute_result"
    }
   ],
   "source": [
    "samples2.std(), samples2.mean(), samples2.min(), samples2.max()"
   ]
  },
  {
   "cell_type": "code",
   "execution_count": 54,
   "id": "0b0f02b1-81d7-48ce-a2da-57dcb2167939",
   "metadata": {},
   "outputs": [
    {
     "data": {
      "text/plain": [
       "<Axes: ylabel='Density'>"
      ]
     },
     "execution_count": 54,
     "metadata": {},
     "output_type": "execute_result"
    },
    {
     "data": {
      "image/png": "[encoded data removed]",
      "text/plain": [
       "<Figure size 640x480 with 1 Axes>"
      ]
     },
     "metadata": {},
     "output_type": "display_data"
    }
   ],
   "source": [
    "sns.kdeplot(samples2)"
   ]
  },
  {
   "cell_type": "code",
   "execution_count": 56,
   "id": "180a532f-a233-4111-a7d6-7de5e24e5b6e",
   "metadata": {},
   "outputs": [
    {
     "data": {
      "text/plain": [
       "count    400.000000\n",
       "mean      37.655000\n",
       "std       10.482877\n",
       "min       18.000000\n",
       "25%       29.750000\n",
       "50%       37.000000\n",
       "75%       46.000000\n",
       "max       60.000000\n",
       "Name: Age, dtype: float64"
      ]
     },
     "execution_count": 56,
     "metadata": {},
     "output_type": "execute_result"
    }
   ],
   "source": [
    "sna['Age'].describe()"
   ]
  },
  {
   "cell_type": "code",
   "execution_count": 57,
   "id": "dcdf5d69-9464-4708-b7d5-cf1d07f2f8c3",
   "metadata": {},
   "outputs": [],
   "source": [
    "samples3 = abs(norm.rvs(loc=37, scale=10, size=400, random_state=0))"
   ]
  },
  {
   "cell_type": "code",
   "execution_count": 62,
   "id": "88abd184-512f-4e12-84e1-56717b2a05bc",
   "metadata": {},
   "outputs": [
    {
     "data": {
      "text/plain": [
       "(9.88, 36.71, 9.27, 60.83)"
      ]
     },
     "execution_count": 62,
     "metadata": {},
     "output_type": "execute_result"
    }
   ],
   "source": [
    "samples3.std(), samples3.mean(), samples3.min(), samples3.max()"
   ]
  },
  {
   "cell_type": "code",
   "execution_count": 65,
   "id": "9858dbdc-c209-45a9-9af5-1c41c0c053eb",
   "metadata": {},
   "outputs": [
    {
     "data": {
      "text/plain": [
       "<Axes: xlabel='Age', ylabel='Density'>"
      ]
     },
     "execution_count": 65,
     "metadata": {},
     "output_type": "execute_result"
    },
    {
     "data": {
      "image/png": "[encoded data removed]",
      "text/plain": [
       "<Figure size 640x480 with 1 Axes>"
      ]
     },
     "metadata": {},
     "output_type": "display_data"
    }
   ],
   "source": [
    "sns.kdeplot(samples3)\n",
    "sns.kdeplot(sna['Age'])"
   ]
  },
  {
   "cell_type": "markdown",
   "id": "777368c7-81e7-4df8-a945-045294a54a4e",
   "metadata": {},
   "source": [
    "##### Generate data from poisson distribution"
   ]
  },
  {
   "cell_type": "code",
   "execution_count": 67,
   "id": "8ba55b69-d0e4-44a5-90c6-dae6001369fb",
   "metadata": {},
   "outputs": [],
   "source": [
    "from scipy.stats import poisson"
   ]
  },
  {
   "cell_type": "code",
   "execution_count": 68,
   "id": "9844af29-1327-4abd-ba5f-b22aa4488ecf",
   "metadata": {},
   "outputs": [],
   "source": [
    "mean_customers_per_hour = 5"
   ]
  },
  {
   "cell_type": "code",
   "execution_count": 75,
   "id": "873cc3fb-3ff7-41b7-8e16-27e31bbbf25b",
   "metadata": {},
   "outputs": [],
   "source": [
    "# Generate a random sample of the number of customers that\n",
    "# arrive at the store in one hour.\n",
    "number_of_customers = poisson.rvs(mean_customers_per_hour, size=10)"
   ]
  },
  {
   "cell_type": "code",
   "execution_count": 76,
   "id": "e2fe8cb8-5af5-4016-8574-ecbc7e132f13",
   "metadata": {},
   "outputs": [
    {
     "data": {
      "text/plain": [
       "array([6, 9, 3, 2, 4, 3, 5, 5, 2, 2])"
      ]
     },
     "execution_count": 76,
     "metadata": {},
     "output_type": "execute_result"
    }
   ],
   "source": [
    "number_of_customers"
   ]
  },
  {
   "cell_type": "code",
   "execution_count": 126,
   "id": "19322cd6-30ae-47df-9f54-e70697ed4a0c",
   "metadata": {},
   "outputs": [],
   "source": [
    "number_of_customers = poisson.rvs(mean_customers_per_hour, size=100, random_state=0)"
   ]
  },
  {
   "cell_type": "code",
   "execution_count": 127,
   "id": "6679181b-9686-40d9-bdfb-eda91be3201e",
   "metadata": {},
   "outputs": [
    {
     "data": {
      "text/plain": [
       "array([ 9,  5,  6,  5,  5,  8,  4,  5,  4,  3,  3,  7,  3,  3,  4,  5,  2,\n",
       "        1,  7,  7, 10,  5,  8,  8,  6,  4,  4,  3,  1,  5,  6,  5,  5,  4,\n",
       "        1,  7,  2,  7,  6,  2,  6,  5,  7,  5,  4,  5, 10,  6,  4,  7,  3,\n",
       "        2,  2,  6,  2,  5,  3,  6,  2,  4,  4,  4,  8,  7, 11,  3,  4,  1,\n",
       "        4,  5,  1,  2,  2,  5,  5,  5,  7,  8,  4,  6,  4, 10,  3,  8,  5,\n",
       "        7,  3,  8,  2,  1,  4,  4,  4,  4,  6,  4, 12,  1,  6,  3])"
      ]
     },
     "execution_count": 127,
     "metadata": {},
     "output_type": "execute_result"
    }
   ],
   "source": [
    "number_of_customers"
   ]
  },
  {
   "cell_type": "code",
   "execution_count": 128,
   "id": "47d5fb8e-abe4-44da-afb3-445acce2bf06",
   "metadata": {},
   "outputs": [
    {
     "data": {
      "text/plain": [
       "4.84"
      ]
     },
     "execution_count": 128,
     "metadata": {},
     "output_type": "execute_result"
    }
   ],
   "source": [
    "number_of_customers.mean()"
   ]
  },
  {
   "cell_type": "code",
   "execution_count": 129,
   "id": "fe0ee4b9-7950-439c-a1a3-afdfa2142e07",
   "metadata": {},
   "outputs": [],
   "source": [
    "import matplotlib.pyplot as plt"
   ]
  },
  {
   "cell_type": "code",
   "execution_count": 130,
   "id": "e2acee71-de50-44ed-be3d-8abe727627cd",
   "metadata": {},
   "outputs": [
    {
     "data": {
      "image/png": "[encoded data removed]",
      "text/plain": [
       "<Figure size 640x480 with 1 Axes>"
      ]
     },
     "metadata": {},
     "output_type": "display_data"
    }
   ],
   "source": [
    "plt.hist(number_of_customers, bins=range(12));"
   ]
  },
  {
   "cell_type": "code",
   "execution_count": 131,
   "id": "9d9422e5-1014-48bb-b153-9c575076f0f4",
   "metadata": {},
   "outputs": [],
   "source": [
    "custs = pd.Series(number_of_customers)"
   ]
  },
  {
   "cell_type": "code",
   "execution_count": 132,
   "id": "a975df40-3a00-44d7-9b3a-12e02e9bbf5d",
   "metadata": {},
   "outputs": [
    {
     "data": {
      "image/png": "[encoded data removed]",
      "text/plain": [
       "<Figure size 1000x1000 with 1 Axes>"
      ]
     },
     "metadata": {},
     "output_type": "display_data"
    }
   ],
   "source": [
    "plt.figure(figsize=(10,10))\n",
    "plt.pie(custs.value_counts(), labels=custs.value_counts().index, autopct='%2.2f%%');"
   ]
  },
  {
   "cell_type": "code",
   "execution_count": 138,
   "id": "ecd54feb-284e-4a39-a285-c72f5ea65dd6",
   "metadata": {},
   "outputs": [
    {
     "data": {
      "text/plain": [
       "1      7\n",
       "2     10\n",
       "3     11\n",
       "4     20\n",
       "5     18\n",
       "6     11\n",
       "7     10\n",
       "8      7\n",
       "9      1\n",
       "10     3\n",
       "11     1\n",
       "12     1\n",
       "Name: count, dtype: int64"
      ]
     },
     "execution_count": 138,
     "metadata": {},
     "output_type": "execute_result"
    }
   ],
   "source": [
    "custs.value_counts().sort_index()"
   ]
  },
  {
   "cell_type": "code",
   "execution_count": 139,
   "id": "2bea735b-55ed-4319-a543-77f9abacb7d5",
   "metadata": {},
   "outputs": [],
   "source": [
    "data = custs.value_counts().sort_index()"
   ]
  },
  {
   "cell_type": "code",
   "execution_count": 140,
   "id": "710a036e-16e1-472a-8ca9-4ea3ba0ffb8f",
   "metadata": {},
   "outputs": [
    {
     "data": {
      "text/plain": [
       "1      7\n",
       "2     10\n",
       "3     11\n",
       "4     20\n",
       "5     18\n",
       "6     11\n",
       "7     10\n",
       "8      7\n",
       "9      1\n",
       "10     3\n",
       "11     1\n",
       "12     1\n",
       "Name: count, dtype: int64"
      ]
     },
     "execution_count": 140,
     "metadata": {},
     "output_type": "execute_result"
    }
   ],
   "source": [
    "data"
   ]
  },
  {
   "cell_type": "code",
   "execution_count": 136,
   "id": "5286dcd7-c8b6-419f-af74-3ad1991320dd",
   "metadata": {},
   "outputs": [
    {
     "data": {
      "text/plain": [
       "[<matplotlib.lines.Line2D at 0x771beba9ea10>]"
      ]
     },
     "execution_count": 136,
     "metadata": {},
     "output_type": "execute_result"
    },
    {
     "data": {
      "image/png": "[encoded data removed]",
      "text/plain": [
       "<Figure size 640x480 with 1 Axes>"
      ]
     },
     "metadata": {},
     "output_type": "display_data"
    }
   ],
   "source": [
    "plt.grid()\n",
    "plt.xlabel('Number of Customers')\n",
    "plt.ylabel('Probabilities')\n",
    "plt.xticks(range(12))\n",
    "plt.plot(data.index, data/100, color = 'red', marker = 'o')"
   ]
  },
  {
   "cell_type": "markdown",
   "id": "7b6c453d-8418-471a-98b8-fa84364c719f",
   "metadata": {},
   "source": [
    "##### Simulate classification dataset"
   ]
  },
  {
   "cell_type": "code",
   "execution_count": 142,
   "id": "b48d5154-98e1-434d-8f15-975a14ffb38b",
   "metadata": {},
   "outputs": [],
   "source": [
    "from sklearn.datasets import make_classification"
   ]
  },
  {
   "cell_type": "code",
   "execution_count": 145,
   "id": "cb0e0bf8-819a-4c5a-83d7-2c47b55e189c",
   "metadata": {},
   "outputs": [],
   "source": [
    "data = make_classification(n_samples=1000, n_features=10, \n",
    "                           n_classes=2, random_state=0, n_informative=3)"
   ]
  },
  {
   "cell_type": "code",
   "execution_count": 147,
   "id": "940e3e81-f8f4-471e-9f6d-15ccb3013e96",
   "metadata": {},
   "outputs": [
    {
     "data": {
      "text/plain": [
       "array([[ 1.62, -0.43,  0.16, ...,  0.2 ,  0.54,  0.21],\n",
       "       [-2.34, -0.88, -1.49, ...,  0.6 , -0.27, -0.59],\n",
       "       [ 0.98,  1.63,  1.37, ..., -1.07,  2.73, -0.07],\n",
       "       ...,\n",
       "       [-1.39,  1.49, -0.28, ..., -0.31,  1.27, -1.92],\n",
       "       [-1.44,  0.73, -0.41, ...,  0.36, -0.19, -1.12],\n",
       "       [ 0.64, -1.27, -1.24, ...,  1.23,  1.4 , -0.83]])"
      ]
     },
     "execution_count": 147,
     "metadata": {},
     "output_type": "execute_result"
    }
   ],
   "source": [
    "data[0]"
   ]
  },
  {
   "cell_type": "code",
   "execution_count": 148,
   "id": "6e8ac13f-dae8-4abe-83b2-6fe855564a80",
   "metadata": {},
   "outputs": [
    {
     "data": {
      "text/plain": [
       "array([0, 1, 1, 1, 1, 1, 0, 1, 1, 1, 1, 1, 0, 0, 1, 0, 0, 1, 1, 0, 0, 0,\n",
       "       0, 1, 0, 1, 0, 1, 0, 0, 1, 0, 0, 0, 1, 0, 1, 1, 1, 1, 1, 1, 0, 1,\n",
       "       0, 1, 0, 1, 1, 1, 1, 1, 0, 0, 1, 1, 0, 1, 0, 1, 1, 1, 0, 0, 0, 1,\n",
       "       0, 1, 0, 1, 0, 1, 1, 1, 0, 0, 1, 0, 1, 0, 1, 1, 1, 0, 1, 0, 0, 0,\n",
       "       1, 0, 0, 0, 1, 1, 1, 0, 1, 1, 0, 1, 1, 0, 0, 1, 0, 0, 0, 0, 1, 1,\n",
       "       0, 0, 0, 1, 0, 0, 1, 0, 0, 0, 0, 1, 1, 0, 1, 1, 1, 1, 1, 0, 1, 0,\n",
       "       1, 0, 1, 1, 0, 1, 0, 1, 0, 0, 1, 1, 1, 1, 1, 1, 0, 0, 0, 1, 0, 0,\n",
       "       0, 0, 1, 0, 1, 1, 0, 0, 0, 0, 1, 1, 0, 1, 1, 1, 0, 0, 0, 0, 0, 1,\n",
       "       1, 1, 0, 1, 0, 0, 1, 1, 0, 1, 0, 1, 1, 1, 1, 0, 0, 0, 1, 0, 0, 1,\n",
       "       1, 0, 1, 0, 1, 0, 1, 1, 1, 1, 0, 0, 1, 0, 0, 1, 0, 0, 0, 1, 1, 1,\n",
       "       0, 0, 1, 0, 1, 1, 0, 1, 1, 1, 1, 1, 0, 0, 1, 1, 0, 0, 0, 0, 0, 0,\n",
       "       1, 1, 1, 1, 1, 1, 0, 1, 1, 0, 0, 0, 0, 0, 0, 0, 1, 1, 1, 1, 1, 0,\n",
       "       1, 0, 0, 0, 0, 0, 1, 1, 1, 1, 0, 0, 0, 1, 1, 1, 0, 0, 0, 1, 0, 1,\n",
       "       0, 0, 1, 1, 1, 1, 1, 1, 1, 1, 1, 1, 0, 0, 1, 1, 0, 1, 1, 0, 1, 1,\n",
       "       1, 1, 0, 1, 0, 0, 1, 1, 0, 1, 0, 0, 1, 0, 0, 1, 1, 0, 0, 1, 1, 1,\n",
       "       0, 0, 0, 0, 0, 0, 1, 0, 1, 0, 0, 1, 1, 0, 0, 0, 0, 0, 1, 1, 0, 0,\n",
       "       0, 0, 1, 1, 1, 1, 1, 1, 1, 1, 0, 0, 0, 1, 0, 1, 1, 1, 0, 1, 1, 0,\n",
       "       0, 1, 1, 1, 1, 1, 1, 1, 0, 1, 0, 0, 1, 1, 0, 0, 0, 0, 1, 0, 1, 1,\n",
       "       0, 0, 0, 0, 1, 1, 1, 1, 0, 0, 0, 1, 1, 0, 1, 1, 1, 0, 0, 0, 1, 0,\n",
       "       0, 1, 1, 0, 0, 0, 0, 1, 1, 1, 1, 1, 1, 0, 1, 1, 0, 0, 1, 1, 1, 1,\n",
       "       0, 1, 0, 0, 1, 0, 0, 0, 1, 1, 0, 0, 0, 0, 0, 1, 0, 0, 0, 1, 0, 1,\n",
       "       0, 1, 1, 1, 0, 1, 0, 0, 0, 1, 0, 0, 0, 1, 1, 0, 1, 1, 0, 1, 1, 1,\n",
       "       0, 0, 0, 0, 1, 0, 0, 1, 0, 1, 1, 0, 1, 1, 0, 1, 0, 1, 0, 0, 0, 1,\n",
       "       1, 1, 0, 1, 1, 1, 1, 1, 1, 0, 1, 0, 0, 1, 1, 0, 0, 1, 0, 1, 0, 0,\n",
       "       0, 1, 0, 1, 0, 0, 1, 1, 0, 1, 1, 0, 0, 0, 1, 1, 0, 0, 1, 0, 0, 1,\n",
       "       0, 0, 1, 1, 1, 0, 1, 0, 0, 1, 0, 1, 1, 0, 1, 0, 1, 0, 0, 0, 1, 1,\n",
       "       1, 0, 1, 1, 1, 1, 1, 1, 0, 0, 0, 1, 0, 0, 0, 0, 1, 1, 1, 1, 0, 0,\n",
       "       0, 0, 0, 0, 1, 1, 1, 0, 0, 0, 1, 0, 1, 0, 1, 0, 1, 1, 0, 1, 0, 1,\n",
       "       1, 1, 1, 1, 1, 1, 1, 0, 1, 0, 0, 1, 0, 0, 1, 0, 0, 0, 1, 0, 1, 0,\n",
       "       0, 0, 0, 0, 0, 0, 1, 0, 0, 1, 1, 1, 1, 1, 1, 1, 1, 1, 1, 1, 0, 1,\n",
       "       1, 1, 0, 0, 1, 1, 0, 0, 0, 1, 0, 0, 1, 0, 1, 0, 1, 0, 1, 0, 1, 0,\n",
       "       1, 1, 1, 0, 1, 0, 1, 0, 0, 1, 0, 0, 1, 1, 0, 1, 1, 0, 0, 0, 0, 1,\n",
       "       0, 0, 0, 0, 1, 1, 1, 1, 1, 0, 1, 1, 1, 0, 0, 1, 0, 1, 0, 0, 1, 1,\n",
       "       1, 0, 0, 1, 0, 0, 1, 1, 1, 0, 0, 0, 1, 1, 0, 0, 1, 0, 1, 0, 1, 1,\n",
       "       1, 0, 0, 1, 0, 0, 1, 1, 1, 0, 1, 1, 0, 0, 1, 0, 1, 1, 0, 0, 0, 0,\n",
       "       1, 1, 0, 1, 0, 1, 1, 0, 1, 0, 0, 0, 0, 0, 0, 1, 1, 0, 1, 1, 0, 1,\n",
       "       1, 1, 0, 0, 0, 0, 1, 0, 1, 0, 0, 0, 0, 0, 0, 0, 0, 1, 0, 1, 0, 1,\n",
       "       1, 0, 0, 1, 0, 1, 1, 1, 1, 1, 0, 1, 0, 0, 0, 1, 0, 0, 0, 0, 0, 1,\n",
       "       0, 0, 0, 0, 0, 0, 1, 1, 0, 1, 1, 0, 1, 0, 0, 1, 0, 1, 1, 1, 1, 1,\n",
       "       0, 0, 1, 0, 0, 1, 1, 0, 1, 0, 1, 1, 1, 0, 1, 0, 1, 1, 1, 0, 0, 0,\n",
       "       1, 1, 1, 0, 0, 1, 0, 0, 0, 0, 1, 1, 0, 0, 0, 1, 1, 0, 0, 1, 0, 1,\n",
       "       1, 0, 1, 0, 1, 0, 1, 1, 0, 0, 0, 1, 0, 0, 0, 1, 1, 1, 1, 1, 1, 0,\n",
       "       1, 0, 0, 0, 0, 0, 1, 1, 1, 0, 0, 0, 1, 0, 0, 1, 1, 0, 1, 1, 0, 0,\n",
       "       0, 0, 0, 1, 0, 0, 0, 0, 1, 1, 0, 0, 0, 0, 1, 1, 1, 1, 0, 1, 1, 1,\n",
       "       1, 0, 0, 1, 1, 0, 0, 0, 0, 0, 0, 0, 0, 1, 1, 1, 1, 1, 0, 0, 0, 0,\n",
       "       0, 0, 1, 0, 1, 0, 0, 1, 1, 0])"
      ]
     },
     "execution_count": 148,
     "metadata": {},
     "output_type": "execute_result"
    }
   ],
   "source": [
    "data[1]"
   ]
  },
  {
   "cell_type": "code",
   "execution_count": 149,
   "id": "e5a94dbd-fa7d-4d74-85ea-309ce7aeddf6",
   "metadata": {},
   "outputs": [],
   "source": [
    "df = pd.DataFrame(data = data[0])"
   ]
  },
  {
   "cell_type": "code",
   "execution_count": 151,
   "id": "7b3aaa70-9671-4196-83f7-256a217a9de8",
   "metadata": {},
   "outputs": [],
   "source": [
    "df['class'] = data[1]"
   ]
  },
  {
   "cell_type": "code",
   "execution_count": 152,
   "id": "d5b004fc-b93a-492f-af41-4748637d3248",
   "metadata": {},
   "outputs": [
    {
     "data": {
      "text/html": [
       "<div>\n",
       "<style scoped>\n",
       "    .dataframe tbody tr th:only-of-type {\n",
       "        vertical-align: middle;\n",
       "    }\n",
       "\n",
       "    .dataframe tbody tr th {\n",
       "        vertical-align: top;\n",
       "    }\n",
       "\n",
       "    .dataframe thead th {\n",
       "        text-align: right;\n",
       "    }\n",
       "</style>\n",
       "<table border=\"1\" class=\"dataframe\">\n",
       "  <thead>\n",
       "    <tr style=\"text-align: right;\">\n",
       "      <th></th>\n",
       "      <th>0</th>\n",
       "      <th>1</th>\n",
       "      <th>2</th>\n",
       "      <th>3</th>\n",
       "      <th>4</th>\n",
       "      <th>5</th>\n",
       "      <th>6</th>\n",
       "      <th>7</th>\n",
       "      <th>8</th>\n",
       "      <th>9</th>\n",
       "      <th>class</th>\n",
       "    </tr>\n",
       "  </thead>\n",
       "  <tbody>\n",
       "    <tr>\n",
       "      <th>0</th>\n",
       "      <td>1.620947</td>\n",
       "      <td>-0.433527</td>\n",
       "      <td>0.162905</td>\n",
       "      <td>2.007343</td>\n",
       "      <td>0.060170</td>\n",
       "      <td>0.446299</td>\n",
       "      <td>-0.818487</td>\n",
       "      <td>0.197243</td>\n",
       "      <td>0.537695</td>\n",
       "      <td>0.207155</td>\n",
       "      <td>0</td>\n",
       "    </tr>\n",
       "    <tr>\n",
       "      <th>1</th>\n",
       "      <td>-2.336835</td>\n",
       "      <td>-0.884129</td>\n",
       "      <td>-1.489995</td>\n",
       "      <td>0.398259</td>\n",
       "      <td>-1.128671</td>\n",
       "      <td>0.055355</td>\n",
       "      <td>-1.027055</td>\n",
       "      <td>0.597032</td>\n",
       "      <td>-0.270654</td>\n",
       "      <td>-0.585551</td>\n",
       "      <td>1</td>\n",
       "    </tr>\n",
       "    <tr>\n",
       "      <th>2</th>\n",
       "      <td>0.975054</td>\n",
       "      <td>1.632019</td>\n",
       "      <td>1.368798</td>\n",
       "      <td>-0.081025</td>\n",
       "      <td>1.346979</td>\n",
       "      <td>-0.123379</td>\n",
       "      <td>-0.406592</td>\n",
       "      <td>-1.067364</td>\n",
       "      <td>2.727947</td>\n",
       "      <td>-0.069978</td>\n",
       "      <td>1</td>\n",
       "    </tr>\n",
       "    <tr>\n",
       "      <th>3</th>\n",
       "      <td>0.905750</td>\n",
       "      <td>0.826385</td>\n",
       "      <td>1.404151</td>\n",
       "      <td>0.248280</td>\n",
       "      <td>0.765889</td>\n",
       "      <td>-1.164785</td>\n",
       "      <td>-0.900200</td>\n",
       "      <td>-0.366282</td>\n",
       "      <td>-0.460534</td>\n",
       "      <td>1.094243</td>\n",
       "      <td>1</td>\n",
       "    </tr>\n",
       "    <tr>\n",
       "      <th>4</th>\n",
       "      <td>2.542487</td>\n",
       "      <td>0.404609</td>\n",
       "      <td>0.579403</td>\n",
       "      <td>-0.675938</td>\n",
       "      <td>0.850752</td>\n",
       "      <td>1.059687</td>\n",
       "      <td>-0.556996</td>\n",
       "      <td>1.490126</td>\n",
       "      <td>1.222022</td>\n",
       "      <td>-0.525303</td>\n",
       "      <td>1</td>\n",
       "    </tr>\n",
       "    <tr>\n",
       "      <th>...</th>\n",
       "      <td>...</td>\n",
       "      <td>...</td>\n",
       "      <td>...</td>\n",
       "      <td>...</td>\n",
       "      <td>...</td>\n",
       "      <td>...</td>\n",
       "      <td>...</td>\n",
       "      <td>...</td>\n",
       "      <td>...</td>\n",
       "      <td>...</td>\n",
       "      <td>...</td>\n",
       "    </tr>\n",
       "    <tr>\n",
       "      <th>995</th>\n",
       "      <td>-0.080486</td>\n",
       "      <td>0.214686</td>\n",
       "      <td>1.235329</td>\n",
       "      <td>1.521288</td>\n",
       "      <td>0.116248</td>\n",
       "      <td>-1.594663</td>\n",
       "      <td>0.341319</td>\n",
       "      <td>-1.257747</td>\n",
       "      <td>-0.527420</td>\n",
       "      <td>2.004805</td>\n",
       "      <td>0</td>\n",
       "    </tr>\n",
       "    <tr>\n",
       "      <th>996</th>\n",
       "      <td>1.658900</td>\n",
       "      <td>-0.570057</td>\n",
       "      <td>-0.521856</td>\n",
       "      <td>1.143842</td>\n",
       "      <td>-0.018065</td>\n",
       "      <td>-1.723951</td>\n",
       "      <td>1.093787</td>\n",
       "      <td>1.015624</td>\n",
       "      <td>0.271675</td>\n",
       "      <td>-0.878093</td>\n",
       "      <td>0</td>\n",
       "    </tr>\n",
       "    <tr>\n",
       "      <th>997</th>\n",
       "      <td>-1.385905</td>\n",
       "      <td>1.493746</td>\n",
       "      <td>-0.277011</td>\n",
       "      <td>-0.575595</td>\n",
       "      <td>0.737936</td>\n",
       "      <td>0.687173</td>\n",
       "      <td>-0.757177</td>\n",
       "      <td>-0.313214</td>\n",
       "      <td>1.268401</td>\n",
       "      <td>-1.921936</td>\n",
       "      <td>1</td>\n",
       "    </tr>\n",
       "    <tr>\n",
       "      <th>998</th>\n",
       "      <td>-1.438124</td>\n",
       "      <td>0.727925</td>\n",
       "      <td>-0.407381</td>\n",
       "      <td>-0.126802</td>\n",
       "      <td>0.190788</td>\n",
       "      <td>-0.281855</td>\n",
       "      <td>-1.424744</td>\n",
       "      <td>0.358668</td>\n",
       "      <td>-0.188708</td>\n",
       "      <td>-1.120475</td>\n",
       "      <td>1</td>\n",
       "    </tr>\n",
       "    <tr>\n",
       "      <th>999</th>\n",
       "      <td>0.639727</td>\n",
       "      <td>-1.270569</td>\n",
       "      <td>-1.236206</td>\n",
       "      <td>1.477067</td>\n",
       "      <td>-0.730314</td>\n",
       "      <td>0.181234</td>\n",
       "      <td>-0.154458</td>\n",
       "      <td>1.233091</td>\n",
       "      <td>1.397424</td>\n",
       "      <td>-0.832661</td>\n",
       "      <td>0</td>\n",
       "    </tr>\n",
       "  </tbody>\n",
       "</table>\n",
       "<p>1000 rows × 11 columns</p>\n",
       "</div>"
      ],
      "text/plain": [
       "            0         1         2         3         4         5         6  \\\n",
       "0    1.620947 -0.433527  0.162905  2.007343  0.060170  0.446299 -0.818487   \n",
       "1   -2.336835 -0.884129 -1.489995  0.398259 -1.128671  0.055355 -1.027055   \n",
       "2    0.975054  1.632019  1.368798 -0.081025  1.346979 -0.123379 -0.406592   \n",
       "3    0.905750  0.826385  1.404151  0.248280  0.765889 -1.164785 -0.900200   \n",
       "4    2.542487  0.404609  0.579403 -0.675938  0.850752  1.059687 -0.556996   \n",
       "..        ...       ...       ...       ...       ...       ...       ...   \n",
       "995 -0.080486  0.214686  1.235329  1.521288  0.116248 -1.594663  0.341319   \n",
       "996  1.658900 -0.570057 -0.521856  1.143842 -0.018065 -1.723951  1.093787   \n",
       "997 -1.385905  1.493746 -0.277011 -0.575595  0.737936  0.687173 -0.757177   \n",
       "998 -1.438124  0.727925 -0.407381 -0.126802  0.190788 -0.281855 -1.424744   \n",
       "999  0.639727 -1.270569 -1.236206  1.477067 -0.730314  0.181234 -0.154458   \n",
       "\n",
       "            7         8         9  class  \n",
       "0    0.197243  0.537695  0.207155      0  \n",
       "1    0.597032 -0.270654 -0.585551      1  \n",
       "2   -1.067364  2.727947 -0.069978      1  \n",
       "3   -0.366282 -0.460534  1.094243      1  \n",
       "4    1.490126  1.222022 -0.525303      1  \n",
       "..        ...       ...       ...    ...  \n",
       "995 -1.257747 -0.527420  2.004805      0  \n",
       "996  1.015624  0.271675 -0.878093      0  \n",
       "997 -0.313214  1.268401 -1.921936      1  \n",
       "998  0.358668 -0.188708 -1.120475      1  \n",
       "999  1.233091  1.397424 -0.832661      0  \n",
       "\n",
       "[1000 rows x 11 columns]"
      ]
     },
     "execution_count": 152,
     "metadata": {},
     "output_type": "execute_result"
    }
   ],
   "source": [
    "df"
   ]
  },
  {
   "cell_type": "markdown",
   "id": "bb6d0692-3a14-43dc-a640-4af82245df51",
   "metadata": {},
   "source": [
    "##### Simulate regression dataset"
   ]
  },
  {
   "cell_type": "code",
   "execution_count": 154,
   "id": "5399d3da-861a-4235-b721-493a478e03bd",
   "metadata": {},
   "outputs": [],
   "source": [
    "from sklearn.datasets import make_regression"
   ]
  },
  {
   "cell_type": "code",
   "execution_count": 155,
   "id": "ec47d77b-91f1-4831-89a7-0a5575643ec5",
   "metadata": {},
   "outputs": [],
   "source": [
    "reg_data = make_regression(n_samples=500, n_features=5)"
   ]
  },
  {
   "cell_type": "code",
   "execution_count": 156,
   "id": "8a8dd2f9-7d1c-4b49-81d4-bacd1192db51",
   "metadata": {},
   "outputs": [
    {
     "data": {
      "text/plain": [
       "(array([[-1.1 ,  2.15, -0.36, -0.08,  1.57],\n",
       "        [-0.82,  0.37,  0.91,  2.21, -0.26],\n",
       "        [-0.26, -0.28,  1.84, -0.31, -1.36],\n",
       "        ...,\n",
       "        [ 2.74,  0.79,  0.7 ,  0.96,  0.13],\n",
       "        [-0.32,  0.86, -0.39,  1.34, -0.56],\n",
       "        [-0.51,  0.65, -0.19, -0.25, -1.23]]),\n",
       " array([ 1.13e+02,  2.00e+01, -6.80e+01, -1.92e+01,  3.77e+00,  1.30e+02,\n",
       "         2.02e+01, -9.07e+01, -4.49e+01,  1.18e+02, -1.87e+00,  1.02e+02,\n",
       "        -1.73e+02,  1.66e+01,  7.88e+01, -2.29e+01, -1.33e+02,  1.16e+01,\n",
       "         4.15e+01, -1.90e+02,  2.68e+01, -7.74e+00, -1.65e+01, -1.43e+02,\n",
       "        -1.06e+02, -6.37e+01, -1.02e+02,  3.19e+01,  1.34e+01, -5.49e+01,\n",
       "        -9.20e+01, -5.63e+01,  5.50e+01, -1.45e+00,  4.90e+01,  7.61e+01,\n",
       "         1.02e+02,  1.56e+01, -9.05e+01, -7.59e+01, -5.04e+01, -5.72e+01,\n",
       "         1.08e+02,  8.80e+01, -4.59e+01,  1.13e+01, -6.23e+01, -1.05e+02,\n",
       "        -2.59e+01,  2.21e+01,  6.77e+01,  8.91e+00, -7.17e+01,  1.45e+01,\n",
       "         2.68e+01, -8.61e+01,  6.79e+00, -3.79e+01,  1.01e+02, -1.36e+02,\n",
       "        -2.96e+01, -1.87e+02,  1.17e+02, -1.31e+02, -3.82e+01, -1.85e+02,\n",
       "        -9.18e+01, -9.68e+01,  1.33e+02, -4.77e+01, -4.62e+01,  8.21e+01,\n",
       "        -5.44e+01, -9.47e+01,  1.45e+02,  1.93e+02,  3.51e+01, -3.01e+01,\n",
       "        -2.17e+01,  9.95e+01,  9.40e+01, -7.29e+01,  7.73e+00, -7.21e+01,\n",
       "         8.83e+01, -4.98e+01, -5.54e+01,  4.49e+01,  3.88e+01,  7.76e+00,\n",
       "         2.05e+02, -1.98e+02,  6.72e+01,  1.63e+01, -1.63e+02, -2.72e+01,\n",
       "         1.66e+01, -1.14e+02, -5.30e+01,  5.23e+01, -7.91e+01, -1.74e+01,\n",
       "         1.04e+02, -2.13e+02,  9.49e+01, -1.66e+02,  1.20e+02,  3.52e+01,\n",
       "         2.40e+01, -7.37e+01, -1.04e+02, -3.51e+01, -8.47e+01,  5.27e+01,\n",
       "         1.18e+02,  1.39e+02,  1.86e+02, -2.71e+01,  3.17e+01, -8.16e+01,\n",
       "         3.60e+01,  2.76e+01, -6.05e+01,  1.56e+02,  6.30e+01, -5.76e+01,\n",
       "        -1.33e+02,  1.71e+01, -1.81e+02, -3.47e+01,  5.25e+01, -4.90e+01,\n",
       "        -3.99e+01, -8.22e+01,  1.96e+01, -3.57e+01,  1.88e+00, -1.54e+02,\n",
       "        -9.19e+01,  6.72e+01, -7.20e-01, -2.06e+00,  8.97e+01,  1.05e+02,\n",
       "        -9.67e+01,  1.49e+02, -1.54e+02,  2.90e+01, -3.92e+01, -1.03e+02,\n",
       "         3.72e-01, -6.74e+01,  1.05e+02,  3.56e+01, -3.89e+01,  7.48e+01,\n",
       "        -1.28e+02, -4.49e+01,  1.79e+01, -4.49e+01, -9.26e-02,  1.02e+02,\n",
       "         7.40e+01, -4.06e+01, -1.69e+01,  3.23e+02,  1.96e+02,  7.07e+00,\n",
       "         8.27e+01,  2.73e+01, -2.06e+01,  7.45e+01,  5.00e+01, -6.75e+00,\n",
       "        -5.25e+01, -1.35e+01, -9.00e+01,  6.77e+01, -3.47e+01, -1.38e+01,\n",
       "         5.55e+01, -3.55e+01,  7.73e+01, -8.39e+01,  5.40e+01,  2.63e+01,\n",
       "        -8.51e+00,  1.31e+02, -7.83e+01,  1.50e+02, -1.01e+02,  4.40e+01,\n",
       "         4.04e+01,  8.13e+01, -7.36e+01,  2.75e+01, -4.66e+01, -2.57e+00,\n",
       "        -9.48e+01,  4.04e+00,  4.56e+01,  1.01e+02, -3.63e+01,  1.32e+02,\n",
       "        -1.07e+02, -1.43e+02, -3.09e+01,  1.20e+02, -2.69e+01,  1.10e+02,\n",
       "         6.81e+01, -5.38e+01,  6.41e+01, -4.94e+01, -1.42e+02,  9.97e+01,\n",
       "         2.54e+01, -8.88e+01,  4.73e+01,  3.08e+01,  2.35e+01, -4.28e+01,\n",
       "        -3.83e+01, -7.99e+01, -5.65e+01,  1.06e+02, -3.79e+01, -7.08e+01,\n",
       "        -4.83e+01,  2.87e+01,  3.88e+01, -1.07e+02, -6.98e+01, -4.76e+01,\n",
       "        -6.12e+01, -8.21e+00,  5.65e+01,  9.04e+01,  6.71e+01, -4.23e+01,\n",
       "        -7.19e+00, -9.47e+01, -5.34e+01, -5.21e+01,  4.28e+00,  2.38e+01,\n",
       "        -8.59e+01, -7.18e+01,  1.98e+02, -1.19e+02,  2.14e+01,  3.25e+01,\n",
       "        -3.81e+01, -1.92e+02, -5.35e+01, -1.14e+02, -1.59e+02,  4.24e+01,\n",
       "        -4.02e+01,  3.24e+01,  2.50e+01, -2.71e+01,  9.15e+01,  5.23e+01,\n",
       "         3.62e+01, -9.60e+01, -3.17e+01,  7.00e+01,  5.05e+01, -3.06e+01,\n",
       "         1.16e+00, -1.97e+01,  9.12e+01,  3.92e-01,  9.99e+01,  9.19e+00,\n",
       "         3.47e+01, -5.58e+01,  3.63e+01,  3.80e+01,  6.07e+01,  1.55e+01,\n",
       "         1.74e+01, -1.72e+02, -6.87e+01, -7.88e+01,  5.93e+01,  4.29e+01,\n",
       "         8.13e+01, -6.20e+01, -5.66e+01,  2.39e+01,  5.18e+01, -1.29e+02,\n",
       "        -3.89e+01,  2.45e+01, -6.74e+01, -1.90e+01,  9.72e+01, -6.21e+00,\n",
       "         5.47e+01, -4.90e+01,  3.83e+01, -1.98e+02, -3.74e+01,  1.10e+02,\n",
       "        -7.84e+01, -1.17e+02, -3.15e+01,  1.35e+02,  1.42e+00, -5.03e+01,\n",
       "        -3.24e+01,  5.36e+00, -5.87e+00, -1.97e+01, -1.06e+01,  1.39e+02,\n",
       "         2.50e+01, -1.03e+02,  3.48e+01,  1.12e+02,  1.52e+01, -5.16e+01,\n",
       "        -8.82e+01, -1.12e+02,  1.29e+01,  7.71e+00, -1.51e+02, -4.67e+01,\n",
       "        -4.72e+00,  9.09e+01,  3.00e+01,  3.65e+01, -6.66e+01, -2.51e+01,\n",
       "         3.05e+01,  5.04e+01, -7.22e+01, -1.62e+02, -1.22e+01, -3.36e+01,\n",
       "        -1.43e+02,  4.90e+01, -3.89e+01, -7.41e+01, -1.55e+02,  9.07e+01,\n",
       "        -5.53e+01,  6.08e+01, -5.39e+01,  5.10e+01,  8.80e+01, -1.45e+02,\n",
       "        -5.08e+01, -1.37e+02, -4.13e+01,  6.77e+01,  6.10e+01,  7.86e+00,\n",
       "        -1.24e+02,  2.55e+01,  4.34e+01,  1.05e+01, -1.87e-01, -7.22e+01,\n",
       "        -4.25e+01, -1.32e+02,  7.33e+01, -6.24e+01, -2.02e+02,  2.81e+01,\n",
       "        -6.01e+01, -9.96e+00, -1.00e+02, -2.36e+01, -1.04e+02,  1.95e+01,\n",
       "         9.54e+01, -7.93e+01, -1.10e+02,  1.29e+02, -1.18e+02,  8.29e+01,\n",
       "        -3.07e+01,  5.88e+01,  2.53e+01, -6.86e+00,  2.66e+01, -2.47e+01,\n",
       "        -5.10e+01,  9.73e+01, -2.48e+00, -5.55e+01, -9.21e+00,  5.58e+01,\n",
       "         5.16e+01,  1.82e+01, -1.93e+01, -2.31e+01, -1.02e+02, -4.05e+01,\n",
       "        -4.64e+01, -2.48e+01,  2.75e+01,  9.29e+01,  4.16e+01, -7.11e+01,\n",
       "         8.94e+01, -3.71e+01, -3.76e+01,  1.00e+02,  4.93e+00,  1.24e+02,\n",
       "         1.48e+02,  6.68e+00, -7.16e+01,  4.76e+01,  3.38e+00,  1.04e+02,\n",
       "        -5.14e+01,  7.88e+01,  1.58e+02, -1.67e+02, -2.36e+01, -4.39e+01,\n",
       "        -1.67e+02, -1.09e+01, -1.04e+02,  6.44e+01,  1.07e+02,  5.62e+01,\n",
       "         1.19e+02, -1.26e+01,  1.57e+00, -1.47e+02, -3.37e+01,  1.56e+01,\n",
       "         5.41e+01,  4.47e+01, -3.62e+00,  8.27e+01,  6.98e+01, -2.16e+02,\n",
       "         4.56e+01, -1.37e+02, -1.36e+02,  8.99e+01,  3.46e+01,  4.76e+01,\n",
       "         3.54e+01, -1.36e+02,  1.32e+01, -6.95e+01,  3.81e+01, -1.16e+02,\n",
       "         1.43e+01, -1.28e+02, -7.63e+01, -1.65e+01,  8.37e+00,  7.33e+01,\n",
       "        -6.02e+01,  5.85e+01, -2.60e+01,  7.56e+01, -9.34e+01,  7.34e+01,\n",
       "         9.75e+01, -4.37e+01, -2.11e+01, -4.36e+01, -7.57e+01,  5.04e+00,\n",
       "         1.49e+02,  9.52e+00, -2.36e+01,  1.32e+02, -2.01e+02, -1.45e+02,\n",
       "        -6.08e+00,  2.34e+01, -2.92e+01,  1.18e+02, -5.93e+01, -6.29e+01,\n",
       "         1.74e+02,  2.11e+01, -6.96e+01,  1.38e+02, -9.73e+00,  1.05e+02,\n",
       "         9.70e+01,  1.38e+00, -9.54e+01, -1.44e+01, -6.38e+01,  1.46e+02,\n",
       "        -1.91e+01, -9.59e+01]))"
      ]
     },
     "execution_count": 156,
     "metadata": {},
     "output_type": "execute_result"
    }
   ],
   "source": [
    "reg_data"
   ]
  },
  {
   "cell_type": "code",
   "execution_count": 157,
   "id": "832d4eb2-1a78-4012-953b-c9b6bd8b86f7",
   "metadata": {},
   "outputs": [
    {
     "data": {
      "text/plain": [
       "array([[-1.1 ,  2.15, -0.36, -0.08,  1.57],\n",
       "       [-0.82,  0.37,  0.91,  2.21, -0.26],\n",
       "       [-0.26, -0.28,  1.84, -0.31, -1.36],\n",
       "       ...,\n",
       "       [ 2.74,  0.79,  0.7 ,  0.96,  0.13],\n",
       "       [-0.32,  0.86, -0.39,  1.34, -0.56],\n",
       "       [-0.51,  0.65, -0.19, -0.25, -1.23]])"
      ]
     },
     "execution_count": 157,
     "metadata": {},
     "output_type": "execute_result"
    }
   ],
   "source": [
    "# input data\n",
    "reg_data[0]"
   ]
  },
  {
   "cell_type": "code",
   "execution_count": 159,
   "id": "fa565281-7f6e-48db-bbf3-c3b7d473d118",
   "metadata": {},
   "outputs": [
    {
     "data": {
      "text/plain": [
       "array([ 1.13e+02,  2.00e+01, -6.80e+01, -1.92e+01,  3.77e+00,  1.30e+02,\n",
       "        2.02e+01, -9.07e+01, -4.49e+01,  1.18e+02, -1.87e+00,  1.02e+02,\n",
       "       -1.73e+02,  1.66e+01,  7.88e+01, -2.29e+01, -1.33e+02,  1.16e+01,\n",
       "        4.15e+01, -1.90e+02,  2.68e+01, -7.74e+00, -1.65e+01, -1.43e+02,\n",
       "       -1.06e+02, -6.37e+01, -1.02e+02,  3.19e+01,  1.34e+01, -5.49e+01,\n",
       "       -9.20e+01, -5.63e+01,  5.50e+01, -1.45e+00,  4.90e+01,  7.61e+01,\n",
       "        1.02e+02,  1.56e+01, -9.05e+01, -7.59e+01, -5.04e+01, -5.72e+01,\n",
       "        1.08e+02,  8.80e+01, -4.59e+01,  1.13e+01, -6.23e+01, -1.05e+02,\n",
       "       -2.59e+01,  2.21e+01,  6.77e+01,  8.91e+00, -7.17e+01,  1.45e+01,\n",
       "        2.68e+01, -8.61e+01,  6.79e+00, -3.79e+01,  1.01e+02, -1.36e+02,\n",
       "       -2.96e+01, -1.87e+02,  1.17e+02, -1.31e+02, -3.82e+01, -1.85e+02,\n",
       "       -9.18e+01, -9.68e+01,  1.33e+02, -4.77e+01, -4.62e+01,  8.21e+01,\n",
       "       -5.44e+01, -9.47e+01,  1.45e+02,  1.93e+02,  3.51e+01, -3.01e+01,\n",
       "       -2.17e+01,  9.95e+01,  9.40e+01, -7.29e+01,  7.73e+00, -7.21e+01,\n",
       "        8.83e+01, -4.98e+01, -5.54e+01,  4.49e+01,  3.88e+01,  7.76e+00,\n",
       "        2.05e+02, -1.98e+02,  6.72e+01,  1.63e+01, -1.63e+02, -2.72e+01,\n",
       "        1.66e+01, -1.14e+02, -5.30e+01,  5.23e+01, -7.91e+01, -1.74e+01,\n",
       "        1.04e+02, -2.13e+02,  9.49e+01, -1.66e+02,  1.20e+02,  3.52e+01,\n",
       "        2.40e+01, -7.37e+01, -1.04e+02, -3.51e+01, -8.47e+01,  5.27e+01,\n",
       "        1.18e+02,  1.39e+02,  1.86e+02, -2.71e+01,  3.17e+01, -8.16e+01,\n",
       "        3.60e+01,  2.76e+01, -6.05e+01,  1.56e+02,  6.30e+01, -5.76e+01,\n",
       "       -1.33e+02,  1.71e+01, -1.81e+02, -3.47e+01,  5.25e+01, -4.90e+01,\n",
       "       -3.99e+01, -8.22e+01,  1.96e+01, -3.57e+01,  1.88e+00, -1.54e+02,\n",
       "       -9.19e+01,  6.72e+01, -7.20e-01, -2.06e+00,  8.97e+01,  1.05e+02,\n",
       "       -9.67e+01,  1.49e+02, -1.54e+02,  2.90e+01, -3.92e+01, -1.03e+02,\n",
       "        3.72e-01, -6.74e+01,  1.05e+02,  3.56e+01, -3.89e+01,  7.48e+01,\n",
       "       -1.28e+02, -4.49e+01,  1.79e+01, -4.49e+01, -9.26e-02,  1.02e+02,\n",
       "        7.40e+01, -4.06e+01, -1.69e+01,  3.23e+02,  1.96e+02,  7.07e+00,\n",
       "        8.27e+01,  2.73e+01, -2.06e+01,  7.45e+01,  5.00e+01, -6.75e+00,\n",
       "       -5.25e+01, -1.35e+01, -9.00e+01,  6.77e+01, -3.47e+01, -1.38e+01,\n",
       "        5.55e+01, -3.55e+01,  7.73e+01, -8.39e+01,  5.40e+01,  2.63e+01,\n",
       "       -8.51e+00,  1.31e+02, -7.83e+01,  1.50e+02, -1.01e+02,  4.40e+01,\n",
       "        4.04e+01,  8.13e+01, -7.36e+01,  2.75e+01, -4.66e+01, -2.57e+00,\n",
       "       -9.48e+01,  4.04e+00,  4.56e+01,  1.01e+02, -3.63e+01,  1.32e+02,\n",
       "       -1.07e+02, -1.43e+02, -3.09e+01,  1.20e+02, -2.69e+01,  1.10e+02,\n",
       "        6.81e+01, -5.38e+01,  6.41e+01, -4.94e+01, -1.42e+02,  9.97e+01,\n",
       "        2.54e+01, -8.88e+01,  4.73e+01,  3.08e+01,  2.35e+01, -4.28e+01,\n",
       "       -3.83e+01, -7.99e+01, -5.65e+01,  1.06e+02, -3.79e+01, -7.08e+01,\n",
       "       -4.83e+01,  2.87e+01,  3.88e+01, -1.07e+02, -6.98e+01, -4.76e+01,\n",
       "       -6.12e+01, -8.21e+00,  5.65e+01,  9.04e+01,  6.71e+01, -4.23e+01,\n",
       "       -7.19e+00, -9.47e+01, -5.34e+01, -5.21e+01,  4.28e+00,  2.38e+01,\n",
       "       -8.59e+01, -7.18e+01,  1.98e+02, -1.19e+02,  2.14e+01,  3.25e+01,\n",
       "       -3.81e+01, -1.92e+02, -5.35e+01, -1.14e+02, -1.59e+02,  4.24e+01,\n",
       "       -4.02e+01,  3.24e+01,  2.50e+01, -2.71e+01,  9.15e+01,  5.23e+01,\n",
       "        3.62e+01, -9.60e+01, -3.17e+01,  7.00e+01,  5.05e+01, -3.06e+01,\n",
       "        1.16e+00, -1.97e+01,  9.12e+01,  3.92e-01,  9.99e+01,  9.19e+00,\n",
       "        3.47e+01, -5.58e+01,  3.63e+01,  3.80e+01,  6.07e+01,  1.55e+01,\n",
       "        1.74e+01, -1.72e+02, -6.87e+01, -7.88e+01,  5.93e+01,  4.29e+01,\n",
       "        8.13e+01, -6.20e+01, -5.66e+01,  2.39e+01,  5.18e+01, -1.29e+02,\n",
       "       -3.89e+01,  2.45e+01, -6.74e+01, -1.90e+01,  9.72e+01, -6.21e+00,\n",
       "        5.47e+01, -4.90e+01,  3.83e+01, -1.98e+02, -3.74e+01,  1.10e+02,\n",
       "       -7.84e+01, -1.17e+02, -3.15e+01,  1.35e+02,  1.42e+00, -5.03e+01,\n",
       "       -3.24e+01,  5.36e+00, -5.87e+00, -1.97e+01, -1.06e+01,  1.39e+02,\n",
       "        2.50e+01, -1.03e+02,  3.48e+01,  1.12e+02,  1.52e+01, -5.16e+01,\n",
       "       -8.82e+01, -1.12e+02,  1.29e+01,  7.71e+00, -1.51e+02, -4.67e+01,\n",
       "       -4.72e+00,  9.09e+01,  3.00e+01,  3.65e+01, -6.66e+01, -2.51e+01,\n",
       "        3.05e+01,  5.04e+01, -7.22e+01, -1.62e+02, -1.22e+01, -3.36e+01,\n",
       "       -1.43e+02,  4.90e+01, -3.89e+01, -7.41e+01, -1.55e+02,  9.07e+01,\n",
       "       -5.53e+01,  6.08e+01, -5.39e+01,  5.10e+01,  8.80e+01, -1.45e+02,\n",
       "       -5.08e+01, -1.37e+02, -4.13e+01,  6.77e+01,  6.10e+01,  7.86e+00,\n",
       "       -1.24e+02,  2.55e+01,  4.34e+01,  1.05e+01, -1.87e-01, -7.22e+01,\n",
       "       -4.25e+01, -1.32e+02,  7.33e+01, -6.24e+01, -2.02e+02,  2.81e+01,\n",
       "       -6.01e+01, -9.96e+00, -1.00e+02, -2.36e+01, -1.04e+02,  1.95e+01,\n",
       "        9.54e+01, -7.93e+01, -1.10e+02,  1.29e+02, -1.18e+02,  8.29e+01,\n",
       "       -3.07e+01,  5.88e+01,  2.53e+01, -6.86e+00,  2.66e+01, -2.47e+01,\n",
       "       -5.10e+01,  9.73e+01, -2.48e+00, -5.55e+01, -9.21e+00,  5.58e+01,\n",
       "        5.16e+01,  1.82e+01, -1.93e+01, -2.31e+01, -1.02e+02, -4.05e+01,\n",
       "       -4.64e+01, -2.48e+01,  2.75e+01,  9.29e+01,  4.16e+01, -7.11e+01,\n",
       "        8.94e+01, -3.71e+01, -3.76e+01,  1.00e+02,  4.93e+00,  1.24e+02,\n",
       "        1.48e+02,  6.68e+00, -7.16e+01,  4.76e+01,  3.38e+00,  1.04e+02,\n",
       "       -5.14e+01,  7.88e+01,  1.58e+02, -1.67e+02, -2.36e+01, -4.39e+01,\n",
       "       -1.67e+02, -1.09e+01, -1.04e+02,  6.44e+01,  1.07e+02,  5.62e+01,\n",
       "        1.19e+02, -1.26e+01,  1.57e+00, -1.47e+02, -3.37e+01,  1.56e+01,\n",
       "        5.41e+01,  4.47e+01, -3.62e+00,  8.27e+01,  6.98e+01, -2.16e+02,\n",
       "        4.56e+01, -1.37e+02, -1.36e+02,  8.99e+01,  3.46e+01,  4.76e+01,\n",
       "        3.54e+01, -1.36e+02,  1.32e+01, -6.95e+01,  3.81e+01, -1.16e+02,\n",
       "        1.43e+01, -1.28e+02, -7.63e+01, -1.65e+01,  8.37e+00,  7.33e+01,\n",
       "       -6.02e+01,  5.85e+01, -2.60e+01,  7.56e+01, -9.34e+01,  7.34e+01,\n",
       "        9.75e+01, -4.37e+01, -2.11e+01, -4.36e+01, -7.57e+01,  5.04e+00,\n",
       "        1.49e+02,  9.52e+00, -2.36e+01,  1.32e+02, -2.01e+02, -1.45e+02,\n",
       "       -6.08e+00,  2.34e+01, -2.92e+01,  1.18e+02, -5.93e+01, -6.29e+01,\n",
       "        1.74e+02,  2.11e+01, -6.96e+01,  1.38e+02, -9.73e+00,  1.05e+02,\n",
       "        9.70e+01,  1.38e+00, -9.54e+01, -1.44e+01, -6.38e+01,  1.46e+02,\n",
       "       -1.91e+01, -9.59e+01])"
      ]
     },
     "execution_count": 159,
     "metadata": {},
     "output_type": "execute_result"
    }
   ],
   "source": [
    "# output data\n",
    "reg_data[1]"
   ]
  },
  {
   "cell_type": "code",
   "execution_count": 160,
   "id": "ed576521-bde6-4923-917d-560c778cfc4e",
   "metadata": {},
   "outputs": [],
   "source": [
    "df = pd.DataFrame(data = reg_data[0])"
   ]
  },
  {
   "cell_type": "code",
   "execution_count": 161,
   "id": "487bee7b-c0fb-4ef6-9819-4146c52280d5",
   "metadata": {},
   "outputs": [],
   "source": [
    "df['output'] = reg_data[1]"
   ]
  },
  {
   "cell_type": "code",
   "execution_count": 162,
   "id": "3950c889-de46-4c1f-ac23-5b5035163749",
   "metadata": {},
   "outputs": [
    {
     "data": {
      "text/html": [
       "<div>\n",
       "<style scoped>\n",
       "    .dataframe tbody tr th:only-of-type {\n",
       "        vertical-align: middle;\n",
       "    }\n",
       "\n",
       "    .dataframe tbody tr th {\n",
       "        vertical-align: top;\n",
       "    }\n",
       "\n",
       "    .dataframe thead th {\n",
       "        text-align: right;\n",
       "    }\n",
       "</style>\n",
       "<table border=\"1\" class=\"dataframe\">\n",
       "  <thead>\n",
       "    <tr style=\"text-align: right;\">\n",
       "      <th></th>\n",
       "      <th>0</th>\n",
       "      <th>1</th>\n",
       "      <th>2</th>\n",
       "      <th>3</th>\n",
       "      <th>4</th>\n",
       "      <th>output</th>\n",
       "    </tr>\n",
       "  </thead>\n",
       "  <tbody>\n",
       "    <tr>\n",
       "      <th>0</th>\n",
       "      <td>-1.103810</td>\n",
       "      <td>2.148122</td>\n",
       "      <td>-0.359576</td>\n",
       "      <td>-0.080034</td>\n",
       "      <td>1.569171</td>\n",
       "      <td>113.498349</td>\n",
       "    </tr>\n",
       "    <tr>\n",
       "      <th>1</th>\n",
       "      <td>-0.824907</td>\n",
       "      <td>0.366449</td>\n",
       "      <td>0.913774</td>\n",
       "      <td>2.210019</td>\n",
       "      <td>-0.255717</td>\n",
       "      <td>19.956788</td>\n",
       "    </tr>\n",
       "    <tr>\n",
       "      <th>2</th>\n",
       "      <td>-0.259640</td>\n",
       "      <td>-0.275768</td>\n",
       "      <td>1.839324</td>\n",
       "      <td>-0.305949</td>\n",
       "      <td>-1.358002</td>\n",
       "      <td>-68.046071</td>\n",
       "    </tr>\n",
       "    <tr>\n",
       "      <th>3</th>\n",
       "      <td>-0.305112</td>\n",
       "      <td>1.470001</td>\n",
       "      <td>1.587461</td>\n",
       "      <td>0.703325</td>\n",
       "      <td>-1.332886</td>\n",
       "      <td>-19.209294</td>\n",
       "    </tr>\n",
       "    <tr>\n",
       "      <th>4</th>\n",
       "      <td>0.077933</td>\n",
       "      <td>-0.261271</td>\n",
       "      <td>-1.527406</td>\n",
       "      <td>0.611416</td>\n",
       "      <td>0.519995</td>\n",
       "      <td>3.766100</td>\n",
       "    </tr>\n",
       "    <tr>\n",
       "      <th>...</th>\n",
       "      <td>...</td>\n",
       "      <td>...</td>\n",
       "      <td>...</td>\n",
       "      <td>...</td>\n",
       "      <td>...</td>\n",
       "      <td>...</td>\n",
       "    </tr>\n",
       "    <tr>\n",
       "      <th>495</th>\n",
       "      <td>-1.344407</td>\n",
       "      <td>1.307344</td>\n",
       "      <td>0.489730</td>\n",
       "      <td>0.716153</td>\n",
       "      <td>-0.349928</td>\n",
       "      <td>-14.446785</td>\n",
       "    </tr>\n",
       "    <tr>\n",
       "      <th>496</th>\n",
       "      <td>-0.388665</td>\n",
       "      <td>0.431214</td>\n",
       "      <td>0.462236</td>\n",
       "      <td>1.232973</td>\n",
       "      <td>-1.303406</td>\n",
       "      <td>-63.766379</td>\n",
       "    </tr>\n",
       "    <tr>\n",
       "      <th>497</th>\n",
       "      <td>2.736473</td>\n",
       "      <td>0.793658</td>\n",
       "      <td>0.700960</td>\n",
       "      <td>0.958461</td>\n",
       "      <td>0.134223</td>\n",
       "      <td>146.142108</td>\n",
       "    </tr>\n",
       "    <tr>\n",
       "      <th>498</th>\n",
       "      <td>-0.319582</td>\n",
       "      <td>0.864989</td>\n",
       "      <td>-0.390430</td>\n",
       "      <td>1.342508</td>\n",
       "      <td>-0.555705</td>\n",
       "      <td>-19.087721</td>\n",
       "    </tr>\n",
       "    <tr>\n",
       "      <th>499</th>\n",
       "      <td>-0.506512</td>\n",
       "      <td>0.648711</td>\n",
       "      <td>-0.187873</td>\n",
       "      <td>-0.252398</td>\n",
       "      <td>-1.232907</td>\n",
       "      <td>-95.930628</td>\n",
       "    </tr>\n",
       "  </tbody>\n",
       "</table>\n",
       "<p>500 rows × 6 columns</p>\n",
       "</div>"
      ],
      "text/plain": [
       "            0         1         2         3         4      output\n",
       "0   -1.103810  2.148122 -0.359576 -0.080034  1.569171  113.498349\n",
       "1   -0.824907  0.366449  0.913774  2.210019 -0.255717   19.956788\n",
       "2   -0.259640 -0.275768  1.839324 -0.305949 -1.358002  -68.046071\n",
       "3   -0.305112  1.470001  1.587461  0.703325 -1.332886  -19.209294\n",
       "4    0.077933 -0.261271 -1.527406  0.611416  0.519995    3.766100\n",
       "..        ...       ...       ...       ...       ...         ...\n",
       "495 -1.344407  1.307344  0.489730  0.716153 -0.349928  -14.446785\n",
       "496 -0.388665  0.431214  0.462236  1.232973 -1.303406  -63.766379\n",
       "497  2.736473  0.793658  0.700960  0.958461  0.134223  146.142108\n",
       "498 -0.319582  0.864989 -0.390430  1.342508 -0.555705  -19.087721\n",
       "499 -0.506512  0.648711 -0.187873 -0.252398 -1.232907  -95.930628\n",
       "\n",
       "[500 rows x 6 columns]"
      ]
     },
     "execution_count": 162,
     "metadata": {},
     "output_type": "execute_result"
    }
   ],
   "source": [
    "df"
   ]
  },
  {
   "cell_type": "code",
   "execution_count": null,
   "id": "afcca6cd-5509-45c1-8083-740e1c764fea",
   "metadata": {},
   "outputs": [],
   "source": []
  }
 ],
 "metadata": {
  "kernelspec": {
   "display_name": "Python 3 (ipykernel)",
   "language": "python",
   "name": "python3"
  },
  "language_info": {
   "codemirror_mode": {
    "name": "ipython",
    "version": 3
   },
   "file_extension": ".py",
   "mimetype": "text/x-python",
   "name": "python",
   "nbconvert_exporter": "python",
   "pygments_lexer": "ipython3",
   "version": "3.10.12"
  }
 },
 "nbformat": 4,
 "nbformat_minor": 5
}
